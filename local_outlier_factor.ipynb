{
 "cells": [
  {
   "cell_type": "code",
   "metadata": {
    "deepnote_to_be_reexecuted": false,
    "source_hash": "61789167",
    "execution_start": 1651092333299,
    "execution_millis": 7286,
    "cell_id": "52c0160a-f6d6-4c04-b059-31b402ba65df",
    "deepnote_cell_type": "code",
    "deepnote_cell_height": 261
   },
   "source": "import pandas as pd\nimport numpy as np\nimport sklearn\nfrom sklearn.neighbors import LocalOutlierFactor\nfrom sklearn.preprocessing import StandardScaler, MinMaxScaler\nfrom sklearn.preprocessing import OneHotEncoder\nfrom scipy.special import erf\nfrom sklearn.metrics import f1_score, recall_score, roc_auc_score, average_precision_score\nfrom sklearn.metrics import precision_recall_fscore_support\nfrom sklearn.metrics import roc_curve, auc, confusion_matrix\nimport matplotlib.pyplot as plt",
   "execution_count": null,
   "outputs": []
  },
  {
   "cell_type": "code",
   "metadata": {
    "colab": {
     "base_uri": "https://localhost:8080/"
    },
    "id": "g5yYa1dCsu1N",
    "outputId": "94d9e0b2-2b7e-4fdd-8b5c-7f9961456f95",
    "deepnote_to_be_reexecuted": false,
    "source_hash": "637d202c",
    "execution_start": 1651080421056,
    "execution_millis": 4,
    "cell_id": "00001-f54872bf-72bc-4b49-8cc0-b882ebc218ec",
    "deepnote_cell_type": "code",
    "deepnote_cell_height": 111.19999694824219
   },
   "source": "print('The scikit-learn version is {}.'.format(sklearn.__version__))",
   "execution_count": null,
   "outputs": [
    {
     "name": "stdout",
     "text": "The scikit-learn version is 1.0.2.\n",
     "output_type": "stream"
    }
   ]
  },
  {
   "cell_type": "markdown",
   "source": "# Defining functions",
   "metadata": {
    "cell_id": "d704602f22704093afcd6eab30e81cdf",
    "tags": [],
    "is_collapsed": false,
    "deepnote_cell_type": "text-cell-h1"
   }
  },
  {
   "cell_type": "code",
   "metadata": {
    "id": "7VgU5MWRtqBZ",
    "deepnote_to_be_reexecuted": false,
    "source_hash": "f275448d",
    "execution_start": 1651092530774,
    "execution_millis": 41,
    "cell_id": "00003-902ab77c-dc79-4093-96f6-2bccd4bb05ca",
    "owner_user_id": "e4f9d11c-3f63-4ac3-8723-37e6697288db",
    "deepnote_cell_type": "code",
    "deepnote_cell_height": 1845
   },
   "source": "def oh_encoder_data700k(df, experimento=0, n=400000, removeDuplicates=False):\n    df = df.rename(columns={'is_malicious': 'label'})\n    df = df.drop(['time'], axis=1)\n    features = ['src_user', 'src_comp', 'dst_comp', 'label']\n    \n    if(removeDuplicates):\n        df = df.drop_duplicates()\n        print(\"Tamanho do dataset retirando duplicatas: \" + df.size.astype(str))\n\n    df_train = df[features][df.label == 0][0:n]\n    #df_test = df[features][df.label == 1]\n    df_test = df[features][~df[features].dst_comp.isin(df_train.dst_comp.values) & \\\n                           ~df[features].src_user.isin(df_train.src_user.values)]\n    \n    y_test = df_test.label.values\n    \n    df_train = df_train.drop(['label'], axis=1)\n    df_test = df_test.drop(['label'], axis=1)\n    \n    if(experimento == 1):\n      df_train = df_train.drop(['src_comp'], axis=1)\n      df_test = df_test.drop(['src_comp'], axis=1)\n      features.remove('src_comp')\n    elif(experimento == 2):\n      df_train = df_train.drop(['src_user'], axis=1)\n      df_test = df_test.drop(['src_user'], axis=1)\n      features.remove('src_user')\n    \n    fit = OneHotEncoder().fit(df[features[:-1]])\n    \n    X_train = fit.transform(df_train.to_numpy()).toarray()\n    X_test = fit.transform(df_test.to_numpy()).toarray()\n    \n    return X_train, X_test, y_test\n\ndef oh_encoder_data_unified_auth(df, experimento=0, percentage=0.6, removeDuplicates=False):\n    df = df.drop(['time'], axis=1)\n    features = ['computer_source', 'user', 'computer_dest', 'label']\n    \n    if(removeDuplicates):\n        df = df.drop_duplicates()\n        print(\"Tamanho do dataset retirando duplicatas: \" + df.size.astype(str))\n\n    separator = int(percentage*len(df))\n\n    df_train = df[features][df.label == 0][0:separator]\n    #df_test = df[features][df.label == 1]\n    df_test = df[features][~df[features].computer_dest.isin(df_train.computer_dest.values) & \\\n                           ~df[features].user.isin(df_train.user.values)]\n    \n    y_test = df_test.label.values\n    \n    df_train = df_train.drop(['label'], axis=1)\n    df_test = df_test.drop(['label'], axis=1)\n    \n    if(experimento == 1):\n      df_train = df_train.drop(['computer_source'], axis=1)\n      df_test = df_test.drop(['computer_source'], axis=1)\n      features.remove('computer_source')\n    elif(experimento == 2):\n      df_train = df_train.drop(['user'], axis=1)\n      df_test = df_test.drop(['user'], axis=1)\n      features.remove('user')\n    \n    fit = OneHotEncoder().fit(df[features[:-1]])\n    \n    X_train = fit.transform(df_train.to_numpy()).toarray()\n    X_test = fit.transform(df_test.to_numpy()).toarray()\n    \n    return X_train, X_test, y_test\n\ndef get_percentile(scores, y_true):\n    out_perc = np.size(np.where(y_true==1)) / len(y_true)\n    per = np.percentile(scores, 100 * (1 - out_perc))\n    return per\n\ndef standardizer(X_train, X_test, type='standard'):\n    if type == 'standard':\n        scaler = StandardScaler().fit(X_train)\n    elif type == 'minmax' or type == 'min_max':\n        scaler = MinMaxScaler().fit(X_train)\n        \n    return scaler.transform(X_train), scaler.transform(X_test)\n\nclass Lof(LocalOutlierFactor):\n    def fit(self, X_train, y=None):\n        self.X_train = X_train\n        super().fit(X=X_train, y=y)\n        return self\n\n    def decision_function(self, X_test):\n        return super().decision_function(X_test)\n\n    def predict_proba(self, X_test):\n        nof = self.negative_outlier_factor_ * -1\n        test_scores = self.decision_function(X_test) * -1\n        scaler = MinMaxScaler().fit(nof.reshape(-1, 1))\n        proba = scaler.transform(test_scores.reshape(-1, 1))\n        return proba.clip(0, 1)",
   "execution_count": null,
   "outputs": []
  },
  {
   "cell_type": "markdown",
   "source": "# Handling datasets",
   "metadata": {
    "cell_id": "ac9a267ea0bf43029852fc96b321b032",
    "tags": [],
    "is_collapsed": true,
    "deepnote_cell_type": "text-cell-h1"
   }
  },
  {
   "cell_type": "code",
   "metadata": {
    "id": "mny1pNjdu4rh",
    "deepnote_to_be_reexecuted": false,
    "source_hash": "3922ee9d",
    "execution_start": 1651080440823,
    "execution_millis": 487,
    "cell_id": "00005-498cab99-b033-4b77-957c-35bdc2512e98",
    "deepnote_cell_type": "code",
    "deepnote_cell_height": 81
   },
   "source": "df_700k = pd.read_csv(\"lanl-comprehensive_700k.csv\")",
   "execution_count": null,
   "outputs": []
  },
  {
   "cell_type": "code",
   "metadata": {
    "colab": {
     "base_uri": "https://localhost:8080/",
     "height": 206
    },
    "id": "MfUUl3ipvjQn",
    "outputId": "14f21d08-d576-435f-a8c2-72af390461e9",
    "deepnote_to_be_reexecuted": false,
    "source_hash": "74d92283",
    "execution_start": 1650472961829,
    "execution_millis": 65,
    "cell_id": "00006-aa46e140-1a1f-4dd4-b1a3-a76ab79114fb",
    "deepnote_cell_type": "code",
    "deepnote_cell_height": 407
   },
   "source": "df_700k.head()",
   "execution_count": null,
   "outputs": [
    {
     "output_type": "execute_result",
     "execution_count": 5,
     "data": {
      "application/vnd.deepnote.dataframe.v3+json": {
       "column_count": 5,
       "row_count": 5,
       "columns": [
        {
         "name": "time",
         "dtype": "float64",
         "stats": {
          "unique_count": 1,
          "nan_count": 0,
          "min": "1.0",
          "max": "1.0",
          "histogram": [
           {
            "bin_start": 0.5,
            "bin_end": 0.6,
            "count": 0
           },
           {
            "bin_start": 0.6,
            "bin_end": 0.7,
            "count": 0
           },
           {
            "bin_start": 0.7,
            "bin_end": 0.8,
            "count": 0
           },
           {
            "bin_start": 0.8,
            "bin_end": 0.9,
            "count": 0
           },
           {
            "bin_start": 0.9,
            "bin_end": 1,
            "count": 0
           },
           {
            "bin_start": 1,
            "bin_end": 1.1,
            "count": 5
           },
           {
            "bin_start": 1.1,
            "bin_end": 1.2000000000000002,
            "count": 0
           },
           {
            "bin_start": 1.2000000000000002,
            "bin_end": 1.3,
            "count": 0
           },
           {
            "bin_start": 1.3,
            "bin_end": 1.4,
            "count": 0
           },
           {
            "bin_start": 1.4,
            "bin_end": 1.5,
            "count": 0
           }
          ]
         }
        },
        {
         "name": "src_user",
         "dtype": "object",
         "stats": {
          "unique_count": 3,
          "nan_count": 0,
          "categories": [
           {
            "name": "ANONYMOUS LOGON@C586",
            "count": 2
           },
           {
            "name": "C1035$@DOM1",
            "count": 2
           },
           {
            "name": "C1021$@DOM1",
            "count": 1
           }
          ]
         }
        },
        {
         "name": "src_comp",
         "dtype": "object",
         "stats": {
          "unique_count": 4,
          "nan_count": 0,
          "categories": [
           {
            "name": "C586",
            "count": 2
           },
           {
            "name": "C1250",
            "count": 1
           },
           {
            "name": "2 others",
            "count": 2
           }
          ]
         }
        },
        {
         "name": "dst_comp",
         "dtype": "object",
         "stats": {
          "unique_count": 2,
          "nan_count": 0,
          "categories": [
           {
            "name": "C586",
            "count": 4
           },
           {
            "name": "C625",
            "count": 1
           }
          ]
         }
        },
        {
         "name": "is_malicious",
         "dtype": "int64",
         "stats": {
          "unique_count": 1,
          "nan_count": 0,
          "min": "0",
          "max": "0",
          "histogram": [
           {
            "bin_start": -0.5,
            "bin_end": -0.4,
            "count": 0
           },
           {
            "bin_start": -0.4,
            "bin_end": -0.3,
            "count": 0
           },
           {
            "bin_start": -0.3,
            "bin_end": -0.19999999999999996,
            "count": 0
           },
           {
            "bin_start": -0.19999999999999996,
            "bin_end": -0.09999999999999998,
            "count": 0
           },
           {
            "bin_start": -0.09999999999999998,
            "bin_end": 0,
            "count": 0
           },
           {
            "bin_start": 0,
            "bin_end": 0.10000000000000009,
            "count": 5
           },
           {
            "bin_start": 0.10000000000000009,
            "bin_end": 0.20000000000000007,
            "count": 0
           },
           {
            "bin_start": 0.20000000000000007,
            "bin_end": 0.30000000000000004,
            "count": 0
           },
           {
            "bin_start": 0.30000000000000004,
            "bin_end": 0.4,
            "count": 0
           },
           {
            "bin_start": 0.4,
            "bin_end": 0.5,
            "count": 0
           }
          ]
         }
        },
        {
         "name": "_deepnote_index_column",
         "dtype": "int64"
        }
       ],
       "rows": [
        {
         "time": 1,
         "src_user": "ANONYMOUS LOGON@C586",
         "src_comp": "C1250",
         "dst_comp": "C586",
         "is_malicious": 0,
         "_deepnote_index_column": 0
        },
        {
         "time": 1,
         "src_user": "ANONYMOUS LOGON@C586",
         "src_comp": "C586",
         "dst_comp": "C586",
         "is_malicious": 0,
         "_deepnote_index_column": 1
        },
        {
         "time": 1,
         "src_user": "C1021$@DOM1",
         "src_comp": "C1021",
         "dst_comp": "C625",
         "is_malicious": 0,
         "_deepnote_index_column": 2
        },
        {
         "time": 1,
         "src_user": "C1035$@DOM1",
         "src_comp": "C1035",
         "dst_comp": "C586",
         "is_malicious": 0,
         "_deepnote_index_column": 3
        },
        {
         "time": 1,
         "src_user": "C1035$@DOM1",
         "src_comp": "C586",
         "dst_comp": "C586",
         "is_malicious": 0,
         "_deepnote_index_column": 4
        }
       ]
      },
      "text/plain": "   time              src_user src_comp dst_comp  is_malicious\n0   1.0  ANONYMOUS LOGON@C586    C1250     C586             0\n1   1.0  ANONYMOUS LOGON@C586     C586     C586             0\n2   1.0           C1021$@DOM1    C1021     C625             0\n3   1.0           C1035$@DOM1    C1035     C586             0\n4   1.0           C1035$@DOM1     C586     C586             0",
      "text/html": "<div>\n<style scoped>\n    .dataframe tbody tr th:only-of-type {\n        vertical-align: middle;\n    }\n\n    .dataframe tbody tr th {\n        vertical-align: top;\n    }\n\n    .dataframe thead th {\n        text-align: right;\n    }\n</style>\n<table border=\"1\" class=\"dataframe\">\n  <thead>\n    <tr style=\"text-align: right;\">\n      <th></th>\n      <th>time</th>\n      <th>src_user</th>\n      <th>src_comp</th>\n      <th>dst_comp</th>\n      <th>is_malicious</th>\n    </tr>\n  </thead>\n  <tbody>\n    <tr>\n      <th>0</th>\n      <td>1.0</td>\n      <td>ANONYMOUS LOGON@C586</td>\n      <td>C1250</td>\n      <td>C586</td>\n      <td>0</td>\n    </tr>\n    <tr>\n      <th>1</th>\n      <td>1.0</td>\n      <td>ANONYMOUS LOGON@C586</td>\n      <td>C586</td>\n      <td>C586</td>\n      <td>0</td>\n    </tr>\n    <tr>\n      <th>2</th>\n      <td>1.0</td>\n      <td>C1021$@DOM1</td>\n      <td>C1021</td>\n      <td>C625</td>\n      <td>0</td>\n    </tr>\n    <tr>\n      <th>3</th>\n      <td>1.0</td>\n      <td>C1035$@DOM1</td>\n      <td>C1035</td>\n      <td>C586</td>\n      <td>0</td>\n    </tr>\n    <tr>\n      <th>4</th>\n      <td>1.0</td>\n      <td>C1035$@DOM1</td>\n      <td>C586</td>\n      <td>C586</td>\n      <td>0</td>\n    </tr>\n  </tbody>\n</table>\n</div>"
     },
     "metadata": {}
    }
   ]
  },
  {
   "cell_type": "code",
   "metadata": {
    "id": "6E0egNQD-Ads",
    "deepnote_to_be_reexecuted": false,
    "source_hash": "f64c0865",
    "execution_start": 1651092416278,
    "execution_millis": 64,
    "cell_id": "00007-7c7b64a9-e019-43f7-8de9-23622c1503fa",
    "deepnote_cell_type": "code",
    "deepnote_cell_height": 81
   },
   "source": "df_unified_auth = pd.read_csv(\"lanl-comprehensive-unified-auth.csv\")",
   "execution_count": null,
   "outputs": []
  },
  {
   "cell_type": "code",
   "metadata": {
    "colab": {
     "base_uri": "https://localhost:8080/",
     "height": 206
    },
    "id": "FHRKMyb0-BIv",
    "outputId": "94eefb01-222d-4857-bd82-bdf82c22dae1",
    "deepnote_to_be_reexecuted": false,
    "source_hash": "17ca706a",
    "execution_start": 1650474493903,
    "execution_millis": 38,
    "cell_id": "00008-701ef498-6662-4e67-8fa2-d2ce2e98a098",
    "deepnote_cell_type": "code",
    "deepnote_cell_height": 407
   },
   "source": "df_unified_auth.head()",
   "execution_count": null,
   "outputs": [
    {
     "output_type": "execute_result",
     "execution_count": 7,
     "data": {
      "application/vnd.deepnote.dataframe.v3+json": {
       "column_count": 5,
       "row_count": 5,
       "columns": [
        {
         "name": "time",
         "dtype": "int64",
         "stats": {
          "unique_count": 4,
          "nan_count": 0,
          "min": "87151",
          "max": "101274",
          "histogram": [
           {
            "bin_start": 87151,
            "bin_end": 88563.3,
            "count": 2
           },
           {
            "bin_start": 88563.3,
            "bin_end": 89975.6,
            "count": 0
           },
           {
            "bin_start": 89975.6,
            "bin_end": 91387.9,
            "count": 0
           },
           {
            "bin_start": 91387.9,
            "bin_end": 92800.2,
            "count": 0
           },
           {
            "bin_start": 92800.2,
            "bin_end": 94212.5,
            "count": 0
           },
           {
            "bin_start": 94212.5,
            "bin_end": 95624.8,
            "count": 0
           },
           {
            "bin_start": 95624.8,
            "bin_end": 97037.1,
            "count": 0
           },
           {
            "bin_start": 97037.1,
            "bin_end": 98449.4,
            "count": 0
           },
           {
            "bin_start": 98449.4,
            "bin_end": 99861.7,
            "count": 0
           },
           {
            "bin_start": 99861.7,
            "bin_end": 101274,
            "count": 3
           }
          ]
         }
        },
        {
         "name": "computer_source",
         "dtype": "object",
         "stats": {
          "unique_count": 2,
          "nan_count": 0,
          "categories": [
           {
            "name": "C206546",
            "count": 3
           },
           {
            "name": "C288750",
            "count": 2
           }
          ]
         }
        },
        {
         "name": "user",
         "dtype": "object",
         "stats": {
          "unique_count": 3,
          "nan_count": 0,
          "categories": [
           {
            "name": "U451666",
            "count": 2
           },
           {
            "name": "U457678",
            "count": 2
           },
           {
            "name": "U416717",
            "count": 1
           }
          ]
         }
        },
        {
         "name": "computer_dest",
         "dtype": "object",
         "stats": {
          "unique_count": 3,
          "nan_count": 0,
          "categories": [
           {
            "name": "C313779",
            "count": 2
           },
           {
            "name": "C639081",
            "count": 2
           },
           {
            "name": "C825721",
            "count": 1
           }
          ]
         }
        },
        {
         "name": "label",
         "dtype": "int64",
         "stats": {
          "unique_count": 1,
          "nan_count": 0,
          "min": "0",
          "max": "0",
          "histogram": [
           {
            "bin_start": -0.5,
            "bin_end": -0.4,
            "count": 0
           },
           {
            "bin_start": -0.4,
            "bin_end": -0.3,
            "count": 0
           },
           {
            "bin_start": -0.3,
            "bin_end": -0.19999999999999996,
            "count": 0
           },
           {
            "bin_start": -0.19999999999999996,
            "bin_end": -0.09999999999999998,
            "count": 0
           },
           {
            "bin_start": -0.09999999999999998,
            "bin_end": 0,
            "count": 0
           },
           {
            "bin_start": 0,
            "bin_end": 0.10000000000000009,
            "count": 5
           },
           {
            "bin_start": 0.10000000000000009,
            "bin_end": 0.20000000000000007,
            "count": 0
           },
           {
            "bin_start": 0.20000000000000007,
            "bin_end": 0.30000000000000004,
            "count": 0
           },
           {
            "bin_start": 0.30000000000000004,
            "bin_end": 0.4,
            "count": 0
           },
           {
            "bin_start": 0.4,
            "bin_end": 0.5,
            "count": 0
           }
          ]
         }
        },
        {
         "name": "_deepnote_index_column",
         "dtype": "int64"
        }
       ],
       "rows": [
        {
         "time": 87151,
         "computer_source": "C288750",
         "user": "U451666",
         "computer_dest": "C313779",
         "label": 0,
         "_deepnote_index_column": 0
        },
        {
         "time": 87451,
         "computer_source": "C288750",
         "user": "U451666",
         "computer_dest": "C313779",
         "label": 0,
         "_deepnote_index_column": 1
        },
        {
         "time": 100695,
         "computer_source": "C206546",
         "user": "U457678",
         "computer_dest": "C639081",
         "label": 0,
         "_deepnote_index_column": 2
        },
        {
         "time": 100695,
         "computer_source": "C206546",
         "user": "U457678",
         "computer_dest": "C639081",
         "label": 0,
         "_deepnote_index_column": 3
        },
        {
         "time": 101274,
         "computer_source": "C206546",
         "user": "U416717",
         "computer_dest": "C825721",
         "label": 0,
         "_deepnote_index_column": 4
        }
       ]
      },
      "text/plain": "     time computer_source     user computer_dest  label\n0   87151         C288750  U451666       C313779      0\n1   87451         C288750  U451666       C313779      0\n2  100695         C206546  U457678       C639081      0\n3  100695         C206546  U457678       C639081      0\n4  101274         C206546  U416717       C825721      0",
      "text/html": "<div>\n<style scoped>\n    .dataframe tbody tr th:only-of-type {\n        vertical-align: middle;\n    }\n\n    .dataframe tbody tr th {\n        vertical-align: top;\n    }\n\n    .dataframe thead th {\n        text-align: right;\n    }\n</style>\n<table border=\"1\" class=\"dataframe\">\n  <thead>\n    <tr style=\"text-align: right;\">\n      <th></th>\n      <th>time</th>\n      <th>computer_source</th>\n      <th>user</th>\n      <th>computer_dest</th>\n      <th>label</th>\n    </tr>\n  </thead>\n  <tbody>\n    <tr>\n      <th>0</th>\n      <td>87151</td>\n      <td>C288750</td>\n      <td>U451666</td>\n      <td>C313779</td>\n      <td>0</td>\n    </tr>\n    <tr>\n      <th>1</th>\n      <td>87451</td>\n      <td>C288750</td>\n      <td>U451666</td>\n      <td>C313779</td>\n      <td>0</td>\n    </tr>\n    <tr>\n      <th>2</th>\n      <td>100695</td>\n      <td>C206546</td>\n      <td>U457678</td>\n      <td>C639081</td>\n      <td>0</td>\n    </tr>\n    <tr>\n      <th>3</th>\n      <td>100695</td>\n      <td>C206546</td>\n      <td>U457678</td>\n      <td>C639081</td>\n      <td>0</td>\n    </tr>\n    <tr>\n      <th>4</th>\n      <td>101274</td>\n      <td>C206546</td>\n      <td>U416717</td>\n      <td>C825721</td>\n      <td>0</td>\n    </tr>\n  </tbody>\n</table>\n</div>"
     },
     "metadata": {}
    }
   ]
  },
  {
   "cell_type": "markdown",
   "source": "## Base 1 (lanl-comprehensive_700k)",
   "metadata": {
    "cell_id": "f7eb903d93164fda9a9f9e173b40c9f2",
    "tags": [],
    "is_collapsed": true,
    "deepnote_cell_type": "text-cell-h2"
   }
  },
  {
   "cell_type": "code",
   "metadata": {
    "cell_id": "d184b690664d4aa98622a5e9bab141a6",
    "tags": [],
    "deepnote_to_be_reexecuted": false,
    "source_hash": "47040a64",
    "execution_start": 1651078579320,
    "execution_millis": 597,
    "deepnote_cell_type": "code",
    "deepnote_cell_height": 200
   },
   "source": "X_train_b1, X_test_b1, y_test_b1 = oh_encoder_data700k(df_700k, n=30000, removeDuplicates=True)",
   "execution_count": null,
   "outputs": [
    {
     "name": "stdout",
     "text": "Tamanho do dataset retirando duplicatas: 178080\n/shared-libs/python3.7/py/lib/python3.7/site-packages/sklearn/base.py:451: UserWarning: X does not have valid feature names, but OneHotEncoder was fitted with feature names\n  \"X does not have valid feature names, but\"\n/shared-libs/python3.7/py/lib/python3.7/site-packages/sklearn/base.py:451: UserWarning: X does not have valid feature names, but OneHotEncoder was fitted with feature names\n  \"X does not have valid feature names, but\"\n",
     "output_type": "stream"
    }
   ]
  },
  {
   "cell_type": "code",
   "metadata": {
    "cell_id": "da720ac97b8c4c06ae1a421f94423768",
    "tags": [],
    "deepnote_to_be_reexecuted": false,
    "source_hash": "a4da65ed",
    "execution_start": 1651078586493,
    "execution_millis": 3814,
    "deepnote_cell_type": "code",
    "deepnote_cell_height": 81
   },
   "source": "X_train_norm_b1, X_test_norm_b1 = standardizer(X_train_b1, X_test_b1)",
   "execution_count": null,
   "outputs": []
  },
  {
   "cell_type": "markdown",
   "source": "## Experimento 1 (lanl-comprehensive_700k)",
   "metadata": {
    "cell_id": "3d0a471a9a7449e19f8695014dc747ad",
    "tags": [],
    "is_collapsed": true,
    "deepnote_cell_type": "text-cell-h2"
   }
  },
  {
   "cell_type": "code",
   "metadata": {
    "colab": {
     "base_uri": "https://localhost:8080/"
    },
    "id": "vb08XsHntGSt",
    "outputId": "8f1f7cf4-2116-439b-f01d-45fd9ca6ba1b",
    "deepnote_to_be_reexecuted": false,
    "source_hash": "c127c025",
    "execution_start": 1651078765317,
    "execution_millis": 497,
    "cell_id": "00010-535d869c-7fa8-46b1-b747-b8729d7608a2",
    "deepnote_cell_type": "code",
    "deepnote_cell_height": 200
   },
   "source": "X_train_Ex1, X_test_Ex1, y_test_Ex1 = oh_encoder_data700k(df_700k, experimento=1, n=30000, removeDuplicates=True)",
   "execution_count": null,
   "outputs": [
    {
     "name": "stdout",
     "text": "Tamanho do dataset retirando duplicatas: 178080\n/shared-libs/python3.7/py/lib/python3.7/site-packages/sklearn/base.py:451: UserWarning: X does not have valid feature names, but OneHotEncoder was fitted with feature names\n  \"X does not have valid feature names, but\"\n/shared-libs/python3.7/py/lib/python3.7/site-packages/sklearn/base.py:451: UserWarning: X does not have valid feature names, but OneHotEncoder was fitted with feature names\n  \"X does not have valid feature names, but\"\n",
     "output_type": "stream"
    }
   ]
  },
  {
   "cell_type": "code",
   "metadata": {
    "id": "KCzZ-6q1v9QK",
    "deepnote_to_be_reexecuted": false,
    "source_hash": "1390aad",
    "execution_start": 1651078769481,
    "execution_millis": 2412,
    "cell_id": "00011-95392c7d-cf0f-4c2b-a9f6-b28d5f11efe1",
    "deepnote_cell_type": "code",
    "deepnote_cell_height": 81
   },
   "source": "X_train_norm_Ex1, X_test_norm_Ex1 = standardizer(X_train_Ex1, X_test_Ex1)",
   "execution_count": null,
   "outputs": []
  },
  {
   "cell_type": "markdown",
   "source": "## Experimento 2 (lanl-comprehensive_700k)",
   "metadata": {
    "cell_id": "ca6c2bb07e8b4e7eb5d17c1c821d53fd",
    "tags": [],
    "is_collapsed": true,
    "deepnote_cell_type": "text-cell-h2"
   }
  },
  {
   "cell_type": "code",
   "metadata": {
    "colab": {
     "base_uri": "https://localhost:8080/"
    },
    "id": "3uszQnTr0FF8",
    "outputId": "6c2e9e39-d2a6-40c5-81a3-2310e6117246",
    "deepnote_to_be_reexecuted": false,
    "source_hash": "4bc558c7",
    "execution_start": 1651080467100,
    "execution_millis": 571,
    "cell_id": "00013-9c838ef2-7929-4a8a-a3a2-dd9b262b6a8d",
    "deepnote_cell_type": "code",
    "deepnote_cell_height": 200
   },
   "source": "X_train_Ex2, X_test_Ex2, y_test_Ex2 = oh_encoder_data700k(df_700k, experimento=2, n=30000, removeDuplicates=True)",
   "execution_count": null,
   "outputs": [
    {
     "name": "stdout",
     "text": "Tamanho do dataset retirando duplicatas: 178080\n/shared-libs/python3.7/py/lib/python3.7/site-packages/sklearn/base.py:451: UserWarning: X does not have valid feature names, but OneHotEncoder was fitted with feature names\n  \"X does not have valid feature names, but\"\n/shared-libs/python3.7/py/lib/python3.7/site-packages/sklearn/base.py:451: UserWarning: X does not have valid feature names, but OneHotEncoder was fitted with feature names\n  \"X does not have valid feature names, but\"\n",
     "output_type": "stream"
    }
   ]
  },
  {
   "cell_type": "code",
   "metadata": {
    "id": "RTfrEWXl0FGB",
    "deepnote_to_be_reexecuted": false,
    "source_hash": "fa2d42d8",
    "execution_start": 1651080470467,
    "execution_millis": 2021,
    "cell_id": "00014-2d51ef8b-ca22-4224-9308-b6d8a950bd5e",
    "deepnote_cell_type": "code",
    "deepnote_cell_height": 81
   },
   "source": "X_train_norm_Ex2, X_test_norm_Ex2 = standardizer(X_train_Ex2, X_test_Ex2)",
   "execution_count": null,
   "outputs": []
  },
  {
   "cell_type": "markdown",
   "source": "## Base 2 (lanl-comprehensive_unified-auth)",
   "metadata": {
    "cell_id": "79624da3b4454564b12de741432acbe0",
    "tags": [],
    "is_collapsed": true,
    "deepnote_cell_type": "text-cell-h2"
   }
  },
  {
   "cell_type": "code",
   "metadata": {
    "cell_id": "2e5bcc522e524e949a116fd10962cfe8",
    "tags": [],
    "deepnote_to_be_reexecuted": false,
    "source_hash": "fa3726a9",
    "execution_start": 1651076265596,
    "execution_millis": 194,
    "deepnote_cell_type": "code",
    "deepnote_cell_height": 180.8000030517578
   },
   "source": "X_train_b2, X_test_b2, y_test_b2 = oh_encoder_data_unified_auth(df_unified_auth)",
   "execution_count": null,
   "outputs": [
    {
     "name": "stderr",
     "text": "/shared-libs/python3.7/py/lib/python3.7/site-packages/sklearn/base.py:451: UserWarning: X does not have valid feature names, but OneHotEncoder was fitted with feature names\n  \"X does not have valid feature names, but\"\n/shared-libs/python3.7/py/lib/python3.7/site-packages/sklearn/base.py:451: UserWarning: X does not have valid feature names, but OneHotEncoder was fitted with feature names\n  \"X does not have valid feature names, but\"\n",
     "output_type": "stream"
    }
   ]
  },
  {
   "cell_type": "code",
   "metadata": {
    "cell_id": "015d8ba921c440a9913e7dde0afcc122",
    "tags": [],
    "deepnote_to_be_reexecuted": false,
    "source_hash": "763fa88f",
    "execution_start": 1651076267821,
    "execution_millis": 1147,
    "deepnote_cell_type": "code",
    "deepnote_cell_height": 81
   },
   "source": "X_train_norm_b2, X_test_norm_b2 = standardizer(X_train_b2, X_test_b2)",
   "execution_count": null,
   "outputs": []
  },
  {
   "cell_type": "markdown",
   "source": "## Experimento 3 (lanl-comprehensive_unified-auth)",
   "metadata": {
    "cell_id": "4ff85cb139c542198c56d97c0c366803",
    "tags": [],
    "is_collapsed": true,
    "deepnote_cell_type": "text-cell-h2"
   }
  },
  {
   "cell_type": "code",
   "metadata": {
    "colab": {
     "base_uri": "https://localhost:8080/"
    },
    "id": "dyfSxgPd6B1J",
    "outputId": "b969aae5-c335-444d-8b26-43c569067249",
    "deepnote_to_be_reexecuted": false,
    "source_hash": "c01dfbd3",
    "execution_start": 1651072103365,
    "execution_millis": 172,
    "cell_id": "00016-7c77486b-06c9-4936-a205-1f453e676e89",
    "deepnote_cell_type": "code",
    "deepnote_cell_height": 180.8000030517578
   },
   "source": "X_train_Ex3, X_test_Ex3, y_test_Ex3 = oh_encoder_data_unified_auth(df_unified_auth, experimento=1)",
   "execution_count": null,
   "outputs": [
    {
     "name": "stderr",
     "text": "/shared-libs/python3.7/py/lib/python3.7/site-packages/sklearn/base.py:451: UserWarning: X does not have valid feature names, but OneHotEncoder was fitted with feature names\n  \"X does not have valid feature names, but\"\n/shared-libs/python3.7/py/lib/python3.7/site-packages/sklearn/base.py:451: UserWarning: X does not have valid feature names, but OneHotEncoder was fitted with feature names\n  \"X does not have valid feature names, but\"\n",
     "output_type": "stream"
    }
   ]
  },
  {
   "cell_type": "code",
   "metadata": {
    "id": "evyqG9aO6B1M",
    "deepnote_to_be_reexecuted": false,
    "source_hash": "4f7aca10",
    "execution_start": 1651072106204,
    "execution_millis": 926,
    "cell_id": "00017-8e75d015-669e-4d6b-bd2a-be27fecd9f64",
    "deepnote_cell_type": "code",
    "deepnote_cell_height": 81
   },
   "source": "X_train_norm_Ex3, X_test_norm_Ex3 = standardizer(X_train_Ex3, X_test_Ex3)",
   "execution_count": null,
   "outputs": []
  },
  {
   "cell_type": "markdown",
   "source": "## Experimento 4 (lanl-comprehensive_unified-auth)",
   "metadata": {
    "cell_id": "df52c4dd4c58407aac718bb0befba949",
    "tags": [],
    "is_collapsed": true,
    "deepnote_cell_type": "text-cell-h2"
   }
  },
  {
   "cell_type": "code",
   "metadata": {
    "colab": {
     "base_uri": "https://localhost:8080/"
    },
    "id": "dxql0tUZ6B1P",
    "outputId": "39f9a196-3a54-4b51-8b94-4564394aca51",
    "deepnote_to_be_reexecuted": false,
    "source_hash": "13871796",
    "execution_start": 1651092607360,
    "execution_millis": 421,
    "cell_id": "00019-c1948b80-4dc2-4872-a50e-ffc2de90103f",
    "deepnote_cell_type": "code",
    "deepnote_cell_height": 180.8000030517578
   },
   "source": "X_train_Ex4, X_test_Ex4, y_test_Ex4 = oh_encoder_data_unified_auth(df_unified_auth, experimento=2)",
   "execution_count": null,
   "outputs": [
    {
     "name": "stderr",
     "text": "/shared-libs/python3.7/py/lib/python3.7/site-packages/sklearn/base.py:451: UserWarning: X does not have valid feature names, but OneHotEncoder was fitted with feature names\n  \"X does not have valid feature names, but\"\n/shared-libs/python3.7/py/lib/python3.7/site-packages/sklearn/base.py:451: UserWarning: X does not have valid feature names, but OneHotEncoder was fitted with feature names\n  \"X does not have valid feature names, but\"\n",
     "output_type": "stream"
    }
   ]
  },
  {
   "cell_type": "code",
   "metadata": {
    "id": "NmE-08t26B1Q",
    "deepnote_to_be_reexecuted": false,
    "source_hash": "47b2ed5e",
    "execution_start": 1651092610822,
    "execution_millis": 1949,
    "cell_id": "00020-09cdcbcb-8f8d-4783-8b0c-f371eb1b5551",
    "deepnote_cell_type": "code",
    "deepnote_cell_height": 81
   },
   "source": "X_train_norm_Ex4, X_test_norm_Ex4 = standardizer(X_train_Ex4, X_test_Ex4)",
   "execution_count": null,
   "outputs": []
  },
  {
   "cell_type": "markdown",
   "source": "# Train",
   "metadata": {
    "cell_id": "e388be6bad834657ad600a8938e07b56",
    "tags": [],
    "is_collapsed": false,
    "deepnote_cell_type": "text-cell-h1"
   }
  },
  {
   "cell_type": "markdown",
   "source": "## Base 1 (lanl-comprehensive_700k)",
   "metadata": {
    "cell_id": "b14beb23145c4f23879e883de76c77cb",
    "tags": [],
    "is_collapsed": true,
    "deepnote_cell_type": "text-cell-h2"
   }
  },
  {
   "cell_type": "code",
   "metadata": {
    "cell_id": "b0a055136e924fe385f374ab112323bc",
    "tags": [],
    "deepnote_to_be_reexecuted": false,
    "source_hash": "f95cbb",
    "execution_start": 1651078631137,
    "deepnote_cell_type": "code",
    "deepnote_cell_height": 333.20001220703125
   },
   "source": "%%time\nmodel_b1 = Lof(n_neighbors=10, novelty= True)\nmodel_b1.fit(X_train_norm_b1)\n\n#train_scores = model.negative_outlier_factor_ * -1\n#test_scores = model.decision_function(X_test_norm) * -1\n\ntest_scores_b1 = model_b1.predict_proba(X_test_norm_b1)",
   "execution_count": null,
   "outputs": [
    {
     "output_type": "error",
     "ename": "KernelInterrupted",
     "evalue": "Execution interrupted by the Jupyter kernel.",
     "traceback": [
      "\u001b[0;31m---------------------------------------------------------------------------\u001b[0m",
      "\u001b[0;31mKernelInterrupted\u001b[0m: Execution interrupted by the Jupyter kernel."
     ]
    }
   ]
  },
  {
   "cell_type": "markdown",
   "source": "## Experimento 1 (lanl-comprehensive_700k)",
   "metadata": {
    "cell_id": "b1bafc1ef10345c3a45601d81e8007db",
    "tags": [],
    "is_collapsed": true,
    "deepnote_cell_type": "text-cell-h2"
   }
  },
  {
   "cell_type": "code",
   "metadata": {
    "colab": {
     "base_uri": "https://localhost:8080/"
    },
    "id": "05fF0D2KsLWt",
    "outputId": "bd7d8021-7137-4563-dd0f-42bd267d972d",
    "deepnote_to_be_reexecuted": false,
    "source_hash": "3a5fde92",
    "execution_start": 1651078781828,
    "execution_millis": 248072,
    "cell_id": "00023-dcf7ebf2-92ab-4c82-8b8a-9ff17065259c",
    "deepnote_cell_type": "code",
    "deepnote_cell_height": 256.3999938964844
   },
   "source": "%%time\nmodel_Ex1 = Lof(n_neighbors=10, novelty= True)\nmodel_Ex1.fit(X_train_norm_Ex1)\n\n#train_scores = model.negative_outlier_factor_ * -1\n#test_scores = model.decision_function(X_test_norm) * -1\n\ntest_scores_Ex1 = model_Ex1.predict_proba(X_test_norm_Ex1)",
   "execution_count": null,
   "outputs": [
    {
     "name": "stdout",
     "text": "CPU times: user 5min 45s, sys: 17.1 s, total: 6min 2s\nWall time: 4min 8s\n",
     "output_type": "stream"
    }
   ]
  },
  {
   "cell_type": "markdown",
   "source": "## Experimento 2 (lanl-comprehensive_700k)",
   "metadata": {
    "cell_id": "d480b4fd0aa54253b33bfcbbe5f54e20",
    "tags": [],
    "is_collapsed": true,
    "deepnote_cell_type": "text-cell-h2"
   }
  },
  {
   "cell_type": "code",
   "metadata": {
    "colab": {
     "base_uri": "https://localhost:8080/"
    },
    "id": "M7rw6Eghwg-R",
    "outputId": "2780b72e-db60-401b-ba0b-10e366b656ea",
    "deepnote_to_be_reexecuted": false,
    "source_hash": "5657043f",
    "execution_start": 1651080484892,
    "execution_millis": 176903,
    "cell_id": "00025-151b701e-8ec1-4ac1-b724-b5031d69aa65",
    "deepnote_cell_type": "code",
    "deepnote_cell_height": 256.3999938964844
   },
   "source": "%%time\nmodel_Ex2 = Lof(n_neighbors=10, novelty= True)\nmodel_Ex2.fit(X_train_norm_Ex2)\n\n#train_scores = model.negative_outlier_factor_ * -1\n#test_scores = model.decision_function(X_test_norm) * -1\n\ntest_scores_Ex2 = model_Ex2.predict_proba(X_test_norm_Ex2)",
   "execution_count": null,
   "outputs": [
    {
     "name": "stdout",
     "text": "CPU times: user 3min 58s, sys: 14.7 s, total: 4min 13s\nWall time: 2min 56s\n",
     "output_type": "stream"
    }
   ]
  },
  {
   "cell_type": "markdown",
   "source": "## Base 2 (lanl-comprehensive_unified-auth) ",
   "metadata": {
    "cell_id": "1ec1252af001448092db578e89c8d7cc",
    "tags": [],
    "is_collapsed": true,
    "deepnote_cell_type": "text-cell-h2"
   }
  },
  {
   "cell_type": "code",
   "metadata": {
    "cell_id": "03cf426650b84b8289ad465e3469412a",
    "tags": [],
    "deepnote_to_be_reexecuted": false,
    "source_hash": "fcf39d3e",
    "execution_start": 1651076331519,
    "execution_millis": 81156,
    "deepnote_cell_type": "code",
    "deepnote_cell_height": 256.3999938964844
   },
   "source": "%%time\nmodel_b2 = Lof(n_neighbors=10, novelty= True)\nmodel_b2.fit(X_train_norm_b2)\n\n#train_scores = model.negative_outlier_factor_ * -1\n#test_scores = model.decision_function(X_test_norm) * -1\n\ntest_scores_b2 = model_b2.predict_proba(X_test_norm_b2)",
   "execution_count": null,
   "outputs": [
    {
     "name": "stdout",
     "text": "CPU times: user 1min 43s, sys: 10.5 s, total: 1min 54s\nWall time: 1min 20s\n",
     "output_type": "stream"
    }
   ]
  },
  {
   "cell_type": "markdown",
   "source": "## Experimento 3 (lanl-comprehensive_unified-auth)",
   "metadata": {
    "cell_id": "963d0a8e1d4547e1b69a60cc2a5ddf51",
    "tags": [],
    "is_collapsed": true,
    "deepnote_cell_type": "text-cell-h2"
   }
  },
  {
   "cell_type": "code",
   "metadata": {
    "colab": {
     "base_uri": "https://localhost:8080/"
    },
    "id": "M7rw6Eghwg-R",
    "outputId": "2780b72e-db60-401b-ba0b-10e366b656ea",
    "deepnote_to_be_reexecuted": false,
    "source_hash": "d01120d",
    "execution_start": 1651072172111,
    "execution_millis": 57209,
    "cell_id": "00027-3e0c5ef7-9804-45aa-b8be-dcecf6ba0572",
    "deepnote_cell_type": "code",
    "deepnote_cell_height": 256.3999938964844
   },
   "source": "%%time\nmodel_Ex3 = Lof(n_neighbors=10, novelty= True)\nmodel_Ex3.fit(X_train_norm_Ex3)\n\n#train_scores = model.negative_outlier_factor_ * -1\n#test_scores = model.decision_function(X_test_norm) * -1\n\ntest_scores_Ex3 = model_Ex3.predict_proba(X_test_norm_Ex3)",
   "execution_count": null,
   "outputs": [
    {
     "name": "stdout",
     "text": "CPU times: user 1min 17s, sys: 4.59 s, total: 1min 22s\nWall time: 57.3 s\n",
     "output_type": "stream"
    }
   ]
  },
  {
   "cell_type": "markdown",
   "source": "## Experimento 4 (lanl-comprehensive_unified-auth)",
   "metadata": {
    "cell_id": "f4c8bfd350de4570b5268270446d6a3e",
    "tags": [],
    "is_collapsed": false,
    "deepnote_cell_type": "text-cell-h2"
   }
  },
  {
   "cell_type": "code",
   "metadata": {
    "colab": {
     "base_uri": "https://localhost:8080/"
    },
    "id": "M7rw6Eghwg-R",
    "outputId": "2780b72e-db60-401b-ba0b-10e366b656ea",
    "deepnote_to_be_reexecuted": false,
    "source_hash": "a49bb879",
    "execution_start": 1651092619203,
    "execution_millis": 85268,
    "cell_id": "00029-49132439-b497-4d45-a491-7705dc4e4779",
    "deepnote_cell_type": "code",
    "deepnote_cell_height": 256.3999938964844
   },
   "source": "%%time\nmodel_Ex4 = Lof(n_neighbors=10, novelty= True)\nmodel_Ex4.fit(X_train_norm_Ex4)\n\n#train_scores = model.negative_outlier_factor_ * -1\n#test_scores = model.decision_function(X_test_norm) * -1\n\ntest_scores_Ex4 = model_Ex4.predict_proba(X_test_norm_Ex4)",
   "execution_count": null,
   "outputs": [
    {
     "name": "stdout",
     "text": "CPU times: user 57.4 s, sys: 4.94 s, total: 1min 2s\nWall time: 1min 25s\n",
     "output_type": "stream"
    }
   ]
  },
  {
   "cell_type": "markdown",
   "source": "# Metrics",
   "metadata": {
    "cell_id": "1e6634997803497a8fd9f5a18317dfa5",
    "tags": [],
    "is_collapsed": false,
    "deepnote_cell_type": "text-cell-h1"
   }
  },
  {
   "cell_type": "markdown",
   "source": "## Base 1 (lanl-comprehensive_700k)",
   "metadata": {
    "cell_id": "1031602840a345e38a197cb5ed3ba5fa",
    "tags": [],
    "is_collapsed": true,
    "deepnote_cell_type": "text-cell-h2"
   }
  },
  {
   "cell_type": "code",
   "metadata": {
    "cell_id": "0b949a69dfb040df83933e85497a7024",
    "tags": [],
    "deepnote_to_be_reexecuted": false,
    "source_hash": "a02af8ac",
    "execution_start": 1651076483398,
    "execution_millis": 7,
    "deepnote_cell_type": "code",
    "deepnote_cell_height": 202.39999389648438
   },
   "source": "roc_b1 = roc_auc_score(y_test_b1, test_scores_b1)\nap_b1 = average_precision_score(y_test_b1, test_scores_b1)\n\nprint(f\"ROC score: {roc_b1}\")\nprint(f\"Average precision score: {ap_b1}\")",
   "execution_count": null,
   "outputs": [
    {
     "name": "stdout",
     "text": "ROC score: 0.2916117698726394\nAverage precision score: 0.02729218759753111\n",
     "output_type": "stream"
    }
   ]
  },
  {
   "cell_type": "code",
   "metadata": {
    "cell_id": "5a7ab54b922c4021bf9dd796068c4600",
    "tags": [],
    "deepnote_to_be_reexecuted": false,
    "source_hash": "a22ca4ee",
    "execution_start": 1651076486152,
    "execution_millis": 14,
    "deepnote_cell_type": "code",
    "deepnote_cell_height": 310.3999938964844
   },
   "source": "per = get_percentile(test_scores_b1, y_test_b1.astype(int))    \ny_pred_b1 = (test_scores_b1>=per)\n\nroc_score_auc_b1 = roc_auc_score(y_test_b1.astype(int), y_pred_b1.astype(int)) \naverage_precision_b1 = average_precision_score(y_test_b1.astype(int), y_pred_b1.astype(int))\n\nprecision_b1, recall_b1, f1_b1, _ = precision_recall_fscore_support(y_test_b1.astype(int),\n                                                            y_pred_b1.astype(int),\n                                                            average='binary')\nprint(f\"F1 {f1_b1}\")\nprint(f\"Recall: {recall_b1}\")",
   "execution_count": null,
   "outputs": [
    {
     "name": "stdout",
     "text": "F1 0.0\nRecall: 0.0\n",
     "output_type": "stream"
    }
   ]
  },
  {
   "cell_type": "code",
   "metadata": {
    "cell_id": "7b7f601d908c4198b3c383a38019e7c6",
    "tags": [],
    "deepnote_to_be_reexecuted": false,
    "source_hash": "d69607b1",
    "execution_start": 1651076489167,
    "execution_millis": 1,
    "deepnote_cell_type": "code",
    "deepnote_cell_height": 81
   },
   "source": "tn_b1, fp_b1, fn_b1, tp_b1 = confusion_matrix(y_test_b1, y_pred_b1).ravel()",
   "execution_count": null,
   "outputs": []
  },
  {
   "cell_type": "code",
   "metadata": {
    "cell_id": "489895b02a9a47f89c8fe15466573fd6",
    "tags": [],
    "deepnote_to_be_reexecuted": false,
    "source_hash": "acb564d6",
    "execution_start": 1651076491629,
    "execution_millis": 3,
    "deepnote_cell_type": "code",
    "deepnote_cell_height": 148.39999389648438
   },
   "source": "print(f\"True positives: {tp_b1}\")\nprint(f\"False positives: {fp_b1}\")",
   "execution_count": null,
   "outputs": [
    {
     "name": "stdout",
     "text": "True positives: 0\nFalse positives: 36\n",
     "output_type": "stream"
    }
   ]
  },
  {
   "cell_type": "code",
   "metadata": {
    "cell_id": "5fc729a6e9c3478085ca842af0410a6d",
    "tags": [],
    "deepnote_to_be_reexecuted": false,
    "source_hash": "1e6c5d7f",
    "execution_start": 1651078018582,
    "execution_millis": 5,
    "deepnote_cell_type": "code",
    "deepnote_cell_height": 171
   },
   "source": "import pickle\n\nmetrics = {'F1':f1_b1,'Average Precision':ap_b1,'Recall':recall_b1,'ROC value':roc_b1}\ntp_fp = {'tp':tp_b1,'fp':fp_b1}\n\npickle.dump((metrics,tp_fp), open(\"resultsB1.pkl\", \"wb\"))",
   "execution_count": null,
   "outputs": []
  },
  {
   "cell_type": "markdown",
   "source": "## Experimento 1 (lanl-comprehensive_700k)",
   "metadata": {
    "cell_id": "2e8f764dccea401aaacba3822e4df78a",
    "tags": [],
    "is_collapsed": false,
    "deepnote_cell_type": "text-cell-h2"
   }
  },
  {
   "cell_type": "code",
   "metadata": {
    "colab": {
     "base_uri": "https://localhost:8080/"
    },
    "id": "v6_lGobGucdl",
    "outputId": "fdb5e8e3-5e79-4978-eb71-c4c7f7afc170",
    "deepnote_to_be_reexecuted": false,
    "source_hash": "18d9a81",
    "execution_start": 1651079165897,
    "execution_millis": 2,
    "cell_id": "00032-517a0deb-d2a5-4a01-948b-ec7ad244ac85",
    "deepnote_cell_type": "code",
    "deepnote_cell_height": 202.39999389648438
   },
   "source": "roc_Ex1 = roc_auc_score(y_test_Ex1, test_scores_Ex1)\nap_Ex1 = average_precision_score(y_test_Ex1, test_scores_Ex1)\n\nprint(f\"ROC score: {roc_Ex1}\")\nprint(f\"Average precision score: {ap_Ex1}\")",
   "execution_count": null,
   "outputs": [
    {
     "name": "stdout",
     "text": "ROC score: 0.5\nAverage precision score: 0.8910891089108911\n",
     "output_type": "stream"
    }
   ]
  },
  {
   "cell_type": "code",
   "metadata": {
    "colab": {
     "base_uri": "https://localhost:8080/"
    },
    "id": "0j_miY5oyV8y",
    "outputId": "e8baa52c-1c97-4e0e-f990-7632972959b3",
    "deepnote_to_be_reexecuted": false,
    "source_hash": "ef24538b",
    "execution_start": 1651079170724,
    "execution_millis": 2,
    "cell_id": "00033-7b144721-91d2-446e-a171-7edb007a3b78",
    "deepnote_cell_type": "code",
    "deepnote_cell_height": 310.3999938964844
   },
   "source": "per = get_percentile(test_scores_Ex1, y_test_Ex1.astype(int))    \ny_pred_Ex1 = (test_scores_Ex1>=per)\n\nroc_score_auc_Ex1 = roc_auc_score(y_test_Ex1.astype(int), y_pred_Ex1.astype(int)) \naverage_precision_Ex1 = average_precision_score(y_test_Ex1.astype(int), y_pred_Ex1.astype(int))\n\nprecision_Ex1, recall_Ex1, f1_Ex1, _ = precision_recall_fscore_support(y_test_Ex1.astype(int),\n                                                            y_pred_Ex1.astype(int),\n                                                            average='binary')\nprint(f\"F1 {f1_Ex1}\")\nprint(f\"Recall: {recall_Ex1}\")",
   "execution_count": null,
   "outputs": [
    {
     "name": "stdout",
     "text": "F1 0.9424083769633509\nRecall: 1.0\n",
     "output_type": "stream"
    }
   ]
  },
  {
   "cell_type": "code",
   "metadata": {
    "id": "3K0aoPRnsu1U",
    "deepnote_to_be_reexecuted": false,
    "source_hash": "1681565a",
    "execution_start": 1651079178107,
    "execution_millis": 0,
    "cell_id": "00034-553a7d5f-d220-4f0c-b62b-40b278a7cc79",
    "deepnote_cell_type": "code",
    "deepnote_cell_height": 81
   },
   "source": "tn_Ex1, fp_Ex1, fn_Ex1, tp_Ex1 = confusion_matrix(y_test_Ex1, y_pred_Ex1).ravel()",
   "execution_count": null,
   "outputs": []
  },
  {
   "cell_type": "code",
   "metadata": {
    "colab": {
     "base_uri": "https://localhost:8080/"
    },
    "id": "H5WTkS9Usu1U",
    "outputId": "5af68559-d63c-4d7f-c54f-62173b2020d1",
    "deepnote_to_be_reexecuted": false,
    "source_hash": "463c9642",
    "execution_start": 1651079180867,
    "execution_millis": 103,
    "cell_id": "00035-8d400cc3-188d-4a38-90f7-9d8fb3966209",
    "deepnote_cell_type": "code",
    "deepnote_cell_height": 148.39999389648438
   },
   "source": "print(f\"True positives: {tp_Ex1}\")\nprint(f\"False positives: {fp_Ex1}\")",
   "execution_count": null,
   "outputs": [
    {
     "name": "stdout",
     "text": "True positives: 90\nFalse positives: 11\n",
     "output_type": "stream"
    }
   ]
  },
  {
   "cell_type": "code",
   "metadata": {
    "cell_id": "8d409817df334d909ba997d3c754999a",
    "tags": [],
    "deepnote_to_be_reexecuted": false,
    "source_hash": "685657a7",
    "execution_start": 1651079230972,
    "execution_millis": 2,
    "deepnote_cell_type": "code",
    "deepnote_cell_height": 171
   },
   "source": "import pickle\n\nmetrics = {'F1':f1_Ex1,'Average Precision':ap_Ex1,'Recall':recall_Ex1,'ROC value':roc_Ex1}\ntp_fp = {'tp':tp_Ex1,'fp':fp_Ex1}\n\npickle.dump((metrics,tp_fp), open(\"results1NoDuplicates.pkl\", \"wb\"))",
   "execution_count": null,
   "outputs": []
  },
  {
   "cell_type": "markdown",
   "source": "## Experimento 2 (lanl-comprehensive_700k)",
   "metadata": {
    "cell_id": "9ee654f13a5a4c3ba1b8033d99cecd73",
    "tags": [],
    "is_collapsed": false,
    "deepnote_cell_type": "text-cell-h2"
   }
  },
  {
   "cell_type": "code",
   "metadata": {
    "colab": {
     "base_uri": "https://localhost:8080/"
    },
    "id": "hvvMPsqK0hJx",
    "outputId": "497fd40d-76f2-49f1-9c0e-33d97ff08bde",
    "deepnote_to_be_reexecuted": false,
    "source_hash": "7f503139",
    "execution_start": 1651080661794,
    "execution_millis": 4,
    "cell_id": "00037-23c42daf-59f1-4b07-82a0-351b4baa1f9e",
    "deepnote_cell_type": "code",
    "deepnote_cell_height": 202.39999389648438
   },
   "source": "roc_Ex2 = roc_auc_score(y_test_Ex2, test_scores_Ex2)\nap_Ex2 = average_precision_score(y_test_Ex2, test_scores_Ex2)\n\nprint(f\"ROC score: {roc_Ex2}\")\nprint(f\"Average precision score: {ap_Ex2}\")",
   "execution_count": null,
   "outputs": [
    {
     "name": "stdout",
     "text": "ROC score: 0.18181818181818177\nAverage precision score: 0.8982236154649949\n",
     "output_type": "stream"
    }
   ]
  },
  {
   "cell_type": "code",
   "metadata": {
    "colab": {
     "base_uri": "https://localhost:8080/"
    },
    "id": "o0bFIrl00hJz",
    "outputId": "0fdc07e0-63b4-4f59-dc14-689145dc51f7",
    "deepnote_to_be_reexecuted": false,
    "source_hash": "de65bab5",
    "execution_start": 1651080661800,
    "execution_millis": 63,
    "cell_id": "00038-7ae8b09f-a406-48ef-9cad-c9c8511c988d",
    "deepnote_cell_type": "code",
    "deepnote_cell_height": 310.3999938964844
   },
   "source": "per = get_percentile(test_scores_Ex2, y_test_Ex2.astype(int))    \ny_pred_Ex2 = (test_scores_Ex2>=per)\n\nroc_score_auc_Ex2 = roc_auc_score(y_test_Ex2.astype(int), y_pred_Ex2.astype(int)) \naverage_precision_Ex2 = average_precision_score(y_test_Ex2.astype(int), y_pred_Ex2.astype(int))\n\nprecision_Ex2, recall_Ex2, f1_Ex2, _ = precision_recall_fscore_support(y_test_Ex2.astype(int),\n                                                            y_pred_Ex2.astype(int),\n                                                            average='binary')\nprint(f\"F1 {f1_Ex2}\")\nprint(f\"Recall: {recall_Ex2}\")",
   "execution_count": null,
   "outputs": [
    {
     "name": "stdout",
     "text": "F1 0.9523809523809523\nRecall: 1.0\n",
     "output_type": "stream"
    }
   ]
  },
  {
   "cell_type": "code",
   "metadata": {
    "id": "ol8hTsdb0hJ1",
    "deepnote_to_be_reexecuted": false,
    "source_hash": "a3a6b642",
    "execution_start": 1651080661860,
    "execution_millis": 0,
    "cell_id": "00039-29f58a18-4edc-47fc-b937-016cd2f24bdd",
    "deepnote_cell_type": "code",
    "deepnote_cell_height": 81
   },
   "source": "tn_Ex2, fp_Ex2, fn_Ex2, tp_Ex2 = confusion_matrix(y_test_Ex2, y_pred_Ex2).ravel()",
   "execution_count": null,
   "outputs": []
  },
  {
   "cell_type": "code",
   "metadata": {
    "colab": {
     "base_uri": "https://localhost:8080/"
    },
    "id": "Sypf6aMF0hJ2",
    "outputId": "c681db0b-579e-4e4b-9dae-9bf01d7ebbb8",
    "deepnote_to_be_reexecuted": false,
    "source_hash": "9605ac7d",
    "execution_start": 1651080661861,
    "execution_millis": 2,
    "cell_id": "00040-0eb1abc2-95fd-49a4-9e67-0d069cfdd983",
    "deepnote_cell_type": "code",
    "deepnote_cell_height": 148.39999389648438
   },
   "source": "print(f\"True positives: {tp_Ex2}\")\nprint(f\"False positives: {fp_Ex2}\")",
   "execution_count": null,
   "outputs": [
    {
     "name": "stdout",
     "text": "True positives: 90\nFalse positives: 9\n",
     "output_type": "stream"
    }
   ]
  },
  {
   "cell_type": "code",
   "metadata": {
    "cell_id": "7cbcb653b798470d9988cc4b7ebc946b",
    "tags": [],
    "deepnote_to_be_reexecuted": false,
    "source_hash": "311ee6a4",
    "execution_start": 1651080661861,
    "execution_millis": 4966110,
    "deepnote_cell_type": "code",
    "deepnote_cell_height": 171
   },
   "source": "import pickle\n\nmetrics = {'F1':f1_Ex2,'Average Precision':ap_Ex2,'Recall':recall_Ex2,'ROC value':roc_Ex2}\ntp_fp = {'tp':tp_Ex2,'fp':fp_Ex2}\n\npickle.dump((metrics,tp_fp), open(\"results2NoDuplicates.pkl\", \"wb\"))",
   "execution_count": null,
   "outputs": []
  },
  {
   "cell_type": "markdown",
   "source": "## Base 2 (lanl-comprehensive_unified-auth)",
   "metadata": {
    "cell_id": "c45cc322686e4ed18f7d34f880547d63",
    "tags": [],
    "is_collapsed": true,
    "deepnote_cell_type": "text-cell-h2"
   }
  },
  {
   "cell_type": "code",
   "metadata": {
    "cell_id": "e053c803e966469fa61a591857bc8208",
    "tags": [],
    "deepnote_cell_type": "code",
    "deepnote_cell_height": 138
   },
   "source": "roc_b2 = roc_auc_score(y_test_b2, test_scores_b2)\nap_b2 = average_precision_score(y_test_b2, test_scores_b2)\n\nprint(f\"ROC score: {roc_b2}\")\nprint(f\"Average precision score: {ap_b2}\")",
   "execution_count": null,
   "outputs": []
  },
  {
   "cell_type": "code",
   "metadata": {
    "cell_id": "838323c5214c4191b1a764d35b197a8d",
    "tags": [],
    "deepnote_cell_type": "code",
    "deepnote_cell_height": 246
   },
   "source": "per = get_percentile(test_scores_b2, y_test_b2.astype(int))    \ny_pred_b2 = (test_scores_b2>=per)\n\nroc_score_auc_b2 = roc_auc_score(y_test_b2.astype(int), y_pred_b2.astype(int)) \naverage_precision_b2 = average_precision_score(y_test_b2.astype(int), y_pred_b2.astype(int))\n\nprecision_b2, recall_b2, f1_b2, _ = precision_recall_fscore_support(y_test_b2.astype(int),\n                                                            y_pred_b2.astype(int),\n                                                            average='binary')\nprint(f\"F1 {f1_b2}\")\nprint(f\"Recall: {recall_b2}\")",
   "execution_count": null,
   "outputs": []
  },
  {
   "cell_type": "code",
   "metadata": {
    "cell_id": "8874f85b1a7341589e6c2687f6d9f016",
    "tags": [],
    "deepnote_cell_type": "code"
   },
   "source": "tn_b2, fp_b2, fn_b2, tp_b2 = confusion_matrix(y_test_b2, y_pred_b2).ravel()",
   "execution_count": null,
   "outputs": []
  },
  {
   "cell_type": "code",
   "metadata": {
    "cell_id": "37eaed906d834ccaa9428b388f025006",
    "tags": [],
    "deepnote_cell_type": "code"
   },
   "source": "print(f\"True positives: {tp_b2}\")\nprint(f\"False positives: {fp_b2}\")",
   "execution_count": null,
   "outputs": []
  },
  {
   "cell_type": "code",
   "metadata": {
    "cell_id": "f27f961e9b2047d58e49a3b7b7ab6cb7",
    "tags": [],
    "deepnote_cell_type": "code"
   },
   "source": "total_positives = np.size(np.where(y_test_b2.astype(int)==1))\ntpr_b2 = tp_b2/total_positives\ntpr_b2\ntotal_positives",
   "execution_count": null,
   "outputs": []
  },
  {
   "cell_type": "code",
   "metadata": {
    "cell_id": "5745b142f393480c9861605f033dd4e0",
    "tags": [],
    "deepnote_cell_type": "code"
   },
   "source": "import pickle\n\nmetrics = {'F1':f1_b2,'Average Precision':ap_b2,'Recall':recall_b2,'ROC value':roc_b2}\ntp_fp = {'tp':tp_b2,'fp':fp_b2}\n\npickle.dump((metrics,tp_fp), open(\"resultsB2.pkl\", \"wb\"))",
   "execution_count": null,
   "outputs": []
  },
  {
   "cell_type": "markdown",
   "source": "## Experimento 3 (lanl-comprehensive_unified-auth)",
   "metadata": {
    "cell_id": "0375ae30d27d4f9396410175db005fbc",
    "tags": [],
    "is_collapsed": true,
    "deepnote_cell_type": "text-cell-h2"
   }
  },
  {
   "cell_type": "code",
   "metadata": {
    "colab": {
     "base_uri": "https://localhost:8080/"
    },
    "id": "hvvMPsqK0hJx",
    "outputId": "497fd40d-76f2-49f1-9c0e-33d97ff08bde",
    "deepnote_to_be_reexecuted": false,
    "source_hash": "4dd1ddaf",
    "allow_embed": false,
    "execution_start": 1651072232966,
    "execution_millis": 6,
    "cell_id": "00042-e10a990c-77f4-4326-a682-181fdc09cde6",
    "deepnote_cell_type": "code",
    "deepnote_cell_height": 202.39999389648438
   },
   "source": "roc_Ex3 = roc_auc_score(y_test_Ex3, test_scores_Ex3)\nap_Ex3 = average_precision_score(y_test_Ex3, test_scores_Ex3)\n\nprint(f\"ROC score: {roc_Ex3}\")\nprint(f\"Average precision score: {ap_Ex3}\")",
   "execution_count": null,
   "outputs": [
    {
     "name": "stdout",
     "text": "ROC score: 0.5\nAverage precision score: 0.031746031746031744\n",
     "output_type": "stream"
    }
   ]
  },
  {
   "cell_type": "code",
   "metadata": {
    "colab": {
     "base_uri": "https://localhost:8080/"
    },
    "id": "o0bFIrl00hJz",
    "outputId": "0fdc07e0-63b4-4f59-dc14-689145dc51f7",
    "deepnote_to_be_reexecuted": false,
    "source_hash": "7564610e",
    "allow_embed": false,
    "execution_start": 1651072237108,
    "execution_millis": 5,
    "cell_id": "00043-14854f00-5940-4760-b1f8-48ac186025cf",
    "deepnote_cell_type": "code",
    "deepnote_cell_height": 310.3999938964844
   },
   "source": "per = get_percentile(test_scores_Ex3, y_test_Ex3.astype(int))    \ny_pred_Ex3 = (test_scores_Ex3>=per)\n\nroc_score_auc_Ex3 = roc_auc_score(y_test_Ex3.astype(int), y_pred_Ex3.astype(int)) \naverage_precision_Ex3 = average_precision_score(y_test_Ex3.astype(int), y_pred_Ex3.astype(int))\n\nprecision_Ex3, recall_Ex3, f1_Ex3, _ = precision_recall_fscore_support(y_test_Ex3.astype(int),\n                                                            y_pred_Ex3.astype(int),\n                                                            average='binary')\nprint(f\"F1 {f1_Ex3}\")\nprint(f\"Recall: {recall_Ex3}\")",
   "execution_count": null,
   "outputs": [
    {
     "name": "stdout",
     "text": "F1 0.06153846153846154\nRecall: 1.0\n",
     "output_type": "stream"
    }
   ]
  },
  {
   "cell_type": "code",
   "metadata": {
    "id": "ol8hTsdb0hJ1",
    "deepnote_to_be_reexecuted": false,
    "source_hash": "42da4628",
    "allow_embed": false,
    "execution_start": 1651072242464,
    "execution_millis": 3,
    "cell_id": "00044-f5818ed9-7c8f-4668-a15b-cb70cb58b26f",
    "deepnote_cell_type": "code"
   },
   "source": "tn_Ex3, fp_Ex3, fn_Ex3, tp_Ex3 = confusion_matrix(y_test_Ex3, y_pred_Ex3).ravel()",
   "execution_count": null,
   "outputs": []
  },
  {
   "cell_type": "code",
   "metadata": {
    "colab": {
     "base_uri": "https://localhost:8080/"
    },
    "id": "Sypf6aMF0hJ2",
    "outputId": "c681db0b-579e-4e4b-9dae-9bf01d7ebbb8",
    "deepnote_to_be_reexecuted": false,
    "source_hash": "41502ea7",
    "allow_embed": false,
    "execution_start": 1651072245501,
    "execution_millis": 425,
    "cell_id": "00045-4d44c853-d3dd-41a1-90ce-06664bf551f5",
    "deepnote_cell_type": "code"
   },
   "source": "print(f\"True positives: {tp_Ex3}\")\nprint(f\"False positives: {fp_Ex3}\")",
   "execution_count": null,
   "outputs": [
    {
     "name": "stdout",
     "text": "True positives: 14\nFalse positives: 427\n",
     "output_type": "stream"
    }
   ]
  },
  {
   "cell_type": "code",
   "metadata": {
    "cell_id": "29c74aa61fa54151a2478d31209c46db",
    "tags": [],
    "deepnote_cell_type": "code"
   },
   "source": "total_positives = np.size(np.where(y_test_Ex3.astype(int)==1))\ntpr_Ex3 = tp_Ex3/total_positives\ntpr_Ex3\ntotal_positives",
   "execution_count": null,
   "outputs": []
  },
  {
   "cell_type": "code",
   "metadata": {
    "cell_id": "e85c8d47f54c43028846ee5fd2dc5c07",
    "tags": [],
    "deepnote_to_be_reexecuted": false,
    "source_hash": "7a8cac55",
    "execution_start": 1651072262321,
    "execution_millis": 0,
    "deepnote_cell_type": "code"
   },
   "source": "import pickle\n\nmetrics = {'F1':f1_Ex3,'Average Precision':ap_Ex3,'Recall':recall_Ex3,'ROC value':roc_Ex3}\ntp_fp = {'tp':tp_Ex3,'fp':fp_Ex3}\n\npickle.dump((metrics,tp_fp), open(\"resultsExp3.pkl\", \"wb\"))",
   "execution_count": null,
   "outputs": []
  },
  {
   "cell_type": "markdown",
   "source": "### Graphic representation",
   "metadata": {
    "tags": [],
    "cell_id": "00047-8074a81d-5e5f-4aea-b6d6-60b084ed3821",
    "is_collapsed": false,
    "deepnote_cell_type": "text-cell-h3"
   }
  },
  {
   "cell_type": "code",
   "metadata": {
    "tags": [],
    "deepnote_to_be_reexecuted": false,
    "source_hash": "b9cae72c",
    "execution_start": 1651072365532,
    "execution_millis": 418,
    "cell_id": "00046-551adde3-aa5a-466f-bd07-b16be61a45b3",
    "deepnote_cell_type": "code"
   },
   "source": "import pickle\n\nmetrics, tp_fp = pickle.load( open( \"resultsExp3.pkl\", \"rb\" ) )\n\nfig, axs = plt.subplots(1,2,figsize =(12, 7))\n\nbarWidth = 0.25\nbr1 = np.arange(len(metrics))\nbr2 = np.arange(len(tp_fp))\n\naxs.flat[0].bar(br1,metrics.values(),color='maroon',width = barWidth)\naxs.flat[0].set_xticks([r for r in range(len(metrics))],\n        metrics.keys())\n\naxs.flat[1].bar(br2,tp_fp.values(),color='purple',width = barWidth)\naxs.flat[1].set_xticks([r for r in range(len(tp_fp))],\n        tp_fp.keys())",
   "execution_count": null,
   "outputs": [
    {
     "output_type": "execute_result",
     "execution_count": 15,
     "data": {
      "text/plain": "[<matplotlib.axis.XTick at 0x7f948fd9fd90>,\n <matplotlib.axis.XTick at 0x7f948fda47d0>]"
     },
     "metadata": {}
    },
    {
     "data": {
      "text/plain": "<Figure size 864x504 with 2 Axes>",
      "image/png": "[encoded data removed]"
     },
     "metadata": {
      "needs_background": "light",
      "image/png": {
       "width": 706,
       "height": 411
      }
     },
     "output_type": "display_data"
    }
   ]
  },
  {
   "cell_type": "markdown",
   "source": "## Experimento 4 (lanl-comprehensive_unified-auth)",
   "metadata": {
    "cell_id": "47510cad9d044f469be60601effca040",
    "tags": [],
    "is_collapsed": false,
    "deepnote_cell_type": "text-cell-h2"
   }
  },
  {
   "cell_type": "code",
   "metadata": {
    "colab": {
     "base_uri": "https://localhost:8080/"
    },
    "id": "hvvMPsqK0hJx",
    "outputId": "497fd40d-76f2-49f1-9c0e-33d97ff08bde",
    "deepnote_to_be_reexecuted": false,
    "source_hash": "d5956a57",
    "allow_embed": false,
    "execution_start": 1651092704470,
    "execution_millis": 2,
    "cell_id": "00049-3f94d013-7676-463e-8e81-8fac7774f595",
    "deepnote_cell_type": "code",
    "deepnote_cell_height": 202.39999389648438
   },
   "source": "ap_Ex4 = average_precision_score(y_test_Ex4, test_scores_Ex4)\nroc_Ex4 = roc_auc_score(y_test_Ex4, test_scores_Ex4)\n\nprint(f\"ROC score: {roc_Ex4}\")\nprint(f\"Average precision score: {ap_Ex4}\")",
   "execution_count": null,
   "outputs": [
    {
     "name": "stdout",
     "text": "ROC score: 0.9016393442622951\nAverage precision score: 0.25\n",
     "output_type": "stream"
    }
   ]
  },
  {
   "cell_type": "code",
   "metadata": {
    "colab": {
     "base_uri": "https://localhost:8080/"
    },
    "id": "o0bFIrl00hJz",
    "outputId": "0fdc07e0-63b4-4f59-dc14-689145dc51f7",
    "deepnote_to_be_reexecuted": false,
    "source_hash": "9262baa8",
    "allow_embed": false,
    "execution_start": 1651092704470,
    "execution_millis": 9,
    "cell_id": "00050-78cde7ef-3f44-4f7f-84e4-13ce1b169553",
    "deepnote_cell_type": "code",
    "deepnote_cell_height": 310.3999938964844
   },
   "source": "per = get_percentile(test_scores_Ex4, y_test_Ex4.astype(int))    \ny_pred_Ex4 = (test_scores_Ex4>=per)\n\nroc_score_auc_Ex4 = roc_auc_score(y_test_Ex4.astype(int), y_pred_Ex4.astype(int)) \naverage_precision_Ex4 = average_precision_score(y_test_Ex4.astype(int), y_pred_Ex4.astype(int))\n\nprecision_Ex4, recall_Ex4, f1_Ex4, _ = precision_recall_fscore_support(y_test_Ex4.astype(int),\n                                                            y_pred_Ex4.astype(int),\n                                                            average='binary')\nprint(f\"F1 {f1_Ex4}\")\nprint(f\"Recall: {recall_Ex4}\")",
   "execution_count": null,
   "outputs": [
    {
     "name": "stdout",
     "text": "F1 0.0\nRecall: 0.0\n",
     "output_type": "stream"
    }
   ]
  },
  {
   "cell_type": "code",
   "metadata": {
    "id": "ol8hTsdb0hJ1",
    "deepnote_to_be_reexecuted": false,
    "source_hash": "ea66b270",
    "allow_embed": false,
    "execution_start": 1651092704483,
    "execution_millis": 9,
    "cell_id": "00051-0ca01394-f805-4d1a-a665-c984cd7edc24",
    "deepnote_cell_type": "code",
    "deepnote_cell_height": 81
   },
   "source": "tn_Ex4, fp_Ex4, fn_Ex4, tp_Ex4 = confusion_matrix(y_test_Ex4, y_pred_Ex4).ravel()",
   "execution_count": null,
   "outputs": []
  },
  {
   "cell_type": "code",
   "metadata": {
    "colab": {
     "base_uri": "https://localhost:8080/"
    },
    "id": "Sypf6aMF0hJ2",
    "outputId": "c681db0b-579e-4e4b-9dae-9bf01d7ebbb8",
    "deepnote_to_be_reexecuted": false,
    "source_hash": "afd267ee",
    "allow_embed": false,
    "execution_start": 1651092704500,
    "execution_millis": 12,
    "cell_id": "00052-b74e6712-38ec-4d6f-b5ec-939aaa3b1b40",
    "deepnote_cell_type": "code",
    "deepnote_cell_height": 148.39999389648438
   },
   "source": "print(f\"True positives: {tp_Ex4}\")\nprint(f\"False positives: {fp_Ex4}\")",
   "execution_count": null,
   "outputs": [
    {
     "name": "stdout",
     "text": "True positives: 0\nFalse positives: 15\n",
     "output_type": "stream"
    }
   ]
  },
  {
   "cell_type": "code",
   "metadata": {
    "cell_id": "b027ee4cbacf4f85a5217e428f00be20",
    "tags": [],
    "deepnote_to_be_reexecuted": false,
    "source_hash": "569e24f",
    "execution_start": 1651093558473,
    "execution_millis": 7,
    "deepnote_cell_type": "code",
    "deepnote_cell_height": 172,
    "deepnote_output_heights": [
     21
    ]
   },
   "source": "total_positives = np.size(np.where(y_test_Ex4.astype(int)==1))\ntpr_Ex4 = tp_Ex4/total_positives\ntpr_Ex4\ntotal_positives",
   "execution_count": null,
   "outputs": [
    {
     "output_type": "execute_result",
     "execution_count": 28,
     "data": {
      "text/plain": "14"
     },
     "metadata": {}
    }
   ]
  },
  {
   "cell_type": "code",
   "metadata": {
    "cell_id": "2dcf937917f64febb7b21a0ddb68c6e1",
    "tags": [],
    "deepnote_to_be_reexecuted": false,
    "source_hash": "454d7080",
    "execution_start": 1651072589775,
    "execution_millis": 10,
    "deepnote_cell_type": "code",
    "deepnote_cell_height": 171
   },
   "source": "import pickle\n\nmetrics = {'F1':f1_Ex4,'Average Precision':ap_Ex4,'Recall':recall_Ex4,'ROC value':roc_Ex4}\ntpr_fp = {'tp':tpr_Ex4,'fp':fpr_Ex4}\n\npickle.dump((metrics,tp_fp), open(\"resultsExp4.pkl\", \"wb\"))",
   "execution_count": null,
   "outputs": []
  },
  {
   "cell_type": "markdown",
   "source": "### Graphic representation",
   "metadata": {
    "tags": [],
    "is_collapsed": false,
    "cell_id": "00053-c3b56aa4-2e55-4c2f-9603-a8d64eba3b3e",
    "deepnote_cell_type": "text-cell-h3"
   }
  },
  {
   "cell_type": "code",
   "metadata": {
    "tags": [],
    "deepnote_to_be_reexecuted": false,
    "source_hash": "b41a85c6",
    "execution_start": 1651072617045,
    "execution_millis": 266,
    "cell_id": "00054-b51cdda0-dfae-499a-8fe2-5d3616a9a13c",
    "deepnote_cell_type": "code",
    "deepnote_cell_height": 838,
    "deepnote_output_heights": [
     40,
     382
    ]
   },
   "source": "import pickle\n\nmetrics, tp_fp = pickle.load( open( \"resultsExp4.pkl\", \"rb\" ) )\n\nfig, axs = plt.subplots(1,2,figsize =(12, 7))\n\nbarWidth = 0.25\nbr1 = np.arange(len(metrics))\nbr2 = np.arange(len(tp_fp))\n\naxs.flat[0].bar(br1,metrics.values(),color='maroon',width = barWidth)\naxs.flat[0].set_xticks([r for r in range(len(metrics))],\n        metrics.keys())\n\naxs.flat[1].bar(br2,tp_fp.values(),color='purple',width = barWidth)\naxs.flat[1].set_xticks([r for r in range(len(tp_fp))],\n        tp_fp.keys())",
   "execution_count": null,
   "outputs": [
    {
     "output_type": "execute_result",
     "execution_count": 13,
     "data": {
      "text/plain": "[<matplotlib.axis.XTick at 0x7fca50e47790>,\n <matplotlib.axis.XTick at 0x7fca50e47c10>]"
     },
     "metadata": {}
    },
    {
     "data": {
      "text/plain": "<Figure size 864x504 with 2 Axes>",
      "image/png": "[encoded data removed]"
     },
     "metadata": {
      "needs_background": "light",
      "image/png": {
       "width": 706,
       "height": 411
      }
     },
     "output_type": "display_data"
    }
   ]
  },
  {
   "cell_type": "markdown",
   "source": "## Graphic representation",
   "metadata": {
    "tags": [],
    "is_collapsed": false,
    "cell_id": "00055-974a187d-01ab-4339-b39a-e78fdeae2526",
    "deepnote_cell_type": "text-cell-h2"
   }
  },
  {
   "cell_type": "code",
   "metadata": {
    "tags": [],
    "deepnote_to_be_reexecuted": false,
    "source_hash": "e48a5b5a",
    "execution_start": 1651079268281,
    "execution_millis": 1093,
    "cell_id": "00056-717e3e89-1f11-499f-98eb-b63d2d40cef5",
    "deepnote_cell_type": "code",
    "deepnote_cell_height": 1218,
    "deepnote_output_heights": [
     21,
     259
    ]
   },
   "source": "import pickle\n\nmetricsB1, tpr_fprB1 = pickle.load( open( \"resultsB1.pkl\", \"rb\" ) )\nmetrics1, tpr_fpr1 = pickle.load( open( \"resultsExp1.pkl\", \"rb\" ) )\nmetrics2, tpr_fpr2 = pickle.load( open( \"resultsExp2.pkl\", \"rb\" ) )\n\nmetricsB2, tpr_fprB2 = pickle.load( open( \"resultsB2.pkl\", \"rb\" ) )\nmetrics3, tpr_fpr3 = pickle.load( open( \"resultsExp3.pkl\", \"rb\" ) )\nmetrics4, tpr_fpr4 = pickle.load( open( \"resultsExp4.pkl\", \"rb\" ) )\n\n\nexperimentos = ['Base 1','Exp 1','Exp 2','Base 2','Exp 3','Exp 4' ]\n\n\ntps = [tpr_fprB1['tp'],tpr_fpr1['tp'],tpr_fpr2['tp'],tpr_fprB2['tp'],tpr_fpr3['tp'],tpr_fpr4['tp']]\nfps = [tpr_fprB1['fp'],tpr_fpr1['fp'],tpr_fpr2['fp'],tpr_fprB2['fp'],tpr_fpr3['fp'],tpr_fpr4['fp']]\n\nf1s = [metricsB1['F1'],metrics1['F1'],metrics2['F1'],metricsB2['F1'],metrics3['F1'],metrics4['F1']]\nrecalls = [metricsB1['Recall'],metrics1['Recall'],metrics2['Recall'],metricsB2['Recall'],metrics3['Recall'],metrics4['Recall']]\naps = [metricsB1['Average Precision'],metrics1['Average Precision'],metrics2['Average Precision'],metricsB2['Average Precision'],metrics3['Average Precision'],metrics4['Average Precision']]\nrocs = [metricsB1['ROC value'],metrics1['ROC value'],metrics2['ROC value'],metricsB2['ROC value'],metrics3['ROC value'],metrics4['ROC value']]\n\n\nfig, axs = plt.subplots(1,3,sharex=True,figsize =(18, 7))\n\nbarWidth = 0.25\nbr1 = np.arange(len(experimentos))\nbr2 = [x + barWidth for x in br1]\n\naxs.flat[0].bar(br1,tps,color='red',width = barWidth,label=\"tp\")\naxs.flat[0].bar(br2,fps,color='cyan',width = barWidth,label=\"fp\")\naxs.flat[0].set_xticks([r + barWidth for r in range(len(experimentos))],\n        experimentos)\naxs.flat[0].legend()\n\naxs.flat[1].bar(br1,f1s,color='green',width = barWidth,label=\"F1\")\naxs.flat[1].bar(br2,recalls,color='magenta',width = barWidth,label=\"Recall\")\naxs.flat[1].set_xticks([r + barWidth for r in range(len(experimentos))],\n        experimentos)\naxs.flat[1].legend()\n\naxs.flat[2].bar(br1,aps,color='yellow',width = barWidth,label=\"Average Precision\")\naxs.flat[2].bar(br2,rocs,color='blue',width = barWidth,label=\"ROC score\")\naxs.flat[2].set_xticks([r + barWidth for r in range(len(experimentos))],\n        experimentos)\naxs.flat[2].legend()",
   "execution_count": null,
   "outputs": [
    {
     "output_type": "execute_result",
     "execution_count": 15,
     "data": {
      "text/plain": "<matplotlib.legend.Legend at 0x7f6a935f5750>"
     },
     "metadata": {}
    },
    {
     "data": {
      "text/plain": "<Figure size 1296x504 with 3 Axes>",
      "image/png": "[encoded data removed]"
     },
     "metadata": {
      "needs_background": "light",
      "image/png": {
       "width": 1044,
       "height": 411
      }
     },
     "output_type": "display_data"
    }
   ]
  },
  {
   "cell_type": "code",
   "metadata": {
    "cell_id": "79cddd22d6f84b4b9d5d16e3615a9b3a",
    "tags": [],
    "deepnote_to_be_reexecuted": false,
    "source_hash": "58969ab6",
    "execution_start": 1651080290953,
    "execution_millis": 552,
    "deepnote_cell_type": "code",
    "deepnote_cell_height": 1094,
    "deepnote_output_heights": [
     259
    ]
   },
   "source": "import pickle\n\nmetrics1_noDuplicates, tp_fp1_noDuplicates = pickle.load( open( \"results1NoDuplicates.pkl\", \"rb\" ) )\nmetrics1, tp_fp1 = pickle.load( open( \"resultsExp1.pkl\", \"rb\" ) )\n\nexperimentos = ['Exp 1 sem duplicatas','Exp 1']\n\n\ntps = [tp_fp1_noDuplicates['tp'],tp_fp1['tp']]\nfps = [tp_fp1_noDuplicates['fp'],tp_fp1['fp']]\n\nf1s = [metrics1_noDuplicates['F1'],metrics1['F1']]\nrecalls = [metrics1_noDuplicates['Recall'],metrics1['Recall']]\naps = [metrics1_noDuplicates['Average Precision'],metrics1['Average Precision']]\nrocs = [metrics1_noDuplicates['ROC value'],metrics1['ROC value']]\n\n\nfig, axs = plt.subplots(1,3,sharex=True,figsize =(18, 7))\n\nbarWidth = 0.25\nbr1 = np.arange(len(experimentos))\nbr2 = [x + barWidth for x in br1]\n\naxs.flat[0].bar(br1,tps,color='red',width = barWidth,label=\"tp\")\naxs.flat[0].bar(br2,fps,color='cyan',width = barWidth,label=\"fp\")\naxs.flat[0].set_xticks([r + barWidth for r in range(len(experimentos))],\n        experimentos)\naxs.flat[0].legend()\n\naxs.flat[1].bar(br1,f1s,color='green',width = barWidth,label=\"F1\")\naxs.flat[1].bar(br2,recalls,color='magenta',width = barWidth,label=\"Recall\")\naxs.flat[1].set_xticks([r + barWidth for r in range(len(experimentos))],\n        experimentos)\naxs.flat[1].legend()\n\naxs.flat[2].bar(br1,aps,color='yellow',width = barWidth,label=\"Average Precision\")\naxs.flat[2].bar(br2,rocs,color='blue',width = barWidth,label=\"ROC score\")\naxs.flat[2].set_xticks([r + barWidth for r in range(len(experimentos))],\n        experimentos)\naxs.flat[2].legend()\n\nplt.savefig('Comparacao-com-e-sem-duplicatas-Exp1.png')",
   "execution_count": null,
   "outputs": [
    {
     "data": {
      "text/plain": "<Figure size 1296x504 with 3 Axes>",
      "image/png": "[encoded data removed]"
     },
     "metadata": {
      "needs_background": "light",
      "image/png": {
       "width": 1044,
       "height": 411
      }
     },
     "output_type": "display_data"
    }
   ]
  },
  {
   "cell_type": "code",
   "metadata": {
    "cell_id": "49de1ceac6554dfe8ce78a1e185845a8",
    "tags": [],
    "deepnote_to_be_reexecuted": false,
    "source_hash": "f0448c71",
    "execution_start": 1651080727738,
    "execution_millis": 747,
    "deepnote_cell_type": "code",
    "deepnote_cell_height": 1094,
    "deepnote_output_heights": [
     259
    ]
   },
   "source": "import pickle\n\nmetrics_noDuplicates, tp_fp_noDuplicates = pickle.load( open( \"results2NoDuplicates.pkl\", \"rb\" ) )\nmetrics, tp_fp = pickle.load( open( \"resultsExp2.pkl\", \"rb\" ) )\n\nexperimentos = ['Exp 2 sem duplicatas','Exp 2']\n\n\ntps = [tp_fp_noDuplicates['tp'],tp_fp['tp']]\nfps = [tp_fp_noDuplicates['fp'],tp_fp['fp']]\n\nf1s = [metrics_noDuplicates['F1'],metrics['F1']]\nrecalls = [metrics_noDuplicates['Recall'],metrics['Recall']]\naps = [metrics_noDuplicates['Average Precision'],metrics['Average Precision']]\nrocs = [metrics_noDuplicates['ROC value'],metrics['ROC value']]\n\n\nfig, axs = plt.subplots(1,3,sharex=True,figsize =(18, 7))\n\nbarWidth = 0.25\nbr1 = np.arange(len(experimentos))\nbr2 = [x + barWidth for x in br1]\n\naxs.flat[0].bar(br1,tps,color='red',width = barWidth,label=\"tp\")\naxs.flat[0].bar(br2,fps,color='cyan',width = barWidth,label=\"fp\")\naxs.flat[0].set_xticks([r + barWidth for r in range(len(experimentos))],\n        experimentos)\naxs.flat[0].legend()\n\naxs.flat[1].bar(br1,f1s,color='green',width = barWidth,label=\"F1\")\naxs.flat[1].bar(br2,recalls,color='magenta',width = barWidth,label=\"Recall\")\naxs.flat[1].set_xticks([r + barWidth for r in range(len(experimentos))],\n        experimentos)\naxs.flat[1].legend()\n\naxs.flat[2].bar(br1,aps,color='yellow',width = barWidth,label=\"Average Precision\")\naxs.flat[2].bar(br2,rocs,color='blue',width = barWidth,label=\"ROC score\")\naxs.flat[2].set_xticks([r + barWidth for r in range(len(experimentos))],\n        experimentos)\naxs.flat[2].legend()\n\nplt.savefig('Comparacao-com-e-sem-duplicatas-Exp2.png')",
   "execution_count": null,
   "outputs": [
    {
     "data": {
      "text/plain": "<Figure size 1296x504 with 3 Axes>",
      "image/png": "[encoded data removed]"
     },
     "metadata": {
      "needs_background": "light",
      "image/png": {
       "width": 1044,
       "height": 411
      }
     },
     "output_type": "display_data"
    }
   ]
  },
  {
   "cell_type": "markdown",
   "source": "<a style='text-decoration:none;line-height:16px;display:flex;color:#5B5B62;padding:10px;justify-content:end;' href='https://deepnote.com?utm_source=created-in-deepnote-cell&projectId=829ecfd7-68c1-413f-9cfd-724b1a20fa16' target=\"_blank\">\n<img alt='Created in deepnote.com' style='display:inline;max-height:16px;margin:0px;margin-right:7.5px;' src='data:image/svg+xml;base64,PD94bWwgdmVyc2lvbj0iMS4wIiBlbmNvZGluZz0iVVRGLTgiPz4KPHN2ZyB3aWR0aD0iODBweCIgaGVpZ2h0PSI4MHB4IiB2aWV3Qm94PSIwIDAgODAgODAiIHZlcnNpb249IjEuMSIgeG1sbnM9Imh0dHA6Ly93d3cudzMub3JnLzIwMDAvc3ZnIiB4bWxuczp4bGluaz0iaHR0cDovL3d3dy53My5vcmcvMTk5OS94bGluayI+CiAgICA8IS0tIEdlbmVyYXRvcjogU2tldGNoIDU0LjEgKDc2NDkwKSAtIGh0dHBzOi8vc2tldGNoYXBwLmNvbSAtLT4KICAgIDx0aXRsZT5Hcm91cCAzPC90aXRsZT4KICAgIDxkZXNjPkNyZWF0ZWQgd2l0aCBTa2V0Y2guPC9kZXNjPgogICAgPGcgaWQ9IkxhbmRpbmciIHN0cm9rZT0ibm9uZSIgc3Ryb2tlLXdpZHRoPSIxIiBmaWxsPSJub25lIiBmaWxsLXJ1bGU9ImV2ZW5vZGQiPgogICAgICAgIDxnIGlkPSJBcnRib2FyZCIgdHJhbnNmb3JtPSJ0cmFuc2xhdGUoLTEyMzUuMDAwMDAwLCAtNzkuMDAwMDAwKSI+CiAgICAgICAgICAgIDxnIGlkPSJHcm91cC0zIiB0cmFuc2Zvcm09InRyYW5zbGF0ZSgxMjM1LjAwMDAwMCwgNzkuMDAwMDAwKSI+CiAgICAgICAgICAgICAgICA8cG9seWdvbiBpZD0iUGF0aC0yMCIgZmlsbD0iIzAyNjVCNCIgcG9pbnRzPSIyLjM3NjIzNzYyIDgwIDM4LjA0NzY2NjcgODAgNTcuODIxNzgyMiA3My44MDU3NTkyIDU3LjgyMTc4MjIgMzIuNzU5MjczOSAzOS4xNDAyMjc4IDMxLjY4MzE2ODMiPjwvcG9seWdvbj4KICAgICAgICAgICAgICAgIDxwYXRoIGQ9Ik0zNS4wMDc3MTgsODAgQzQyLjkwNjIwMDcsNzYuNDU0OTM1OCA0Ny41NjQ5MTY3LDcxLjU0MjI2NzEgNDguOTgzODY2LDY1LjI2MTk5MzkgQzUxLjExMjI4OTksNTUuODQxNTg0MiA0MS42NzcxNzk1LDQ5LjIxMjIyODQgMjUuNjIzOTg0Niw0OS4yMTIyMjg0IEMyNS40ODQ5Mjg5LDQ5LjEyNjg0NDggMjkuODI2MTI5Niw0My4yODM4MjQ4IDM4LjY0NzU4NjksMzEuNjgzMTY4MyBMNzIuODcxMjg3MSwzMi41NTQ0MjUgTDY1LjI4MDk3Myw2Ny42NzYzNDIxIEw1MS4xMTIyODk5LDc3LjM3NjE0NCBMMzUuMDA3NzE4LDgwIFoiIGlkPSJQYXRoLTIyIiBmaWxsPSIjMDAyODY4Ij48L3BhdGg+CiAgICAgICAgICAgICAgICA8cGF0aCBkPSJNMCwzNy43MzA0NDA1IEwyNy4xMTQ1MzcsMC4yNTcxMTE0MzYgQzYyLjM3MTUxMjMsLTEuOTkwNzE3MDEgODAsMTAuNTAwMzkyNyA4MCwzNy43MzA0NDA1IEM4MCw2NC45NjA0ODgyIDY0Ljc3NjUwMzgsNzkuMDUwMzQxNCAzNC4zMjk1MTEzLDgwIEM0Ny4wNTUzNDg5LDc3LjU2NzA4MDggNTMuNDE4MjY3Nyw3MC4zMTM2MTAzIDUzLjQxODI2NzcsNTguMjM5NTg4NSBDNTMuNDE4MjY3Nyw0MC4xMjg1NTU3IDM2LjMwMzk1NDQsMzcuNzMwNDQwNSAyNS4yMjc0MTcsMzcuNzMwNDQwNSBDMTcuODQzMDU4NiwzNy43MzA0NDA1IDkuNDMzOTE5NjYsMzcuNzMwNDQwNSAwLDM3LjczMDQ0MDUgWiIgaWQ9IlBhdGgtMTkiIGZpbGw9IiMzNzkzRUYiPjwvcGF0aD4KICAgICAgICAgICAgPC9nPgogICAgICAgIDwvZz4KICAgIDwvZz4KPC9zdmc+' > </img>\nCreated in <span style='font-weight:600;margin-left:4px;'>Deepnote</span></a>",
   "metadata": {
    "tags": [],
    "created_in_deepnote_cell": true,
    "deepnote_cell_type": "markdown"
   }
  }
 ],
 "nbformat": 4,
 "nbformat_minor": 0,
 "metadata": {
  "accelerator": "GPU",
  "colab": {
   "collapsed_sections": [],
   "name": "local_outlier_factor.ipynb",
   "provenance": []
  },
  "interpreter": {
   "hash": "40d3a090f54c6569ab1632332b64b2c03c39dcf918b08424e98f38b5ae0af88f"
  },
  "kernelspec": {
   "display_name": "SageMath 8.1",
   "language": "python",
   "name": "python3"
  },
  "language_info": {
   "codemirror_mode": {
    "name": "ipython",
    "version": 3
   },
   "file_extension": ".py",
   "mimetype": "text/x-python",
   "name": "python",
   "nbconvert_exporter": "python",
   "pygments_lexer": "ipython3",
   "version": "3.7.3"
  },
  "deepnote_notebook_id": "becf61d5-28a5-43dd-a7da-163e7864e523",
  "deepnote": {},
  "deepnote_execution_queue": []
 }
}