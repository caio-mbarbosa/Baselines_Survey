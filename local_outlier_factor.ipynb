{
 "cells": [
  {
   "cell_type": "code",
   "execution_count": 14,
   "metadata": {
    "cell_id": "52c0160a-f6d6-4c04-b059-31b402ba65df",
    "deepnote_cell_height": 261,
    "deepnote_cell_type": "code",
    "deepnote_to_be_reexecuted": false,
    "execution_millis": 7286,
    "execution_start": 1651092333299,
    "source_hash": "61789167"
   },
   "outputs": [],
   "source": [
    "import pandas as pd\n",
    "import numpy as np\n",
    "import sklearn\n",
    "from sklearn.neighbors import LocalOutlierFactor\n",
    "from sklearn.preprocessing import StandardScaler, MinMaxScaler\n",
    "from sklearn.preprocessing import OneHotEncoder, LabelEncoder\n",
    "from scipy.special import erf\n",
    "from sklearn.metrics import f1_score, recall_score, roc_auc_score, average_precision_score\n",
    "from sklearn.metrics import precision_recall_fscore_support\n",
    "from sklearn.metrics import roc_curve, auc, confusion_matrix\n",
    "import matplotlib.pyplot as plt\n",
    "import pickle"
   ]
  },
  {
   "cell_type": "code",
   "execution_count": 2,
   "metadata": {
    "cell_id": "00001-f54872bf-72bc-4b49-8cc0-b882ebc218ec",
    "colab": {
     "base_uri": "https://localhost:8080/"
    },
    "deepnote_cell_height": 111.19999694824219,
    "deepnote_cell_type": "code",
    "deepnote_to_be_reexecuted": false,
    "execution_millis": 4,
    "execution_start": 1651080421056,
    "id": "g5yYa1dCsu1N",
    "outputId": "94d9e0b2-2b7e-4fdd-8b5c-7f9961456f95",
    "source_hash": "637d202c"
   },
   "outputs": [
    {
     "name": "stdout",
     "output_type": "stream",
     "text": [
      "The scikit-learn version is 1.0.2.\n"
     ]
    }
   ],
   "source": [
    "print('The scikit-learn version is {}.'.format(sklearn.__version__))"
   ]
  },
  {
   "cell_type": "markdown",
   "metadata": {
    "cell_id": "d704602f22704093afcd6eab30e81cdf",
    "deepnote_cell_type": "text-cell-h1",
    "is_collapsed": false,
    "tags": []
   },
   "source": [
    "# Defining functions"
   ]
  },
  {
   "cell_type": "code",
   "execution_count": 51,
   "metadata": {
    "cell_id": "00003-902ab77c-dc79-4093-96f6-2bccd4bb05ca",
    "deepnote_cell_height": 1845,
    "deepnote_cell_type": "code",
    "deepnote_to_be_reexecuted": false,
    "execution_millis": 41,
    "execution_start": 1651092530774,
    "id": "7VgU5MWRtqBZ",
    "owner_user_id": "e4f9d11c-3f63-4ac3-8723-37e6697288db",
    "source_hash": "f275448d"
   },
   "outputs": [],
   "source": [
    "def encoder_data(df,dfType=\"700k\", experimento=0, n=600000, percentage=0.6,removeDuplicates=False,oneHot=True):\n",
    "    \n",
    "    df = df.drop(['time'], axis=1)\n",
    "    exp = \"\"\n",
    "    enc = \"\"\n",
    "    num = \"\"\n",
    "    dpl = \"WithDuplicates\"\n",
    "    \n",
    "    if(removeDuplicates):\n",
    "            dpl = \"NoDuplicates\"\n",
    "            df = df.drop_duplicates()\n",
    "            print(\"Tamanho do dataset retirando duplicatas: \" + df.size.astype(str))\n",
    "    \n",
    "    separator = int(percentage*len(df))\n",
    "    \n",
    "    if(dfType==\"700k\"):\n",
    "        df = df.rename(columns={'is_malicious': 'label'})\n",
    "        features = ['src_user', 'src_comp', 'dst_comp', 'label']\n",
    "\n",
    "        if(n>df.size):\n",
    "            num = \"allData\"\n",
    "            df_train = df[features][df.label == 0][0:separator]\n",
    "        else:\n",
    "            num = n(str)\n",
    "            df_train = df[features][df.label == 0][0:n]\n",
    "        \n",
    "        df_test = df[features][~df[features].dst_comp.isin(df_train.dst_comp.values) & \\\n",
    "                                ~df[features].src_user.isin(df_train.src_user.values)]\n",
    "        \n",
    "        y_test = df_test.label.values\n",
    "    \n",
    "        df_train = df_train.drop(['label'], axis=1)\n",
    "        df_test = df_test.drop(['label'], axis=1)\n",
    "\n",
    "        exp = \"B1\"\n",
    "        if(experimento == 1):\n",
    "            exp = \"Exp1\"\n",
    "            df_train = df_train.drop(['src_comp'], axis=1)\n",
    "            df_test = df_test.drop(['src_comp'], axis=1)\n",
    "            features.remove('src_comp')\n",
    "        elif(experimento == 2):\n",
    "            exp = \"Exp2\"\n",
    "            df_train = df_train.drop(['src_user'], axis=1)\n",
    "            df_test = df_test.drop(['src_user'], axis=1)\n",
    "            features.remove('src_user')\n",
    "    \n",
    "    else:\n",
    "        num = \"allData\"\n",
    "        features = ['computer_source', 'user', 'computer_dest', 'label']\n",
    "\n",
    "        df_train = df[features][df.label == 0][0:separator]\n",
    "        df_test = df[features][~df[features].computer_dest.isin(df_train.computer_dest.values) & \\\n",
    "                            ~df[features].user.isin(df_train.user.values)]\n",
    "        \n",
    "        y_test = df_test.label.values\n",
    "        \n",
    "        df_train = df_train.drop(['label'], axis=1)\n",
    "        df_test = df_test.drop(['label'], axis=1)\n",
    "        \n",
    "        exp = \"B2\"\n",
    "        if(experimento == 1):\n",
    "            exp = \"Exp3\"\n",
    "            df_train = df_train.drop(['computer_source'], axis=1)\n",
    "            df_test = df_test.drop(['computer_source'], axis=1)\n",
    "            features.remove('computer_source')\n",
    "        elif(experimento == 2):\n",
    "            exp = \"Exp4\"\n",
    "            df_train = df_train.drop(['user'], axis=1)\n",
    "            df_test = df_test.drop(['user'], axis=1)\n",
    "            features.remove('user')\n",
    "    \n",
    "    if(oneHot):\n",
    "        enc = \"OneHot\"\n",
    "        fit = OneHotEncoder().fit(df[features[:-1]])\n",
    "        X_train = fit.transform(df_train.to_numpy()).toarray()\n",
    "        X_test = fit.transform(df_test.to_numpy()).toarray()\n",
    "    else:\n",
    "        enc = \"LabelEncoding\"\n",
    "        for col in features[:-1]:\n",
    "            fit = LabelEncoder().fit(df[col])\n",
    "            df_train[col] = fit.transform(df_train[col].to_numpy())\n",
    "            df_test[col] = fit.transform(df_test[col].to_numpy())\n",
    "        X_train = df_train\n",
    "        X_test = df_test\n",
    "\n",
    "    return X_train, X_test, y_test, (exp,(enc,dpl,num))\n",
    "\n",
    "def get_percentile(scores, y_true):\n",
    "    out_perc = np.size(np.where(y_true==1)) / len(y_true)\n",
    "    per = np.percentile(scores, 100 * (1 - out_perc))\n",
    "    return per\n",
    "\n",
    "def standardizer(X_train, X_test, type='standard'):\n",
    "    if type == 'standard':\n",
    "        scaler = StandardScaler().fit(X_train)\n",
    "    elif type == 'minmax' or type == 'min_max':\n",
    "        scaler = MinMaxScaler().fit(X_train)\n",
    "        \n",
    "    return scaler.transform(X_train), scaler.transform(X_test)\n",
    "\n",
    "class Lof(LocalOutlierFactor):\n",
    "    def fit(self, X_train, y=None):\n",
    "        self.X_train = X_train\n",
    "        super().fit(X=X_train, y=y)\n",
    "        return self\n",
    "\n",
    "    def decision_function(self, X_test):\n",
    "        return super().decision_function(X_test)\n",
    "\n",
    "    def predict_proba(self, X_test):\n",
    "        nof = self.negative_outlier_factor_ * -1\n",
    "        test_scores = self.decision_function(X_test) * -1\n",
    "        scaler = MinMaxScaler().fit(nof.reshape(-1, 1))\n",
    "        proba = scaler.transform(test_scores.reshape(-1, 1))\n",
    "        return proba.clip(0, 1)"
   ]
  },
  {
   "cell_type": "markdown",
   "metadata": {
    "cell_id": "ac9a267ea0bf43029852fc96b321b032",
    "deepnote_cell_type": "text-cell-h1",
    "is_collapsed": true,
    "tags": []
   },
   "source": [
    "# Handling datasets"
   ]
  },
  {
   "cell_type": "code",
   "execution_count": 4,
   "metadata": {
    "cell_id": "00005-498cab99-b033-4b77-957c-35bdc2512e98",
    "deepnote_cell_height": 81,
    "deepnote_cell_type": "code",
    "deepnote_to_be_reexecuted": false,
    "execution_millis": 487,
    "execution_start": 1651080440823,
    "id": "mny1pNjdu4rh",
    "source_hash": "3922ee9d"
   },
   "outputs": [],
   "source": [
    "df_700k = pd.read_csv(\"lanl-comprehensive_700k.csv\")"
   ]
  },
  {
   "cell_type": "code",
   "execution_count": 5,
   "metadata": {
    "cell_id": "00006-aa46e140-1a1f-4dd4-b1a3-a76ab79114fb",
    "colab": {
     "base_uri": "https://localhost:8080/",
     "height": 206
    },
    "deepnote_cell_height": 407,
    "deepnote_cell_type": "code",
    "deepnote_to_be_reexecuted": false,
    "execution_millis": 65,
    "execution_start": 1650472961829,
    "id": "MfUUl3ipvjQn",
    "outputId": "14f21d08-d576-435f-a8c2-72af390461e9",
    "source_hash": "74d92283"
   },
   "outputs": [
    {
     "data": {
      "text/html": [
       "<div>\n",
       "<style scoped>\n",
       "    .dataframe tbody tr th:only-of-type {\n",
       "        vertical-align: middle;\n",
       "    }\n",
       "\n",
       "    .dataframe tbody tr th {\n",
       "        vertical-align: top;\n",
       "    }\n",
       "\n",
       "    .dataframe thead th {\n",
       "        text-align: right;\n",
       "    }\n",
       "</style>\n",
       "<table border=\"1\" class=\"dataframe\">\n",
       "  <thead>\n",
       "    <tr style=\"text-align: right;\">\n",
       "      <th></th>\n",
       "      <th>time</th>\n",
       "      <th>src_user</th>\n",
       "      <th>src_comp</th>\n",
       "      <th>dst_comp</th>\n",
       "      <th>is_malicious</th>\n",
       "    </tr>\n",
       "  </thead>\n",
       "  <tbody>\n",
       "    <tr>\n",
       "      <th>0</th>\n",
       "      <td>1.0</td>\n",
       "      <td>ANONYMOUS LOGON@C586</td>\n",
       "      <td>C1250</td>\n",
       "      <td>C586</td>\n",
       "      <td>0</td>\n",
       "    </tr>\n",
       "    <tr>\n",
       "      <th>1</th>\n",
       "      <td>1.0</td>\n",
       "      <td>ANONYMOUS LOGON@C586</td>\n",
       "      <td>C586</td>\n",
       "      <td>C586</td>\n",
       "      <td>0</td>\n",
       "    </tr>\n",
       "    <tr>\n",
       "      <th>2</th>\n",
       "      <td>1.0</td>\n",
       "      <td>C1021$@DOM1</td>\n",
       "      <td>C1021</td>\n",
       "      <td>C625</td>\n",
       "      <td>0</td>\n",
       "    </tr>\n",
       "    <tr>\n",
       "      <th>3</th>\n",
       "      <td>1.0</td>\n",
       "      <td>C1035$@DOM1</td>\n",
       "      <td>C1035</td>\n",
       "      <td>C586</td>\n",
       "      <td>0</td>\n",
       "    </tr>\n",
       "    <tr>\n",
       "      <th>4</th>\n",
       "      <td>1.0</td>\n",
       "      <td>C1035$@DOM1</td>\n",
       "      <td>C586</td>\n",
       "      <td>C586</td>\n",
       "      <td>0</td>\n",
       "    </tr>\n",
       "  </tbody>\n",
       "</table>\n",
       "</div>"
      ],
      "text/plain": [
       "   time              src_user src_comp dst_comp  is_malicious\n",
       "0   1.0  ANONYMOUS LOGON@C586    C1250     C586             0\n",
       "1   1.0  ANONYMOUS LOGON@C586     C586     C586             0\n",
       "2   1.0           C1021$@DOM1    C1021     C625             0\n",
       "3   1.0           C1035$@DOM1    C1035     C586             0\n",
       "4   1.0           C1035$@DOM1     C586     C586             0"
      ]
     },
     "execution_count": 5,
     "metadata": {},
     "output_type": "execute_result"
    }
   ],
   "source": [
    "df_700k.head()"
   ]
  },
  {
   "cell_type": "code",
   "execution_count": 4,
   "metadata": {
    "cell_id": "00007-7c7b64a9-e019-43f7-8de9-23622c1503fa",
    "deepnote_cell_height": 81,
    "deepnote_cell_type": "code",
    "deepnote_to_be_reexecuted": false,
    "execution_millis": 64,
    "execution_start": 1651092416278,
    "id": "6E0egNQD-Ads",
    "source_hash": "f64c0865"
   },
   "outputs": [],
   "source": [
    "df_unified_auth = pd.read_csv(\"lanl-comprehensive-unified-auth.csv\")"
   ]
  },
  {
   "cell_type": "code",
   "execution_count": 5,
   "metadata": {
    "cell_id": "00008-701ef498-6662-4e67-8fa2-d2ce2e98a098",
    "colab": {
     "base_uri": "https://localhost:8080/",
     "height": 206
    },
    "deepnote_cell_height": 407,
    "deepnote_cell_type": "code",
    "deepnote_to_be_reexecuted": false,
    "execution_millis": 38,
    "execution_start": 1650474493903,
    "id": "FHRKMyb0-BIv",
    "outputId": "94eefb01-222d-4857-bd82-bdf82c22dae1",
    "source_hash": "17ca706a"
   },
   "outputs": [
    {
     "data": {
      "text/html": [
       "<div>\n",
       "<style scoped>\n",
       "    .dataframe tbody tr th:only-of-type {\n",
       "        vertical-align: middle;\n",
       "    }\n",
       "\n",
       "    .dataframe tbody tr th {\n",
       "        vertical-align: top;\n",
       "    }\n",
       "\n",
       "    .dataframe thead th {\n",
       "        text-align: right;\n",
       "    }\n",
       "</style>\n",
       "<table border=\"1\" class=\"dataframe\">\n",
       "  <thead>\n",
       "    <tr style=\"text-align: right;\">\n",
       "      <th></th>\n",
       "      <th>time</th>\n",
       "      <th>computer_source</th>\n",
       "      <th>user</th>\n",
       "      <th>computer_dest</th>\n",
       "      <th>label</th>\n",
       "    </tr>\n",
       "  </thead>\n",
       "  <tbody>\n",
       "    <tr>\n",
       "      <th>0</th>\n",
       "      <td>87151</td>\n",
       "      <td>C288750</td>\n",
       "      <td>U451666</td>\n",
       "      <td>C313779</td>\n",
       "      <td>0</td>\n",
       "    </tr>\n",
       "    <tr>\n",
       "      <th>1</th>\n",
       "      <td>87451</td>\n",
       "      <td>C288750</td>\n",
       "      <td>U451666</td>\n",
       "      <td>C313779</td>\n",
       "      <td>0</td>\n",
       "    </tr>\n",
       "    <tr>\n",
       "      <th>2</th>\n",
       "      <td>100695</td>\n",
       "      <td>C206546</td>\n",
       "      <td>U457678</td>\n",
       "      <td>C639081</td>\n",
       "      <td>0</td>\n",
       "    </tr>\n",
       "    <tr>\n",
       "      <th>3</th>\n",
       "      <td>100695</td>\n",
       "      <td>C206546</td>\n",
       "      <td>U457678</td>\n",
       "      <td>C639081</td>\n",
       "      <td>0</td>\n",
       "    </tr>\n",
       "    <tr>\n",
       "      <th>4</th>\n",
       "      <td>101274</td>\n",
       "      <td>C206546</td>\n",
       "      <td>U416717</td>\n",
       "      <td>C825721</td>\n",
       "      <td>0</td>\n",
       "    </tr>\n",
       "  </tbody>\n",
       "</table>\n",
       "</div>"
      ],
      "text/plain": [
       "     time computer_source     user computer_dest  label\n",
       "0   87151         C288750  U451666       C313779      0\n",
       "1   87451         C288750  U451666       C313779      0\n",
       "2  100695         C206546  U457678       C639081      0\n",
       "3  100695         C206546  U457678       C639081      0\n",
       "4  101274         C206546  U416717       C825721      0"
      ]
     },
     "execution_count": 5,
     "metadata": {},
     "output_type": "execute_result"
    }
   ],
   "source": [
    "df_unified_auth.head()"
   ]
  },
  {
   "cell_type": "markdown",
   "metadata": {},
   "source": [
    "# Encoding and choosing Experiment\n"
   ]
  },
  {
   "cell_type": "code",
   "execution_count": 54,
   "metadata": {},
   "outputs": [
    {
     "name": "stdout",
     "output_type": "stream",
     "text": [
      "Tamanho do dataset retirando duplicatas: 178080\n"
     ]
    },
    {
     "data": {
      "text/plain": [
       "('B1', ('LabelEncoding', 'NoDuplicates', 'allData'))"
      ]
     },
     "execution_count": 54,
     "metadata": {},
     "output_type": "execute_result"
    }
   ],
   "source": [
    "X_train, X_test, y_test, res = encoder_data(df_700k,dfType=\"700k\", removeDuplicates=True,oneHot=False)\n",
    "res"
   ]
  },
  {
   "cell_type": "code",
   "execution_count": 55,
   "metadata": {},
   "outputs": [],
   "source": [
    "X_train_norm, X_test_norm = standardizer(X_train, X_test)"
   ]
  },
  {
   "cell_type": "markdown",
   "metadata": {
    "cell_id": "e388be6bad834657ad600a8938e07b56",
    "deepnote_cell_type": "text-cell-h1",
    "is_collapsed": false,
    "tags": []
   },
   "source": [
    "# Train"
   ]
  },
  {
   "cell_type": "code",
   "execution_count": 56,
   "metadata": {},
   "outputs": [
    {
     "name": "stdout",
     "output_type": "stream",
     "text": [
      "CPU times: user 363 ms, sys: 3.62 ms, total: 367 ms\n",
      "Wall time: 630 ms\n"
     ]
    }
   ],
   "source": [
    "%%time\n",
    "model = Lof(n_neighbors=10, novelty= True)\n",
    "model.fit(X_train_norm)\n",
    "\n",
    "test_scores = model.predict_proba(X_test_norm)"
   ]
  },
  {
   "cell_type": "markdown",
   "metadata": {
    "cell_id": "1e6634997803497a8fd9f5a18317dfa5",
    "deepnote_cell_type": "text-cell-h1",
    "is_collapsed": false,
    "tags": []
   },
   "source": [
    "# Metrics"
   ]
  },
  {
   "cell_type": "code",
   "execution_count": 57,
   "metadata": {},
   "outputs": [
    {
     "name": "stdout",
     "output_type": "stream",
     "text": [
      "ROC score: 0.42407766990291257\n",
      "Average precision score: 0.7650439810334854\n"
     ]
    }
   ],
   "source": [
    "roc = roc_auc_score(y_test, test_scores)\n",
    "ap = average_precision_score(y_test, test_scores)\n",
    "\n",
    "print(f\"ROC score: {roc}\")\n",
    "print(f\"Average precision score: {ap}\")\n"
   ]
  },
  {
   "cell_type": "code",
   "execution_count": 58,
   "metadata": {},
   "outputs": [
    {
     "name": "stdout",
     "output_type": "stream",
     "text": [
      "F1 0.8917748917748918\n",
      "Recall: 1.0\n"
     ]
    }
   ],
   "source": [
    "per = get_percentile(test_scores, y_test.astype(int))    \n",
    "y_pred = (test_scores>=per)\n",
    "\n",
    "roc_score_auc = roc_auc_score(y_test.astype(int), y_pred.astype(int)) \n",
    "average_precision = average_precision_score(y_test.astype(int), y_pred.astype(int))\n",
    "\n",
    "precision, recall, f1, _ = precision_recall_fscore_support(y_test.astype(int),\n",
    "                                                            y_pred.astype(int),\n",
    "                                                            average='binary')\n",
    "print(f\"F1 {f1}\")\n",
    "print(f\"Recall: {recall}\")"
   ]
  },
  {
   "cell_type": "code",
   "execution_count": 59,
   "metadata": {},
   "outputs": [],
   "source": [
    "tn, fp, fn, tp = confusion_matrix(y_test, y_pred).ravel()"
   ]
  },
  {
   "cell_type": "code",
   "execution_count": 60,
   "metadata": {},
   "outputs": [
    {
     "name": "stdout",
     "output_type": "stream",
     "text": [
      "True positives: 103\n",
      "False positives: 25\n"
     ]
    }
   ],
   "source": [
    "print(f\"True positives: {tp}\")\n",
    "print(f\"False positives: {fp}\")"
   ]
  },
  {
   "cell_type": "code",
   "execution_count": 61,
   "metadata": {},
   "outputs": [],
   "source": [
    "import pickle\n",
    "\n",
    "metrics = {'F1':f1,'Average Precision':ap,'Recall':recall,'ROC value':roc}\n",
    "tp_fp = {'tp':tp,'fp':fp}\n",
    "\n",
    "exp, arq = res\n",
    "enc,dpl,n = arq\n",
    "\n",
    "pickle.dump((metrics,tp_fp), open(\"results/\"+exp+\"/\"+enc+\"-\"+ dpl +\"-\"+\"N(\"+n+\")\"+\".pkl\", \"wb\"))"
   ]
  },
  {
   "cell_type": "markdown",
   "metadata": {
    "cell_id": "00055-974a187d-01ab-4339-b39a-e78fdeae2526",
    "deepnote_cell_type": "text-cell-h2",
    "is_collapsed": false,
    "tags": []
   },
   "source": [
    "# Graphic representation"
   ]
  },
  {
   "cell_type": "code",
   "execution_count": 66,
   "metadata": {},
   "outputs": [],
   "source": [
    "def plotarComparação(ress,nomePng):\n",
    "\n",
    "        experimentos = []\n",
    "\n",
    "        tps = []\n",
    "        fps = []\n",
    "        f1s = []\n",
    "        recalls = []\n",
    "        aps = [] \n",
    "        rocs =[]\n",
    "\n",
    "        for res in ress:\n",
    "                exp, arq = res\n",
    "                enc,dpl,n = arq\n",
    "                \n",
    "                metrics, tp_fp = pickle.load( open( \"results/\"+exp+\"/\"+enc+\"-\"+ dpl +\"-\"+\"N(\"+n+\")\"+\".pkl\", \"rb\" ) )\n",
    "                \n",
    "                experimentos.append(exp+\"-\"+enc[0]+\"-\"+dpl[0]+\"-\"+\"(\"+n+\")\")\n",
    "                \n",
    "                tps.append(tp_fp['tp'])\n",
    "                fps.append(tp_fp['fp'])\n",
    "                f1s.append(metrics['F1'])\n",
    "                recalls.append(metrics['Recall'])\n",
    "                aps.append(metrics['Average Precision'])\n",
    "                rocs.append(metrics['ROC value'])\n",
    "\n",
    "        fig, axs = plt.subplots(1,3,sharex=True,figsize =(18, 7))\n",
    "\n",
    "        barWidth = 0.25\n",
    "        br1 = np.arange(len(experimentos))\n",
    "        br2 = [x + barWidth for x in br1]\n",
    "\n",
    "        axs.flat[0].bar(br1,tps,color='red',width = barWidth,label=\"tp\")\n",
    "        axs.flat[0].bar(br2,fps,color='cyan',width = barWidth,label=\"fp\")\n",
    "        axs.flat[0].set_xticks([r + barWidth for r in range(len(experimentos))],\n",
    "                experimentos)\n",
    "        axs.flat[0].legend()\n",
    "\n",
    "        axs.flat[1].bar(br1,f1s,color='green',width = barWidth,label=\"F1\")\n",
    "        axs.flat[1].bar(br2,recalls,color='magenta',width = barWidth,label=\"Recall\")\n",
    "        axs.flat[1].set_xticks([r + barWidth for r in range(len(experimentos))],\n",
    "                experimentos)\n",
    "        axs.flat[1].legend()\n",
    "\n",
    "        axs.flat[2].bar(br1,aps,color='yellow',width = barWidth,label=\"Average Precision\")\n",
    "        axs.flat[2].bar(br2,rocs,color='blue',width = barWidth,label=\"ROC score\")\n",
    "        axs.flat[2].set_xticks([r + barWidth for r in range(len(experimentos))],\n",
    "                experimentos)\n",
    "        axs.flat[2].legend()\n",
    "\n",
    "        plt.savefig(\"comparacoes/\"+nomePng+'.png')"
   ]
  },
  {
   "cell_type": "code",
   "execution_count": 65,
   "metadata": {},
   "outputs": [
    {
     "data": {
      "image/png": "[encoded data removed]",
      "text/plain": [
       "<Figure size 1296x504 with 3 Axes>"
      ]
     },
     "metadata": {
      "needs_background": "light"
     },
     "output_type": "display_data"
    }
   ],
   "source": [
    "res1 = (\"Exp1\",(\"OneHot\",\"NoDuplicates\",\"30000\"))\n",
    "res2 = (\"Exp1\",(\"OneHot\",\"WithDuplicates\",\"30000\"))\n",
    "\n",
    "plotarComparação([res1,res2],'Comparacao-com-e-sem-duplicatas-Exp1')"
   ]
  },
  {
   "cell_type": "code",
   "execution_count": 67,
   "metadata": {
    "cell_id": "79cddd22d6f84b4b9d5d16e3615a9b3a",
    "deepnote_cell_height": 1094,
    "deepnote_cell_type": "code",
    "deepnote_output_heights": [
     259
    ],
    "deepnote_to_be_reexecuted": false,
    "execution_millis": 552,
    "execution_start": 1651080290953,
    "source_hash": "58969ab6",
    "tags": []
   },
   "outputs": [
    {
     "data": {
      "image/png": "[encoded data removed]",
      "text/plain": [
       "<Figure size 1296x504 with 3 Axes>"
      ]
     },
     "metadata": {
      "needs_background": "light"
     },
     "output_type": "display_data"
    }
   ],
   "source": [
    "res1 = (\"Exp1\",(\"OneHot\",\"NoDuplicates\",\"30000\"))\n",
    "res2 = (\"Exp1\",(\"OneHot\",\"WithDuplicates\",\"30000\"))\n",
    "\n",
    "plotarComparação([res1,res2],'Comparacao-com-e-sem-duplicatas-Exp1')"
   ]
  },
  {
   "cell_type": "code",
   "execution_count": 68,
   "metadata": {
    "cell_id": "49de1ceac6554dfe8ce78a1e185845a8",
    "deepnote_cell_height": 1094,
    "deepnote_cell_type": "code",
    "deepnote_output_heights": [
     259
    ],
    "deepnote_to_be_reexecuted": false,
    "execution_millis": 747,
    "execution_start": 1651080727738,
    "source_hash": "f0448c71",
    "tags": []
   },
   "outputs": [
    {
     "data": {
      "image/png": "[encoded data removed]",
      "text/plain": [
       "<Figure size 1296x504 with 3 Axes>"
      ]
     },
     "metadata": {
      "needs_background": "light"
     },
     "output_type": "display_data"
    }
   ],
   "source": [
    "res1 = (\"Exp2\",(\"OneHot\",\"NoDuplicates\",\"30000\"))\n",
    "res2 = (\"Exp2\",(\"OneHot\",\"WithDuplicates\",\"30000\"))\n",
    "\n",
    "plotarComparação([res1,res2],'Comparacao-com-e-sem-duplicatas-Exp2')"
   ]
  },
  {
   "cell_type": "code",
   "execution_count": 69,
   "metadata": {},
   "outputs": [
    {
     "data": {
      "image/png": "[encoded data removed]",
      "text/plain": [
       "<Figure size 1296x504 with 3 Axes>"
      ]
     },
     "metadata": {
      "needs_background": "light"
     },
     "output_type": "display_data"
    }
   ],
   "source": [
    "res1 = (\"B2\",(\"OneHot\",\"WithDuplicates\",\"allData\"))\n",
    "res2 = (\"B2\",(\"LabelEncoding\",\"NoDuplicates\",\"allData\"))\n",
    "\n",
    "plotarComparação([res1,res2],'Comparacao-com-e-sem-label-encoding-B2')"
   ]
  },
  {
   "cell_type": "code",
   "execution_count": 70,
   "metadata": {},
   "outputs": [
    {
     "data": {
      "image/png": "[encoded data removed]",
      "text/plain": [
       "<Figure size 1296x504 with 3 Axes>"
      ]
     },
     "metadata": {
      "needs_background": "light"
     },
     "output_type": "display_data"
    }
   ],
   "source": [
    "res1 = (\"Exp1\",(\"LabelEncoding\",\"NoDuplicates\",\"allData\"))\n",
    "res2 = (\"Exp1\",(\"OneHot\",\"WithDuplicates\",\"30000\"))\n",
    "res3 = (\"Exp1\",(\"OneHot\",\"NoDuplicates\",\"30000\"))\n",
    "\n",
    "plotarComparação([res1,res2,res3],\"Comparacao-labelEncoding(sem-duplicata)-vs-OneHot(com-e-sem-duplicata)-Exp1\")"
   ]
  },
  {
   "cell_type": "code",
   "execution_count": 71,
   "metadata": {},
   "outputs": [
    {
     "data": {
      "image/png": "[encoded data removed]",
      "text/plain": [
       "<Figure size 1296x504 with 3 Axes>"
      ]
     },
     "metadata": {
      "needs_background": "light"
     },
     "output_type": "display_data"
    }
   ],
   "source": [
    "res1 = (\"Exp1\",(\"LabelEncoding\",\"NoDuplicates\",\"allData\"))\n",
    "res2 = (\"Exp1\",(\"OneHot\",\"NoDuplicates\",\"30000\"))\n",
    "\n",
    "plotarComparação([res1,res2],\"Comparacao-LabelEncoding-vs-OneHotEncoding-Exp1\")"
   ]
  }
 ],
 "metadata": {
  "accelerator": "GPU",
  "colab": {
   "collapsed_sections": [],
   "name": "local_outlier_factor.ipynb",
   "provenance": []
  },
  "deepnote": {},
  "deepnote_execution_queue": [],
  "deepnote_notebook_id": "becf61d5-28a5-43dd-a7da-163e7864e523",
  "interpreter": {
   "hash": "40d3a090f54c6569ab1632332b64b2c03c39dcf918b08424e98f38b5ae0af88f"
  },
  "kernelspec": {
   "display_name": "SageMath 8.1",
   "language": "python",
   "name": "python3"
  },
  "language_info": {
   "codemirror_mode": {
    "name": "ipython",
    "version": 3
   },
   "file_extension": ".py",
   "mimetype": "text/x-python",
   "name": "python",
   "nbconvert_exporter": "python",
   "pygments_lexer": "ipython3",
   "version": "3.8.10"
  }
 },
 "nbformat": 4,
 "nbformat_minor": 0
}
