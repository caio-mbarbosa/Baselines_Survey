{
 "cells": [
  {
   "cell_type": "markdown",
   "id": "737d0e3a",
   "metadata": {},
   "source": [
    "Here I'll run some test on the following databases : \"lanl-comprehensive_700k.csv\" and \"lanl-comprehensive-unified-auth.csv\".\n",
    "The model training will disconsider the time column. The experiments will be the following:"
   ]
  },
  {
   "cell_type": "markdown",
   "id": "d659553f",
   "metadata": {},
   "source": [
    " 1 : Experiment with one hot enconding and label enc on the database \"lanl-comprehensive-unified-auth.csv\" dropping \"computer_source\"\n",
    "    \n",
    " 2 : Experiment with one hot enconding and label enc on the database \"lanl-comprehensive-unified-auth.csv\" dropping \"computer_source\"\n",
    " \n",
    " 3 : Experiment with one hot enconding and label enc on the database \"lanl-comprehensive_700k.csv\" dropping \"src_comp\"\n",
    " \n",
    " 4 : Experiment with one hot enconding and label enc on the database \"lanl-comprehensive_700k.csv\" dropping \"src_user\"\n",
    " \n",
    " 5 : Experiment with label enconding and one-hot-enc on both datasets without dropping columns"
   ]
  },
  {
   "cell_type": "markdown",
   "id": "d3c9669e",
   "metadata": {},
   "source": [
    "*Isolation Forest test*"
   ]
  },
  {
   "cell_type": "code",
   "execution_count": 1,
   "id": "d37df648",
   "metadata": {},
   "outputs": [
    {
     "name": "stdout",
     "output_type": "stream",
     "text": [
      "Requirement already satisfied: scikit-learn in c:\\users\\caio_\\appdata\\local\\programs\\python\\python310\\lib\\site-packages (1.0.2)\n",
      "Requirement already satisfied: scipy>=1.1.0 in c:\\users\\caio_\\appdata\\local\\programs\\python\\python310\\lib\\site-packages (from scikit-learn) (1.8.0)\n",
      "Requirement already satisfied: threadpoolctl>=2.0.0 in c:\\users\\caio_\\appdata\\local\\programs\\python\\python310\\lib\\site-packages (from scikit-learn) (3.1.0)\n",
      "Requirement already satisfied: numpy>=1.14.6 in c:\\users\\caio_\\appdata\\local\\programs\\python\\python310\\lib\\site-packages (from scikit-learn) (1.22.2)\n",
      "Requirement already satisfied: joblib>=0.11 in c:\\users\\caio_\\appdata\\local\\programs\\python\\python310\\lib\\site-packages (from scikit-learn) (1.1.0)\n"
     ]
    }
   ],
   "source": [
    "!pip install -U scikit-learn"
   ]
  },
  {
   "cell_type": "markdown",
   "id": "a84900f0",
   "metadata": {},
   "source": [
    "***Importing the database***"
   ]
  },
  {
   "cell_type": "code",
   "execution_count": 5,
   "id": "9b6cfd1c",
   "metadata": {},
   "outputs": [
    {
     "name": "stdout",
     "output_type": "stream",
     "text": [
      "Requirement already satisfied: numpy in c:\\users\\caio_\\appdata\\local\\programs\\python\\python310\\lib\\site-packages (1.22.2)\n"
     ]
    }
   ],
   "source": [
    "# only run cells below to install dependencies\n",
    "import sys\n",
    "!{sys.executable} -m pip install numpy"
   ]
  },
  {
   "cell_type": "code",
   "execution_count": 6,
   "id": "6d415689",
   "metadata": {},
   "outputs": [
    {
     "name": "stdout",
     "output_type": "stream",
     "text": [
      "Collecting pandas\n",
      "  Using cached pandas-1.4.1-cp310-cp310-win_amd64.whl (10.6 MB)\n",
      "Requirement already satisfied: numpy>=1.21.0 in c:\\users\\caio_\\appdata\\local\\programs\\python\\python310\\lib\\site-packages (from pandas) (1.22.2)\n",
      "Requirement already satisfied: python-dateutil>=2.8.1 in c:\\users\\caio_\\appdata\\local\\programs\\python\\python310\\lib\\site-packages (from pandas) (2.8.2)\n",
      "Collecting pytz>=2020.1\n",
      "  Downloading pytz-2021.3-py2.py3-none-any.whl (503 kB)\n",
      "     -------------------------------------- 503.5/503.5 KB 1.7 MB/s eta 0:00:00\n",
      "Requirement already satisfied: six>=1.5 in c:\\users\\caio_\\appdata\\local\\programs\\python\\python310\\lib\\site-packages (from python-dateutil>=2.8.1->pandas) (1.16.0)\n",
      "Installing collected packages: pytz, pandas\n",
      "Successfully installed pandas-1.4.1 pytz-2021.3\n"
     ]
    }
   ],
   "source": [
    "!{sys.executable} -m pip install pandas"
   ]
  },
  {
   "cell_type": "code",
   "execution_count": 92,
   "id": "c4e8e14d",
   "metadata": {},
   "outputs": [],
   "source": [
    "import pandas as pd\n",
    "import numpy as np"
   ]
  },
  {
   "cell_type": "markdown",
   "id": "fe7c7a5c",
   "metadata": {},
   "source": [
    "Functions to be used"
   ]
  },
  {
   "cell_type": "code",
   "execution_count": 93,
   "id": "35bc7225",
   "metadata": {},
   "outputs": [],
   "source": [
    "def preparaTabela(nomeDataset, columnDrop = None, percentagem = 0.2):\n",
    "    if (nomeDataset == \"lanl-comprehensive-unified-auth.csv\") :\n",
    "        X = pd.read_csv(\"lanl-comprehensive-unified-auth.csv\",header=None) #an m-by-n dataset with m observations\n",
    "        X.rename(columns={0:'time', 1:'computer_source',2:'user',3:'computer_dest', 4:'label'}, inplace=True)\n",
    "        X = X.iloc[1: , :]\n",
    "        X = X.drop('time', axis = 1)\n",
    "        labelsX = X.pop('label').to_numpy()\n",
    "        \n",
    "        if(columnDrop == \"computer_source\"):\n",
    "            X = X.drop('computer_source', axis = 1)\n",
    "        elif(columnDrop == \"user\"):\n",
    "            X = X.drop(\"user\", axis = 1)    \n",
    "        \n",
    "        return X, labelsX\n",
    "            \n",
    "    elif(nomeDataset == \"lanl-comprehensive_700k.csv\"):\n",
    "        Y = pd.read_csv(\"lanl-comprehensive_700k.csv\",header=None, dtype={\"time\": int, \"src_user\": \"string\", \"src_comp\": \"string\",\"dst_comp\": \"string\", \"is_malicious\": int}) #an m-by-n dataset with m observations\n",
    "        Y.rename(columns={0:'time', 1:'src_user',2:'src_comp',3:'dst_comp', 4:'is_malicious'}, inplace=True)\n",
    "        Y = Y.drop('time', axis = 1)\n",
    "        Y = Y.iloc[1: , :] \n",
    "        Y = Y.sample(n=None, frac=percentagem, replace=True, weights=None, random_state=42, axis=None, ignore_index=False) ## dataset too big for my pc\n",
    "        labelsY = Y.pop('is_malicious').to_numpy()\n",
    "        \n",
    "        if(columnDrop == \"src_comp\"):\n",
    "            Y = Y.drop('src_comp', axis = 1)\n",
    "        elif(columnDrop == \"src_user\"):\n",
    "            Y = Y.drop(\"src_user\", axis = 1)\n",
    "        \n",
    "        return Y, labelsY"
   ]
  },
  {
   "cell_type": "markdown",
   "id": "3eca7953",
   "metadata": {},
   "source": [
    "*Experiment 1*"
   ]
  },
  {
   "cell_type": "code",
   "execution_count": 94,
   "id": "1505f07d",
   "metadata": {},
   "outputs": [
    {
     "name": "stdout",
     "output_type": "stream",
     "text": [
      "(28953, 2)\n"
     ]
    },
    {
     "data": {
      "text/html": [
       "<div>\n",
       "<style scoped>\n",
       "    .dataframe tbody tr th:only-of-type {\n",
       "        vertical-align: middle;\n",
       "    }\n",
       "\n",
       "    .dataframe tbody tr th {\n",
       "        vertical-align: top;\n",
       "    }\n",
       "\n",
       "    .dataframe thead th {\n",
       "        text-align: right;\n",
       "    }\n",
       "</style>\n",
       "<table border=\"1\" class=\"dataframe\">\n",
       "  <thead>\n",
       "    <tr style=\"text-align: right;\">\n",
       "      <th></th>\n",
       "      <th>user</th>\n",
       "      <th>computer_dest</th>\n",
       "    </tr>\n",
       "  </thead>\n",
       "  <tbody>\n",
       "    <tr>\n",
       "      <th>1</th>\n",
       "      <td>U451666</td>\n",
       "      <td>C313779</td>\n",
       "    </tr>\n",
       "    <tr>\n",
       "      <th>2</th>\n",
       "      <td>U451666</td>\n",
       "      <td>C313779</td>\n",
       "    </tr>\n",
       "    <tr>\n",
       "      <th>3</th>\n",
       "      <td>U457678</td>\n",
       "      <td>C639081</td>\n",
       "    </tr>\n",
       "    <tr>\n",
       "      <th>4</th>\n",
       "      <td>U457678</td>\n",
       "      <td>C639081</td>\n",
       "    </tr>\n",
       "    <tr>\n",
       "      <th>5</th>\n",
       "      <td>U416717</td>\n",
       "      <td>C825721</td>\n",
       "    </tr>\n",
       "  </tbody>\n",
       "</table>\n",
       "</div>"
      ],
      "text/plain": [
       "      user computer_dest\n",
       "1  U451666       C313779\n",
       "2  U451666       C313779\n",
       "3  U457678       C639081\n",
       "4  U457678       C639081\n",
       "5  U416717       C825721"
      ]
     },
     "execution_count": 94,
     "metadata": {},
     "output_type": "execute_result"
    }
   ],
   "source": [
    "X1, labelsX1 = preparaTabela(\"lanl-comprehensive-unified-auth.csv\", \"computer_source\")\n",
    "print(X1.shape)\n",
    "X1.head()\n",
    "## dropar time"
   ]
  },
  {
   "cell_type": "markdown",
   "id": "dd7232c8",
   "metadata": {},
   "source": [
    "*Experiment 2*"
   ]
  },
  {
   "cell_type": "code",
   "execution_count": 95,
   "id": "88993b5c",
   "metadata": {},
   "outputs": [
    {
     "name": "stdout",
     "output_type": "stream",
     "text": [
      "(28953, 2)\n"
     ]
    },
    {
     "data": {
      "text/html": [
       "<div>\n",
       "<style scoped>\n",
       "    .dataframe tbody tr th:only-of-type {\n",
       "        vertical-align: middle;\n",
       "    }\n",
       "\n",
       "    .dataframe tbody tr th {\n",
       "        vertical-align: top;\n",
       "    }\n",
       "\n",
       "    .dataframe thead th {\n",
       "        text-align: right;\n",
       "    }\n",
       "</style>\n",
       "<table border=\"1\" class=\"dataframe\">\n",
       "  <thead>\n",
       "    <tr style=\"text-align: right;\">\n",
       "      <th></th>\n",
       "      <th>computer_source</th>\n",
       "      <th>computer_dest</th>\n",
       "    </tr>\n",
       "  </thead>\n",
       "  <tbody>\n",
       "    <tr>\n",
       "      <th>1</th>\n",
       "      <td>C288750</td>\n",
       "      <td>C313779</td>\n",
       "    </tr>\n",
       "    <tr>\n",
       "      <th>2</th>\n",
       "      <td>C288750</td>\n",
       "      <td>C313779</td>\n",
       "    </tr>\n",
       "    <tr>\n",
       "      <th>3</th>\n",
       "      <td>C206546</td>\n",
       "      <td>C639081</td>\n",
       "    </tr>\n",
       "    <tr>\n",
       "      <th>4</th>\n",
       "      <td>C206546</td>\n",
       "      <td>C639081</td>\n",
       "    </tr>\n",
       "    <tr>\n",
       "      <th>5</th>\n",
       "      <td>C206546</td>\n",
       "      <td>C825721</td>\n",
       "    </tr>\n",
       "  </tbody>\n",
       "</table>\n",
       "</div>"
      ],
      "text/plain": [
       "  computer_source computer_dest\n",
       "1         C288750       C313779\n",
       "2         C288750       C313779\n",
       "3         C206546       C639081\n",
       "4         C206546       C639081\n",
       "5         C206546       C825721"
      ]
     },
     "execution_count": 95,
     "metadata": {},
     "output_type": "execute_result"
    }
   ],
   "source": [
    "X2, labelsX2 = preparaTabela(\"lanl-comprehensive-unified-auth.csv\", \"user\")\n",
    "print(X2.shape)\n",
    "X2.head()"
   ]
  },
  {
   "cell_type": "markdown",
   "id": "499d44ae",
   "metadata": {},
   "source": [
    "*Experiment 3*"
   ]
  },
  {
   "cell_type": "code",
   "execution_count": 171,
   "id": "22ea8ef8",
   "metadata": {},
   "outputs": [
    {
     "name": "stdout",
     "output_type": "stream",
     "text": [
      "(290061, 2)\n"
     ]
    },
    {
     "name": "stderr",
     "output_type": "stream",
     "text": [
      "C:\\Users\\caio_\\AppData\\Local\\Temp\\ipykernel_10964\\4108410020.py:17: DtypeWarning: Columns (0,4) have mixed types. Specify dtype option on import or set low_memory=False.\n",
      "  Y = pd.read_csv(\"lanl-comprehensive_700k.csv\",header=None, dtype={\"time\": int, \"src_user\": \"string\", \"src_comp\": \"string\",\"dst_comp\": \"string\", \"is_malicious\": int}) #an m-by-n dataset with m observations\n"
     ]
    },
    {
     "data": {
      "text/html": [
       "<div>\n",
       "<style scoped>\n",
       "    .dataframe tbody tr th:only-of-type {\n",
       "        vertical-align: middle;\n",
       "    }\n",
       "\n",
       "    .dataframe tbody tr th {\n",
       "        vertical-align: top;\n",
       "    }\n",
       "\n",
       "    .dataframe thead th {\n",
       "        text-align: right;\n",
       "    }\n",
       "</style>\n",
       "<table border=\"1\" class=\"dataframe\">\n",
       "  <thead>\n",
       "    <tr style=\"text-align: right;\">\n",
       "      <th></th>\n",
       "      <th>src_user</th>\n",
       "      <th>dst_comp</th>\n",
       "    </tr>\n",
       "  </thead>\n",
       "  <tbody>\n",
       "    <tr>\n",
       "      <th>121959</th>\n",
       "      <td>C417$@DOM1</td>\n",
       "      <td>C625</td>\n",
       "    </tr>\n",
       "    <tr>\n",
       "      <th>671156</th>\n",
       "      <td>C87$@DOM1</td>\n",
       "      <td>C1065</td>\n",
       "    </tr>\n",
       "    <tr>\n",
       "      <th>131933</th>\n",
       "      <td>C2370$@DOM1</td>\n",
       "      <td>C1065</td>\n",
       "    </tr>\n",
       "    <tr>\n",
       "      <th>365839</th>\n",
       "      <td>C480$@DOM1</td>\n",
       "      <td>C625</td>\n",
       "    </tr>\n",
       "    <tr>\n",
       "      <th>259179</th>\n",
       "      <td>U924@DOM1</td>\n",
       "      <td>C529</td>\n",
       "    </tr>\n",
       "  </tbody>\n",
       "</table>\n",
       "</div>"
      ],
      "text/plain": [
       "           src_user dst_comp\n",
       "121959   C417$@DOM1     C625\n",
       "671156    C87$@DOM1    C1065\n",
       "131933  C2370$@DOM1    C1065\n",
       "365839   C480$@DOM1     C625\n",
       "259179    U924@DOM1     C529"
      ]
     },
     "execution_count": 171,
     "metadata": {},
     "output_type": "execute_result"
    }
   ],
   "source": [
    "Y1, labelsY1 = preparaTabela(\"lanl-comprehensive_700k.csv\", \"src_comp\", percentagem = 0.4)\n",
    "print(Y1.shape)\n",
    "Y1.head()"
   ]
  },
  {
   "cell_type": "markdown",
   "id": "ae70525b",
   "metadata": {},
   "source": [
    "*Experiment 4*"
   ]
  },
  {
   "cell_type": "code",
   "execution_count": 97,
   "id": "a7348edc",
   "metadata": {},
   "outputs": [
    {
     "name": "stdout",
     "output_type": "stream",
     "text": [
      "(145030, 2)\n"
     ]
    },
    {
     "name": "stderr",
     "output_type": "stream",
     "text": [
      "C:\\Users\\caio_\\AppData\\Local\\Temp\\ipykernel_10964\\4108410020.py:17: DtypeWarning: Columns (0,4) have mixed types. Specify dtype option on import or set low_memory=False.\n",
      "  Y = pd.read_csv(\"lanl-comprehensive_700k.csv\",header=None, dtype={\"time\": int, \"src_user\": \"string\", \"src_comp\": \"string\",\"dst_comp\": \"string\", \"is_malicious\": int}) #an m-by-n dataset with m observations\n"
     ]
    },
    {
     "data": {
      "text/html": [
       "<div>\n",
       "<style scoped>\n",
       "    .dataframe tbody tr th:only-of-type {\n",
       "        vertical-align: middle;\n",
       "    }\n",
       "\n",
       "    .dataframe tbody tr th {\n",
       "        vertical-align: top;\n",
       "    }\n",
       "\n",
       "    .dataframe thead th {\n",
       "        text-align: right;\n",
       "    }\n",
       "</style>\n",
       "<table border=\"1\" class=\"dataframe\">\n",
       "  <thead>\n",
       "    <tr style=\"text-align: right;\">\n",
       "      <th></th>\n",
       "      <th>src_comp</th>\n",
       "      <th>dst_comp</th>\n",
       "    </tr>\n",
       "  </thead>\n",
       "  <tbody>\n",
       "    <tr>\n",
       "      <th>121959</th>\n",
       "      <td>C417</td>\n",
       "      <td>C625</td>\n",
       "    </tr>\n",
       "    <tr>\n",
       "      <th>671156</th>\n",
       "      <td>C87</td>\n",
       "      <td>C1065</td>\n",
       "    </tr>\n",
       "    <tr>\n",
       "      <th>131933</th>\n",
       "      <td>C2370</td>\n",
       "      <td>C1065</td>\n",
       "    </tr>\n",
       "    <tr>\n",
       "      <th>365839</th>\n",
       "      <td>C480</td>\n",
       "      <td>C625</td>\n",
       "    </tr>\n",
       "    <tr>\n",
       "      <th>259179</th>\n",
       "      <td>C529</td>\n",
       "      <td>C529</td>\n",
       "    </tr>\n",
       "  </tbody>\n",
       "</table>\n",
       "</div>"
      ],
      "text/plain": [
       "       src_comp dst_comp\n",
       "121959     C417     C625\n",
       "671156      C87    C1065\n",
       "131933    C2370    C1065\n",
       "365839     C480     C625\n",
       "259179     C529     C529"
      ]
     },
     "execution_count": 97,
     "metadata": {},
     "output_type": "execute_result"
    }
   ],
   "source": [
    "Y2, labelsY2 = preparaTabela(\"lanl-comprehensive_700k.csv\", \"src_user\")\n",
    "print(Y2.shape)\n",
    "Y2.head()"
   ]
  },
  {
   "cell_type": "code",
   "execution_count": 98,
   "id": "71a15c77",
   "metadata": {},
   "outputs": [
    {
     "name": "stdout",
     "output_type": "stream",
     "text": [
      "total of maligne samples in the dataset '700k': 131\n"
     ]
    }
   ],
   "source": [
    "count = 0\n",
    "for i in labelsY1:\n",
    "    if i == 1:\n",
    "        count += 1\n",
    "print(\"total of maligne samples in the dataset '700k': \" + str(count))"
   ]
  },
  {
   "cell_type": "markdown",
   "id": "b227608b",
   "metadata": {},
   "source": [
    "*Experiment 5*"
   ]
  },
  {
   "cell_type": "code",
   "execution_count": 99,
   "id": "46ccb78d",
   "metadata": {},
   "outputs": [
    {
     "name": "stdout",
     "output_type": "stream",
     "text": [
      "(145030, 3)\n"
     ]
    },
    {
     "name": "stderr",
     "output_type": "stream",
     "text": [
      "C:\\Users\\caio_\\AppData\\Local\\Temp\\ipykernel_10964\\4108410020.py:17: DtypeWarning: Columns (0,4) have mixed types. Specify dtype option on import or set low_memory=False.\n",
      "  Y = pd.read_csv(\"lanl-comprehensive_700k.csv\",header=None, dtype={\"time\": int, \"src_user\": \"string\", \"src_comp\": \"string\",\"dst_comp\": \"string\", \"is_malicious\": int}) #an m-by-n dataset with m observations\n"
     ]
    },
    {
     "data": {
      "text/html": [
       "<div>\n",
       "<style scoped>\n",
       "    .dataframe tbody tr th:only-of-type {\n",
       "        vertical-align: middle;\n",
       "    }\n",
       "\n",
       "    .dataframe tbody tr th {\n",
       "        vertical-align: top;\n",
       "    }\n",
       "\n",
       "    .dataframe thead th {\n",
       "        text-align: right;\n",
       "    }\n",
       "</style>\n",
       "<table border=\"1\" class=\"dataframe\">\n",
       "  <thead>\n",
       "    <tr style=\"text-align: right;\">\n",
       "      <th></th>\n",
       "      <th>src_user</th>\n",
       "      <th>src_comp</th>\n",
       "      <th>dst_comp</th>\n",
       "    </tr>\n",
       "  </thead>\n",
       "  <tbody>\n",
       "    <tr>\n",
       "      <th>121959</th>\n",
       "      <td>C417$@DOM1</td>\n",
       "      <td>C417</td>\n",
       "      <td>C625</td>\n",
       "    </tr>\n",
       "    <tr>\n",
       "      <th>671156</th>\n",
       "      <td>C87$@DOM1</td>\n",
       "      <td>C87</td>\n",
       "      <td>C1065</td>\n",
       "    </tr>\n",
       "    <tr>\n",
       "      <th>131933</th>\n",
       "      <td>C2370$@DOM1</td>\n",
       "      <td>C2370</td>\n",
       "      <td>C1065</td>\n",
       "    </tr>\n",
       "    <tr>\n",
       "      <th>365839</th>\n",
       "      <td>C480$@DOM1</td>\n",
       "      <td>C480</td>\n",
       "      <td>C625</td>\n",
       "    </tr>\n",
       "    <tr>\n",
       "      <th>259179</th>\n",
       "      <td>U924@DOM1</td>\n",
       "      <td>C529</td>\n",
       "      <td>C529</td>\n",
       "    </tr>\n",
       "  </tbody>\n",
       "</table>\n",
       "</div>"
      ],
      "text/plain": [
       "           src_user src_comp dst_comp\n",
       "121959   C417$@DOM1     C417     C625\n",
       "671156    C87$@DOM1      C87    C1065\n",
       "131933  C2370$@DOM1    C2370    C1065\n",
       "365839   C480$@DOM1     C480     C625\n",
       "259179    U924@DOM1     C529     C529"
      ]
     },
     "execution_count": 99,
     "metadata": {},
     "output_type": "execute_result"
    }
   ],
   "source": [
    "Y3, labelsY3 = preparaTabela(\"lanl-comprehensive_700k.csv\")\n",
    "print(Y3.shape)\n",
    "Y3.head()"
   ]
  },
  {
   "cell_type": "code",
   "execution_count": 100,
   "id": "fcb3bd43",
   "metadata": {},
   "outputs": [
    {
     "name": "stdout",
     "output_type": "stream",
     "text": [
      "(28953, 3)\n"
     ]
    },
    {
     "data": {
      "text/html": [
       "<div>\n",
       "<style scoped>\n",
       "    .dataframe tbody tr th:only-of-type {\n",
       "        vertical-align: middle;\n",
       "    }\n",
       "\n",
       "    .dataframe tbody tr th {\n",
       "        vertical-align: top;\n",
       "    }\n",
       "\n",
       "    .dataframe thead th {\n",
       "        text-align: right;\n",
       "    }\n",
       "</style>\n",
       "<table border=\"1\" class=\"dataframe\">\n",
       "  <thead>\n",
       "    <tr style=\"text-align: right;\">\n",
       "      <th></th>\n",
       "      <th>computer_source</th>\n",
       "      <th>user</th>\n",
       "      <th>computer_dest</th>\n",
       "    </tr>\n",
       "  </thead>\n",
       "  <tbody>\n",
       "    <tr>\n",
       "      <th>1</th>\n",
       "      <td>C288750</td>\n",
       "      <td>U451666</td>\n",
       "      <td>C313779</td>\n",
       "    </tr>\n",
       "    <tr>\n",
       "      <th>2</th>\n",
       "      <td>C288750</td>\n",
       "      <td>U451666</td>\n",
       "      <td>C313779</td>\n",
       "    </tr>\n",
       "    <tr>\n",
       "      <th>3</th>\n",
       "      <td>C206546</td>\n",
       "      <td>U457678</td>\n",
       "      <td>C639081</td>\n",
       "    </tr>\n",
       "    <tr>\n",
       "      <th>4</th>\n",
       "      <td>C206546</td>\n",
       "      <td>U457678</td>\n",
       "      <td>C639081</td>\n",
       "    </tr>\n",
       "    <tr>\n",
       "      <th>5</th>\n",
       "      <td>C206546</td>\n",
       "      <td>U416717</td>\n",
       "      <td>C825721</td>\n",
       "    </tr>\n",
       "  </tbody>\n",
       "</table>\n",
       "</div>"
      ],
      "text/plain": [
       "  computer_source     user computer_dest\n",
       "1         C288750  U451666       C313779\n",
       "2         C288750  U451666       C313779\n",
       "3         C206546  U457678       C639081\n",
       "4         C206546  U457678       C639081\n",
       "5         C206546  U416717       C825721"
      ]
     },
     "execution_count": 100,
     "metadata": {},
     "output_type": "execute_result"
    }
   ],
   "source": [
    "X3, labelsX3 = preparaTabela(\"lanl-comprehensive-unified-auth.csv\")\n",
    "print(X3.shape)\n",
    "X3.head()"
   ]
  },
  {
   "cell_type": "markdown",
   "id": "dbb9e827",
   "metadata": {},
   "source": [
    "One Hot Encoding"
   ]
  },
  {
   "cell_type": "code",
   "execution_count": 101,
   "id": "ff044072",
   "metadata": {},
   "outputs": [],
   "source": [
    "## fazer depois do label encoder\n",
    "#from sklearn.preprocessing import OneHotEncoder\n",
    "#encoder = OneHotEncoder()"
   ]
  },
  {
   "cell_type": "code",
   "execution_count": 102,
   "id": "c8c0a222",
   "metadata": {},
   "outputs": [],
   "source": [
    "#X = encoder.fit_transform(X2[['user', 'computer_dest']]).toarray()"
   ]
  },
  {
   "cell_type": "code",
   "execution_count": 103,
   "id": "b474a630",
   "metadata": {},
   "outputs": [],
   "source": [
    "#Y = encoder.fit_transform(Y2[['src_comp', 'dst_comp']]).toarray()"
   ]
  },
  {
   "cell_type": "code",
   "execution_count": 104,
   "id": "4a390114",
   "metadata": {},
   "outputs": [],
   "source": [
    "#print(Y2)"
   ]
  },
  {
   "cell_type": "code",
   "execution_count": 105,
   "id": "8218c10f",
   "metadata": {},
   "outputs": [],
   "source": [
    "#print(X2)"
   ]
  },
  {
   "cell_type": "markdown",
   "id": "4f9b5c5b",
   "metadata": {},
   "source": [
    "*Labels Encoding*"
   ]
  },
  {
   "cell_type": "code",
   "execution_count": 106,
   "id": "814a68e1",
   "metadata": {},
   "outputs": [],
   "source": [
    "from sklearn.preprocessing import LabelEncoder"
   ]
  },
  {
   "cell_type": "code",
   "execution_count": 107,
   "id": "5231e10f",
   "metadata": {},
   "outputs": [],
   "source": [
    "def utilizaLabelEnc(dataFrame, col1, col2, col3 = None):\n",
    "    enc_1 = LabelEncoder()\n",
    "    enc_2 = LabelEncoder()\n",
    "    enc_1.fit(dataFrame[col1])\n",
    "    enc_2.fit(dataFrame[col2])\n",
    "    if(col3 != None):\n",
    "        enc_3 = LabelEncoder()#mais um encoder(fazer depois)\n",
    "    df = dataFrame\n",
    "    df[col1] = enc_1.transform(df[col1])\n",
    "    df[col2] = enc_2.transform(df[col2])\n",
    "    return df"
   ]
  },
  {
   "cell_type": "markdown",
   "id": "dd693566",
   "metadata": {},
   "source": [
    "*Exp 1*"
   ]
  },
  {
   "cell_type": "code",
   "execution_count": 108,
   "id": "bc7e79da",
   "metadata": {},
   "outputs": [
    {
     "data": {
      "text/html": [
       "<div>\n",
       "<style scoped>\n",
       "    .dataframe tbody tr th:only-of-type {\n",
       "        vertical-align: middle;\n",
       "    }\n",
       "\n",
       "    .dataframe tbody tr th {\n",
       "        vertical-align: top;\n",
       "    }\n",
       "\n",
       "    .dataframe thead th {\n",
       "        text-align: right;\n",
       "    }\n",
       "</style>\n",
       "<table border=\"1\" class=\"dataframe\">\n",
       "  <thead>\n",
       "    <tr style=\"text-align: right;\">\n",
       "      <th></th>\n",
       "      <th>user</th>\n",
       "      <th>computer_dest</th>\n",
       "    </tr>\n",
       "  </thead>\n",
       "  <tbody>\n",
       "    <tr>\n",
       "      <th>1</th>\n",
       "      <td>825</td>\n",
       "      <td>612</td>\n",
       "    </tr>\n",
       "    <tr>\n",
       "      <th>2</th>\n",
       "      <td>825</td>\n",
       "      <td>612</td>\n",
       "    </tr>\n",
       "    <tr>\n",
       "      <th>3</th>\n",
       "      <td>835</td>\n",
       "      <td>1282</td>\n",
       "    </tr>\n",
       "    <tr>\n",
       "      <th>4</th>\n",
       "      <td>835</td>\n",
       "      <td>1282</td>\n",
       "    </tr>\n",
       "    <tr>\n",
       "      <th>5</th>\n",
       "      <td>761</td>\n",
       "      <td>1673</td>\n",
       "    </tr>\n",
       "  </tbody>\n",
       "</table>\n",
       "</div>"
      ],
      "text/plain": [
       "   user  computer_dest\n",
       "1   825            612\n",
       "2   825            612\n",
       "3   835           1282\n",
       "4   835           1282\n",
       "5   761           1673"
      ]
     },
     "execution_count": 108,
     "metadata": {},
     "output_type": "execute_result"
    }
   ],
   "source": [
    "X1_labelEnc = utilizaLabelEnc(X1, \"user\", \"computer_dest\")\n",
    "X1_labelEnc.head()"
   ]
  },
  {
   "cell_type": "markdown",
   "id": "776e1640",
   "metadata": {},
   "source": [
    "*Exp 2*"
   ]
  },
  {
   "cell_type": "code",
   "execution_count": 109,
   "id": "59399ab2",
   "metadata": {},
   "outputs": [
    {
     "data": {
      "text/html": [
       "<div>\n",
       "<style scoped>\n",
       "    .dataframe tbody tr th:only-of-type {\n",
       "        vertical-align: middle;\n",
       "    }\n",
       "\n",
       "    .dataframe tbody tr th {\n",
       "        vertical-align: top;\n",
       "    }\n",
       "\n",
       "    .dataframe thead th {\n",
       "        text-align: right;\n",
       "    }\n",
       "</style>\n",
       "<table border=\"1\" class=\"dataframe\">\n",
       "  <thead>\n",
       "    <tr style=\"text-align: right;\">\n",
       "      <th></th>\n",
       "      <th>computer_source</th>\n",
       "      <th>computer_dest</th>\n",
       "    </tr>\n",
       "  </thead>\n",
       "  <tbody>\n",
       "    <tr>\n",
       "      <th>1</th>\n",
       "      <td>394</td>\n",
       "      <td>612</td>\n",
       "    </tr>\n",
       "    <tr>\n",
       "      <th>2</th>\n",
       "      <td>394</td>\n",
       "      <td>612</td>\n",
       "    </tr>\n",
       "    <tr>\n",
       "      <th>3</th>\n",
       "      <td>252</td>\n",
       "      <td>1282</td>\n",
       "    </tr>\n",
       "    <tr>\n",
       "      <th>4</th>\n",
       "      <td>252</td>\n",
       "      <td>1282</td>\n",
       "    </tr>\n",
       "    <tr>\n",
       "      <th>5</th>\n",
       "      <td>252</td>\n",
       "      <td>1673</td>\n",
       "    </tr>\n",
       "  </tbody>\n",
       "</table>\n",
       "</div>"
      ],
      "text/plain": [
       "   computer_source  computer_dest\n",
       "1              394            612\n",
       "2              394            612\n",
       "3              252           1282\n",
       "4              252           1282\n",
       "5              252           1673"
      ]
     },
     "execution_count": 109,
     "metadata": {},
     "output_type": "execute_result"
    }
   ],
   "source": [
    "X2_labelEnc = utilizaLabelEnc(X2, \"computer_source\", \"computer_dest\")\n",
    "X2_labelEnc.head()"
   ]
  },
  {
   "cell_type": "markdown",
   "id": "88538cee",
   "metadata": {},
   "source": [
    "*Exp 3*"
   ]
  },
  {
   "cell_type": "code",
   "execution_count": 172,
   "id": "56ef690f",
   "metadata": {},
   "outputs": [
    {
     "data": {
      "text/html": [
       "<div>\n",
       "<style scoped>\n",
       "    .dataframe tbody tr th:only-of-type {\n",
       "        vertical-align: middle;\n",
       "    }\n",
       "\n",
       "    .dataframe tbody tr th {\n",
       "        vertical-align: top;\n",
       "    }\n",
       "\n",
       "    .dataframe thead th {\n",
       "        text-align: right;\n",
       "    }\n",
       "</style>\n",
       "<table border=\"1\" class=\"dataframe\">\n",
       "  <thead>\n",
       "    <tr style=\"text-align: right;\">\n",
       "      <th></th>\n",
       "      <th>src_user</th>\n",
       "      <th>dst_comp</th>\n",
       "    </tr>\n",
       "  </thead>\n",
       "  <tbody>\n",
       "    <tr>\n",
       "      <th>121959</th>\n",
       "      <td>2584</td>\n",
       "      <td>323</td>\n",
       "    </tr>\n",
       "    <tr>\n",
       "      <th>671156</th>\n",
       "      <td>3876</td>\n",
       "      <td>15</td>\n",
       "    </tr>\n",
       "    <tr>\n",
       "      <th>131933</th>\n",
       "      <td>1279</td>\n",
       "      <td>15</td>\n",
       "    </tr>\n",
       "    <tr>\n",
       "      <th>365839</th>\n",
       "      <td>2981</td>\n",
       "      <td>323</td>\n",
       "    </tr>\n",
       "    <tr>\n",
       "      <th>259179</th>\n",
       "      <td>5391</td>\n",
       "      <td>303</td>\n",
       "    </tr>\n",
       "  </tbody>\n",
       "</table>\n",
       "</div>"
      ],
      "text/plain": [
       "        src_user  dst_comp\n",
       "121959      2584       323\n",
       "671156      3876        15\n",
       "131933      1279        15\n",
       "365839      2981       323\n",
       "259179      5391       303"
      ]
     },
     "execution_count": 172,
     "metadata": {},
     "output_type": "execute_result"
    }
   ],
   "source": [
    "Y1_labelEnc = utilizaLabelEnc(Y1, \"src_user\", \"dst_comp\")\n",
    "Y1_labelEnc.head()"
   ]
  },
  {
   "cell_type": "markdown",
   "id": "ecb1bfa9",
   "metadata": {},
   "source": [
    "*Exp 4*"
   ]
  },
  {
   "cell_type": "code",
   "execution_count": 111,
   "id": "5e79b3d5",
   "metadata": {},
   "outputs": [
    {
     "data": {
      "text/html": [
       "<div>\n",
       "<style scoped>\n",
       "    .dataframe tbody tr th:only-of-type {\n",
       "        vertical-align: middle;\n",
       "    }\n",
       "\n",
       "    .dataframe tbody tr th {\n",
       "        vertical-align: top;\n",
       "    }\n",
       "\n",
       "    .dataframe thead th {\n",
       "        text-align: right;\n",
       "    }\n",
       "</style>\n",
       "<table border=\"1\" class=\"dataframe\">\n",
       "  <thead>\n",
       "    <tr style=\"text-align: right;\">\n",
       "      <th></th>\n",
       "      <th>src_comp</th>\n",
       "      <th>dst_comp</th>\n",
       "    </tr>\n",
       "  </thead>\n",
       "  <tbody>\n",
       "    <tr>\n",
       "      <th>121959</th>\n",
       "      <td>2565</td>\n",
       "      <td>286</td>\n",
       "    </tr>\n",
       "    <tr>\n",
       "      <th>671156</th>\n",
       "      <td>3834</td>\n",
       "      <td>14</td>\n",
       "    </tr>\n",
       "    <tr>\n",
       "      <th>131933</th>\n",
       "      <td>1255</td>\n",
       "      <td>14</td>\n",
       "    </tr>\n",
       "    <tr>\n",
       "      <th>365839</th>\n",
       "      <td>2956</td>\n",
       "      <td>286</td>\n",
       "    </tr>\n",
       "    <tr>\n",
       "      <th>259179</th>\n",
       "      <td>3251</td>\n",
       "      <td>270</td>\n",
       "    </tr>\n",
       "  </tbody>\n",
       "</table>\n",
       "</div>"
      ],
      "text/plain": [
       "        src_comp  dst_comp\n",
       "121959      2565       286\n",
       "671156      3834        14\n",
       "131933      1255        14\n",
       "365839      2956       286\n",
       "259179      3251       270"
      ]
     },
     "execution_count": 111,
     "metadata": {},
     "output_type": "execute_result"
    }
   ],
   "source": [
    "Y2_labelEnc = utilizaLabelEnc(Y2, \"src_comp\", \"dst_comp\")\n",
    "Y2_labelEnc.head()"
   ]
  },
  {
   "cell_type": "markdown",
   "id": "ac0ce4ae",
   "metadata": {},
   "source": [
    "*Exp 5*"
   ]
  },
  {
   "cell_type": "code",
   "execution_count": 112,
   "id": "48bc2d59",
   "metadata": {},
   "outputs": [],
   "source": [
    "##fazer depois"
   ]
  },
  {
   "cell_type": "markdown",
   "id": "0ad384c1",
   "metadata": {},
   "source": [
    "**Divisão Experimento de Treino/Teste:**"
   ]
  },
  {
   "cell_type": "code",
   "execution_count": 176,
   "id": "a07e6db5",
   "metadata": {},
   "outputs": [],
   "source": [
    "def printLabels(array, division, inverted = False):\n",
    "    total1 = 0\n",
    "    if(not inverted):\n",
    "        for i in array:\n",
    "            if i == 1 and i <= division: \n",
    "                total1 += 1\n",
    "    else:\n",
    "        for i in array:\n",
    "            if i == 1 and i >= division: \n",
    "                total1 += 1\n",
    "    \n",
    "    print(\"total of labels 1 in the training set: \" + str(total1))"
   ]
  },
  {
   "cell_type": "code",
   "execution_count": 177,
   "id": "dfb2b78f",
   "metadata": {},
   "outputs": [],
   "source": [
    "import math\n",
    "\n",
    "def divideDatabase(arrayInput, percentagem = 0.4, labels = None, invertido = False):\n",
    "    tamanhoCorte = math.floor(np.shape(arrayInput)[0] * percentagem)\n",
    "    print(tamanhoCorte)\n",
    "    X_train = arrayInput[:tamanhoCorte]\n",
    "    X_test = arrayInput[tamanhoCorte:]\n",
    "    \n",
    "    if(invertido):\n",
    "        placeholder = X_train\n",
    "        X_train = X_test\n",
    "        X_test = placeholder\n",
    "    \n",
    "    ## só pra garantir que não há nenhuma anomialia no treino\n",
    "    if labels is not None:\n",
    "        if(not invertido):\n",
    "            printLabels(X_train, tamanhoCorte)\n",
    "            return X_train, X_test, labels[tamanhoCorte:]     # returning labels for metrics after testing\n",
    "        else:\n",
    "            printLabels(X_train, tamanhoCorte, inverted = True)\n",
    "            return X_train, X_test, labels[:tamanhoCorte]\n",
    "        \n",
    "    return X_train, X_test"
   ]
  },
  {
   "cell_type": "markdown",
   "id": "e67dd142",
   "metadata": {},
   "source": [
    "Exp 1"
   ]
  },
  {
   "cell_type": "code",
   "execution_count": 131,
   "id": "41b060ef",
   "metadata": {},
   "outputs": [
    {
     "name": "stdout",
     "output_type": "stream",
     "text": [
      "20267\n",
      "total of labels 1 in the training/test(inverts depending on option) set: 0\n"
     ]
    }
   ],
   "source": [
    "X_train1, X_test1, labelsX1_new = divideDatabase(X1_labelEnc, labels = labelsX1, percentagem = 0.7) #divide the base and getting labels for test-set"
   ]
  },
  {
   "cell_type": "markdown",
   "id": "ea41c6c0",
   "metadata": {},
   "source": [
    "Exp 2"
   ]
  },
  {
   "cell_type": "code",
   "execution_count": 140,
   "id": "f007b02a",
   "metadata": {},
   "outputs": [
    {
     "name": "stdout",
     "output_type": "stream",
     "text": [
      "11581\n",
      "total of labels 1 in the training/test(inverts depending on option) set: 0\n"
     ]
    }
   ],
   "source": [
    "X_train2, X_test2, labelsX2_new = divideDatabase(X2_labelEnc, labels = labelsX2)"
   ]
  },
  {
   "cell_type": "markdown",
   "id": "f91bcf33",
   "metadata": {},
   "source": [
    "Exp 3"
   ]
  },
  {
   "cell_type": "code",
   "execution_count": 178,
   "id": "dca5896a",
   "metadata": {},
   "outputs": [
    {
     "name": "stdout",
     "output_type": "stream",
     "text": [
      "174036\n",
      "total of labels 1 in the training set: 0\n"
     ]
    }
   ],
   "source": [
    "Y_train1, Y_test1, labelsY1_new = divideDatabase(Y1_labelEnc, labels = labelsY1, percentagem = 0.6, invertido = True) #taking final 40% portion for training "
   ]
  },
  {
   "cell_type": "markdown",
   "id": "56ce30d2",
   "metadata": {},
   "source": [
    "Exp 4"
   ]
  },
  {
   "cell_type": "code",
   "execution_count": 158,
   "id": "ab854a78",
   "metadata": {},
   "outputs": [
    {
     "name": "stdout",
     "output_type": "stream",
     "text": [
      "87018\n",
      "total of labels 1 in the training/test(inverts depending on option) set: 131\n"
     ]
    }
   ],
   "source": [
    "Y_train2, Y_test2, labelsY2_new = divideDatabase(Y2_labelEnc, labels = labelsY2, percentagem = 0.6, invertido = True)"
   ]
  },
  {
   "cell_type": "markdown",
   "id": "b3b36e8f",
   "metadata": {},
   "source": [
    "Exp 5"
   ]
  },
  {
   "cell_type": "markdown",
   "id": "b192f72b",
   "metadata": {},
   "source": [
    "**Resultados**"
   ]
  },
  {
   "cell_type": "code",
   "execution_count": 184,
   "id": "69fdf504",
   "metadata": {},
   "outputs": [],
   "source": [
    "def plotaGrafico(arrayInput, numeroExp, tipoEnc):\n",
    "    fig = plt.figure(figsize = (10, 5))\n",
    "    # creating the bar plot\n",
    "    possiveis = [1,-1] # because it's an isolation forest\n",
    "    plt.bar(possiveis, arrayInput)\n",
    "    plt.xlabel(\"labels\")\n",
    "    plt.ylabel(\"número de instâncias\")\n",
    "    plt.title(\"Isolation Forest com \"+ tipoEnc + \" Encoding Exp \" + str(numeroExp))\n",
    "    plt.show()\n",
    "    \n",
    "def pegaLabels(arrayInput):\n",
    "    tamanho = len(arrayInput)\n",
    "    menosUm = 0\n",
    "    ums = 0\n",
    "    for i in range(0, tamanho):\n",
    "        if arrayInput[i] == -1:\n",
    "            menosUm += 1\n",
    "        if arrayInput[i] == 1:\n",
    "            ums += 1\n",
    "    return [ums, menosUm]"
   ]
  },
  {
   "cell_type": "markdown",
   "id": "dfab37f2",
   "metadata": {},
   "source": [
    "**Isolation Forest with label encoding**"
   ]
  },
  {
   "cell_type": "code",
   "execution_count": 121,
   "id": "5b356ceb",
   "metadata": {},
   "outputs": [],
   "source": [
    "from sklearn.ensemble import IsolationForest"
   ]
  },
  {
   "cell_type": "markdown",
   "id": "07964462",
   "metadata": {},
   "source": [
    "Exp 1"
   ]
  },
  {
   "cell_type": "code",
   "execution_count": 132,
   "id": "351f2a03",
   "metadata": {},
   "outputs": [
    {
     "data": {
      "text/plain": [
       "IsolationForest(random_state=0)"
      ]
     },
     "execution_count": 132,
     "metadata": {},
     "output_type": "execute_result"
    }
   ],
   "source": [
    "modelo1 = IsolationForest(random_state=0)\n",
    "modelo1.fit(X_train1)"
   ]
  },
  {
   "cell_type": "code",
   "execution_count": 133,
   "id": "e9a23e57",
   "metadata": {},
   "outputs": [],
   "source": [
    "predicts1 = modelo1.predict(X_test1)"
   ]
  },
  {
   "cell_type": "markdown",
   "id": "4f900c8e",
   "metadata": {},
   "source": [
    "Exp 2"
   ]
  },
  {
   "cell_type": "code",
   "execution_count": 144,
   "id": "d1cd2931",
   "metadata": {},
   "outputs": [
    {
     "data": {
      "text/plain": [
       "IsolationForest(random_state=0)"
      ]
     },
     "execution_count": 144,
     "metadata": {},
     "output_type": "execute_result"
    }
   ],
   "source": [
    "modelo2 = IsolationForest(random_state=0)\n",
    "modelo2.fit(X_train2)"
   ]
  },
  {
   "cell_type": "code",
   "execution_count": 145,
   "id": "0947ed6d",
   "metadata": {},
   "outputs": [],
   "source": [
    "predicts2 = modelo2.predict(X_test2)"
   ]
  },
  {
   "cell_type": "markdown",
   "id": "7b906054",
   "metadata": {},
   "source": [
    "Exp 3"
   ]
  },
  {
   "cell_type": "code",
   "execution_count": 180,
   "id": "2fc6bde9",
   "metadata": {},
   "outputs": [
    {
     "data": {
      "text/plain": [
       "IsolationForest(random_state=0)"
      ]
     },
     "execution_count": 180,
     "metadata": {},
     "output_type": "execute_result"
    }
   ],
   "source": [
    "modelo3 = IsolationForest(random_state=0)\n",
    "modelo3.fit(Y_train1)"
   ]
  },
  {
   "cell_type": "code",
   "execution_count": 181,
   "id": "cf1a32e1",
   "metadata": {},
   "outputs": [],
   "source": [
    "predicts3 = modelo3.predict(Y_test1)"
   ]
  },
  {
   "cell_type": "markdown",
   "id": "8750c885",
   "metadata": {},
   "source": [
    "Exp 4"
   ]
  },
  {
   "cell_type": "code",
   "execution_count": 162,
   "id": "7bdd3630",
   "metadata": {},
   "outputs": [
    {
     "data": {
      "text/plain": [
       "IsolationForest(random_state=0)"
      ]
     },
     "execution_count": 162,
     "metadata": {},
     "output_type": "execute_result"
    }
   ],
   "source": [
    "modelo4 = IsolationForest(random_state=0)\n",
    "modelo4.fit(Y_train2)"
   ]
  },
  {
   "cell_type": "code",
   "execution_count": 163,
   "id": "189ae605",
   "metadata": {},
   "outputs": [],
   "source": [
    "predicts4 = modelo4.predict(Y_test2)"
   ]
  },
  {
   "cell_type": "markdown",
   "id": "fedf5cfe",
   "metadata": {},
   "source": [
    "Exp 5"
   ]
  },
  {
   "cell_type": "code",
   "execution_count": null,
   "id": "95c77bcc",
   "metadata": {},
   "outputs": [],
   "source": [
    "##Fazer depois"
   ]
  },
  {
   "cell_type": "markdown",
   "id": "d3e01e7e",
   "metadata": {},
   "source": [
    "*Isolation Forest with one hot encoding*"
   ]
  },
  {
   "cell_type": "code",
   "execution_count": 39,
   "id": "dd5fd386",
   "metadata": {},
   "outputs": [],
   "source": [
    "from sklearn.ensemble import IsolationForest"
   ]
  },
  {
   "cell_type": "code",
   "execution_count": 118,
   "id": "3c7c51e3",
   "metadata": {},
   "outputs": [],
   "source": [
    "##fazer depois"
   ]
  },
  {
   "cell_type": "markdown",
   "id": "fb4534c6",
   "metadata": {},
   "source": [
    "*Plotting results*"
   ]
  },
  {
   "cell_type": "code",
   "execution_count": null,
   "id": "54901b7d",
   "metadata": {},
   "outputs": [],
   "source": [
    "## to install dependencies\n",
    "import sys\n",
    "!{sys.executable} -m pip install matplotlib"
   ]
  },
  {
   "cell_type": "markdown",
   "id": "15c7fff9",
   "metadata": {},
   "source": [
    "*Plotting results from experiment 1*"
   ]
  },
  {
   "cell_type": "code",
   "execution_count": 185,
   "id": "2bfece64",
   "metadata": {},
   "outputs": [],
   "source": [
    "from matplotlib import pyplot as plt"
   ]
  },
  {
   "cell_type": "code",
   "execution_count": 186,
   "id": "4d0e14cf",
   "metadata": {},
   "outputs": [
    {
     "name": "stdout",
     "output_type": "stream",
     "text": [
      "1 in predictions: 2952 \\ -1 in predictions: 5734\n"
     ]
    }
   ],
   "source": [
    "labelsPrint = pegaLabels(predicts1)\n",
    "print(\"1 in predictions: \" + str(labelsPrint[0]) + \" \\ -1 in predictions: \" + str(labelsPrint[1])) "
   ]
  },
  {
   "cell_type": "code",
   "execution_count": 187,
   "id": "2bc99ddf",
   "metadata": {},
   "outputs": [
    {
     "data": {
      "image/png": "[encoded data removed]",
      "text/plain": [
       "<Figure size 720x360 with 1 Axes>"
      ]
     },
     "metadata": {
      "needs_background": "light"
     },
     "output_type": "display_data"
    }
   ],
   "source": [
    "plotaGrafico(labelsPrint, \"1\", \"label encoding\")"
   ]
  },
  {
   "cell_type": "markdown",
   "id": "a7784d38",
   "metadata": {},
   "source": [
    "*Plotting results from experiment 2*"
   ]
  },
  {
   "cell_type": "code",
   "execution_count": 188,
   "id": "86cca396",
   "metadata": {},
   "outputs": [
    {
     "name": "stdout",
     "output_type": "stream",
     "text": [
      "1 in predictions: 6958 \\ -1 in predictions: 10414\n"
     ]
    }
   ],
   "source": [
    "labelsPrint = pegaLabels(predicts2)\n",
    "print(\"1 in predictions: \" + str(labelsPrint[0]) + \" \\ -1 in predictions: \" + str(labelsPrint[1])) "
   ]
  },
  {
   "cell_type": "code",
   "execution_count": 189,
   "id": "845f1f57",
   "metadata": {},
   "outputs": [
    {
     "data": {
      "image/png": "[encoded data removed]",
      "text/plain": [
       "<Figure size 720x360 with 1 Axes>"
      ]
     },
     "metadata": {
      "needs_background": "light"
     },
     "output_type": "display_data"
    }
   ],
   "source": [
    "plotaGrafico(labelsPrint, \"2\", \"label encoding\")"
   ]
  },
  {
   "cell_type": "markdown",
   "id": "9496ae41",
   "metadata": {},
   "source": [
    "*Plotting results from experiment 3*"
   ]
  },
  {
   "cell_type": "code",
   "execution_count": 190,
   "id": "24883b45",
   "metadata": {},
   "outputs": [
    {
     "name": "stdout",
     "output_type": "stream",
     "text": [
      "1 in predictions: 122142 \\ -1 in predictions: 51894\n"
     ]
    }
   ],
   "source": [
    "labelsPrint = pegaLabels(predicts3)\n",
    "print(\"1 in predictions: \" + str(labelsPrint[0]) + \" \\ -1 in predictions: \" + str(labelsPrint[1])) "
   ]
  },
  {
   "cell_type": "code",
   "execution_count": 191,
   "id": "a10f823d",
   "metadata": {},
   "outputs": [
    {
     "data": {
      "image/png": "[encoded data removed]",
      "text/plain": [
       "<Figure size 720x360 with 1 Axes>"
      ]
     },
     "metadata": {
      "needs_background": "light"
     },
     "output_type": "display_data"
    }
   ],
   "source": [
    "plotaGrafico(labelsPrint, \"3\", \"label encoding\")"
   ]
  },
  {
   "cell_type": "markdown",
   "id": "49048a18",
   "metadata": {},
   "source": [
    "*Plotting results from experiment 4*"
   ]
  },
  {
   "cell_type": "code",
   "execution_count": 192,
   "id": "99e6e7d6",
   "metadata": {},
   "outputs": [
    {
     "name": "stdout",
     "output_type": "stream",
     "text": [
      "1 in predictions: 6958 \\ -1 in predictions: 10414\n"
     ]
    }
   ],
   "source": [
    "labelsPrint = pegaLabels(predicts2)\n",
    "print(\"1 in predictions: \" + str(labelsPrint[0]) + \" \\ -1 in predictions: \" + str(labelsPrint[1])) "
   ]
  },
  {
   "cell_type": "code",
   "execution_count": 193,
   "id": "15650a46",
   "metadata": {},
   "outputs": [
    {
     "data": {
      "image/png": "[encoded data removed]",
      "text/plain": [
       "<Figure size 720x360 with 1 Axes>"
      ]
     },
     "metadata": {
      "needs_background": "light"
     },
     "output_type": "display_data"
    }
   ],
   "source": [
    "plotaGrafico(labelsPrint, \"4\", \"label encoding\")"
   ]
  },
  {
   "cell_type": "markdown",
   "id": "c5f8a91f",
   "metadata": {},
   "source": [
    "*Plotting results from experiment 5*"
   ]
  },
  {
   "cell_type": "code",
   "execution_count": 137,
   "id": "b74e212b",
   "metadata": {},
   "outputs": [],
   "source": [
    "##fazer ainda"
   ]
  }
 ],
 "metadata": {
  "kernelspec": {
   "display_name": "Python 3 (ipykernel)",
   "language": "python",
   "name": "python3"
  },
  "language_info": {
   "codemirror_mode": {
    "name": "ipython",
    "version": 3
   },
   "file_extension": ".py",
   "mimetype": "text/x-python",
   "name": "python",
   "nbconvert_exporter": "python",
   "pygments_lexer": "ipython3",
   "version": "3.10.2"
  }
 },
 "nbformat": 4,
 "nbformat_minor": 5
}
