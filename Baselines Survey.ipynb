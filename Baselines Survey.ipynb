{
 "cells": [
  {
   "cell_type": "markdown",
   "id": "737d0e3a",
   "metadata": {},
   "source": [
    "Here I'll run some test on the following databases : \"lanl-comprehensive_700k.csv\" and \"lanl-comprehensive-unified-auth.csv\".\n",
    "The model training will disconsider the time column. The experiments will be the following:"
   ]
  },
  {
   "cell_type": "markdown",
   "id": "d659553f",
   "metadata": {},
   "source": [
    " 1 : Experiment with one hot enconding and label enc on the database \"lanl-comprehensive-unified-auth.csv\" dropping \"computer_source\"\n",
    "    \n",
    " 2 : Experiment with one hot enconding and label enc on the database \"lanl-comprehensive-unified-auth.csv\" dropping \"computer_source\"\n",
    " \n",
    " 3 : Experiment with one hot enconding and label enc on the database \"lanl-comprehensive_700k.csv\" dropping \"src_comp\"\n",
    " \n",
    " 4 : Experiment with one hot enconding and label enc on the database \"lanl-comprehensive_700k.csv\" dropping \"src_user\"\n",
    " \n",
    " 5 : Experiment with label enconding and one-hot-enc on both datasets without dropping columns"
   ]
  },
  {
   "cell_type": "markdown",
   "id": "d3c9669e",
   "metadata": {},
   "source": [
    "*Isolation Forest test*"
   ]
  },
  {
   "cell_type": "code",
   "execution_count": 1,
   "id": "d37df648",
   "metadata": {},
   "outputs": [
    {
     "name": "stdout",
     "output_type": "stream",
     "text": [
      "Defaulting to user installation because normal site-packages is not writeable\n",
      "Collecting scikit-learn\n",
      "  Downloading scikit_learn-1.0.2-cp38-cp38-manylinux_2_17_x86_64.manylinux2014_x86_64.whl (26.7 MB)\n",
      "     |████████████████████████████████| 26.7 MB 21 kB/s              \n",
      "\u001b[?25hCollecting threadpoolctl>=2.0.0\n",
      "  Downloading threadpoolctl-3.1.0-py3-none-any.whl (14 kB)\n",
      "Collecting joblib>=0.11\n",
      "  Downloading joblib-1.1.0-py2.py3-none-any.whl (306 kB)\n",
      "     |████████████████████████████████| 306 kB 33.5 MB/s            \n",
      "\u001b[?25hCollecting scipy>=1.1.0\n",
      "  Downloading scipy-1.8.0-cp38-cp38-manylinux_2_17_x86_64.manylinux2014_x86_64.whl (41.6 MB)\n",
      "     |████████████████████████████████| 41.6 MB 7.4 kB/s             ��███▍   | 36.9 MB 32.3 MB/s eta 0:00:01\n",
      "\u001b[?25hCollecting numpy>=1.14.6\n",
      "  Downloading numpy-1.22.3-cp38-cp38-manylinux_2_17_x86_64.manylinux2014_x86_64.whl (16.8 MB)\n",
      "     |████████████████████████████████| 16.8 MB 13.0 MB/s            |████████████▉                   | 6.7 MB 13.0 MB/s eta 0:00:01ta 0:00:01\n",
      "\u001b[?25hInstalling collected packages: numpy, threadpoolctl, scipy, joblib, scikit-learn\n",
      "Successfully installed joblib-1.1.0 numpy-1.22.3 scikit-learn-1.0.2 scipy-1.8.0 threadpoolctl-3.1.0\n",
      "\u001b[33mWARNING: You are using pip version 21.3.1; however, version 22.0.4 is available.\n",
      "You should consider upgrading via the '/bin/python3 -m pip install --upgrade pip' command.\u001b[0m\n",
      "Note: you may need to restart the kernel to use updated packages.\n"
     ]
    }
   ],
   "source": [
    "%pip install -U scikit-learn"
   ]
  },
  {
   "cell_type": "markdown",
   "id": "a84900f0",
   "metadata": {},
   "source": [
    "***Importing the database***"
   ]
  },
  {
   "cell_type": "code",
   "execution_count": 2,
   "id": "9b6cfd1c",
   "metadata": {},
   "outputs": [
    {
     "name": "stdout",
     "output_type": "stream",
     "text": [
      "Defaulting to user installation because normal site-packages is not writeable\n",
      "Requirement already satisfied: numpy in /home/usuario/.local/lib/python3.8/site-packages (1.22.3)\n",
      "\u001b[33mWARNING: You are using pip version 21.3.1; however, version 22.0.4 is available.\n",
      "You should consider upgrading via the '/bin/python3 -m pip install --upgrade pip' command.\u001b[0m\n"
     ]
    }
   ],
   "source": [
    "# only run cells below to install dependencies\n",
    "import sys\n",
    "!{sys.executable} -m pip install numpy"
   ]
  },
  {
   "cell_type": "code",
   "execution_count": 3,
   "id": "6d415689",
   "metadata": {},
   "outputs": [
    {
     "name": "stdout",
     "output_type": "stream",
     "text": [
      "Defaulting to user installation because normal site-packages is not writeable\n",
      "Collecting pandas\n",
      "  Downloading pandas-1.4.2-cp38-cp38-manylinux_2_17_x86_64.manylinux2014_x86_64.whl (11.7 MB)\n",
      "     |████████████████████████████████| 11.7 MB 3.6 MB/s            \n",
      "\u001b[?25hRequirement already satisfied: numpy>=1.18.5 in /home/usuario/.local/lib/python3.8/site-packages (from pandas) (1.22.3)\n",
      "Collecting python-dateutil>=2.8.1\n",
      "  Downloading python_dateutil-2.8.2-py2.py3-none-any.whl (247 kB)\n",
      "     |████████████████████████████████| 247 kB 20.6 MB/s            \n",
      "\u001b[?25hCollecting pytz>=2020.1\n",
      "  Downloading pytz-2022.1-py2.py3-none-any.whl (503 kB)\n",
      "     |████████████████████████████████| 503 kB 17.0 MB/s            \n",
      "\u001b[?25hRequirement already satisfied: six>=1.5 in /usr/lib/python3/dist-packages (from python-dateutil>=2.8.1->pandas) (1.14.0)\n",
      "Installing collected packages: pytz, python-dateutil, pandas\n",
      "Successfully installed pandas-1.4.2 python-dateutil-2.8.2 pytz-2022.1\n",
      "\u001b[33mWARNING: You are using pip version 21.3.1; however, version 22.0.4 is available.\n",
      "You should consider upgrading via the '/bin/python3 -m pip install --upgrade pip' command.\u001b[0m\n"
     ]
    }
   ],
   "source": [
    "!{sys.executable} -m pip install pandas"
   ]
  },
  {
   "cell_type": "code",
   "execution_count": 4,
   "id": "c4e8e14d",
   "metadata": {},
   "outputs": [],
   "source": [
    "import pandas as pd\n",
    "import numpy as np"
   ]
  },
  {
   "cell_type": "markdown",
   "id": "fe7c7a5c",
   "metadata": {},
   "source": [
    "Functions to be used"
   ]
  },
  {
   "cell_type": "code",
   "execution_count": 65,
   "id": "35bc7225",
   "metadata": {},
   "outputs": [],
   "source": [
    "def preparaTabela(nomeDataset, columnDrop = None, percentagem = 0.2):\n",
    "    if (nomeDataset == \"lanl-comprehensive-unified-auth.csv\") :\n",
    "        X = pd.read_csv(\"lanl-comprehensive-unified-auth.csv\",header=None) #an m-by-n dataset with m observations\n",
    "        X.rename(columns={0:'time', 1:'computer_source',2:'user',3:'computer_dest', 4:'label'}, inplace=True)\n",
    "        X = X.iloc[1: , :]\n",
    "        X = X.drop('time', axis = 1)\n",
    "        #labelsX = X.pop('label').to_numpy()\n",
    "        \n",
    "        if(columnDrop == \"computer_source\"):\n",
    "            X = X.drop('computer_source', axis = 1)\n",
    "        elif(columnDrop == \"user\"):\n",
    "            X = X.drop(\"user\", axis = 1)    \n",
    "        \n",
    "        return X #, labelsX\n",
    "            \n",
    "    elif(nomeDataset == \"lanl-comprehensive_700k.csv\"):\n",
    "        Y = pd.read_csv(\"lanl-comprehensive_700k.csv\",header=None, dtype={\"time\": int, \"src_user\": \"string\", \"src_comp\": \"string\",\"dst_comp\": \"string\", \"is_malicious\": int}) #an m-by-n dataset with m observations\n",
    "        Y.rename(columns={0:'time', 1:'src_user',2:'src_comp',3:'dst_comp', 4:'is_malicious'}, inplace=True)\n",
    "        Y = Y.drop('time', axis = 1)\n",
    "        Y = Y.iloc[1: , :] \n",
    "        Y = Y.sample(n=None, frac=percentagem, replace=True, weights=None, random_state=42, axis=None, ignore_index=False) ## dataset too big for my pc\n",
    "        #labelsY = Y.pop('is_malicious').to_numpy()\n",
    "        \n",
    "        if(columnDrop == \"src_comp\"):\n",
    "            Y = Y.drop('src_comp', axis = 1)\n",
    "        elif(columnDrop == \"src_user\"):\n",
    "            Y = Y.drop(\"src_user\", axis = 1)\n",
    "        \n",
    "        return Y #, labelsY"
   ]
  },
  {
   "cell_type": "markdown",
   "id": "3eca7953",
   "metadata": {},
   "source": [
    "*Experiment 1*"
   ]
  },
  {
   "cell_type": "code",
   "execution_count": 116,
   "id": "1505f07d",
   "metadata": {},
   "outputs": [
    {
     "name": "stdout",
     "output_type": "stream",
     "text": [
      "(28953, 3)\n",
      "          user computer_dest label\n",
      "1      U451666       C313779     0\n",
      "2      U451666       C313779     0\n",
      "3      U457678       C639081     0\n",
      "4      U457678       C639081     0\n",
      "5      U416717       C825721     0\n",
      "...        ...           ...   ...\n",
      "28949  U141270       C200079     1\n",
      "28950  U141270       C200079     1\n",
      "28951  U141270       C200079     1\n",
      "28952  U141270       C200079     1\n",
      "28953  U632036       C632332     1\n",
      "\n",
      "[28953 rows x 3 columns]\n"
     ]
    }
   ],
   "source": [
    "X1 = preparaTabela(\"lanl-comprehensive-unified-auth.csv\", \"computer_source\")\n",
    "print(X1.shape)\n",
    "X1.head()\n",
    "print(X1)\n",
    "## dropar time"
   ]
  },
  {
   "cell_type": "markdown",
   "id": "dd7232c8",
   "metadata": {},
   "source": [
    "*Experiment 2*"
   ]
  },
  {
   "cell_type": "code",
   "execution_count": 73,
   "id": "88993b5c",
   "metadata": {},
   "outputs": [
    {
     "name": "stdout",
     "output_type": "stream",
     "text": [
      "(28953, 3)\n"
     ]
    },
    {
     "data": {
      "text/html": [
       "<div>\n",
       "<style scoped>\n",
       "    .dataframe tbody tr th:only-of-type {\n",
       "        vertical-align: middle;\n",
       "    }\n",
       "\n",
       "    .dataframe tbody tr th {\n",
       "        vertical-align: top;\n",
       "    }\n",
       "\n",
       "    .dataframe thead th {\n",
       "        text-align: right;\n",
       "    }\n",
       "</style>\n",
       "<table border=\"1\" class=\"dataframe\">\n",
       "  <thead>\n",
       "    <tr style=\"text-align: right;\">\n",
       "      <th></th>\n",
       "      <th>computer_source</th>\n",
       "      <th>computer_dest</th>\n",
       "      <th>label</th>\n",
       "    </tr>\n",
       "  </thead>\n",
       "  <tbody>\n",
       "    <tr>\n",
       "      <th>1</th>\n",
       "      <td>C288750</td>\n",
       "      <td>C313779</td>\n",
       "      <td>0</td>\n",
       "    </tr>\n",
       "    <tr>\n",
       "      <th>2</th>\n",
       "      <td>C288750</td>\n",
       "      <td>C313779</td>\n",
       "      <td>0</td>\n",
       "    </tr>\n",
       "    <tr>\n",
       "      <th>3</th>\n",
       "      <td>C206546</td>\n",
       "      <td>C639081</td>\n",
       "      <td>0</td>\n",
       "    </tr>\n",
       "    <tr>\n",
       "      <th>4</th>\n",
       "      <td>C206546</td>\n",
       "      <td>C639081</td>\n",
       "      <td>0</td>\n",
       "    </tr>\n",
       "    <tr>\n",
       "      <th>5</th>\n",
       "      <td>C206546</td>\n",
       "      <td>C825721</td>\n",
       "      <td>0</td>\n",
       "    </tr>\n",
       "  </tbody>\n",
       "</table>\n",
       "</div>"
      ],
      "text/plain": [
       "  computer_source computer_dest label\n",
       "1         C288750       C313779     0\n",
       "2         C288750       C313779     0\n",
       "3         C206546       C639081     0\n",
       "4         C206546       C639081     0\n",
       "5         C206546       C825721     0"
      ]
     },
     "execution_count": 73,
     "metadata": {},
     "output_type": "execute_result"
    }
   ],
   "source": [
    "X2 = preparaTabela(\"lanl-comprehensive-unified-auth.csv\", \"user\")\n",
    "print(X2.shape)\n",
    "X2.head()"
   ]
  },
  {
   "cell_type": "markdown",
   "id": "499d44ae",
   "metadata": {},
   "source": [
    "*Experiment 3*"
   ]
  },
  {
   "cell_type": "code",
   "execution_count": 74,
   "id": "22ea8ef8",
   "metadata": {},
   "outputs": [
    {
     "name": "stderr",
     "output_type": "stream",
     "text": [
      "/tmp/ipykernel_13438/3505867173.py:17: DtypeWarning: Columns (0,4) have mixed types. Specify dtype option on import or set low_memory=False.\n",
      "  Y = pd.read_csv(\"lanl-comprehensive_700k.csv\",header=None, dtype={\"time\": int, \"src_user\": \"string\", \"src_comp\": \"string\",\"dst_comp\": \"string\", \"is_malicious\": int}) #an m-by-n dataset with m observations\n"
     ]
    },
    {
     "name": "stdout",
     "output_type": "stream",
     "text": [
      "(290061, 3)\n"
     ]
    },
    {
     "data": {
      "text/html": [
       "<div>\n",
       "<style scoped>\n",
       "    .dataframe tbody tr th:only-of-type {\n",
       "        vertical-align: middle;\n",
       "    }\n",
       "\n",
       "    .dataframe tbody tr th {\n",
       "        vertical-align: top;\n",
       "    }\n",
       "\n",
       "    .dataframe thead th {\n",
       "        text-align: right;\n",
       "    }\n",
       "</style>\n",
       "<table border=\"1\" class=\"dataframe\">\n",
       "  <thead>\n",
       "    <tr style=\"text-align: right;\">\n",
       "      <th></th>\n",
       "      <th>src_user</th>\n",
       "      <th>dst_comp</th>\n",
       "      <th>is_malicious</th>\n",
       "    </tr>\n",
       "  </thead>\n",
       "  <tbody>\n",
       "    <tr>\n",
       "      <th>121959</th>\n",
       "      <td>C417$@DOM1</td>\n",
       "      <td>C625</td>\n",
       "      <td>0</td>\n",
       "    </tr>\n",
       "    <tr>\n",
       "      <th>671156</th>\n",
       "      <td>C87$@DOM1</td>\n",
       "      <td>C1065</td>\n",
       "      <td>0</td>\n",
       "    </tr>\n",
       "    <tr>\n",
       "      <th>131933</th>\n",
       "      <td>C2370$@DOM1</td>\n",
       "      <td>C1065</td>\n",
       "      <td>0</td>\n",
       "    </tr>\n",
       "    <tr>\n",
       "      <th>365839</th>\n",
       "      <td>C480$@DOM1</td>\n",
       "      <td>C625</td>\n",
       "      <td>0</td>\n",
       "    </tr>\n",
       "    <tr>\n",
       "      <th>259179</th>\n",
       "      <td>U924@DOM1</td>\n",
       "      <td>C529</td>\n",
       "      <td>0</td>\n",
       "    </tr>\n",
       "  </tbody>\n",
       "</table>\n",
       "</div>"
      ],
      "text/plain": [
       "           src_user dst_comp is_malicious\n",
       "121959   C417$@DOM1     C625            0\n",
       "671156    C87$@DOM1    C1065            0\n",
       "131933  C2370$@DOM1    C1065            0\n",
       "365839   C480$@DOM1     C625            0\n",
       "259179    U924@DOM1     C529            0"
      ]
     },
     "execution_count": 74,
     "metadata": {},
     "output_type": "execute_result"
    }
   ],
   "source": [
    "Y1 = preparaTabela(\"lanl-comprehensive_700k.csv\", \"src_comp\", percentagem = 0.4)\n",
    "print(Y1.shape)\n",
    "Y1.head()"
   ]
  },
  {
   "cell_type": "markdown",
   "id": "ae70525b",
   "metadata": {},
   "source": [
    "*Experiment 4*"
   ]
  },
  {
   "cell_type": "code",
   "execution_count": 75,
   "id": "a7348edc",
   "metadata": {},
   "outputs": [
    {
     "name": "stderr",
     "output_type": "stream",
     "text": [
      "/tmp/ipykernel_13438/3505867173.py:17: DtypeWarning: Columns (0,4) have mixed types. Specify dtype option on import or set low_memory=False.\n",
      "  Y = pd.read_csv(\"lanl-comprehensive_700k.csv\",header=None, dtype={\"time\": int, \"src_user\": \"string\", \"src_comp\": \"string\",\"dst_comp\": \"string\", \"is_malicious\": int}) #an m-by-n dataset with m observations\n"
     ]
    },
    {
     "name": "stdout",
     "output_type": "stream",
     "text": [
      "(145030, 3)\n"
     ]
    },
    {
     "data": {
      "text/html": [
       "<div>\n",
       "<style scoped>\n",
       "    .dataframe tbody tr th:only-of-type {\n",
       "        vertical-align: middle;\n",
       "    }\n",
       "\n",
       "    .dataframe tbody tr th {\n",
       "        vertical-align: top;\n",
       "    }\n",
       "\n",
       "    .dataframe thead th {\n",
       "        text-align: right;\n",
       "    }\n",
       "</style>\n",
       "<table border=\"1\" class=\"dataframe\">\n",
       "  <thead>\n",
       "    <tr style=\"text-align: right;\">\n",
       "      <th></th>\n",
       "      <th>src_comp</th>\n",
       "      <th>dst_comp</th>\n",
       "      <th>is_malicious</th>\n",
       "    </tr>\n",
       "  </thead>\n",
       "  <tbody>\n",
       "    <tr>\n",
       "      <th>121959</th>\n",
       "      <td>C417</td>\n",
       "      <td>C625</td>\n",
       "      <td>0</td>\n",
       "    </tr>\n",
       "    <tr>\n",
       "      <th>671156</th>\n",
       "      <td>C87</td>\n",
       "      <td>C1065</td>\n",
       "      <td>0</td>\n",
       "    </tr>\n",
       "    <tr>\n",
       "      <th>131933</th>\n",
       "      <td>C2370</td>\n",
       "      <td>C1065</td>\n",
       "      <td>0</td>\n",
       "    </tr>\n",
       "    <tr>\n",
       "      <th>365839</th>\n",
       "      <td>C480</td>\n",
       "      <td>C625</td>\n",
       "      <td>0</td>\n",
       "    </tr>\n",
       "    <tr>\n",
       "      <th>259179</th>\n",
       "      <td>C529</td>\n",
       "      <td>C529</td>\n",
       "      <td>0</td>\n",
       "    </tr>\n",
       "  </tbody>\n",
       "</table>\n",
       "</div>"
      ],
      "text/plain": [
       "       src_comp dst_comp is_malicious\n",
       "121959     C417     C625            0\n",
       "671156      C87    C1065            0\n",
       "131933    C2370    C1065            0\n",
       "365839     C480     C625            0\n",
       "259179     C529     C529            0"
      ]
     },
     "execution_count": 75,
     "metadata": {},
     "output_type": "execute_result"
    }
   ],
   "source": [
    "Y2 = preparaTabela(\"lanl-comprehensive_700k.csv\", \"src_user\")\n",
    "print(Y2.shape)\n",
    "Y2.head()"
   ]
  },
  {
   "cell_type": "code",
   "execution_count": 117,
   "id": "71a15c77",
   "metadata": {},
   "outputs": [
    {
     "name": "stdout",
     "output_type": "stream",
     "text": [
      "total of maligne samples in the dataset '700k': 748\n"
     ]
    }
   ],
   "source": [
    "count = 0\n",
    "for i in X1[\"label\"]:\n",
    "    if i == '1':\n",
    "        count += 1\n",
    "print(\"total of maligne samples in the dataset '700k': \" + str(count))"
   ]
  },
  {
   "cell_type": "markdown",
   "id": "b227608b",
   "metadata": {},
   "source": [
    "*Experiment 5*"
   ]
  },
  {
   "cell_type": "code",
   "execution_count": 78,
   "id": "46ccb78d",
   "metadata": {},
   "outputs": [
    {
     "name": "stdout",
     "output_type": "stream",
     "text": [
      "(145030, 4)\n"
     ]
    },
    {
     "name": "stderr",
     "output_type": "stream",
     "text": [
      "/tmp/ipykernel_13438/3505867173.py:17: DtypeWarning: Columns (0,4) have mixed types. Specify dtype option on import or set low_memory=False.\n",
      "  Y = pd.read_csv(\"lanl-comprehensive_700k.csv\",header=None, dtype={\"time\": int, \"src_user\": \"string\", \"src_comp\": \"string\",\"dst_comp\": \"string\", \"is_malicious\": int}) #an m-by-n dataset with m observations\n"
     ]
    },
    {
     "data": {
      "text/html": [
       "<div>\n",
       "<style scoped>\n",
       "    .dataframe tbody tr th:only-of-type {\n",
       "        vertical-align: middle;\n",
       "    }\n",
       "\n",
       "    .dataframe tbody tr th {\n",
       "        vertical-align: top;\n",
       "    }\n",
       "\n",
       "    .dataframe thead th {\n",
       "        text-align: right;\n",
       "    }\n",
       "</style>\n",
       "<table border=\"1\" class=\"dataframe\">\n",
       "  <thead>\n",
       "    <tr style=\"text-align: right;\">\n",
       "      <th></th>\n",
       "      <th>src_user</th>\n",
       "      <th>src_comp</th>\n",
       "      <th>dst_comp</th>\n",
       "      <th>is_malicious</th>\n",
       "    </tr>\n",
       "  </thead>\n",
       "  <tbody>\n",
       "    <tr>\n",
       "      <th>121959</th>\n",
       "      <td>C417$@DOM1</td>\n",
       "      <td>C417</td>\n",
       "      <td>C625</td>\n",
       "      <td>0</td>\n",
       "    </tr>\n",
       "    <tr>\n",
       "      <th>671156</th>\n",
       "      <td>C87$@DOM1</td>\n",
       "      <td>C87</td>\n",
       "      <td>C1065</td>\n",
       "      <td>0</td>\n",
       "    </tr>\n",
       "    <tr>\n",
       "      <th>131933</th>\n",
       "      <td>C2370$@DOM1</td>\n",
       "      <td>C2370</td>\n",
       "      <td>C1065</td>\n",
       "      <td>0</td>\n",
       "    </tr>\n",
       "    <tr>\n",
       "      <th>365839</th>\n",
       "      <td>C480$@DOM1</td>\n",
       "      <td>C480</td>\n",
       "      <td>C625</td>\n",
       "      <td>0</td>\n",
       "    </tr>\n",
       "    <tr>\n",
       "      <th>259179</th>\n",
       "      <td>U924@DOM1</td>\n",
       "      <td>C529</td>\n",
       "      <td>C529</td>\n",
       "      <td>0</td>\n",
       "    </tr>\n",
       "  </tbody>\n",
       "</table>\n",
       "</div>"
      ],
      "text/plain": [
       "           src_user src_comp dst_comp is_malicious\n",
       "121959   C417$@DOM1     C417     C625            0\n",
       "671156    C87$@DOM1      C87    C1065            0\n",
       "131933  C2370$@DOM1    C2370    C1065            0\n",
       "365839   C480$@DOM1     C480     C625            0\n",
       "259179    U924@DOM1     C529     C529            0"
      ]
     },
     "execution_count": 78,
     "metadata": {},
     "output_type": "execute_result"
    }
   ],
   "source": [
    "Y3 = preparaTabela(\"lanl-comprehensive_700k.csv\")\n",
    "print(Y3.shape)\n",
    "Y3.head()"
   ]
  },
  {
   "cell_type": "code",
   "execution_count": 79,
   "id": "fcb3bd43",
   "metadata": {},
   "outputs": [
    {
     "name": "stdout",
     "output_type": "stream",
     "text": [
      "(28953, 4)\n"
     ]
    },
    {
     "data": {
      "text/html": [
       "<div>\n",
       "<style scoped>\n",
       "    .dataframe tbody tr th:only-of-type {\n",
       "        vertical-align: middle;\n",
       "    }\n",
       "\n",
       "    .dataframe tbody tr th {\n",
       "        vertical-align: top;\n",
       "    }\n",
       "\n",
       "    .dataframe thead th {\n",
       "        text-align: right;\n",
       "    }\n",
       "</style>\n",
       "<table border=\"1\" class=\"dataframe\">\n",
       "  <thead>\n",
       "    <tr style=\"text-align: right;\">\n",
       "      <th></th>\n",
       "      <th>computer_source</th>\n",
       "      <th>user</th>\n",
       "      <th>computer_dest</th>\n",
       "      <th>label</th>\n",
       "    </tr>\n",
       "  </thead>\n",
       "  <tbody>\n",
       "    <tr>\n",
       "      <th>1</th>\n",
       "      <td>C288750</td>\n",
       "      <td>U451666</td>\n",
       "      <td>C313779</td>\n",
       "      <td>0</td>\n",
       "    </tr>\n",
       "    <tr>\n",
       "      <th>2</th>\n",
       "      <td>C288750</td>\n",
       "      <td>U451666</td>\n",
       "      <td>C313779</td>\n",
       "      <td>0</td>\n",
       "    </tr>\n",
       "    <tr>\n",
       "      <th>3</th>\n",
       "      <td>C206546</td>\n",
       "      <td>U457678</td>\n",
       "      <td>C639081</td>\n",
       "      <td>0</td>\n",
       "    </tr>\n",
       "    <tr>\n",
       "      <th>4</th>\n",
       "      <td>C206546</td>\n",
       "      <td>U457678</td>\n",
       "      <td>C639081</td>\n",
       "      <td>0</td>\n",
       "    </tr>\n",
       "    <tr>\n",
       "      <th>5</th>\n",
       "      <td>C206546</td>\n",
       "      <td>U416717</td>\n",
       "      <td>C825721</td>\n",
       "      <td>0</td>\n",
       "    </tr>\n",
       "  </tbody>\n",
       "</table>\n",
       "</div>"
      ],
      "text/plain": [
       "  computer_source     user computer_dest label\n",
       "1         C288750  U451666       C313779     0\n",
       "2         C288750  U451666       C313779     0\n",
       "3         C206546  U457678       C639081     0\n",
       "4         C206546  U457678       C639081     0\n",
       "5         C206546  U416717       C825721     0"
      ]
     },
     "execution_count": 79,
     "metadata": {},
     "output_type": "execute_result"
    }
   ],
   "source": [
    "X3 = preparaTabela(\"lanl-comprehensive-unified-auth.csv\")\n",
    "print(X3.shape)\n",
    "X3.head()"
   ]
  },
  {
   "cell_type": "markdown",
   "id": "dbb9e827",
   "metadata": {},
   "source": [
    "One Hot Encoding"
   ]
  },
  {
   "cell_type": "code",
   "execution_count": 101,
   "id": "ff044072",
   "metadata": {},
   "outputs": [],
   "source": [
    "## fazer depois do label encoder\n",
    "#from sklearn.preprocessing import OneHotEncoder\n",
    "#encoder = OneHotEncoder()"
   ]
  },
  {
   "cell_type": "code",
   "execution_count": 102,
   "id": "c8c0a222",
   "metadata": {},
   "outputs": [],
   "source": [
    "#X = encoder.fit_transform(X2[['user', 'computer_dest']]).toarray()"
   ]
  },
  {
   "cell_type": "code",
   "execution_count": 103,
   "id": "b474a630",
   "metadata": {},
   "outputs": [],
   "source": [
    "#Y = encoder.fit_transform(Y2[['src_comp', 'dst_comp']]).toarray()"
   ]
  },
  {
   "cell_type": "code",
   "execution_count": 104,
   "id": "4a390114",
   "metadata": {},
   "outputs": [],
   "source": [
    "#print(Y2)"
   ]
  },
  {
   "cell_type": "code",
   "execution_count": 105,
   "id": "8218c10f",
   "metadata": {},
   "outputs": [],
   "source": [
    "#print(X2)"
   ]
  },
  {
   "cell_type": "markdown",
   "id": "4f9b5c5b",
   "metadata": {},
   "source": [
    "*Labels Encoding*"
   ]
  },
  {
   "cell_type": "code",
   "execution_count": 80,
   "id": "814a68e1",
   "metadata": {},
   "outputs": [],
   "source": [
    "from sklearn.preprocessing import LabelEncoder"
   ]
  },
  {
   "cell_type": "code",
   "execution_count": 81,
   "id": "5231e10f",
   "metadata": {},
   "outputs": [],
   "source": [
    "def utilizaLabelEnc(dataFrame, col1, col2, col3 = None):\n",
    "    enc_1 = LabelEncoder()\n",
    "    enc_2 = LabelEncoder()\n",
    "    enc_1.fit(dataFrame[col1])\n",
    "    enc_2.fit(dataFrame[col2])\n",
    "    if(col3 != None):\n",
    "        enc_3 = LabelEncoder()#mais um encoder(fazer depois)\n",
    "    df = dataFrame\n",
    "    df[col1] = enc_1.transform(df[col1])\n",
    "    df[col2] = enc_2.transform(df[col2])\n",
    "    return df"
   ]
  },
  {
   "cell_type": "markdown",
   "id": "dd693566",
   "metadata": {},
   "source": [
    "*Exp 1*"
   ]
  },
  {
   "cell_type": "code",
   "execution_count": 82,
   "id": "bc7e79da",
   "metadata": {},
   "outputs": [
    {
     "data": {
      "text/html": [
       "<div>\n",
       "<style scoped>\n",
       "    .dataframe tbody tr th:only-of-type {\n",
       "        vertical-align: middle;\n",
       "    }\n",
       "\n",
       "    .dataframe tbody tr th {\n",
       "        vertical-align: top;\n",
       "    }\n",
       "\n",
       "    .dataframe thead th {\n",
       "        text-align: right;\n",
       "    }\n",
       "</style>\n",
       "<table border=\"1\" class=\"dataframe\">\n",
       "  <thead>\n",
       "    <tr style=\"text-align: right;\">\n",
       "      <th></th>\n",
       "      <th>user</th>\n",
       "      <th>computer_dest</th>\n",
       "      <th>label</th>\n",
       "    </tr>\n",
       "  </thead>\n",
       "  <tbody>\n",
       "    <tr>\n",
       "      <th>1</th>\n",
       "      <td>825</td>\n",
       "      <td>612</td>\n",
       "      <td>0</td>\n",
       "    </tr>\n",
       "    <tr>\n",
       "      <th>2</th>\n",
       "      <td>825</td>\n",
       "      <td>612</td>\n",
       "      <td>0</td>\n",
       "    </tr>\n",
       "    <tr>\n",
       "      <th>3</th>\n",
       "      <td>835</td>\n",
       "      <td>1282</td>\n",
       "      <td>0</td>\n",
       "    </tr>\n",
       "    <tr>\n",
       "      <th>4</th>\n",
       "      <td>835</td>\n",
       "      <td>1282</td>\n",
       "      <td>0</td>\n",
       "    </tr>\n",
       "    <tr>\n",
       "      <th>5</th>\n",
       "      <td>761</td>\n",
       "      <td>1673</td>\n",
       "      <td>0</td>\n",
       "    </tr>\n",
       "  </tbody>\n",
       "</table>\n",
       "</div>"
      ],
      "text/plain": [
       "   user  computer_dest label\n",
       "1   825            612     0\n",
       "2   825            612     0\n",
       "3   835           1282     0\n",
       "4   835           1282     0\n",
       "5   761           1673     0"
      ]
     },
     "execution_count": 82,
     "metadata": {},
     "output_type": "execute_result"
    }
   ],
   "source": [
    "X1_labelEnc = utilizaLabelEnc(X1, \"user\", \"computer_dest\")\n",
    "X1_labelEnc.head()"
   ]
  },
  {
   "cell_type": "markdown",
   "id": "776e1640",
   "metadata": {},
   "source": [
    "*Exp 2*"
   ]
  },
  {
   "cell_type": "code",
   "execution_count": 83,
   "id": "59399ab2",
   "metadata": {},
   "outputs": [
    {
     "data": {
      "text/html": [
       "<div>\n",
       "<style scoped>\n",
       "    .dataframe tbody tr th:only-of-type {\n",
       "        vertical-align: middle;\n",
       "    }\n",
       "\n",
       "    .dataframe tbody tr th {\n",
       "        vertical-align: top;\n",
       "    }\n",
       "\n",
       "    .dataframe thead th {\n",
       "        text-align: right;\n",
       "    }\n",
       "</style>\n",
       "<table border=\"1\" class=\"dataframe\">\n",
       "  <thead>\n",
       "    <tr style=\"text-align: right;\">\n",
       "      <th></th>\n",
       "      <th>computer_source</th>\n",
       "      <th>computer_dest</th>\n",
       "      <th>label</th>\n",
       "    </tr>\n",
       "  </thead>\n",
       "  <tbody>\n",
       "    <tr>\n",
       "      <th>1</th>\n",
       "      <td>394</td>\n",
       "      <td>612</td>\n",
       "      <td>0</td>\n",
       "    </tr>\n",
       "    <tr>\n",
       "      <th>2</th>\n",
       "      <td>394</td>\n",
       "      <td>612</td>\n",
       "      <td>0</td>\n",
       "    </tr>\n",
       "    <tr>\n",
       "      <th>3</th>\n",
       "      <td>252</td>\n",
       "      <td>1282</td>\n",
       "      <td>0</td>\n",
       "    </tr>\n",
       "    <tr>\n",
       "      <th>4</th>\n",
       "      <td>252</td>\n",
       "      <td>1282</td>\n",
       "      <td>0</td>\n",
       "    </tr>\n",
       "    <tr>\n",
       "      <th>5</th>\n",
       "      <td>252</td>\n",
       "      <td>1673</td>\n",
       "      <td>0</td>\n",
       "    </tr>\n",
       "  </tbody>\n",
       "</table>\n",
       "</div>"
      ],
      "text/plain": [
       "   computer_source  computer_dest label\n",
       "1              394            612     0\n",
       "2              394            612     0\n",
       "3              252           1282     0\n",
       "4              252           1282     0\n",
       "5              252           1673     0"
      ]
     },
     "execution_count": 83,
     "metadata": {},
     "output_type": "execute_result"
    }
   ],
   "source": [
    "X2_labelEnc = utilizaLabelEnc(X2, \"computer_source\", \"computer_dest\")\n",
    "X2_labelEnc.head()"
   ]
  },
  {
   "cell_type": "markdown",
   "id": "88538cee",
   "metadata": {},
   "source": [
    "*Exp 3*"
   ]
  },
  {
   "cell_type": "code",
   "execution_count": 84,
   "id": "56ef690f",
   "metadata": {},
   "outputs": [
    {
     "data": {
      "text/html": [
       "<div>\n",
       "<style scoped>\n",
       "    .dataframe tbody tr th:only-of-type {\n",
       "        vertical-align: middle;\n",
       "    }\n",
       "\n",
       "    .dataframe tbody tr th {\n",
       "        vertical-align: top;\n",
       "    }\n",
       "\n",
       "    .dataframe thead th {\n",
       "        text-align: right;\n",
       "    }\n",
       "</style>\n",
       "<table border=\"1\" class=\"dataframe\">\n",
       "  <thead>\n",
       "    <tr style=\"text-align: right;\">\n",
       "      <th></th>\n",
       "      <th>src_user</th>\n",
       "      <th>dst_comp</th>\n",
       "      <th>is_malicious</th>\n",
       "    </tr>\n",
       "  </thead>\n",
       "  <tbody>\n",
       "    <tr>\n",
       "      <th>121959</th>\n",
       "      <td>2584</td>\n",
       "      <td>323</td>\n",
       "      <td>0</td>\n",
       "    </tr>\n",
       "    <tr>\n",
       "      <th>671156</th>\n",
       "      <td>3876</td>\n",
       "      <td>15</td>\n",
       "      <td>0</td>\n",
       "    </tr>\n",
       "    <tr>\n",
       "      <th>131933</th>\n",
       "      <td>1279</td>\n",
       "      <td>15</td>\n",
       "      <td>0</td>\n",
       "    </tr>\n",
       "    <tr>\n",
       "      <th>365839</th>\n",
       "      <td>2981</td>\n",
       "      <td>323</td>\n",
       "      <td>0</td>\n",
       "    </tr>\n",
       "    <tr>\n",
       "      <th>259179</th>\n",
       "      <td>5391</td>\n",
       "      <td>303</td>\n",
       "      <td>0</td>\n",
       "    </tr>\n",
       "  </tbody>\n",
       "</table>\n",
       "</div>"
      ],
      "text/plain": [
       "        src_user  dst_comp is_malicious\n",
       "121959      2584       323            0\n",
       "671156      3876        15            0\n",
       "131933      1279        15            0\n",
       "365839      2981       323            0\n",
       "259179      5391       303            0"
      ]
     },
     "execution_count": 84,
     "metadata": {},
     "output_type": "execute_result"
    }
   ],
   "source": [
    "Y1_labelEnc = utilizaLabelEnc(Y1, \"src_user\", \"dst_comp\")\n",
    "Y1_labelEnc.head()"
   ]
  },
  {
   "cell_type": "markdown",
   "id": "ecb1bfa9",
   "metadata": {},
   "source": [
    "*Exp 4*"
   ]
  },
  {
   "cell_type": "code",
   "execution_count": 85,
   "id": "5e79b3d5",
   "metadata": {},
   "outputs": [
    {
     "data": {
      "text/html": [
       "<div>\n",
       "<style scoped>\n",
       "    .dataframe tbody tr th:only-of-type {\n",
       "        vertical-align: middle;\n",
       "    }\n",
       "\n",
       "    .dataframe tbody tr th {\n",
       "        vertical-align: top;\n",
       "    }\n",
       "\n",
       "    .dataframe thead th {\n",
       "        text-align: right;\n",
       "    }\n",
       "</style>\n",
       "<table border=\"1\" class=\"dataframe\">\n",
       "  <thead>\n",
       "    <tr style=\"text-align: right;\">\n",
       "      <th></th>\n",
       "      <th>src_comp</th>\n",
       "      <th>dst_comp</th>\n",
       "      <th>is_malicious</th>\n",
       "    </tr>\n",
       "  </thead>\n",
       "  <tbody>\n",
       "    <tr>\n",
       "      <th>121959</th>\n",
       "      <td>2565</td>\n",
       "      <td>286</td>\n",
       "      <td>0</td>\n",
       "    </tr>\n",
       "    <tr>\n",
       "      <th>671156</th>\n",
       "      <td>3834</td>\n",
       "      <td>14</td>\n",
       "      <td>0</td>\n",
       "    </tr>\n",
       "    <tr>\n",
       "      <th>131933</th>\n",
       "      <td>1255</td>\n",
       "      <td>14</td>\n",
       "      <td>0</td>\n",
       "    </tr>\n",
       "    <tr>\n",
       "      <th>365839</th>\n",
       "      <td>2956</td>\n",
       "      <td>286</td>\n",
       "      <td>0</td>\n",
       "    </tr>\n",
       "    <tr>\n",
       "      <th>259179</th>\n",
       "      <td>3251</td>\n",
       "      <td>270</td>\n",
       "      <td>0</td>\n",
       "    </tr>\n",
       "  </tbody>\n",
       "</table>\n",
       "</div>"
      ],
      "text/plain": [
       "        src_comp  dst_comp is_malicious\n",
       "121959      2565       286            0\n",
       "671156      3834        14            0\n",
       "131933      1255        14            0\n",
       "365839      2956       286            0\n",
       "259179      3251       270            0"
      ]
     },
     "execution_count": 85,
     "metadata": {},
     "output_type": "execute_result"
    }
   ],
   "source": [
    "Y2_labelEnc = utilizaLabelEnc(Y2, \"src_comp\", \"dst_comp\")\n",
    "Y2_labelEnc.head()"
   ]
  },
  {
   "cell_type": "markdown",
   "id": "ac0ce4ae",
   "metadata": {},
   "source": [
    "*Exp 5*"
   ]
  },
  {
   "cell_type": "code",
   "execution_count": 112,
   "id": "48bc2d59",
   "metadata": {},
   "outputs": [],
   "source": [
    "##fazer depois"
   ]
  },
  {
   "cell_type": "markdown",
   "id": "0ad384c1",
   "metadata": {},
   "source": [
    "**Divisão Experimento de Treino/Teste:**"
   ]
  },
  {
   "cell_type": "code",
   "execution_count": 130,
   "id": "a07e6db5",
   "metadata": {},
   "outputs": [],
   "source": [
    "def printLabelsX(array):\n",
    "    total1 = 0\n",
    "\n",
    "    for i in array[\"label\"]:\n",
    "        if i == '1' or i == 1: \n",
    "            total1 += 1\n",
    "\n",
    "    print(\"total of labels 1 in the training set: \" + str(total1))\n",
    "    return array"
   ]
  },
  {
   "cell_type": "code",
   "execution_count": 129,
   "id": "5ad2e30c",
   "metadata": {},
   "outputs": [],
   "source": [
    "def printLabelsY(array):\n",
    "    total1 = 0\n",
    "\n",
    "    for i in array[\"is_malicious\"]:\n",
    "        if i == '1' or i == 1: \n",
    "            total1 += 1\n",
    "\n",
    "    print(\"total of labels 1 in the training set: \" + str(total1))\n",
    "    return array"
   ]
  },
  {
   "cell_type": "code",
   "execution_count": 131,
   "id": "dfb2b78f",
   "metadata": {},
   "outputs": [],
   "source": [
    "import math\n",
    "\n",
    "def divideDatabaseX(arrayInput, percentagem = 0.4):\n",
    "    tamanhoCorte = math.floor(np.shape(arrayInput)[0] * percentagem)\n",
    "    print(tamanhoCorte)\n",
    "    X_train = arrayInput[:tamanhoCorte]\n",
    "    X_test = arrayInput[tamanhoCorte:]\n",
    "    \n",
    "    ## só pra garantir que não há nenhuma anomialia no treino\n",
    "    X_train = printLabelsX(X_train)\n",
    "        \n",
    "    return X_train, X_test     # returning labels for metrics after testing"
   ]
  },
  {
   "cell_type": "code",
   "execution_count": 128,
   "id": "09b173b5",
   "metadata": {},
   "outputs": [],
   "source": [
    "import math\n",
    "\n",
    "def divideDatabaseY(arrayInput, percentagem = 0.4):\n",
    "    tamanhoCorte = math.floor(np.shape(arrayInput)[0] * percentagem)\n",
    "    print(tamanhoCorte)\n",
    "    Y_test = arrayInput[:tamanhoCorte]\n",
    "    Y_train = arrayInput[tamanhoCorte:]\n",
    "    \n",
    "    ## só pra garantir que não há nenhuma anomialia no treino\n",
    "    Y_train = printLabelsY(Y_train)\n",
    "\n",
    "    return Y_train, Y_test     # returning labels for metrics after testin\n",
    "        "
   ]
  },
  {
   "cell_type": "markdown",
   "id": "e67dd142",
   "metadata": {},
   "source": [
    "Exp 1"
   ]
  },
  {
   "cell_type": "code",
   "execution_count": 132,
   "id": "41b060ef",
   "metadata": {},
   "outputs": [
    {
     "name": "stdout",
     "output_type": "stream",
     "text": [
      "20267\n",
      "total of labels 1 in the training set: 0\n"
     ]
    }
   ],
   "source": [
    "X_train1, X_test1 = divideDatabaseX(X1_labelEnc, percentagem = 0.7) #divide the base and getting labels for test-set"
   ]
  },
  {
   "cell_type": "markdown",
   "id": "ea41c6c0",
   "metadata": {},
   "source": [
    "Exp 2"
   ]
  },
  {
   "cell_type": "code",
   "execution_count": 133,
   "id": "f007b02a",
   "metadata": {},
   "outputs": [
    {
     "name": "stdout",
     "output_type": "stream",
     "text": [
      "11581\n",
      "total of labels 1 in the training set: 0\n"
     ]
    }
   ],
   "source": [
    "X_train2, X_test2 = divideDatabaseX(X2_labelEnc)"
   ]
  },
  {
   "cell_type": "markdown",
   "id": "f91bcf33",
   "metadata": {},
   "source": [
    "Exp 3"
   ]
  },
  {
   "cell_type": "code",
   "execution_count": 135,
   "id": "dca5896a",
   "metadata": {},
   "outputs": [
    {
     "name": "stdout",
     "output_type": "stream",
     "text": [
      "174036\n",
      "total of labels 1 in the training set: 133\n"
     ]
    }
   ],
   "source": [
    "Y_train1, Y_test1 = divideDatabaseY(Y1_labelEnc, percentagem = 0.6) #taking final 40% portion for training "
   ]
  },
  {
   "cell_type": "markdown",
   "id": "56ce30d2",
   "metadata": {},
   "source": [
    "Exp 4"
   ]
  },
  {
   "cell_type": "code",
   "execution_count": 136,
   "id": "ab854a78",
   "metadata": {},
   "outputs": [
    {
     "name": "stdout",
     "output_type": "stream",
     "text": [
      "87018\n",
      "total of labels 1 in the training set: 50\n"
     ]
    }
   ],
   "source": [
    "Y_train2, Y_test2 = divideDatabaseY(Y2_labelEnc, percentagem = 0.6)"
   ]
  },
  {
   "cell_type": "markdown",
   "id": "b3b36e8f",
   "metadata": {},
   "source": [
    "Exp 5"
   ]
  },
  {
   "cell_type": "markdown",
   "id": "b192f72b",
   "metadata": {},
   "source": [
    "**Resultados**"
   ]
  },
  {
   "cell_type": "markdown",
   "id": "dfab37f2",
   "metadata": {},
   "source": [
    "**Isolation Forest with label encoding**"
   ]
  },
  {
   "cell_type": "code",
   "execution_count": 139,
   "id": "5b356ceb",
   "metadata": {},
   "outputs": [],
   "source": [
    "from sklearn.ensemble import IsolationForest"
   ]
  },
  {
   "cell_type": "code",
   "execution_count": 287,
   "id": "412ec193",
   "metadata": {},
   "outputs": [],
   "source": [
    "def pred(abnormality):\n",
    "    array = []\n",
    "    threshold = 0.575\n",
    "    for i in abnormality:\n",
    "        if -i > threshold:\n",
    "            array.append(-1)\n",
    "        else:\n",
    "            array.append(1)\n",
    "    return array"
   ]
  },
  {
   "cell_type": "markdown",
   "id": "07964462",
   "metadata": {},
   "source": [
    "Exp 1"
   ]
  },
  {
   "cell_type": "code",
   "execution_count": 283,
   "id": "351f2a03",
   "metadata": {},
   "outputs": [
    {
     "data": {
      "text/plain": [
       "IsolationForest(random_state=0)"
      ]
     },
     "execution_count": 283,
     "metadata": {},
     "output_type": "execute_result"
    }
   ],
   "source": [
    "modelo1 = IsolationForest(random_state=0)\n",
    "modelo1.fit(X_train1)"
   ]
  },
  {
   "cell_type": "code",
   "execution_count": 288,
   "id": "e9a23e57",
   "metadata": {},
   "outputs": [],
   "source": [
    "#predicts1 = modelo1.predict(X_test1)\n",
    "anomaly1 = modelo1.score_samples(X_test1)\n",
    "predicts1 = pred(anomaly1)"
   ]
  },
  {
   "cell_type": "markdown",
   "id": "4f900c8e",
   "metadata": {},
   "source": [
    "Exp 2"
   ]
  },
  {
   "cell_type": "code",
   "execution_count": 183,
   "id": "d1cd2931",
   "metadata": {},
   "outputs": [
    {
     "data": {
      "text/plain": [
       "IsolationForest(random_state=0)"
      ]
     },
     "execution_count": 183,
     "metadata": {},
     "output_type": "execute_result"
    }
   ],
   "source": [
    "modelo2 = IsolationForest(random_state=0)\n",
    "modelo2.fit(X_train2)"
   ]
  },
  {
   "cell_type": "code",
   "execution_count": 258,
   "id": "0947ed6d",
   "metadata": {},
   "outputs": [],
   "source": [
    "#predicts2 = modelo2.predict(X_test2)\n",
    "anomaly2 = modelo2.score_samples(X_test2)\n",
    "predicts2 = pred(anomaly2)"
   ]
  },
  {
   "cell_type": "markdown",
   "id": "7b906054",
   "metadata": {},
   "source": [
    "Exp 3"
   ]
  },
  {
   "cell_type": "code",
   "execution_count": 185,
   "id": "2fc6bde9",
   "metadata": {},
   "outputs": [
    {
     "data": {
      "text/plain": [
       "IsolationForest(random_state=0)"
      ]
     },
     "execution_count": 185,
     "metadata": {},
     "output_type": "execute_result"
    }
   ],
   "source": [
    "modelo3 = IsolationForest(random_state=0)\n",
    "modelo3.fit(Y_train1)"
   ]
  },
  {
   "cell_type": "code",
   "execution_count": 259,
   "id": "cf1a32e1",
   "metadata": {},
   "outputs": [],
   "source": [
    "#predicts3 = modelo3.predict(Y_test1)\n",
    "anomaly3 = modelo3.score_samples(Y_test1)\n",
    "threshold3 = modelo3.decision_function(Y_test1)\n",
    "predicts3 = pred(anomaly3,threshold3)"
   ]
  },
  {
   "cell_type": "markdown",
   "id": "8750c885",
   "metadata": {},
   "source": [
    "Exp 4"
   ]
  },
  {
   "cell_type": "code",
   "execution_count": 187,
   "id": "7bdd3630",
   "metadata": {},
   "outputs": [
    {
     "data": {
      "text/plain": [
       "IsolationForest(random_state=0)"
      ]
     },
     "execution_count": 187,
     "metadata": {},
     "output_type": "execute_result"
    }
   ],
   "source": [
    "modelo4 = IsolationForest(random_state=0)\n",
    "modelo4.fit(Y_train2)"
   ]
  },
  {
   "cell_type": "code",
   "execution_count": 260,
   "id": "189ae605",
   "metadata": {},
   "outputs": [],
   "source": [
    "#predicts4 = modelo4.predict(Y_test2)\n",
    "anomaly4 = modelo4.score_samples(Y_test2)\n",
    "predicts4 = pred(anomaly4)"
   ]
  },
  {
   "cell_type": "markdown",
   "id": "fedf5cfe",
   "metadata": {},
   "source": [
    "Exp 5"
   ]
  },
  {
   "cell_type": "code",
   "execution_count": null,
   "id": "95c77bcc",
   "metadata": {},
   "outputs": [],
   "source": [
    "##Fazer depois"
   ]
  },
  {
   "cell_type": "markdown",
   "id": "d3e01e7e",
   "metadata": {},
   "source": [
    "*Isolation Forest with one hot encoding*"
   ]
  },
  {
   "cell_type": "code",
   "execution_count": 189,
   "id": "dd5fd386",
   "metadata": {},
   "outputs": [],
   "source": [
    "from sklearn.ensemble import IsolationForest"
   ]
  },
  {
   "cell_type": "code",
   "execution_count": 118,
   "id": "3c7c51e3",
   "metadata": {},
   "outputs": [],
   "source": [
    "##fazer depois"
   ]
  },
  {
   "cell_type": "markdown",
   "id": "fb4534c6",
   "metadata": {},
   "source": [
    "*Plotting results*"
   ]
  },
  {
   "cell_type": "code",
   "execution_count": 150,
   "id": "54901b7d",
   "metadata": {},
   "outputs": [
    {
     "name": "stdout",
     "output_type": "stream",
     "text": [
      "Defaulting to user installation because normal site-packages is not writeable\n",
      "Collecting matplotlib\n",
      "  Downloading matplotlib-3.5.1-cp38-cp38-manylinux_2_5_x86_64.manylinux1_x86_64.whl (11.3 MB)\n",
      "     |████████████████████████████████| 11.3 MB 3.7 MB/s            \n",
      "\u001b[?25hCollecting fonttools>=4.22.0\n",
      "  Downloading fonttools-4.31.2-py3-none-any.whl (899 kB)\n",
      "     |████████████████████████████████| 899 kB 12.6 MB/s            \n",
      "\u001b[?25hCollecting kiwisolver>=1.0.1\n",
      "  Downloading kiwisolver-1.4.2-cp38-cp38-manylinux_2_5_x86_64.manylinux1_x86_64.whl (1.2 MB)\n",
      "     |████████████████████████████████| 1.2 MB 21.0 MB/s            \n",
      "\u001b[?25hCollecting packaging>=20.0\n",
      "  Downloading packaging-21.3-py3-none-any.whl (40 kB)\n",
      "     |████████████████████████████████| 40 kB 105 kB/s             \n",
      "\u001b[?25hRequirement already satisfied: python-dateutil>=2.7 in /home/usuario/.local/lib/python3.8/site-packages (from matplotlib) (2.8.2)\n",
      "Collecting cycler>=0.10\n",
      "  Downloading cycler-0.11.0-py3-none-any.whl (6.4 kB)\n",
      "Requirement already satisfied: numpy>=1.17 in /home/usuario/.local/lib/python3.8/site-packages (from matplotlib) (1.22.3)\n",
      "Collecting pyparsing>=2.2.1\n",
      "  Downloading pyparsing-3.0.7-py3-none-any.whl (98 kB)\n",
      "     |████████████████████████████████| 98 kB 732 kB/s             \n",
      "\u001b[?25hRequirement already satisfied: pillow>=6.2.0 in /usr/lib/python3/dist-packages (from matplotlib) (7.0.0)\n",
      "Requirement already satisfied: six>=1.5 in /usr/lib/python3/dist-packages (from python-dateutil>=2.7->matplotlib) (1.14.0)\n",
      "Installing collected packages: pyparsing, packaging, kiwisolver, fonttools, cycler, matplotlib\n",
      "Successfully installed cycler-0.11.0 fonttools-4.31.2 kiwisolver-1.4.2 matplotlib-3.5.1 packaging-21.3 pyparsing-3.0.7\n",
      "\u001b[33mWARNING: You are using pip version 21.3.1; however, version 22.0.4 is available.\n",
      "You should consider upgrading via the '/bin/python3 -m pip install --upgrade pip' command.\u001b[0m\n"
     ]
    }
   ],
   "source": [
    "## to install dependencies\n",
    "import sys\n",
    "!{sys.executable} -m pip install matplotlib"
   ]
  },
  {
   "cell_type": "code",
   "execution_count": null,
   "id": "69fdf504",
   "metadata": {},
   "outputs": [],
   "source": [
    "def plotaGrafico(arrayAnomalia,arrayInput, numeroExp, tipoEnc):\n",
    "    fig, axs = plt.subplots(1, 2, figsize=(12, 5), constrained_layout=True,\n",
    "                        sharex=False, sharey=False, facecolor='#dddddd')\n",
    "    \n",
    "    # creating the bar plot\n",
    "    possiveis = [1,-1] # because it's an isolation forest\n",
    "   \n",
    "    axs.flat[0].bar(possiveis, arrayInput)\n",
    "    axs.flat[0].set_xlabel(\"labels\")\n",
    "    axs.flat[0].set_ylabel(\"número de instâncias\")\n",
    "    axs.flat[0].set_title(\"Isolation Forest com \"+ tipoEnc + \" Encoding Exp \" + str(numeroExp))\n",
    "\n",
    "    #creating anomaly score plot\n",
    "    l = list(r for r in range(len(arrayAnomalia)))\n",
    "    cte = list(threshold for r in range(len(l)))\n",
    "    \n",
    "    axs.flat[1].fill_between(l, 0.5, -arrayAnomalia, facecolor='black')\n",
    "    axs.flat[1].set_ylim(0.5,1)\n",
    "    axs.flat[1].yaxis.set_tick_params(length=0.01)  # Não aparecer números quebrados\n",
    "    axs.flat[1].xaxis.set_tick_params(length=10)\n",
    "    axs.flat[1].plot(l,cte,'k:',label=\"threshold\")\n",
    "    axs.flat[1].set_xlabel(\"Posição da anomalia\")\n",
    "    axs.flat[1].set_ylabel(\"Score da anomalia\")\n",
    "    axs.flat[1].set_title(\"Scores das Anomalias\")\n",
    "    \n",
    "    \n",
    "def pegaLabels(arrayInput):\n",
    "    tamanho = len(arrayInput)\n",
    "    menosUm = 0\n",
    "    ums = 0\n",
    "    for i in range(0, tamanho):\n",
    "        if arrayInput[i] == -1:\n",
    "            menosUm += 1\n",
    "        if arrayInput[i] == 1:\n",
    "            ums += 1\n",
    "    return [ums, menosUm]"
   ]
  },
  {
   "cell_type": "markdown",
   "id": "15c7fff9",
   "metadata": {},
   "source": [
    "*Plotting results from experiment 1*"
   ]
  },
  {
   "cell_type": "code",
   "execution_count": 190,
   "id": "2bfece64",
   "metadata": {},
   "outputs": [],
   "source": [
    "from matplotlib import pyplot as plt"
   ]
  },
  {
   "cell_type": "code",
   "execution_count": 289,
   "id": "4d0e14cf",
   "metadata": {},
   "outputs": [
    {
     "name": "stdout",
     "output_type": "stream",
     "text": [
      "1 in predictions: 7948 \\ -1 in predictions: 738\n"
     ]
    }
   ],
   "source": [
    "labelsPrint = pegaLabels(predicts1)\n",
    "print(\"1 in predictions: \" + str(labelsPrint[0]) + \" \\ -1 in predictions: \" + str(labelsPrint[1])) "
   ]
  },
  {
   "cell_type": "code",
   "execution_count": 290,
   "id": "2bc99ddf",
   "metadata": {},
   "outputs": [
    {
     "data": {
      "image/png": "[encoded data removed]",
      "text/plain": [
       "<Figure size 864x360 with 2 Axes>"
      ]
     },
     "metadata": {},
     "output_type": "display_data"
    }
   ],
   "source": [
    "plotaGrafico(anomaly1,labelsPrint, \"1\", \"label encoding\")"
   ]
  },
  {
   "cell_type": "markdown",
   "id": "a7784d38",
   "metadata": {},
   "source": [
    "*Plotting results from experiment 2*"
   ]
  },
  {
   "cell_type": "code",
   "execution_count": 262,
   "id": "86cca396",
   "metadata": {},
   "outputs": [
    {
     "name": "stdout",
     "output_type": "stream",
     "text": [
      "1 in predictions: 15376 \\ -1 in predictions: 1996\n"
     ]
    }
   ],
   "source": [
    "labelsPrint = pegaLabels(predicts2)\n",
    "print(\"1 in predictions: \" + str(labelsPrint[0]) + \" \\ -1 in predictions: \" + str(labelsPrint[1])) "
   ]
  },
  {
   "cell_type": "code",
   "execution_count": 270,
   "id": "845f1f57",
   "metadata": {},
   "outputs": [
    {
     "data": {
      "image/png": "[encoded data removed]",
      "text/plain": [
       "<Figure size 864x360 with 2 Axes>"
      ]
     },
     "metadata": {},
     "output_type": "display_data"
    }
   ],
   "source": [
    "plotaGrafico(anomaly2,labelsPrint, \"2\", \"label encoding\")"
   ]
  },
  {
   "cell_type": "markdown",
   "id": "9496ae41",
   "metadata": {},
   "source": [
    "*Plotting results from experiment 3*"
   ]
  },
  {
   "cell_type": "code",
   "execution_count": 263,
   "id": "24883b45",
   "metadata": {},
   "outputs": [
    {
     "name": "stdout",
     "output_type": "stream",
     "text": [
      "1 in predictions: 151479 \\ -1 in predictions: 22557\n"
     ]
    }
   ],
   "source": [
    "labelsPrint = pegaLabels(predicts3)\n",
    "print(\"1 in predictions: \" + str(labelsPrint[0]) + \" \\ -1 in predictions: \" + str(labelsPrint[1])) "
   ]
  },
  {
   "cell_type": "code",
   "execution_count": 271,
   "id": "a10f823d",
   "metadata": {},
   "outputs": [
    {
     "data": {
      "image/png": "[encoded data removed]",
      "text/plain": [
       "<Figure size 864x360 with 2 Axes>"
      ]
     },
     "metadata": {},
     "output_type": "display_data"
    }
   ],
   "source": [
    "plotaGrafico(anomaly3,labelsPrint, \"3\", \"label encoding\")"
   ]
  },
  {
   "cell_type": "markdown",
   "id": "49048a18",
   "metadata": {},
   "source": [
    "*Plotting results from experiment 4*"
   ]
  },
  {
   "cell_type": "code",
   "execution_count": 266,
   "id": "99e6e7d6",
   "metadata": {},
   "outputs": [
    {
     "name": "stdout",
     "output_type": "stream",
     "text": [
      "1 in predictions: 78011 \\ -1 in predictions: 9007\n"
     ]
    }
   ],
   "source": [
    "labelsPrint = pegaLabels(predicts4)\n",
    "print(\"1 in predictions: \" + str(labelsPrint[0]) + \" \\ -1 in predictions: \" + str(labelsPrint[1])) "
   ]
  },
  {
   "cell_type": "code",
   "execution_count": 272,
   "id": "15650a46",
   "metadata": {},
   "outputs": [
    {
     "data": {
      "image/png": "[encoded data removed]",
      "text/plain": [
       "<Figure size 864x360 with 2 Axes>"
      ]
     },
     "metadata": {},
     "output_type": "display_data"
    }
   ],
   "source": [
    "plotaGrafico(anomaly4,labelsPrint, \"4\", \"label encoding\")"
   ]
  },
  {
   "cell_type": "markdown",
   "id": "c5f8a91f",
   "metadata": {},
   "source": [
    "*Plotting results from experiment 5*"
   ]
  },
  {
   "cell_type": "code",
   "execution_count": 137,
   "id": "b74e212b",
   "metadata": {},
   "outputs": [],
   "source": [
    "##fazer ainda"
   ]
  }
 ],
 "metadata": {
  "kernelspec": {
   "display_name": "Python 3 (ipykernel)",
   "language": "python",
   "name": "python3"
  },
  "language_info": {
   "codemirror_mode": {
    "name": "ipython",
    "version": 3
   },
   "file_extension": ".py",
   "mimetype": "text/x-python",
   "name": "python",
   "nbconvert_exporter": "python",
   "pygments_lexer": "ipython3",
   "version": "3.8.10"
  }
 },
 "nbformat": 4,
 "nbformat_minor": 5
}
