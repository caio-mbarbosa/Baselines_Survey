{
 "cells": [
  {
   "cell_type": "markdown",
   "id": "737d0e3a",
   "metadata": {},
   "source": [
    "Here I'll run some test on the following databases : \"lanl-comprehensive_700k.csv\" and \"lanl-comprehensive-unified-auth.csv\".\n",
    "The model training will disconsider the time column. The experiments will be the following:"
   ]
  },
  {
   "cell_type": "markdown",
   "id": "d659553f",
   "metadata": {},
   "source": [
    " 1 : Experiment with one hot enconding and label enc on the database \"lanl-comprehensive-unified-auth.csv\" dropping \"computer_source\"\n",
    "    \n",
    " 2 : Experiment with one hot enconding and label enc on the database \"lanl-comprehensive-unified-auth.csv\" dropping \"user\"\n",
    " \n",
    " 3 : Experiment with one hot enconding and label enc on the database \"lanl-comprehensive_700k.csv\" dropping \"src_comp\"\n",
    " \n",
    " 4 : Experiment with one hot enconding and label enc on the database \"lanl-comprehensive_700k.csv\" dropping \"src_user\"\n",
    " \n",
    " 5 : Experiment with label enconding and one-hot-enc on both datasets without dropping columns"
   ]
  },
  {
   "cell_type": "markdown",
   "id": "d3c9669e",
   "metadata": {},
   "source": [
    "*Isolation Forest test*"
   ]
  },
  {
   "cell_type": "code",
   "execution_count": 2,
   "id": "d37df648",
   "metadata": {},
   "outputs": [],
   "source": [
    "#!pip install -U scikit-learn"
   ]
  },
  {
   "cell_type": "markdown",
   "id": "a84900f0",
   "metadata": {},
   "source": [
    "***Importing the database***"
   ]
  },
  {
   "cell_type": "code",
   "execution_count": 3,
   "id": "9b6cfd1c",
   "metadata": {},
   "outputs": [],
   "source": [
    "# only run cells below to install dependencies\n",
    "#import sys\n",
    "#!{sys.executable} -m pip install numpy"
   ]
  },
  {
   "cell_type": "code",
   "execution_count": 4,
   "id": "6d415689",
   "metadata": {},
   "outputs": [],
   "source": [
    "#!{sys.executable} -m pip install pandas"
   ]
  },
  {
   "cell_type": "code",
   "execution_count": 16,
   "id": "c4e8e14d",
   "metadata": {},
   "outputs": [],
   "source": [
    "import pandas as pd\n",
    "import numpy as np\n",
    "from datetime import datetime"
   ]
  },
  {
   "cell_type": "markdown",
   "id": "fe7c7a5c",
   "metadata": {},
   "source": [
    "Functions to be used"
   ]
  },
  {
   "cell_type": "code",
   "execution_count": 17,
   "id": "2bf1f85c",
   "metadata": {},
   "outputs": [],
   "source": [
    "def printLabels(array, division, inverted = False):\n",
    "    total1 = 0\n",
    "    tamanho = len(array)\n",
    "    array = array.astype(int)\n",
    "    if(not inverted):\n",
    "        for i in range(0, tamanho):\n",
    "            if int(array[i]) == 1 and i <= division: \n",
    "                total1 += 1\n",
    "    else:\n",
    "        for i in range(0, tamanho):\n",
    "            if int(array[i]) == 1 and i >= division: \n",
    "                total1 += 1\n",
    "    \n",
    "    print(\"total of labels 1 in the dataset inserted: \" + str(total1))"
   ]
  },
  {
   "cell_type": "code",
   "execution_count": 18,
   "id": "35bc7225",
   "metadata": {},
   "outputs": [],
   "source": [
    "def preparaTabela(nomeDataset, columnDrop = None, percentagem = 0.2):\n",
    "    if (nomeDataset == \"lanl-comprehensive-unified-auth.csv\") :\n",
    "        X = pd.read_csv(\"lanl-comprehensive-unified-auth.csv\",header=None) #an m-by-n dataset with m observations\n",
    "        X.rename(columns={0:'time', 1:'computer_source',2:'user',3:'computer_dest', 4:'label'}, inplace=True)\n",
    "        X = X.iloc[1: , :]\n",
    "        X = X.drop('time', axis = 1)\n",
    "        labelsX = X.pop('label').to_numpy()\n",
    "        if(columnDrop == \"computer_source\"):\n",
    "            X = X.drop('computer_source', axis = 1)\n",
    "        elif(columnDrop == \"user\"):\n",
    "            X = X.drop(\"user\", axis = 1)    \n",
    "        \n",
    "        return X, labelsX\n",
    "            \n",
    "    elif(nomeDataset == \"lanl-comprehensive_700k.csv\"):\n",
    "        Y = pd.read_csv(\"lanl-comprehensive_700k.csv\",header=None, dtype={\"time\": int, \"src_user\": \"string\", \"src_comp\": \"string\",\"dst_comp\": \"string\", \"is_malicious\": int}) #an m-by-n dataset with m observations\n",
    "        Y.rename(columns={0:'time', 1:'src_user',2:'src_comp',3:'dst_comp', 4:'is_malicious'}, inplace=True)\n",
    "        Y = Y.drop('time', axis = 1)\n",
    "        Y = Y.iloc[1: , :] \n",
    "        Y = Y.sample(n=None, frac=percentagem, replace=True, weights=None, random_state=42, axis=None, ignore_index=False) ## dataset too big for my pc\n",
    "        labelsY = Y.pop('is_malicious').to_numpy()\n",
    "        \n",
    "        if(columnDrop == \"src_comp\"):\n",
    "            Y = Y.drop('src_comp', axis = 1)\n",
    "        elif(columnDrop == \"src_user\"):\n",
    "            Y = Y.drop(\"src_user\", axis = 1)\n",
    "        \n",
    "        return Y, labelsY"
   ]
  },
  {
   "cell_type": "markdown",
   "id": "3eca7953",
   "metadata": {},
   "source": [
    "*Experiment 1*"
   ]
  },
  {
   "cell_type": "code",
   "execution_count": 19,
   "id": "1505f07d",
   "metadata": {},
   "outputs": [
    {
     "name": "stdout",
     "output_type": "stream",
     "text": [
      "(28953, 2)\n",
      "(28953,)\n",
      "total of labels 1 in the dataset inserted: 748\n"
     ]
    },
    {
     "data": {
      "text/html": [
       "<div>\n",
       "<style scoped>\n",
       "    .dataframe tbody tr th:only-of-type {\n",
       "        vertical-align: middle;\n",
       "    }\n",
       "\n",
       "    .dataframe tbody tr th {\n",
       "        vertical-align: top;\n",
       "    }\n",
       "\n",
       "    .dataframe thead th {\n",
       "        text-align: right;\n",
       "    }\n",
       "</style>\n",
       "<table border=\"1\" class=\"dataframe\">\n",
       "  <thead>\n",
       "    <tr style=\"text-align: right;\">\n",
       "      <th></th>\n",
       "      <th>user</th>\n",
       "      <th>computer_dest</th>\n",
       "    </tr>\n",
       "  </thead>\n",
       "  <tbody>\n",
       "    <tr>\n",
       "      <th>1</th>\n",
       "      <td>U451666</td>\n",
       "      <td>C313779</td>\n",
       "    </tr>\n",
       "    <tr>\n",
       "      <th>2</th>\n",
       "      <td>U451666</td>\n",
       "      <td>C313779</td>\n",
       "    </tr>\n",
       "    <tr>\n",
       "      <th>3</th>\n",
       "      <td>U457678</td>\n",
       "      <td>C639081</td>\n",
       "    </tr>\n",
       "    <tr>\n",
       "      <th>4</th>\n",
       "      <td>U457678</td>\n",
       "      <td>C639081</td>\n",
       "    </tr>\n",
       "    <tr>\n",
       "      <th>5</th>\n",
       "      <td>U416717</td>\n",
       "      <td>C825721</td>\n",
       "    </tr>\n",
       "    <tr>\n",
       "      <th>...</th>\n",
       "      <td>...</td>\n",
       "      <td>...</td>\n",
       "    </tr>\n",
       "    <tr>\n",
       "      <th>28949</th>\n",
       "      <td>U141270</td>\n",
       "      <td>C200079</td>\n",
       "    </tr>\n",
       "    <tr>\n",
       "      <th>28950</th>\n",
       "      <td>U141270</td>\n",
       "      <td>C200079</td>\n",
       "    </tr>\n",
       "    <tr>\n",
       "      <th>28951</th>\n",
       "      <td>U141270</td>\n",
       "      <td>C200079</td>\n",
       "    </tr>\n",
       "    <tr>\n",
       "      <th>28952</th>\n",
       "      <td>U141270</td>\n",
       "      <td>C200079</td>\n",
       "    </tr>\n",
       "    <tr>\n",
       "      <th>28953</th>\n",
       "      <td>U632036</td>\n",
       "      <td>C632332</td>\n",
       "    </tr>\n",
       "  </tbody>\n",
       "</table>\n",
       "<p>28953 rows × 2 columns</p>\n",
       "</div>"
      ],
      "text/plain": [
       "          user computer_dest\n",
       "1      U451666       C313779\n",
       "2      U451666       C313779\n",
       "3      U457678       C639081\n",
       "4      U457678       C639081\n",
       "5      U416717       C825721\n",
       "...        ...           ...\n",
       "28949  U141270       C200079\n",
       "28950  U141270       C200079\n",
       "28951  U141270       C200079\n",
       "28952  U141270       C200079\n",
       "28953  U632036       C632332\n",
       "\n",
       "[28953 rows x 2 columns]"
      ]
     },
     "execution_count": 19,
     "metadata": {},
     "output_type": "execute_result"
    }
   ],
   "source": [
    "X1, labelsX1 = preparaTabela(\"lanl-comprehensive-unified-auth.csv\", \"computer_source\")\n",
    "print(X1.shape)\n",
    "print(labelsX1.shape)\n",
    "printLabels(labelsX1, labelsX1.shape[0])\n",
    "X1"
   ]
  },
  {
   "cell_type": "markdown",
   "id": "dd7232c8",
   "metadata": {},
   "source": [
    "*Experiment 2*"
   ]
  },
  {
   "cell_type": "code",
   "execution_count": 9,
   "id": "88993b5c",
   "metadata": {},
   "outputs": [
    {
     "name": "stdout",
     "output_type": "stream",
     "text": [
      "(28953, 2)\n"
     ]
    },
    {
     "data": {
      "text/html": [
       "<div>\n",
       "<style scoped>\n",
       "    .dataframe tbody tr th:only-of-type {\n",
       "        vertical-align: middle;\n",
       "    }\n",
       "\n",
       "    .dataframe tbody tr th {\n",
       "        vertical-align: top;\n",
       "    }\n",
       "\n",
       "    .dataframe thead th {\n",
       "        text-align: right;\n",
       "    }\n",
       "</style>\n",
       "<table border=\"1\" class=\"dataframe\">\n",
       "  <thead>\n",
       "    <tr style=\"text-align: right;\">\n",
       "      <th></th>\n",
       "      <th>computer_source</th>\n",
       "      <th>computer_dest</th>\n",
       "    </tr>\n",
       "  </thead>\n",
       "  <tbody>\n",
       "    <tr>\n",
       "      <th>1</th>\n",
       "      <td>C288750</td>\n",
       "      <td>C313779</td>\n",
       "    </tr>\n",
       "    <tr>\n",
       "      <th>2</th>\n",
       "      <td>C288750</td>\n",
       "      <td>C313779</td>\n",
       "    </tr>\n",
       "    <tr>\n",
       "      <th>3</th>\n",
       "      <td>C206546</td>\n",
       "      <td>C639081</td>\n",
       "    </tr>\n",
       "    <tr>\n",
       "      <th>4</th>\n",
       "      <td>C206546</td>\n",
       "      <td>C639081</td>\n",
       "    </tr>\n",
       "    <tr>\n",
       "      <th>5</th>\n",
       "      <td>C206546</td>\n",
       "      <td>C825721</td>\n",
       "    </tr>\n",
       "  </tbody>\n",
       "</table>\n",
       "</div>"
      ],
      "text/plain": [
       "  computer_source computer_dest\n",
       "1         C288750       C313779\n",
       "2         C288750       C313779\n",
       "3         C206546       C639081\n",
       "4         C206546       C639081\n",
       "5         C206546       C825721"
      ]
     },
     "execution_count": 9,
     "metadata": {},
     "output_type": "execute_result"
    }
   ],
   "source": [
    "X2, labelsX2 = preparaTabela(\"lanl-comprehensive-unified-auth.csv\", \"user\")\n",
    "print(X2.shape)\n",
    "X2.head()"
   ]
  },
  {
   "cell_type": "markdown",
   "id": "499d44ae",
   "metadata": {},
   "source": [
    "*Experiment 3*"
   ]
  },
  {
   "cell_type": "code",
   "execution_count": 4,
   "id": "22ea8ef8",
   "metadata": {},
   "outputs": [
    {
     "name": "stderr",
     "output_type": "stream",
     "text": [
      "C:\\Users\\caio_\\AppData\\Local\\Temp\\ipykernel_16628\\2230544437.py:16: DtypeWarning: Columns (0,4) have mixed types. Specify dtype option on import or set low_memory=False.\n",
      "  Y = pd.read_csv(\"lanl-comprehensive_700k.csv\",header=None, dtype={\"time\": int, \"src_user\": \"string\", \"src_comp\": \"string\",\"dst_comp\": \"string\", \"is_malicious\": int}) #an m-by-n dataset with m observations\n"
     ]
    },
    {
     "name": "stdout",
     "output_type": "stream",
     "text": [
      "(145030, 2)\n",
      "total of labels 1 in the dataset inserted: 131\n"
     ]
    },
    {
     "data": {
      "text/html": [
       "<div>\n",
       "<style scoped>\n",
       "    .dataframe tbody tr th:only-of-type {\n",
       "        vertical-align: middle;\n",
       "    }\n",
       "\n",
       "    .dataframe tbody tr th {\n",
       "        vertical-align: top;\n",
       "    }\n",
       "\n",
       "    .dataframe thead th {\n",
       "        text-align: right;\n",
       "    }\n",
       "</style>\n",
       "<table border=\"1\" class=\"dataframe\">\n",
       "  <thead>\n",
       "    <tr style=\"text-align: right;\">\n",
       "      <th></th>\n",
       "      <th>src_user</th>\n",
       "      <th>dst_comp</th>\n",
       "    </tr>\n",
       "  </thead>\n",
       "  <tbody>\n",
       "    <tr>\n",
       "      <th>121959</th>\n",
       "      <td>C417$@DOM1</td>\n",
       "      <td>C625</td>\n",
       "    </tr>\n",
       "    <tr>\n",
       "      <th>671156</th>\n",
       "      <td>C87$@DOM1</td>\n",
       "      <td>C1065</td>\n",
       "    </tr>\n",
       "    <tr>\n",
       "      <th>131933</th>\n",
       "      <td>C2370$@DOM1</td>\n",
       "      <td>C1065</td>\n",
       "    </tr>\n",
       "    <tr>\n",
       "      <th>365839</th>\n",
       "      <td>C480$@DOM1</td>\n",
       "      <td>C625</td>\n",
       "    </tr>\n",
       "    <tr>\n",
       "      <th>259179</th>\n",
       "      <td>U924@DOM1</td>\n",
       "      <td>C529</td>\n",
       "    </tr>\n",
       "    <tr>\n",
       "      <th>...</th>\n",
       "      <td>...</td>\n",
       "      <td>...</td>\n",
       "    </tr>\n",
       "    <tr>\n",
       "      <th>383672</th>\n",
       "      <td>C2212$@DOM1</td>\n",
       "      <td>C529</td>\n",
       "    </tr>\n",
       "    <tr>\n",
       "      <th>81959</th>\n",
       "      <td>C457$@DOM1</td>\n",
       "      <td>C457</td>\n",
       "    </tr>\n",
       "    <tr>\n",
       "      <th>187903</th>\n",
       "      <td>U222@DOM1</td>\n",
       "      <td>C529</td>\n",
       "    </tr>\n",
       "    <tr>\n",
       "      <th>317407</th>\n",
       "      <td>C470$@DOM1</td>\n",
       "      <td>C528</td>\n",
       "    </tr>\n",
       "    <tr>\n",
       "      <th>180942</th>\n",
       "      <td>C5204$@DOM1</td>\n",
       "      <td>C529</td>\n",
       "    </tr>\n",
       "  </tbody>\n",
       "</table>\n",
       "<p>145030 rows × 2 columns</p>\n",
       "</div>"
      ],
      "text/plain": [
       "           src_user dst_comp\n",
       "121959   C417$@DOM1     C625\n",
       "671156    C87$@DOM1    C1065\n",
       "131933  C2370$@DOM1    C1065\n",
       "365839   C480$@DOM1     C625\n",
       "259179    U924@DOM1     C529\n",
       "...             ...      ...\n",
       "383672  C2212$@DOM1     C529\n",
       "81959    C457$@DOM1     C457\n",
       "187903    U222@DOM1     C529\n",
       "317407   C470$@DOM1     C528\n",
       "180942  C5204$@DOM1     C529\n",
       "\n",
       "[145030 rows x 2 columns]"
      ]
     },
     "execution_count": 4,
     "metadata": {},
     "output_type": "execute_result"
    }
   ],
   "source": [
    "Y1, labelsY1 = preparaTabela(\"lanl-comprehensive_700k.csv\", \"src_comp\", percentagem = 0.2)\n",
    "print(Y1.shape)\n",
    "printLabels(labelsY1, labelsY1.shape[0])\n",
    "Y1"
   ]
  },
  {
   "cell_type": "markdown",
   "id": "ae70525b",
   "metadata": {},
   "source": [
    "*Experiment 4*"
   ]
  },
  {
   "cell_type": "code",
   "execution_count": 11,
   "id": "a7348edc",
   "metadata": {},
   "outputs": [
    {
     "name": "stdout",
     "output_type": "stream",
     "text": [
      "(145030, 2)\n"
     ]
    },
    {
     "name": "stderr",
     "output_type": "stream",
     "text": [
      "C:\\Users\\caio_\\AppData\\Local\\Temp\\ipykernel_16240\\2230544437.py:16: DtypeWarning: Columns (0,4) have mixed types. Specify dtype option on import or set low_memory=False.\n",
      "  Y = pd.read_csv(\"lanl-comprehensive_700k.csv\",header=None, dtype={\"time\": int, \"src_user\": \"string\", \"src_comp\": \"string\",\"dst_comp\": \"string\", \"is_malicious\": int}) #an m-by-n dataset with m observations\n"
     ]
    },
    {
     "data": {
      "text/html": [
       "<div>\n",
       "<style scoped>\n",
       "    .dataframe tbody tr th:only-of-type {\n",
       "        vertical-align: middle;\n",
       "    }\n",
       "\n",
       "    .dataframe tbody tr th {\n",
       "        vertical-align: top;\n",
       "    }\n",
       "\n",
       "    .dataframe thead th {\n",
       "        text-align: right;\n",
       "    }\n",
       "</style>\n",
       "<table border=\"1\" class=\"dataframe\">\n",
       "  <thead>\n",
       "    <tr style=\"text-align: right;\">\n",
       "      <th></th>\n",
       "      <th>src_comp</th>\n",
       "      <th>dst_comp</th>\n",
       "    </tr>\n",
       "  </thead>\n",
       "  <tbody>\n",
       "    <tr>\n",
       "      <th>121959</th>\n",
       "      <td>C417</td>\n",
       "      <td>C625</td>\n",
       "    </tr>\n",
       "    <tr>\n",
       "      <th>671156</th>\n",
       "      <td>C87</td>\n",
       "      <td>C1065</td>\n",
       "    </tr>\n",
       "    <tr>\n",
       "      <th>131933</th>\n",
       "      <td>C2370</td>\n",
       "      <td>C1065</td>\n",
       "    </tr>\n",
       "    <tr>\n",
       "      <th>365839</th>\n",
       "      <td>C480</td>\n",
       "      <td>C625</td>\n",
       "    </tr>\n",
       "    <tr>\n",
       "      <th>259179</th>\n",
       "      <td>C529</td>\n",
       "      <td>C529</td>\n",
       "    </tr>\n",
       "  </tbody>\n",
       "</table>\n",
       "</div>"
      ],
      "text/plain": [
       "       src_comp dst_comp\n",
       "121959     C417     C625\n",
       "671156      C87    C1065\n",
       "131933    C2370    C1065\n",
       "365839     C480     C625\n",
       "259179     C529     C529"
      ]
     },
     "execution_count": 11,
     "metadata": {},
     "output_type": "execute_result"
    }
   ],
   "source": [
    "Y2, labelsY2 = preparaTabela(\"lanl-comprehensive_700k.csv\", \"src_user\")\n",
    "print(Y2.shape)\n",
    "Y2.head()"
   ]
  },
  {
   "cell_type": "code",
   "execution_count": 12,
   "id": "71a15c77",
   "metadata": {},
   "outputs": [
    {
     "name": "stdout",
     "output_type": "stream",
     "text": [
      "total of maligne samples in the dataset '700k': 445\n"
     ]
    }
   ],
   "source": [
    "count = 0\n",
    "for i in labelsY1:\n",
    "    if i == 1:\n",
    "        count += 1\n",
    "print(\"total of maligne samples in the dataset '700k': \" + str(count))"
   ]
  },
  {
   "cell_type": "markdown",
   "id": "b227608b",
   "metadata": {},
   "source": [
    "*Experiment 5*"
   ]
  },
  {
   "cell_type": "code",
   "execution_count": 13,
   "id": "46ccb78d",
   "metadata": {},
   "outputs": [
    {
     "name": "stdout",
     "output_type": "stream",
     "text": [
      "(290061, 3)\n"
     ]
    },
    {
     "name": "stderr",
     "output_type": "stream",
     "text": [
      "C:\\Users\\caio_\\AppData\\Local\\Temp\\ipykernel_16240\\2230544437.py:16: DtypeWarning: Columns (0,4) have mixed types. Specify dtype option on import or set low_memory=False.\n",
      "  Y = pd.read_csv(\"lanl-comprehensive_700k.csv\",header=None, dtype={\"time\": int, \"src_user\": \"string\", \"src_comp\": \"string\",\"dst_comp\": \"string\", \"is_malicious\": int}) #an m-by-n dataset with m observations\n"
     ]
    },
    {
     "data": {
      "text/html": [
       "<div>\n",
       "<style scoped>\n",
       "    .dataframe tbody tr th:only-of-type {\n",
       "        vertical-align: middle;\n",
       "    }\n",
       "\n",
       "    .dataframe tbody tr th {\n",
       "        vertical-align: top;\n",
       "    }\n",
       "\n",
       "    .dataframe thead th {\n",
       "        text-align: right;\n",
       "    }\n",
       "</style>\n",
       "<table border=\"1\" class=\"dataframe\">\n",
       "  <thead>\n",
       "    <tr style=\"text-align: right;\">\n",
       "      <th></th>\n",
       "      <th>src_user</th>\n",
       "      <th>src_comp</th>\n",
       "      <th>dst_comp</th>\n",
       "    </tr>\n",
       "  </thead>\n",
       "  <tbody>\n",
       "    <tr>\n",
       "      <th>121959</th>\n",
       "      <td>C417$@DOM1</td>\n",
       "      <td>C417</td>\n",
       "      <td>C625</td>\n",
       "    </tr>\n",
       "    <tr>\n",
       "      <th>671156</th>\n",
       "      <td>C87$@DOM1</td>\n",
       "      <td>C87</td>\n",
       "      <td>C1065</td>\n",
       "    </tr>\n",
       "    <tr>\n",
       "      <th>131933</th>\n",
       "      <td>C2370$@DOM1</td>\n",
       "      <td>C2370</td>\n",
       "      <td>C1065</td>\n",
       "    </tr>\n",
       "    <tr>\n",
       "      <th>365839</th>\n",
       "      <td>C480$@DOM1</td>\n",
       "      <td>C480</td>\n",
       "      <td>C625</td>\n",
       "    </tr>\n",
       "    <tr>\n",
       "      <th>259179</th>\n",
       "      <td>U924@DOM1</td>\n",
       "      <td>C529</td>\n",
       "      <td>C529</td>\n",
       "    </tr>\n",
       "  </tbody>\n",
       "</table>\n",
       "</div>"
      ],
      "text/plain": [
       "           src_user src_comp dst_comp\n",
       "121959   C417$@DOM1     C417     C625\n",
       "671156    C87$@DOM1      C87    C1065\n",
       "131933  C2370$@DOM1    C2370    C1065\n",
       "365839   C480$@DOM1     C480     C625\n",
       "259179    U924@DOM1     C529     C529"
      ]
     },
     "execution_count": 13,
     "metadata": {},
     "output_type": "execute_result"
    }
   ],
   "source": [
    "Y3, labelsY3 = preparaTabela(\"lanl-comprehensive_700k.csv\", percentagem=0.4)\n",
    "print(Y3.shape)\n",
    "Y3.head()"
   ]
  },
  {
   "cell_type": "code",
   "execution_count": 32,
   "id": "fcb3bd43",
   "metadata": {},
   "outputs": [
    {
     "name": "stdout",
     "output_type": "stream",
     "text": [
      "(28953, 3)\n"
     ]
    },
    {
     "data": {
      "text/html": [
       "<div>\n",
       "<style scoped>\n",
       "    .dataframe tbody tr th:only-of-type {\n",
       "        vertical-align: middle;\n",
       "    }\n",
       "\n",
       "    .dataframe tbody tr th {\n",
       "        vertical-align: top;\n",
       "    }\n",
       "\n",
       "    .dataframe thead th {\n",
       "        text-align: right;\n",
       "    }\n",
       "</style>\n",
       "<table border=\"1\" class=\"dataframe\">\n",
       "  <thead>\n",
       "    <tr style=\"text-align: right;\">\n",
       "      <th></th>\n",
       "      <th>computer_source</th>\n",
       "      <th>user</th>\n",
       "      <th>computer_dest</th>\n",
       "    </tr>\n",
       "  </thead>\n",
       "  <tbody>\n",
       "    <tr>\n",
       "      <th>1</th>\n",
       "      <td>C288750</td>\n",
       "      <td>U451666</td>\n",
       "      <td>C313779</td>\n",
       "    </tr>\n",
       "    <tr>\n",
       "      <th>2</th>\n",
       "      <td>C288750</td>\n",
       "      <td>U451666</td>\n",
       "      <td>C313779</td>\n",
       "    </tr>\n",
       "    <tr>\n",
       "      <th>3</th>\n",
       "      <td>C206546</td>\n",
       "      <td>U457678</td>\n",
       "      <td>C639081</td>\n",
       "    </tr>\n",
       "    <tr>\n",
       "      <th>4</th>\n",
       "      <td>C206546</td>\n",
       "      <td>U457678</td>\n",
       "      <td>C639081</td>\n",
       "    </tr>\n",
       "    <tr>\n",
       "      <th>5</th>\n",
       "      <td>C206546</td>\n",
       "      <td>U416717</td>\n",
       "      <td>C825721</td>\n",
       "    </tr>\n",
       "    <tr>\n",
       "      <th>...</th>\n",
       "      <td>...</td>\n",
       "      <td>...</td>\n",
       "      <td>...</td>\n",
       "    </tr>\n",
       "    <tr>\n",
       "      <th>28949</th>\n",
       "      <td>C704389</td>\n",
       "      <td>U141270</td>\n",
       "      <td>C200079</td>\n",
       "    </tr>\n",
       "    <tr>\n",
       "      <th>28950</th>\n",
       "      <td>C704389</td>\n",
       "      <td>U141270</td>\n",
       "      <td>C200079</td>\n",
       "    </tr>\n",
       "    <tr>\n",
       "      <th>28951</th>\n",
       "      <td>C704389</td>\n",
       "      <td>U141270</td>\n",
       "      <td>C200079</td>\n",
       "    </tr>\n",
       "    <tr>\n",
       "      <th>28952</th>\n",
       "      <td>C704389</td>\n",
       "      <td>U141270</td>\n",
       "      <td>C200079</td>\n",
       "    </tr>\n",
       "    <tr>\n",
       "      <th>28953</th>\n",
       "      <td>C922201</td>\n",
       "      <td>U632036</td>\n",
       "      <td>C632332</td>\n",
       "    </tr>\n",
       "  </tbody>\n",
       "</table>\n",
       "<p>28953 rows × 3 columns</p>\n",
       "</div>"
      ],
      "text/plain": [
       "      computer_source     user computer_dest\n",
       "1             C288750  U451666       C313779\n",
       "2             C288750  U451666       C313779\n",
       "3             C206546  U457678       C639081\n",
       "4             C206546  U457678       C639081\n",
       "5             C206546  U416717       C825721\n",
       "...               ...      ...           ...\n",
       "28949         C704389  U141270       C200079\n",
       "28950         C704389  U141270       C200079\n",
       "28951         C704389  U141270       C200079\n",
       "28952         C704389  U141270       C200079\n",
       "28953         C922201  U632036       C632332\n",
       "\n",
       "[28953 rows x 3 columns]"
      ]
     },
     "execution_count": 32,
     "metadata": {},
     "output_type": "execute_result"
    }
   ],
   "source": [
    "X3, labelsX3 = preparaTabela(\"lanl-comprehensive-unified-auth.csv\")\n",
    "print(X3.shape)\n",
    "X3"
   ]
  },
  {
   "cell_type": "markdown",
   "id": "4f9b5c5b",
   "metadata": {},
   "source": [
    "*Labels Encoding*"
   ]
  },
  {
   "cell_type": "code",
   "execution_count": 5,
   "id": "814a68e1",
   "metadata": {},
   "outputs": [],
   "source": [
    "from sklearn.preprocessing import LabelEncoder"
   ]
  },
  {
   "cell_type": "code",
   "execution_count": 6,
   "id": "5231e10f",
   "metadata": {},
   "outputs": [],
   "source": [
    "def utilizaLabelEnc(dataFrame, col1, col2, col3 = None):\n",
    "    df = dataFrame\n",
    "    enc_1 = LabelEncoder()\n",
    "    enc_2 = LabelEncoder()\n",
    "    enc_1.fit(dataFrame[col1])\n",
    "    enc_2.fit(dataFrame[col2])\n",
    "    if(col3 != None):\n",
    "        enc_3 = LabelEncoder()#mais um encoder\n",
    "        enc_3.fit(dataFrame[col3])\n",
    "        df[col3] = enc_3.transform(df[col3])\n",
    "    df[col1] = enc_1.transform(df[col1])\n",
    "    df[col2] = enc_2.transform(df[col2])\n",
    "    return df"
   ]
  },
  {
   "cell_type": "markdown",
   "id": "dd693566",
   "metadata": {},
   "source": [
    "*Exp 1*"
   ]
  },
  {
   "cell_type": "code",
   "execution_count": 20,
   "id": "bc7e79da",
   "metadata": {},
   "outputs": [
    {
     "data": {
      "text/html": [
       "<div>\n",
       "<style scoped>\n",
       "    .dataframe tbody tr th:only-of-type {\n",
       "        vertical-align: middle;\n",
       "    }\n",
       "\n",
       "    .dataframe tbody tr th {\n",
       "        vertical-align: top;\n",
       "    }\n",
       "\n",
       "    .dataframe thead th {\n",
       "        text-align: right;\n",
       "    }\n",
       "</style>\n",
       "<table border=\"1\" class=\"dataframe\">\n",
       "  <thead>\n",
       "    <tr style=\"text-align: right;\">\n",
       "      <th></th>\n",
       "      <th>user</th>\n",
       "      <th>computer_dest</th>\n",
       "    </tr>\n",
       "  </thead>\n",
       "  <tbody>\n",
       "    <tr>\n",
       "      <th>1</th>\n",
       "      <td>825</td>\n",
       "      <td>612</td>\n",
       "    </tr>\n",
       "    <tr>\n",
       "      <th>2</th>\n",
       "      <td>825</td>\n",
       "      <td>612</td>\n",
       "    </tr>\n",
       "    <tr>\n",
       "      <th>3</th>\n",
       "      <td>835</td>\n",
       "      <td>1282</td>\n",
       "    </tr>\n",
       "    <tr>\n",
       "      <th>4</th>\n",
       "      <td>835</td>\n",
       "      <td>1282</td>\n",
       "    </tr>\n",
       "    <tr>\n",
       "      <th>5</th>\n",
       "      <td>761</td>\n",
       "      <td>1673</td>\n",
       "    </tr>\n",
       "    <tr>\n",
       "      <th>...</th>\n",
       "      <td>...</td>\n",
       "      <td>...</td>\n",
       "    </tr>\n",
       "    <tr>\n",
       "      <th>28949</th>\n",
       "      <td>249</td>\n",
       "      <td>395</td>\n",
       "    </tr>\n",
       "    <tr>\n",
       "      <th>28950</th>\n",
       "      <td>249</td>\n",
       "      <td>395</td>\n",
       "    </tr>\n",
       "    <tr>\n",
       "      <th>28951</th>\n",
       "      <td>249</td>\n",
       "      <td>395</td>\n",
       "    </tr>\n",
       "    <tr>\n",
       "      <th>28952</th>\n",
       "      <td>249</td>\n",
       "      <td>395</td>\n",
       "    </tr>\n",
       "    <tr>\n",
       "      <th>28953</th>\n",
       "      <td>1134</td>\n",
       "      <td>1268</td>\n",
       "    </tr>\n",
       "  </tbody>\n",
       "</table>\n",
       "<p>28953 rows × 2 columns</p>\n",
       "</div>"
      ],
      "text/plain": [
       "       user  computer_dest\n",
       "1       825            612\n",
       "2       825            612\n",
       "3       835           1282\n",
       "4       835           1282\n",
       "5       761           1673\n",
       "...     ...            ...\n",
       "28949   249            395\n",
       "28950   249            395\n",
       "28951   249            395\n",
       "28952   249            395\n",
       "28953  1134           1268\n",
       "\n",
       "[28953 rows x 2 columns]"
      ]
     },
     "execution_count": 20,
     "metadata": {},
     "output_type": "execute_result"
    }
   ],
   "source": [
    "X1_labelEnc = utilizaLabelEnc(X1, \"user\", \"computer_dest\")\n",
    "X1_labelEnc"
   ]
  },
  {
   "cell_type": "markdown",
   "id": "776e1640",
   "metadata": {},
   "source": [
    "*Exp 2*"
   ]
  },
  {
   "cell_type": "code",
   "execution_count": 23,
   "id": "59399ab2",
   "metadata": {},
   "outputs": [
    {
     "data": {
      "text/html": [
       "<div>\n",
       "<style scoped>\n",
       "    .dataframe tbody tr th:only-of-type {\n",
       "        vertical-align: middle;\n",
       "    }\n",
       "\n",
       "    .dataframe tbody tr th {\n",
       "        vertical-align: top;\n",
       "    }\n",
       "\n",
       "    .dataframe thead th {\n",
       "        text-align: right;\n",
       "    }\n",
       "</style>\n",
       "<table border=\"1\" class=\"dataframe\">\n",
       "  <thead>\n",
       "    <tr style=\"text-align: right;\">\n",
       "      <th></th>\n",
       "      <th>computer_source</th>\n",
       "      <th>computer_dest</th>\n",
       "    </tr>\n",
       "  </thead>\n",
       "  <tbody>\n",
       "    <tr>\n",
       "      <th>1</th>\n",
       "      <td>394</td>\n",
       "      <td>612</td>\n",
       "    </tr>\n",
       "    <tr>\n",
       "      <th>2</th>\n",
       "      <td>394</td>\n",
       "      <td>612</td>\n",
       "    </tr>\n",
       "    <tr>\n",
       "      <th>3</th>\n",
       "      <td>252</td>\n",
       "      <td>1282</td>\n",
       "    </tr>\n",
       "    <tr>\n",
       "      <th>4</th>\n",
       "      <td>252</td>\n",
       "      <td>1282</td>\n",
       "    </tr>\n",
       "    <tr>\n",
       "      <th>5</th>\n",
       "      <td>252</td>\n",
       "      <td>1673</td>\n",
       "    </tr>\n",
       "  </tbody>\n",
       "</table>\n",
       "</div>"
      ],
      "text/plain": [
       "   computer_source  computer_dest\n",
       "1              394            612\n",
       "2              394            612\n",
       "3              252           1282\n",
       "4              252           1282\n",
       "5              252           1673"
      ]
     },
     "execution_count": 23,
     "metadata": {},
     "output_type": "execute_result"
    }
   ],
   "source": [
    "X2_labelEnc = utilizaLabelEnc(X2, \"computer_source\", \"computer_dest\")\n",
    "X2_labelEnc.head()"
   ]
  },
  {
   "cell_type": "markdown",
   "id": "88538cee",
   "metadata": {},
   "source": [
    "*Exp 3*"
   ]
  },
  {
   "cell_type": "code",
   "execution_count": 10,
   "id": "56ef690f",
   "metadata": {},
   "outputs": [
    {
     "name": "stdout",
     "output_type": "stream",
     "text": [
      "0:00:00.117519\n"
     ]
    },
    {
     "data": {
      "text/html": [
       "<div>\n",
       "<style scoped>\n",
       "    .dataframe tbody tr th:only-of-type {\n",
       "        vertical-align: middle;\n",
       "    }\n",
       "\n",
       "    .dataframe tbody tr th {\n",
       "        vertical-align: top;\n",
       "    }\n",
       "\n",
       "    .dataframe thead th {\n",
       "        text-align: right;\n",
       "    }\n",
       "</style>\n",
       "<table border=\"1\" class=\"dataframe\">\n",
       "  <thead>\n",
       "    <tr style=\"text-align: right;\">\n",
       "      <th></th>\n",
       "      <th>src_user</th>\n",
       "      <th>dst_comp</th>\n",
       "    </tr>\n",
       "  </thead>\n",
       "  <tbody>\n",
       "    <tr>\n",
       "      <th>121959</th>\n",
       "      <td>2577</td>\n",
       "      <td>286</td>\n",
       "    </tr>\n",
       "    <tr>\n",
       "      <th>671156</th>\n",
       "      <td>3861</td>\n",
       "      <td>14</td>\n",
       "    </tr>\n",
       "    <tr>\n",
       "      <th>131933</th>\n",
       "      <td>1277</td>\n",
       "      <td>14</td>\n",
       "    </tr>\n",
       "    <tr>\n",
       "      <th>365839</th>\n",
       "      <td>2974</td>\n",
       "      <td>286</td>\n",
       "    </tr>\n",
       "    <tr>\n",
       "      <th>259179</th>\n",
       "      <td>5309</td>\n",
       "      <td>270</td>\n",
       "    </tr>\n",
       "    <tr>\n",
       "      <th>...</th>\n",
       "      <td>...</td>\n",
       "      <td>...</td>\n",
       "    </tr>\n",
       "    <tr>\n",
       "      <th>383672</th>\n",
       "      <td>1164</td>\n",
       "      <td>270</td>\n",
       "    </tr>\n",
       "    <tr>\n",
       "      <th>81959</th>\n",
       "      <td>2832</td>\n",
       "      <td>249</td>\n",
       "    </tr>\n",
       "    <tr>\n",
       "      <th>187903</th>\n",
       "      <td>4614</td>\n",
       "      <td>270</td>\n",
       "    </tr>\n",
       "    <tr>\n",
       "      <th>317407</th>\n",
       "      <td>2912</td>\n",
       "      <td>269</td>\n",
       "    </tr>\n",
       "    <tr>\n",
       "      <th>180942</th>\n",
       "      <td>3223</td>\n",
       "      <td>270</td>\n",
       "    </tr>\n",
       "  </tbody>\n",
       "</table>\n",
       "<p>145030 rows × 2 columns</p>\n",
       "</div>"
      ],
      "text/plain": [
       "        src_user  dst_comp\n",
       "121959      2577       286\n",
       "671156      3861        14\n",
       "131933      1277        14\n",
       "365839      2974       286\n",
       "259179      5309       270\n",
       "...          ...       ...\n",
       "383672      1164       270\n",
       "81959       2832       249\n",
       "187903      4614       270\n",
       "317407      2912       269\n",
       "180942      3223       270\n",
       "\n",
       "[145030 rows x 2 columns]"
      ]
     },
     "execution_count": 10,
     "metadata": {},
     "output_type": "execute_result"
    }
   ],
   "source": [
    "now = datetime.now()\n",
    "Y1_labelEnc = utilizaLabelEnc(Y1, \"src_user\", \"dst_comp\")\n",
    "now2 = datetime.now()\n",
    "print(now2-now)\n",
    "Y1_labelEnc"
   ]
  },
  {
   "cell_type": "markdown",
   "id": "ecb1bfa9",
   "metadata": {},
   "source": [
    "*Exp 4*"
   ]
  },
  {
   "cell_type": "code",
   "execution_count": 25,
   "id": "5e79b3d5",
   "metadata": {},
   "outputs": [
    {
     "data": {
      "text/html": [
       "<div>\n",
       "<style scoped>\n",
       "    .dataframe tbody tr th:only-of-type {\n",
       "        vertical-align: middle;\n",
       "    }\n",
       "\n",
       "    .dataframe tbody tr th {\n",
       "        vertical-align: top;\n",
       "    }\n",
       "\n",
       "    .dataframe thead th {\n",
       "        text-align: right;\n",
       "    }\n",
       "</style>\n",
       "<table border=\"1\" class=\"dataframe\">\n",
       "  <thead>\n",
       "    <tr style=\"text-align: right;\">\n",
       "      <th></th>\n",
       "      <th>src_comp</th>\n",
       "      <th>dst_comp</th>\n",
       "    </tr>\n",
       "  </thead>\n",
       "  <tbody>\n",
       "    <tr>\n",
       "      <th>121959</th>\n",
       "      <td>2565</td>\n",
       "      <td>286</td>\n",
       "    </tr>\n",
       "    <tr>\n",
       "      <th>671156</th>\n",
       "      <td>3834</td>\n",
       "      <td>14</td>\n",
       "    </tr>\n",
       "    <tr>\n",
       "      <th>131933</th>\n",
       "      <td>1255</td>\n",
       "      <td>14</td>\n",
       "    </tr>\n",
       "    <tr>\n",
       "      <th>365839</th>\n",
       "      <td>2956</td>\n",
       "      <td>286</td>\n",
       "    </tr>\n",
       "    <tr>\n",
       "      <th>259179</th>\n",
       "      <td>3251</td>\n",
       "      <td>270</td>\n",
       "    </tr>\n",
       "  </tbody>\n",
       "</table>\n",
       "</div>"
      ],
      "text/plain": [
       "        src_comp  dst_comp\n",
       "121959      2565       286\n",
       "671156      3834        14\n",
       "131933      1255        14\n",
       "365839      2956       286\n",
       "259179      3251       270"
      ]
     },
     "execution_count": 25,
     "metadata": {},
     "output_type": "execute_result"
    }
   ],
   "source": [
    "Y2_labelEnc = utilizaLabelEnc(Y2, \"src_comp\", \"dst_comp\")\n",
    "Y2_labelEnc.head()"
   ]
  },
  {
   "cell_type": "markdown",
   "id": "ac0ce4ae",
   "metadata": {},
   "source": [
    "*Exp 5*"
   ]
  },
  {
   "cell_type": "markdown",
   "id": "04942e6d",
   "metadata": {},
   "source": [
    "On the 700k dataset:"
   ]
  },
  {
   "cell_type": "code",
   "execution_count": 26,
   "id": "48bc2d59",
   "metadata": {},
   "outputs": [
    {
     "data": {
      "text/html": [
       "<div>\n",
       "<style scoped>\n",
       "    .dataframe tbody tr th:only-of-type {\n",
       "        vertical-align: middle;\n",
       "    }\n",
       "\n",
       "    .dataframe tbody tr th {\n",
       "        vertical-align: top;\n",
       "    }\n",
       "\n",
       "    .dataframe thead th {\n",
       "        text-align: right;\n",
       "    }\n",
       "</style>\n",
       "<table border=\"1\" class=\"dataframe\">\n",
       "  <thead>\n",
       "    <tr style=\"text-align: right;\">\n",
       "      <th></th>\n",
       "      <th>src_user</th>\n",
       "      <th>src_comp</th>\n",
       "      <th>dst_comp</th>\n",
       "    </tr>\n",
       "  </thead>\n",
       "  <tbody>\n",
       "    <tr>\n",
       "      <th>121959</th>\n",
       "      <td>2584</td>\n",
       "      <td>2583</td>\n",
       "      <td>323</td>\n",
       "    </tr>\n",
       "    <tr>\n",
       "      <th>671156</th>\n",
       "      <td>3876</td>\n",
       "      <td>3867</td>\n",
       "      <td>15</td>\n",
       "    </tr>\n",
       "    <tr>\n",
       "      <th>131933</th>\n",
       "      <td>1279</td>\n",
       "      <td>1265</td>\n",
       "      <td>15</td>\n",
       "    </tr>\n",
       "    <tr>\n",
       "      <th>365839</th>\n",
       "      <td>2981</td>\n",
       "      <td>2978</td>\n",
       "      <td>323</td>\n",
       "    </tr>\n",
       "    <tr>\n",
       "      <th>259179</th>\n",
       "      <td>5391</td>\n",
       "      <td>3275</td>\n",
       "      <td>303</td>\n",
       "    </tr>\n",
       "    <tr>\n",
       "      <th>...</th>\n",
       "      <td>...</td>\n",
       "      <td>...</td>\n",
       "      <td>...</td>\n",
       "    </tr>\n",
       "    <tr>\n",
       "      <th>184467</th>\n",
       "      <td>2156</td>\n",
       "      <td>70</td>\n",
       "      <td>15</td>\n",
       "    </tr>\n",
       "    <tr>\n",
       "      <th>651720</th>\n",
       "      <td>4878</td>\n",
       "      <td>3368</td>\n",
       "      <td>306</td>\n",
       "    </tr>\n",
       "    <tr>\n",
       "      <th>304210</th>\n",
       "      <td>2410</td>\n",
       "      <td>3587</td>\n",
       "      <td>322</td>\n",
       "    </tr>\n",
       "    <tr>\n",
       "      <th>145583</th>\n",
       "      <td>5213</td>\n",
       "      <td>754</td>\n",
       "      <td>85</td>\n",
       "    </tr>\n",
       "    <tr>\n",
       "      <th>216712</th>\n",
       "      <td>3977</td>\n",
       "      <td>2899</td>\n",
       "      <td>284</td>\n",
       "    </tr>\n",
       "  </tbody>\n",
       "</table>\n",
       "<p>290061 rows × 3 columns</p>\n",
       "</div>"
      ],
      "text/plain": [
       "        src_user  src_comp  dst_comp\n",
       "121959      2584      2583       323\n",
       "671156      3876      3867        15\n",
       "131933      1279      1265        15\n",
       "365839      2981      2978       323\n",
       "259179      5391      3275       303\n",
       "...          ...       ...       ...\n",
       "184467      2156        70        15\n",
       "651720      4878      3368       306\n",
       "304210      2410      3587       322\n",
       "145583      5213       754        85\n",
       "216712      3977      2899       284\n",
       "\n",
       "[290061 rows x 3 columns]"
      ]
     },
     "execution_count": 26,
     "metadata": {},
     "output_type": "execute_result"
    }
   ],
   "source": [
    "Y3_labelEnc = utilizaLabelEnc(Y3, \"src_comp\", \"dst_comp\", \"src_user\")\n",
    "Y3_labelEnc"
   ]
  },
  {
   "cell_type": "markdown",
   "id": "0ad384c1",
   "metadata": {},
   "source": [
    "**Divisão Experimento de Treino/Teste:**"
   ]
  },
  {
   "cell_type": "code",
   "execution_count": 8,
   "id": "dfb2b78f",
   "metadata": {},
   "outputs": [],
   "source": [
    "import math\n",
    "\n",
    "def divideDatabase(arrayInput, percentagem = 0.4, labels = None, invertido = False):\n",
    "    tamanhoCorte = math.floor(np.shape(arrayInput)[0] * percentagem)\n",
    "    print(tamanhoCorte)\n",
    "    X_train = arrayInput[:tamanhoCorte]\n",
    "    X_test = arrayInput[tamanhoCorte:]\n",
    "    \n",
    "    if(invertido):\n",
    "        placeholder = X_train\n",
    "        X_train = X_test\n",
    "        X_test = placeholder\n",
    "    \n",
    "    ## só pra garantir que não há nenhuma anomialia no treino\n",
    "    if labels is not None:\n",
    "        if(not invertido):\n",
    "            printLabels(labels, tamanhoCorte)\n",
    "            return X_train, X_test, labels[tamanhoCorte:]     # returning labels for metrics after testing\n",
    "        else:\n",
    "            printLabels(labels, tamanhoCorte, inverted = True)\n",
    "            return X_train, X_test, labels[:tamanhoCorte]\n",
    "        \n",
    "    return X_train, X_test"
   ]
  },
  {
   "cell_type": "code",
   "execution_count": 9,
   "id": "1a6de90a",
   "metadata": {},
   "outputs": [],
   "source": [
    "import math\n",
    "def divideDB700k(arrayInput, labels, percentagemTreino):\n",
    "    labels = labels.astype(int)\n",
    "    X_test = arrayInput.copy(deep = True)\n",
    "    X_train = arrayInput.copy(deep = True)\n",
    "    tamanho = np.shape(arrayInput)[0]\n",
    "    tamanhoTreino = math.floor(tamanho*percentagemTreino)\n",
    "    \n",
    "    terminouTrain = False\n",
    "    count = 0\n",
    "    dropsTrain = []\n",
    "    dropsTest = []\n",
    "    for i in range(0, tamanho):\n",
    "        if labels[i] == 1:\n",
    "            dropsTrain.append(i)\n",
    "            \n",
    "    tamanhoDrops = len(dropsTrain)\n",
    "    X_train.drop(index = dropsTrain, inplace = True)\n",
    "    # all of the malicious samples are not in the training set\n",
    "    \n",
    "    for i in range(0, tamanho):\n",
    "        if ((i in dropsTrain) or i >= tamanhoTreino+tamanhoDrops):\n",
    "            dropsTest.append(i) # taking only the i's that are in the train set\n",
    "    \n",
    "    X_test.drop(index = dropsTest, inplace=True)\n",
    "    \n",
    "    return X_train[:tamanhoTreino], X_test, labels\n",
    "    "
   ]
  },
  {
   "cell_type": "markdown",
   "id": "e67dd142",
   "metadata": {},
   "source": [
    "Exp 1"
   ]
  },
  {
   "cell_type": "code",
   "execution_count": 21,
   "id": "41b060ef",
   "metadata": {},
   "outputs": [
    {
     "name": "stdout",
     "output_type": "stream",
     "text": [
      "17371\n",
      "total of labels 1 in the dataset inserted: 0\n"
     ]
    }
   ],
   "source": [
    "X_train1, X_test1, labelsX1_new = divideDatabase(X1_labelEnc, labels = labelsX1, percentagem = 0.6, invertido = False) #divide the base and getting labels for test-set"
   ]
  },
  {
   "cell_type": "markdown",
   "id": "ea41c6c0",
   "metadata": {},
   "source": [
    "Exp 2"
   ]
  },
  {
   "cell_type": "code",
   "execution_count": 45,
   "id": "f007b02a",
   "metadata": {},
   "outputs": [
    {
     "ename": "NameError",
     "evalue": "name 'X2_labelEnc' is not defined",
     "output_type": "error",
     "traceback": [
      "\u001b[1;31m---------------------------------------------------------------------------\u001b[0m",
      "\u001b[1;31mNameError\u001b[0m                                 Traceback (most recent call last)",
      "Input \u001b[1;32mIn [45]\u001b[0m, in \u001b[0;36m<module>\u001b[1;34m\u001b[0m\n\u001b[1;32m----> 1\u001b[0m X_train2, X_test2, labelsX2_new \u001b[38;5;241m=\u001b[39m divideDatabase(\u001b[43mX2_labelEnc\u001b[49m, labels \u001b[38;5;241m=\u001b[39m labelsX2)\n",
      "\u001b[1;31mNameError\u001b[0m: name 'X2_labelEnc' is not defined"
     ]
    }
   ],
   "source": [
    "X_train2, X_test2, labelsX2_new = divideDatabase(X2_labelEnc, labels = labelsX2)"
   ]
  },
  {
   "cell_type": "markdown",
   "id": "f91bcf33",
   "metadata": {},
   "source": [
    "Exp 3"
   ]
  },
  {
   "cell_type": "code",
   "execution_count": 13,
   "id": "dca5896a",
   "metadata": {},
   "outputs": [
    {
     "name": "stdout",
     "output_type": "stream",
     "text": [
      "72515\n",
      "total of labels 1 in the dataset inserted: 66\n",
      "72515\n",
      "total of labels 1 in the dataset inserted: 66\n"
     ]
    }
   ],
   "source": [
    "Y_train1, Y_test1, labelsY1_new = divideDatabase(Y1_labelEnc, labels = labelsY1, percentagem = 0.5) # some lines are lost but it doesn't mather for the overall result\n",
    "Y_train1oneh, Y_test1oneh, labelsY1_newoneh = divideDatabase(Y1_onehot, labels = labelsY1, percentagem = 0.5) # some lines are lost but it doesn't mather for the overall result"
   ]
  },
  {
   "cell_type": "markdown",
   "id": "56ce30d2",
   "metadata": {},
   "source": [
    "Exp 4"
   ]
  },
  {
   "cell_type": "code",
   "execution_count": 32,
   "id": "ab854a78",
   "metadata": {},
   "outputs": [
    {
     "name": "stdout",
     "output_type": "stream",
     "text": [
      "87018\n",
      "total of labels 1 in the dataset inserted: 50\n"
     ]
    }
   ],
   "source": [
    "Y_train2, Y_test2, labelsY2_new = divideDatabase(Y2_labelEnc, labels = labelsY2, percentagem = 0.6, invertido = True)"
   ]
  },
  {
   "cell_type": "markdown",
   "id": "b3b36e8f",
   "metadata": {},
   "source": [
    "Exp 5"
   ]
  },
  {
   "cell_type": "code",
   "execution_count": 33,
   "id": "be91dd13",
   "metadata": {},
   "outputs": [
    {
     "name": "stdout",
     "output_type": "stream",
     "text": [
      "174036\n",
      "total of labels 1 in the dataset inserted: 133\n"
     ]
    }
   ],
   "source": [
    "Y_train3, Y_test3, labelsY3_new = divideDatabase(Y3_labelEnc, labels = labelsY3, percentagem = 0.6, invertido = True)"
   ]
  },
  {
   "cell_type": "markdown",
   "id": "b192f72b",
   "metadata": {},
   "source": [
    "**Resultados**"
   ]
  },
  {
   "cell_type": "code",
   "execution_count": 31,
   "id": "69fdf504",
   "metadata": {},
   "outputs": [],
   "source": [
    "from matplotlib import pyplot as plt\n",
    "\n",
    "def plotaGrafico(arrayInput, numeroExp, tipoEnc):\n",
    "    fig = plt.figure(figsize = (10, 5))\n",
    "    # creating the bar plot\n",
    "    possiveis = [1,-1] # because it's an isolation forest\n",
    "    plt.bar(possiveis, arrayInput)\n",
    "    plt.xlabel(\"labels\")\n",
    "    plt.ylabel(\"número de instâncias\")\n",
    "    plt.title(\"Isolation Forest com \"+ tipoEnc + \" Encoding Exp \" + str(numeroExp))\n",
    "    plt.show()\n",
    "    \n",
    "def pegaLabels(arrayInput):\n",
    "    tamanho = len(arrayInput)\n",
    "    menosUm = 0\n",
    "    ums = 0\n",
    "    for i in range(0, tamanho):\n",
    "        if arrayInput[i] == -1:\n",
    "            menosUm += 1\n",
    "        if arrayInput[i] == 1:\n",
    "            ums += 1\n",
    "    return [ums, menosUm]"
   ]
  },
  {
   "cell_type": "markdown",
   "id": "dfab37f2",
   "metadata": {},
   "source": [
    "**Isolation Forest with label encoding**"
   ]
  },
  {
   "cell_type": "code",
   "execution_count": 15,
   "id": "5b356ceb",
   "metadata": {},
   "outputs": [],
   "source": [
    "from sklearn.ensemble import IsolationForest"
   ]
  },
  {
   "cell_type": "markdown",
   "id": "a12321a9",
   "metadata": {},
   "source": [
    "Exp 1"
   ]
  },
  {
   "cell_type": "code",
   "execution_count": 28,
   "id": "40986445",
   "metadata": {},
   "outputs": [
    {
     "data": {
      "text/plain": [
       "IsolationForest(random_state=0)"
      ]
     },
     "execution_count": 28,
     "metadata": {},
     "output_type": "execute_result"
    }
   ],
   "source": [
    "modelo1 = IsolationForest(random_state=0, n_estimators=100)\n",
    "modelo1.fit(X_train1)"
   ]
  },
  {
   "cell_type": "code",
   "execution_count": 29,
   "id": "331debee",
   "metadata": {},
   "outputs": [],
   "source": [
    "predicts1 = modelo1.predict(X_test1)"
   ]
  },
  {
   "cell_type": "markdown",
   "id": "0bb5dc68",
   "metadata": {},
   "source": [
    "Exp 2"
   ]
  },
  {
   "cell_type": "code",
   "execution_count": 38,
   "id": "d4f54772",
   "metadata": {},
   "outputs": [
    {
     "data": {
      "text/plain": [
       "IsolationForest(random_state=0)"
      ]
     },
     "execution_count": 38,
     "metadata": {},
     "output_type": "execute_result"
    }
   ],
   "source": [
    "modelo2 = IsolationForest(random_state=0)\n",
    "modelo2.fit(X_train2)"
   ]
  },
  {
   "cell_type": "code",
   "execution_count": 39,
   "id": "fd4818cc",
   "metadata": {},
   "outputs": [],
   "source": [
    "predicts2 = modelo2.predict(X_test2)"
   ]
  },
  {
   "cell_type": "markdown",
   "id": "7fe37acf",
   "metadata": {},
   "source": [
    "Exp 3"
   ]
  },
  {
   "cell_type": "code",
   "execution_count": 16,
   "id": "fbe6f930",
   "metadata": {},
   "outputs": [
    {
     "name": "stdout",
     "output_type": "stream",
     "text": [
      "0:00:00.395082\n"
     ]
    }
   ],
   "source": [
    "now = datetime.now()\n",
    "modelo3 = IsolationForest(random_state=0)\n",
    "modelo3.fit(Y_train1)\n",
    "now2 = datetime.now()\n",
    "print(now2-now)"
   ]
  },
  {
   "cell_type": "code",
   "execution_count": null,
   "id": "6d1fac18",
   "metadata": {},
   "outputs": [],
   "source": [
    "now = datetime.now()\n",
    "modelo_onehot = IsolationForest(random_state=0)\n",
    "modelo_onehot.fit(Y_train1oneh)\n",
    "now2 = datetime.now()\n",
    "print(now2-now)"
   ]
  },
  {
   "cell_type": "code",
   "execution_count": null,
   "id": "04a2cdab",
   "metadata": {},
   "outputs": [],
   "source": [
    "predicts_oneh = modelo3.predict(Y_test1)"
   ]
  },
  {
   "cell_type": "code",
   "execution_count": 59,
   "id": "597a8c1d",
   "metadata": {},
   "outputs": [],
   "source": [
    "predicts3 = modelo3.predict(Y_test1)"
   ]
  },
  {
   "cell_type": "markdown",
   "id": "7448730c",
   "metadata": {},
   "source": [
    "Exp 4"
   ]
  },
  {
   "cell_type": "code",
   "execution_count": null,
   "id": "d65fd0ef",
   "metadata": {},
   "outputs": [],
   "source": [
    "modelo4 = IsolationForest(random_state=0)\n",
    "modelo4.fit(Y_train2)"
   ]
  },
  {
   "cell_type": "code",
   "execution_count": null,
   "id": "21fc8160",
   "metadata": {},
   "outputs": [],
   "source": [
    "predicts4 = modelo4.predict(Y_test2)"
   ]
  },
  {
   "cell_type": "markdown",
   "id": "8bbdb456",
   "metadata": {},
   "source": [
    "Exp 5"
   ]
  },
  {
   "cell_type": "code",
   "execution_count": null,
   "id": "4b34532c",
   "metadata": {},
   "outputs": [],
   "source": [
    "modelo5 = IsolationForest(random_state=0)\n",
    "modelo5.fit(Y_train3)"
   ]
  },
  {
   "cell_type": "code",
   "execution_count": null,
   "id": "1c36222c",
   "metadata": {},
   "outputs": [],
   "source": [
    "predicts5 = modelo5.predict(Y_test3)"
   ]
  },
  {
   "cell_type": "markdown",
   "id": "d3e01e7e",
   "metadata": {},
   "source": [
    "*Isolation Forest with one hot encoding*"
   ]
  },
  {
   "cell_type": "code",
   "execution_count": 22,
   "id": "dd5fd386",
   "metadata": {},
   "outputs": [],
   "source": [
    "from sklearn.ensemble import IsolationForest"
   ]
  },
  {
   "cell_type": "code",
   "execution_count": 23,
   "id": "055e1b60",
   "metadata": {},
   "outputs": [],
   "source": [
    "##fazer depois"
   ]
  },
  {
   "cell_type": "markdown",
   "id": "61b6ee10",
   "metadata": {},
   "source": [
    "*Plotting results*"
   ]
  },
  {
   "cell_type": "code",
   "execution_count": 24,
   "id": "4b9f9660",
   "metadata": {},
   "outputs": [],
   "source": [
    "## to install dependencies\n",
    "#import sys\n",
    "#!{sys.executable} -m pip install matplotlib"
   ]
  },
  {
   "cell_type": "markdown",
   "id": "15c7fff9",
   "metadata": {},
   "source": [
    "*Plotting results from experiment 1*"
   ]
  },
  {
   "cell_type": "code",
   "execution_count": 32,
   "id": "4d0e14cf",
   "metadata": {},
   "outputs": [
    {
     "name": "stdout",
     "output_type": "stream",
     "text": [
      "1 in predictions: 4274 \\ -1 in predictions: 7308\n"
     ]
    }
   ],
   "source": [
    "labelsPrint = pegaLabels(predicts1)\n",
    "print(\"1 in predictions: \" + str(labelsPrint[0]) + \" \\ -1 in predictions: \" + str(labelsPrint[1])) "
   ]
  },
  {
   "cell_type": "code",
   "execution_count": 33,
   "id": "2bc99ddf",
   "metadata": {},
   "outputs": [
    {
     "data": {
      "image/png": "[encoded data removed]",
      "text/plain": [
       "<Figure size 720x360 with 1 Axes>"
      ]
     },
     "metadata": {
      "needs_background": "light"
     },
     "output_type": "display_data"
    }
   ],
   "source": [
    "plotaGrafico(labelsPrint, \"1\", \"label encoding\")"
   ]
  },
  {
   "cell_type": "markdown",
   "id": "a7784d38",
   "metadata": {},
   "source": [
    "*Plotting results from experiment 2*"
   ]
  },
  {
   "cell_type": "code",
   "execution_count": null,
   "id": "86cca396",
   "metadata": {},
   "outputs": [],
   "source": [
    "labelsPrint = pegaLabels(predicts2)\n",
    "print(\"1 in predictions: \" + str(labelsPrint[0]) + \" \\ -1 in predictions: \" + str(labelsPrint[1])) "
   ]
  },
  {
   "cell_type": "code",
   "execution_count": null,
   "id": "b8bf54d2",
   "metadata": {},
   "outputs": [],
   "source": [
    "plotaGrafico(labelsPrint, \"2\", \"label encoding\")"
   ]
  },
  {
   "cell_type": "markdown",
   "id": "3a1e1df6",
   "metadata": {},
   "source": [
    "*Plotting results from experiment 3*"
   ]
  },
  {
   "cell_type": "code",
   "execution_count": 62,
   "id": "d5962e71",
   "metadata": {},
   "outputs": [
    {
     "name": "stdout",
     "output_type": "stream",
     "text": [
      "1 in predictions: 256442 \\ -1 in predictions: 105759\n"
     ]
    }
   ],
   "source": [
    "labelsPrint = pegaLabels(predicts3)\n",
    "print(\"1 in predictions: \" + str(labelsPrint[0]) + \" \\ -1 in predictions: \" + str(labelsPrint[1])) "
   ]
  },
  {
   "cell_type": "code",
   "execution_count": 63,
   "id": "587769e9",
   "metadata": {},
   "outputs": [
    {
     "data": {
      "image/png": "[encoded data removed]",
      "text/plain": [
       "<Figure size 720x360 with 1 Axes>"
      ]
     },
     "metadata": {
      "needs_background": "light"
     },
     "output_type": "display_data"
    }
   ],
   "source": [
    "plotaGrafico(labelsPrint, \"3\", \"label encoding\")"
   ]
  },
  {
   "cell_type": "markdown",
   "id": "ac413013",
   "metadata": {},
   "source": [
    "*Plotting results from experiment 4*"
   ]
  },
  {
   "cell_type": "code",
   "execution_count": null,
   "id": "a76fddd6",
   "metadata": {},
   "outputs": [],
   "source": [
    "labelsPrint = pegaLabels(predicts4)\n",
    "print(\"1 in predictions: \" + str(labelsPrint[0]) + \" \\ -1 in predictions: \" + str(labelsPrint[1])) "
   ]
  },
  {
   "cell_type": "code",
   "execution_count": 41,
   "id": "92c81f73",
   "metadata": {},
   "outputs": [
    {
     "ename": "NameError",
     "evalue": "name 'labelsPrint' is not defined",
     "output_type": "error",
     "traceback": [
      "\u001b[1;31m---------------------------------------------------------------------------\u001b[0m",
      "\u001b[1;31mNameError\u001b[0m                                 Traceback (most recent call last)",
      "Input \u001b[1;32mIn [41]\u001b[0m, in \u001b[0;36m<module>\u001b[1;34m\u001b[0m\n\u001b[1;32m----> 1\u001b[0m plotaGrafico(\u001b[43mlabelsPrint\u001b[49m, \u001b[38;5;124m\"\u001b[39m\u001b[38;5;124m4\u001b[39m\u001b[38;5;124m\"\u001b[39m, \u001b[38;5;124m\"\u001b[39m\u001b[38;5;124mlabel encoding\u001b[39m\u001b[38;5;124m\"\u001b[39m)\n",
      "\u001b[1;31mNameError\u001b[0m: name 'labelsPrint' is not defined"
     ]
    }
   ],
   "source": [
    "plotaGrafico(labelsPrint, \"4\", \"label encoding\")"
   ]
  },
  {
   "cell_type": "markdown",
   "id": "012e4a4b",
   "metadata": {},
   "source": [
    "*Plotting results from experiment 5*"
   ]
  },
  {
   "cell_type": "code",
   "execution_count": 42,
   "id": "afabc996",
   "metadata": {},
   "outputs": [
    {
     "ename": "NameError",
     "evalue": "name 'predicts5' is not defined",
     "output_type": "error",
     "traceback": [
      "\u001b[1;31m---------------------------------------------------------------------------\u001b[0m",
      "\u001b[1;31mNameError\u001b[0m                                 Traceback (most recent call last)",
      "Input \u001b[1;32mIn [42]\u001b[0m, in \u001b[0;36m<module>\u001b[1;34m\u001b[0m\n\u001b[1;32m----> 1\u001b[0m labelsPrint \u001b[38;5;241m=\u001b[39m pegaLabels(\u001b[43mpredicts5\u001b[49m)\n\u001b[0;32m      2\u001b[0m \u001b[38;5;28mprint\u001b[39m(\u001b[38;5;124m\"\u001b[39m\u001b[38;5;124m1 in predictions: \u001b[39m\u001b[38;5;124m\"\u001b[39m \u001b[38;5;241m+\u001b[39m \u001b[38;5;28mstr\u001b[39m(labelsPrint[\u001b[38;5;241m0\u001b[39m]) \u001b[38;5;241m+\u001b[39m \u001b[38;5;124m\"\u001b[39m\u001b[38;5;124m \u001b[39m\u001b[38;5;124m\\\u001b[39m\u001b[38;5;124m -1 in predictions: \u001b[39m\u001b[38;5;124m\"\u001b[39m \u001b[38;5;241m+\u001b[39m \u001b[38;5;28mstr\u001b[39m(labelsPrint[\u001b[38;5;241m1\u001b[39m]))\n",
      "\u001b[1;31mNameError\u001b[0m: name 'predicts5' is not defined"
     ]
    }
   ],
   "source": [
    "labelsPrint = pegaLabels(predicts5)\n",
    "print(\"1 in predictions: \" + str(labelsPrint[0]) + \" \\ -1 in predictions: \" + str(labelsPrint[1]))"
   ]
  },
  {
   "cell_type": "code",
   "execution_count": 43,
   "id": "2356168b",
   "metadata": {},
   "outputs": [
    {
     "ename": "NameError",
     "evalue": "name 'labelsPrint' is not defined",
     "output_type": "error",
     "traceback": [
      "\u001b[1;31m---------------------------------------------------------------------------\u001b[0m",
      "\u001b[1;31mNameError\u001b[0m                                 Traceback (most recent call last)",
      "Input \u001b[1;32mIn [43]\u001b[0m, in \u001b[0;36m<module>\u001b[1;34m\u001b[0m\n\u001b[1;32m----> 1\u001b[0m plotaGrafico(\u001b[43mlabelsPrint\u001b[49m, \u001b[38;5;124m\"\u001b[39m\u001b[38;5;124m5\u001b[39m\u001b[38;5;124m\"\u001b[39m, \u001b[38;5;124m\"\u001b[39m\u001b[38;5;124mlabel encoding\u001b[39m\u001b[38;5;124m\"\u001b[39m)\n",
      "\u001b[1;31mNameError\u001b[0m: name 'labelsPrint' is not defined"
     ]
    }
   ],
   "source": [
    "plotaGrafico(labelsPrint, \"5\", \"label encoding\")"
   ]
  },
  {
   "cell_type": "markdown",
   "id": "2b143fdc",
   "metadata": {},
   "source": [
    "**Métricas**"
   ]
  },
  {
   "cell_type": "code",
   "execution_count": 37,
   "id": "955cd298",
   "metadata": {},
   "outputs": [],
   "source": [
    "from sklearn.metrics import f1_score\n",
    "from sklearn.metrics import confusion_matrix\n",
    "from sklearn.metrics import roc_auc_score"
   ]
  },
  {
   "cell_type": "markdown",
   "id": "893dbcf0",
   "metadata": {},
   "source": [
    "Exp 1"
   ]
  },
  {
   "cell_type": "code",
   "execution_count": 44,
   "id": "509b0d47",
   "metadata": {},
   "outputs": [
    {
     "name": "stdout",
     "output_type": "stream",
     "text": [
      "F1: 0.035842293906810034\n",
      "Confusion Matrix:\n",
      "[[   0    0    0]\n",
      " [6830    0 4004]\n",
      " [ 478    0  270]]\n",
      "roc_auc:0.49569265503036086\n",
      "tpr:0.934592227695676\n",
      "fpr:0.9368273280299485\n"
     ]
    }
   ],
   "source": [
    "labelsX1_new = labelsX1_new.astype(int)\n",
    "precits1 = predicts1.astype(int)\n",
    "print(\"F1: \" + str(f1_score(labelsX1_new, predicts1, average='macro')))\n",
    "print('Confusion Matrix:')\n",
    "confMatrix = (confusion_matrix(labelsX1_new, predicts1))\n",
    "print(confMatrix)\n",
    "roc_auc = roc_auc_score(labelsX1_new, predicts1)\n",
    "tpr = confMatrix[1][0] / (confMatrix[1][0] + confMatrix[2][0])\n",
    "\n",
    "fpr = confMatrix[1][2] /(confMatrix[1][2] + confMatrix[2][2])\n",
    "print(\"roc_auc:\"+str(roc_auc))\n",
    "print(\"tpr:\"+str(tpr))\n",
    "print(\"fpr:\"+str(fpr))"
   ]
  },
  {
   "cell_type": "markdown",
   "id": "aa9f006c",
   "metadata": {},
   "source": [
    "Exp 2"
   ]
  },
  {
   "cell_type": "code",
   "execution_count": 46,
   "id": "91d86799",
   "metadata": {},
   "outputs": [
    {
     "data": {
      "text/plain": [
       "0.0"
      ]
     },
     "execution_count": 46,
     "metadata": {},
     "output_type": "execute_result"
    }
   ],
   "source": [
    "labelsX2_new = labelsX2_new.astype(int)\n",
    "f1_score(labelsX2_new, predicts2, average='macro')"
   ]
  },
  {
   "cell_type": "markdown",
   "id": "ba31176a",
   "metadata": {},
   "source": [
    "Exp 3"
   ]
  },
  {
   "cell_type": "code",
   "execution_count": 65,
   "id": "2d063eed",
   "metadata": {},
   "outputs": [
    {
     "ename": "ValueError",
     "evalue": "Found input variables with inconsistent numbers of samples: [725152, 362201]",
     "output_type": "error",
     "traceback": [
      "\u001b[1;31m---------------------------------------------------------------------------\u001b[0m",
      "\u001b[1;31mValueError\u001b[0m                                Traceback (most recent call last)",
      "Input \u001b[1;32mIn [65]\u001b[0m, in \u001b[0;36m<module>\u001b[1;34m\u001b[0m\n\u001b[0;32m      1\u001b[0m labelsY1_new \u001b[38;5;241m=\u001b[39m labelsY1_new\u001b[38;5;241m.\u001b[39mastype(\u001b[38;5;28mint\u001b[39m)\n\u001b[1;32m----> 2\u001b[0m \u001b[43mf1_score\u001b[49m\u001b[43m(\u001b[49m\u001b[43mlabelsY1_new\u001b[49m\u001b[43m,\u001b[49m\u001b[43m \u001b[49m\u001b[43mpredicts3\u001b[49m\u001b[43m,\u001b[49m\u001b[43m \u001b[49m\u001b[43maverage\u001b[49m\u001b[38;5;241;43m=\u001b[39;49m\u001b[38;5;124;43m'\u001b[39;49m\u001b[38;5;124;43mmacro\u001b[39;49m\u001b[38;5;124;43m'\u001b[39;49m\u001b[43m)\u001b[49m\n",
      "File \u001b[1;32m~\\AppData\\Local\\Programs\\Python\\Python310\\lib\\site-packages\\sklearn\\metrics\\_classification.py:1123\u001b[0m, in \u001b[0;36mf1_score\u001b[1;34m(y_true, y_pred, labels, pos_label, average, sample_weight, zero_division)\u001b[0m\n\u001b[0;32m    992\u001b[0m \u001b[38;5;28;01mdef\u001b[39;00m \u001b[38;5;21mf1_score\u001b[39m(\n\u001b[0;32m    993\u001b[0m     y_true,\n\u001b[0;32m    994\u001b[0m     y_pred,\n\u001b[1;32m   (...)\u001b[0m\n\u001b[0;32m   1000\u001b[0m     zero_division\u001b[38;5;241m=\u001b[39m\u001b[38;5;124m\"\u001b[39m\u001b[38;5;124mwarn\u001b[39m\u001b[38;5;124m\"\u001b[39m,\n\u001b[0;32m   1001\u001b[0m ):\n\u001b[0;32m   1002\u001b[0m     \u001b[38;5;124;03m\"\"\"Compute the F1 score, also known as balanced F-score or F-measure.\u001b[39;00m\n\u001b[0;32m   1003\u001b[0m \n\u001b[0;32m   1004\u001b[0m \u001b[38;5;124;03m    The F1 score can be interpreted as a harmonic mean of the precision and\u001b[39;00m\n\u001b[1;32m   (...)\u001b[0m\n\u001b[0;32m   1121\u001b[0m \u001b[38;5;124;03m    modified with ``zero_division``.\u001b[39;00m\n\u001b[0;32m   1122\u001b[0m \u001b[38;5;124;03m    \"\"\"\u001b[39;00m\n\u001b[1;32m-> 1123\u001b[0m     \u001b[38;5;28;01mreturn\u001b[39;00m \u001b[43mfbeta_score\u001b[49m\u001b[43m(\u001b[49m\n\u001b[0;32m   1124\u001b[0m \u001b[43m        \u001b[49m\u001b[43my_true\u001b[49m\u001b[43m,\u001b[49m\n\u001b[0;32m   1125\u001b[0m \u001b[43m        \u001b[49m\u001b[43my_pred\u001b[49m\u001b[43m,\u001b[49m\n\u001b[0;32m   1126\u001b[0m \u001b[43m        \u001b[49m\u001b[43mbeta\u001b[49m\u001b[38;5;241;43m=\u001b[39;49m\u001b[38;5;241;43m1\u001b[39;49m\u001b[43m,\u001b[49m\n\u001b[0;32m   1127\u001b[0m \u001b[43m        \u001b[49m\u001b[43mlabels\u001b[49m\u001b[38;5;241;43m=\u001b[39;49m\u001b[43mlabels\u001b[49m\u001b[43m,\u001b[49m\n\u001b[0;32m   1128\u001b[0m \u001b[43m        \u001b[49m\u001b[43mpos_label\u001b[49m\u001b[38;5;241;43m=\u001b[39;49m\u001b[43mpos_label\u001b[49m\u001b[43m,\u001b[49m\n\u001b[0;32m   1129\u001b[0m \u001b[43m        \u001b[49m\u001b[43maverage\u001b[49m\u001b[38;5;241;43m=\u001b[39;49m\u001b[43maverage\u001b[49m\u001b[43m,\u001b[49m\n\u001b[0;32m   1130\u001b[0m \u001b[43m        \u001b[49m\u001b[43msample_weight\u001b[49m\u001b[38;5;241;43m=\u001b[39;49m\u001b[43msample_weight\u001b[49m\u001b[43m,\u001b[49m\n\u001b[0;32m   1131\u001b[0m \u001b[43m        \u001b[49m\u001b[43mzero_division\u001b[49m\u001b[38;5;241;43m=\u001b[39;49m\u001b[43mzero_division\u001b[49m\u001b[43m,\u001b[49m\n\u001b[0;32m   1132\u001b[0m \u001b[43m    \u001b[49m\u001b[43m)\u001b[49m\n",
      "File \u001b[1;32m~\\AppData\\Local\\Programs\\Python\\Python310\\lib\\site-packages\\sklearn\\metrics\\_classification.py:1261\u001b[0m, in \u001b[0;36mfbeta_score\u001b[1;34m(y_true, y_pred, beta, labels, pos_label, average, sample_weight, zero_division)\u001b[0m\n\u001b[0;32m   1135\u001b[0m \u001b[38;5;28;01mdef\u001b[39;00m \u001b[38;5;21mfbeta_score\u001b[39m(\n\u001b[0;32m   1136\u001b[0m     y_true,\n\u001b[0;32m   1137\u001b[0m     y_pred,\n\u001b[1;32m   (...)\u001b[0m\n\u001b[0;32m   1144\u001b[0m     zero_division\u001b[38;5;241m=\u001b[39m\u001b[38;5;124m\"\u001b[39m\u001b[38;5;124mwarn\u001b[39m\u001b[38;5;124m\"\u001b[39m,\n\u001b[0;32m   1145\u001b[0m ):\n\u001b[0;32m   1146\u001b[0m     \u001b[38;5;124;03m\"\"\"Compute the F-beta score.\u001b[39;00m\n\u001b[0;32m   1147\u001b[0m \n\u001b[0;32m   1148\u001b[0m \u001b[38;5;124;03m    The F-beta score is the weighted harmonic mean of precision and recall,\u001b[39;00m\n\u001b[1;32m   (...)\u001b[0m\n\u001b[0;32m   1258\u001b[0m \u001b[38;5;124;03m    array([0.71..., 0.        , 0.        ])\u001b[39;00m\n\u001b[0;32m   1259\u001b[0m \u001b[38;5;124;03m    \"\"\"\u001b[39;00m\n\u001b[1;32m-> 1261\u001b[0m     _, _, f, _ \u001b[38;5;241m=\u001b[39m \u001b[43mprecision_recall_fscore_support\u001b[49m\u001b[43m(\u001b[49m\n\u001b[0;32m   1262\u001b[0m \u001b[43m        \u001b[49m\u001b[43my_true\u001b[49m\u001b[43m,\u001b[49m\n\u001b[0;32m   1263\u001b[0m \u001b[43m        \u001b[49m\u001b[43my_pred\u001b[49m\u001b[43m,\u001b[49m\n\u001b[0;32m   1264\u001b[0m \u001b[43m        \u001b[49m\u001b[43mbeta\u001b[49m\u001b[38;5;241;43m=\u001b[39;49m\u001b[43mbeta\u001b[49m\u001b[43m,\u001b[49m\n\u001b[0;32m   1265\u001b[0m \u001b[43m        \u001b[49m\u001b[43mlabels\u001b[49m\u001b[38;5;241;43m=\u001b[39;49m\u001b[43mlabels\u001b[49m\u001b[43m,\u001b[49m\n\u001b[0;32m   1266\u001b[0m \u001b[43m        \u001b[49m\u001b[43mpos_label\u001b[49m\u001b[38;5;241;43m=\u001b[39;49m\u001b[43mpos_label\u001b[49m\u001b[43m,\u001b[49m\n\u001b[0;32m   1267\u001b[0m \u001b[43m        \u001b[49m\u001b[43maverage\u001b[49m\u001b[38;5;241;43m=\u001b[39;49m\u001b[43maverage\u001b[49m\u001b[43m,\u001b[49m\n\u001b[0;32m   1268\u001b[0m \u001b[43m        \u001b[49m\u001b[43mwarn_for\u001b[49m\u001b[38;5;241;43m=\u001b[39;49m\u001b[43m(\u001b[49m\u001b[38;5;124;43m\"\u001b[39;49m\u001b[38;5;124;43mf-score\u001b[39;49m\u001b[38;5;124;43m\"\u001b[39;49m\u001b[43m,\u001b[49m\u001b[43m)\u001b[49m\u001b[43m,\u001b[49m\n\u001b[0;32m   1269\u001b[0m \u001b[43m        \u001b[49m\u001b[43msample_weight\u001b[49m\u001b[38;5;241;43m=\u001b[39;49m\u001b[43msample_weight\u001b[49m\u001b[43m,\u001b[49m\n\u001b[0;32m   1270\u001b[0m \u001b[43m        \u001b[49m\u001b[43mzero_division\u001b[49m\u001b[38;5;241;43m=\u001b[39;49m\u001b[43mzero_division\u001b[49m\u001b[43m,\u001b[49m\n\u001b[0;32m   1271\u001b[0m \u001b[43m    \u001b[49m\u001b[43m)\u001b[49m\n\u001b[0;32m   1272\u001b[0m     \u001b[38;5;28;01mreturn\u001b[39;00m f\n",
      "File \u001b[1;32m~\\AppData\\Local\\Programs\\Python\\Python310\\lib\\site-packages\\sklearn\\metrics\\_classification.py:1544\u001b[0m, in \u001b[0;36mprecision_recall_fscore_support\u001b[1;34m(y_true, y_pred, beta, labels, pos_label, average, warn_for, sample_weight, zero_division)\u001b[0m\n\u001b[0;32m   1542\u001b[0m \u001b[38;5;28;01mif\u001b[39;00m beta \u001b[38;5;241m<\u001b[39m \u001b[38;5;241m0\u001b[39m:\n\u001b[0;32m   1543\u001b[0m     \u001b[38;5;28;01mraise\u001b[39;00m \u001b[38;5;167;01mValueError\u001b[39;00m(\u001b[38;5;124m\"\u001b[39m\u001b[38;5;124mbeta should be >=0 in the F-beta score\u001b[39m\u001b[38;5;124m\"\u001b[39m)\n\u001b[1;32m-> 1544\u001b[0m labels \u001b[38;5;241m=\u001b[39m \u001b[43m_check_set_wise_labels\u001b[49m\u001b[43m(\u001b[49m\u001b[43my_true\u001b[49m\u001b[43m,\u001b[49m\u001b[43m \u001b[49m\u001b[43my_pred\u001b[49m\u001b[43m,\u001b[49m\u001b[43m \u001b[49m\u001b[43maverage\u001b[49m\u001b[43m,\u001b[49m\u001b[43m \u001b[49m\u001b[43mlabels\u001b[49m\u001b[43m,\u001b[49m\u001b[43m \u001b[49m\u001b[43mpos_label\u001b[49m\u001b[43m)\u001b[49m\n\u001b[0;32m   1546\u001b[0m \u001b[38;5;66;03m# Calculate tp_sum, pred_sum, true_sum ###\u001b[39;00m\n\u001b[0;32m   1547\u001b[0m samplewise \u001b[38;5;241m=\u001b[39m average \u001b[38;5;241m==\u001b[39m \u001b[38;5;124m\"\u001b[39m\u001b[38;5;124msamples\u001b[39m\u001b[38;5;124m\"\u001b[39m\n",
      "File \u001b[1;32m~\\AppData\\Local\\Programs\\Python\\Python310\\lib\\site-packages\\sklearn\\metrics\\_classification.py:1348\u001b[0m, in \u001b[0;36m_check_set_wise_labels\u001b[1;34m(y_true, y_pred, average, labels, pos_label)\u001b[0m\n\u001b[0;32m   1345\u001b[0m \u001b[38;5;28;01mif\u001b[39;00m average \u001b[38;5;129;01mnot\u001b[39;00m \u001b[38;5;129;01min\u001b[39;00m average_options \u001b[38;5;129;01mand\u001b[39;00m average \u001b[38;5;241m!=\u001b[39m \u001b[38;5;124m\"\u001b[39m\u001b[38;5;124mbinary\u001b[39m\u001b[38;5;124m\"\u001b[39m:\n\u001b[0;32m   1346\u001b[0m     \u001b[38;5;28;01mraise\u001b[39;00m \u001b[38;5;167;01mValueError\u001b[39;00m(\u001b[38;5;124m\"\u001b[39m\u001b[38;5;124maverage has to be one of \u001b[39m\u001b[38;5;124m\"\u001b[39m \u001b[38;5;241m+\u001b[39m \u001b[38;5;28mstr\u001b[39m(average_options))\n\u001b[1;32m-> 1348\u001b[0m y_type, y_true, y_pred \u001b[38;5;241m=\u001b[39m \u001b[43m_check_targets\u001b[49m\u001b[43m(\u001b[49m\u001b[43my_true\u001b[49m\u001b[43m,\u001b[49m\u001b[43m \u001b[49m\u001b[43my_pred\u001b[49m\u001b[43m)\u001b[49m\n\u001b[0;32m   1349\u001b[0m \u001b[38;5;66;03m# Convert to Python primitive type to avoid NumPy type / Python str\u001b[39;00m\n\u001b[0;32m   1350\u001b[0m \u001b[38;5;66;03m# comparison. See https://github.com/numpy/numpy/issues/6784\u001b[39;00m\n\u001b[0;32m   1351\u001b[0m present_labels \u001b[38;5;241m=\u001b[39m unique_labels(y_true, y_pred)\u001b[38;5;241m.\u001b[39mtolist()\n",
      "File \u001b[1;32m~\\AppData\\Local\\Programs\\Python\\Python310\\lib\\site-packages\\sklearn\\metrics\\_classification.py:84\u001b[0m, in \u001b[0;36m_check_targets\u001b[1;34m(y_true, y_pred)\u001b[0m\n\u001b[0;32m     57\u001b[0m \u001b[38;5;28;01mdef\u001b[39;00m \u001b[38;5;21m_check_targets\u001b[39m(y_true, y_pred):\n\u001b[0;32m     58\u001b[0m     \u001b[38;5;124;03m\"\"\"Check that y_true and y_pred belong to the same classification task.\u001b[39;00m\n\u001b[0;32m     59\u001b[0m \n\u001b[0;32m     60\u001b[0m \u001b[38;5;124;03m    This converts multiclass or binary types to a common shape, and raises a\u001b[39;00m\n\u001b[1;32m   (...)\u001b[0m\n\u001b[0;32m     82\u001b[0m \u001b[38;5;124;03m    y_pred : array or indicator matrix\u001b[39;00m\n\u001b[0;32m     83\u001b[0m \u001b[38;5;124;03m    \"\"\"\u001b[39;00m\n\u001b[1;32m---> 84\u001b[0m     \u001b[43mcheck_consistent_length\u001b[49m\u001b[43m(\u001b[49m\u001b[43my_true\u001b[49m\u001b[43m,\u001b[49m\u001b[43m \u001b[49m\u001b[43my_pred\u001b[49m\u001b[43m)\u001b[49m\n\u001b[0;32m     85\u001b[0m     type_true \u001b[38;5;241m=\u001b[39m type_of_target(y_true)\n\u001b[0;32m     86\u001b[0m     type_pred \u001b[38;5;241m=\u001b[39m type_of_target(y_pred)\n",
      "File \u001b[1;32m~\\AppData\\Local\\Programs\\Python\\Python310\\lib\\site-packages\\sklearn\\utils\\validation.py:332\u001b[0m, in \u001b[0;36mcheck_consistent_length\u001b[1;34m(*arrays)\u001b[0m\n\u001b[0;32m    330\u001b[0m uniques \u001b[38;5;241m=\u001b[39m np\u001b[38;5;241m.\u001b[39munique(lengths)\n\u001b[0;32m    331\u001b[0m \u001b[38;5;28;01mif\u001b[39;00m \u001b[38;5;28mlen\u001b[39m(uniques) \u001b[38;5;241m>\u001b[39m \u001b[38;5;241m1\u001b[39m:\n\u001b[1;32m--> 332\u001b[0m     \u001b[38;5;28;01mraise\u001b[39;00m \u001b[38;5;167;01mValueError\u001b[39;00m(\n\u001b[0;32m    333\u001b[0m         \u001b[38;5;124m\"\u001b[39m\u001b[38;5;124mFound input variables with inconsistent numbers of samples: \u001b[39m\u001b[38;5;132;01m%r\u001b[39;00m\u001b[38;5;124m\"\u001b[39m\n\u001b[0;32m    334\u001b[0m         \u001b[38;5;241m%\u001b[39m [\u001b[38;5;28mint\u001b[39m(l) \u001b[38;5;28;01mfor\u001b[39;00m l \u001b[38;5;129;01min\u001b[39;00m lengths]\n\u001b[0;32m    335\u001b[0m     )\n",
      "\u001b[1;31mValueError\u001b[0m: Found input variables with inconsistent numbers of samples: [725152, 362201]"
     ]
    }
   ],
   "source": [
    "labelsY1_new = labelsY1_new.astype(int)\n",
    "f1_score(labelsY1_new, predicts3, average='macro')"
   ]
  },
  {
   "cell_type": "markdown",
   "id": "b6adb92f",
   "metadata": {},
   "source": [
    "Exp 4"
   ]
  },
  {
   "cell_type": "code",
   "execution_count": 48,
   "id": "629a7613",
   "metadata": {},
   "outputs": [
    {
     "ename": "NameError",
     "evalue": "name 'predicts4' is not defined",
     "output_type": "error",
     "traceback": [
      "\u001b[1;31m---------------------------------------------------------------------------\u001b[0m",
      "\u001b[1;31mNameError\u001b[0m                                 Traceback (most recent call last)",
      "Input \u001b[1;32mIn [48]\u001b[0m, in \u001b[0;36m<module>\u001b[1;34m\u001b[0m\n\u001b[0;32m      1\u001b[0m labelsY2_new \u001b[38;5;241m=\u001b[39m labelsY2_new\u001b[38;5;241m.\u001b[39mastype(\u001b[38;5;28mint\u001b[39m)\n\u001b[1;32m----> 2\u001b[0m f1_score(labelsY2_new, \u001b[43mpredicts4\u001b[49m, average\u001b[38;5;241m=\u001b[39m\u001b[38;5;124m'\u001b[39m\u001b[38;5;124mmacro\u001b[39m\u001b[38;5;124m'\u001b[39m)\n",
      "\u001b[1;31mNameError\u001b[0m: name 'predicts4' is not defined"
     ]
    }
   ],
   "source": [
    "labelsY2_new = labelsY2_new.astype(int)\n",
    "f1_score(labelsY2_new, predicts4, average='macro')"
   ]
  },
  {
   "cell_type": "markdown",
   "id": "879cdfa8",
   "metadata": {},
   "source": [
    "Exp 5"
   ]
  },
  {
   "cell_type": "code",
   "execution_count": 49,
   "id": "c836a3bf",
   "metadata": {},
   "outputs": [
    {
     "ename": "NameError",
     "evalue": "name 'predicts5' is not defined",
     "output_type": "error",
     "traceback": [
      "\u001b[1;31m---------------------------------------------------------------------------\u001b[0m",
      "\u001b[1;31mNameError\u001b[0m                                 Traceback (most recent call last)",
      "Input \u001b[1;32mIn [49]\u001b[0m, in \u001b[0;36m<module>\u001b[1;34m\u001b[0m\n\u001b[0;32m      1\u001b[0m labelsY3_new \u001b[38;5;241m=\u001b[39m labelsY3_new\u001b[38;5;241m.\u001b[39mastype(\u001b[38;5;28mint\u001b[39m)\n\u001b[1;32m----> 2\u001b[0m f1_score(labelsY3_new, \u001b[43mpredicts5\u001b[49m, average\u001b[38;5;241m=\u001b[39m\u001b[38;5;124m'\u001b[39m\u001b[38;5;124mmacro\u001b[39m\u001b[38;5;124m'\u001b[39m)\n",
      "\u001b[1;31mNameError\u001b[0m: name 'predicts5' is not defined"
     ]
    }
   ],
   "source": [
    "labelsY3_new = labelsY3_new.astype(int)\n",
    "f1_score(labelsY3_new, predicts5, average='macro')"
   ]
  },
  {
   "cell_type": "code",
   "execution_count": null,
   "id": "79062181",
   "metadata": {},
   "outputs": [],
   "source": []
  }
 ],
 "metadata": {
  "kernelspec": {
   "display_name": "Python 3 (ipykernel)",
   "language": "python",
   "name": "python3"
  },
  "language_info": {
   "codemirror_mode": {
    "name": "ipython",
    "version": 3
   },
   "file_extension": ".py",
   "mimetype": "text/x-python",
   "name": "python",
   "nbconvert_exporter": "python",
   "pygments_lexer": "ipython3",
   "version": "3.10.4"
  }
 },
 "nbformat": 4,
 "nbformat_minor": 5
}
