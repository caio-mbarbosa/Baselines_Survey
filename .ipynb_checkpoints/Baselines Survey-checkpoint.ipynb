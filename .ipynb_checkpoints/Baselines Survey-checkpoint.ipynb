{
 "cells": [
  {
   "cell_type": "markdown",
   "id": "737d0e3a",
   "metadata": {},
   "source": [
    "Here I'll run some test on the following databases : \"lanl-comprehensive_700k.csv\" and \"lanl-comprehensive-unified-auth.csv\".\n",
    "The model training will disconsider the time column. The experiments will be the following:"
   ]
  },
  {
   "cell_type": "markdown",
   "id": "d659553f",
   "metadata": {},
   "source": [
    " 1 : Experiment with one hot enconding and label enc on the database \"lanl-comprehensive-unified-auth.csv\" dropping \"computer_source\"\n",
    "    \n",
    " 2 : Experiment with one hot enconding and label enc on the database \"lanl-comprehensive-unified-auth.csv\" dropping \"user\"\n",
    " \n",
    " 3 : Experiment with one hot enconding and label enc on the database \"lanl-comprehensive_700k.csv\" dropping \"src_comp\"\n",
    " \n",
    " 4 : Experiment with one hot enconding and label enc on the database \"lanl-comprehensive_700k.csv\" dropping \"src_user\"\n",
    " \n",
    " 5 : Experiment with label enconding and one-hot-enc on both datasets without dropping columns"
   ]
  },
  {
   "cell_type": "markdown",
   "id": "d3c9669e",
   "metadata": {},
   "source": [
    "*Isolation Forest test*"
   ]
  },
  {
   "cell_type": "code",
   "execution_count": 1,
   "id": "d37df648",
   "metadata": {},
   "outputs": [
    {
     "name": "stdout",
     "output_type": "stream",
     "text": [
      "Requirement already satisfied: scikit-learn in c:\\users\\caio_\\appdata\\local\\programs\\python\\python310\\lib\\site-packages (1.0.2)\n",
      "Requirement already satisfied: scipy>=1.1.0 in c:\\users\\caio_\\appdata\\local\\programs\\python\\python310\\lib\\site-packages (from scikit-learn) (1.8.0)\n",
      "Requirement already satisfied: threadpoolctl>=2.0.0 in c:\\users\\caio_\\appdata\\local\\programs\\python\\python310\\lib\\site-packages (from scikit-learn) (3.1.0)\n",
      "Requirement already satisfied: numpy>=1.14.6 in c:\\users\\caio_\\appdata\\local\\programs\\python\\python310\\lib\\site-packages (from scikit-learn) (1.22.2)\n",
      "Requirement already satisfied: joblib>=0.11 in c:\\users\\caio_\\appdata\\local\\programs\\python\\python310\\lib\\site-packages (from scikit-learn) (1.1.0)\n"
     ]
    }
   ],
   "source": [
    "#!pip install -U scikit-learn"
   ]
  },
  {
   "cell_type": "markdown",
   "id": "a84900f0",
   "metadata": {},
   "source": [
    "***Importing the database***"
   ]
  },
  {
   "cell_type": "code",
   "execution_count": 5,
   "id": "9b6cfd1c",
   "metadata": {},
   "outputs": [
    {
     "name": "stdout",
     "output_type": "stream",
     "text": [
      "Requirement already satisfied: numpy in c:\\users\\caio_\\appdata\\local\\programs\\python\\python310\\lib\\site-packages (1.22.2)\n"
     ]
    }
   ],
   "source": [
    "# only run cells below to install dependencies\n",
    "#import sys\n",
    "#!{sys.executable} -m pip install numpy"
   ]
  },
  {
   "cell_type": "code",
   "execution_count": 6,
   "id": "6d415689",
   "metadata": {},
   "outputs": [
    {
     "name": "stdout",
     "output_type": "stream",
     "text": [
      "Collecting pandas\n",
      "  Using cached pandas-1.4.1-cp310-cp310-win_amd64.whl (10.6 MB)\n",
      "Requirement already satisfied: numpy>=1.21.0 in c:\\users\\caio_\\appdata\\local\\programs\\python\\python310\\lib\\site-packages (from pandas) (1.22.2)\n",
      "Requirement already satisfied: python-dateutil>=2.8.1 in c:\\users\\caio_\\appdata\\local\\programs\\python\\python310\\lib\\site-packages (from pandas) (2.8.2)\n",
      "Collecting pytz>=2020.1\n",
      "  Downloading pytz-2021.3-py2.py3-none-any.whl (503 kB)\n",
      "     -------------------------------------- 503.5/503.5 KB 1.7 MB/s eta 0:00:00\n",
      "Requirement already satisfied: six>=1.5 in c:\\users\\caio_\\appdata\\local\\programs\\python\\python310\\lib\\site-packages (from python-dateutil>=2.8.1->pandas) (1.16.0)\n",
      "Installing collected packages: pytz, pandas\n",
      "Successfully installed pandas-1.4.1 pytz-2021.3\n"
     ]
    }
   ],
   "source": [
    "#!{sys.executable} -m pip install pandas"
   ]
  },
  {
   "cell_type": "code",
   "execution_count": 1,
   "id": "c4e8e14d",
   "metadata": {},
   "outputs": [],
   "source": [
    "import pandas as pd\n",
    "import numpy as np"
   ]
  },
  {
   "cell_type": "markdown",
   "id": "fe7c7a5c",
   "metadata": {},
   "source": [
    "Functions to be used"
   ]
  },
  {
   "cell_type": "code",
   "execution_count": 2,
   "id": "35bc7225",
   "metadata": {},
   "outputs": [],
   "source": [
    "def preparaTabela(nomeDataset, columnDrop = None, percentagem = 0.2):\n",
    "    if (nomeDataset == \"lanl-comprehensive-unified-auth.csv\") :\n",
    "        X = pd.read_csv(\"lanl-comprehensive-unified-auth.csv\",header=None) #an m-by-n dataset with m observations\n",
    "        X.rename(columns={0:'time', 1:'computer_source',2:'user',3:'computer_dest', 4:'label'}, inplace=True)\n",
    "        X = X.iloc[1: , :]\n",
    "        X = X.drop('time', axis = 1)\n",
    "        labelsX = X.pop('label').to_numpy()\n",
    "        \n",
    "        if(columnDrop == \"computer_source\"):\n",
    "            X = X.drop('computer_source', axis = 1)\n",
    "        elif(columnDrop == \"user\"):\n",
    "            X = X.drop(\"user\", axis = 1)    \n",
    "        \n",
    "        return X, labelsX\n",
    "            \n",
    "    elif(nomeDataset == \"lanl-comprehensive_700k.csv\"):\n",
    "        Y = pd.read_csv(\"lanl-comprehensive_700k.csv\",header=None, dtype={\"time\": int, \"src_user\": \"string\", \"src_comp\": \"string\",\"dst_comp\": \"string\", \"is_malicious\": int}) #an m-by-n dataset with m observations\n",
    "        Y.rename(columns={0:'time', 1:'src_user',2:'src_comp',3:'dst_comp', 4:'is_malicious'}, inplace=True)\n",
    "        Y = Y.drop('time', axis = 1)\n",
    "        Y = Y.iloc[1: , :] \n",
    "        Y = Y.sample(n=None, frac=percentagem, replace=True, weights=None, random_state=42, axis=None, ignore_index=False) ## dataset too big for my pc\n",
    "        labelsY = Y.pop('is_malicious').to_numpy()\n",
    "        \n",
    "        if(columnDrop == \"src_comp\"):\n",
    "            Y = Y.drop('src_comp', axis = 1)\n",
    "        elif(columnDrop == \"src_user\"):\n",
    "            Y = Y.drop(\"src_user\", axis = 1)\n",
    "        \n",
    "        return Y, labelsY"
   ]
  },
  {
   "cell_type": "markdown",
   "id": "3eca7953",
   "metadata": {},
   "source": [
    "*Experiment 1*"
   ]
  },
  {
   "cell_type": "code",
   "execution_count": 3,
   "id": "1505f07d",
   "metadata": {},
   "outputs": [
    {
     "name": "stdout",
     "output_type": "stream",
     "text": [
      "(28953, 2)\n"
     ]
    },
    {
     "data": {
      "text/html": [
       "<div>\n",
       "<style scoped>\n",
       "    .dataframe tbody tr th:only-of-type {\n",
       "        vertical-align: middle;\n",
       "    }\n",
       "\n",
       "    .dataframe tbody tr th {\n",
       "        vertical-align: top;\n",
       "    }\n",
       "\n",
       "    .dataframe thead th {\n",
       "        text-align: right;\n",
       "    }\n",
       "</style>\n",
       "<table border=\"1\" class=\"dataframe\">\n",
       "  <thead>\n",
       "    <tr style=\"text-align: right;\">\n",
       "      <th></th>\n",
       "      <th>user</th>\n",
       "      <th>computer_dest</th>\n",
       "    </tr>\n",
       "  </thead>\n",
       "  <tbody>\n",
       "    <tr>\n",
       "      <th>1</th>\n",
       "      <td>U451666</td>\n",
       "      <td>C313779</td>\n",
       "    </tr>\n",
       "    <tr>\n",
       "      <th>2</th>\n",
       "      <td>U451666</td>\n",
       "      <td>C313779</td>\n",
       "    </tr>\n",
       "    <tr>\n",
       "      <th>3</th>\n",
       "      <td>U457678</td>\n",
       "      <td>C639081</td>\n",
       "    </tr>\n",
       "    <tr>\n",
       "      <th>4</th>\n",
       "      <td>U457678</td>\n",
       "      <td>C639081</td>\n",
       "    </tr>\n",
       "    <tr>\n",
       "      <th>5</th>\n",
       "      <td>U416717</td>\n",
       "      <td>C825721</td>\n",
       "    </tr>\n",
       "    <tr>\n",
       "      <th>...</th>\n",
       "      <td>...</td>\n",
       "      <td>...</td>\n",
       "    </tr>\n",
       "    <tr>\n",
       "      <th>28949</th>\n",
       "      <td>U141270</td>\n",
       "      <td>C200079</td>\n",
       "    </tr>\n",
       "    <tr>\n",
       "      <th>28950</th>\n",
       "      <td>U141270</td>\n",
       "      <td>C200079</td>\n",
       "    </tr>\n",
       "    <tr>\n",
       "      <th>28951</th>\n",
       "      <td>U141270</td>\n",
       "      <td>C200079</td>\n",
       "    </tr>\n",
       "    <tr>\n",
       "      <th>28952</th>\n",
       "      <td>U141270</td>\n",
       "      <td>C200079</td>\n",
       "    </tr>\n",
       "    <tr>\n",
       "      <th>28953</th>\n",
       "      <td>U632036</td>\n",
       "      <td>C632332</td>\n",
       "    </tr>\n",
       "  </tbody>\n",
       "</table>\n",
       "<p>28953 rows × 2 columns</p>\n",
       "</div>"
      ],
      "text/plain": [
       "          user computer_dest\n",
       "1      U451666       C313779\n",
       "2      U451666       C313779\n",
       "3      U457678       C639081\n",
       "4      U457678       C639081\n",
       "5      U416717       C825721\n",
       "...        ...           ...\n",
       "28949  U141270       C200079\n",
       "28950  U141270       C200079\n",
       "28951  U141270       C200079\n",
       "28952  U141270       C200079\n",
       "28953  U632036       C632332\n",
       "\n",
       "[28953 rows x 2 columns]"
      ]
     },
     "execution_count": 3,
     "metadata": {},
     "output_type": "execute_result"
    }
   ],
   "source": [
    "X1, labelsX1 = preparaTabela(\"lanl-comprehensive-unified-auth.csv\", \"computer_source\")\n",
    "print(X1.shape)\n",
    "X1"
   ]
  },
  {
   "cell_type": "markdown",
   "id": "dd7232c8",
   "metadata": {},
   "source": [
    "*Experiment 2*"
   ]
  },
  {
   "cell_type": "code",
   "execution_count": 4,
   "id": "88993b5c",
   "metadata": {},
   "outputs": [
    {
     "name": "stdout",
     "output_type": "stream",
     "text": [
      "(28953, 2)\n"
     ]
    },
    {
     "data": {
      "text/html": [
       "<div>\n",
       "<style scoped>\n",
       "    .dataframe tbody tr th:only-of-type {\n",
       "        vertical-align: middle;\n",
       "    }\n",
       "\n",
       "    .dataframe tbody tr th {\n",
       "        vertical-align: top;\n",
       "    }\n",
       "\n",
       "    .dataframe thead th {\n",
       "        text-align: right;\n",
       "    }\n",
       "</style>\n",
       "<table border=\"1\" class=\"dataframe\">\n",
       "  <thead>\n",
       "    <tr style=\"text-align: right;\">\n",
       "      <th></th>\n",
       "      <th>computer_source</th>\n",
       "      <th>computer_dest</th>\n",
       "    </tr>\n",
       "  </thead>\n",
       "  <tbody>\n",
       "    <tr>\n",
       "      <th>1</th>\n",
       "      <td>C288750</td>\n",
       "      <td>C313779</td>\n",
       "    </tr>\n",
       "    <tr>\n",
       "      <th>2</th>\n",
       "      <td>C288750</td>\n",
       "      <td>C313779</td>\n",
       "    </tr>\n",
       "    <tr>\n",
       "      <th>3</th>\n",
       "      <td>C206546</td>\n",
       "      <td>C639081</td>\n",
       "    </tr>\n",
       "    <tr>\n",
       "      <th>4</th>\n",
       "      <td>C206546</td>\n",
       "      <td>C639081</td>\n",
       "    </tr>\n",
       "    <tr>\n",
       "      <th>5</th>\n",
       "      <td>C206546</td>\n",
       "      <td>C825721</td>\n",
       "    </tr>\n",
       "  </tbody>\n",
       "</table>\n",
       "</div>"
      ],
      "text/plain": [
       "  computer_source computer_dest\n",
       "1         C288750       C313779\n",
       "2         C288750       C313779\n",
       "3         C206546       C639081\n",
       "4         C206546       C639081\n",
       "5         C206546       C825721"
      ]
     },
     "execution_count": 4,
     "metadata": {},
     "output_type": "execute_result"
    }
   ],
   "source": [
    "X2, labelsX2 = preparaTabela(\"lanl-comprehensive-unified-auth.csv\", \"user\")\n",
    "print(X2.shape)\n",
    "X2.head()"
   ]
  },
  {
   "cell_type": "markdown",
   "id": "499d44ae",
   "metadata": {},
   "source": [
    "*Experiment 3*"
   ]
  },
  {
   "cell_type": "code",
   "execution_count": 5,
   "id": "22ea8ef8",
   "metadata": {},
   "outputs": [
    {
     "name": "stdout",
     "output_type": "stream",
     "text": [
      "(290061, 2)\n"
     ]
    },
    {
     "name": "stderr",
     "output_type": "stream",
     "text": [
      "C:\\Users\\caio_\\AppData\\Local\\Temp\\ipykernel_12136\\4108410020.py:17: DtypeWarning: Columns (0,4) have mixed types. Specify dtype option on import or set low_memory=False.\n",
      "  Y = pd.read_csv(\"lanl-comprehensive_700k.csv\",header=None, dtype={\"time\": int, \"src_user\": \"string\", \"src_comp\": \"string\",\"dst_comp\": \"string\", \"is_malicious\": int}) #an m-by-n dataset with m observations\n"
     ]
    },
    {
     "data": {
      "text/html": [
       "<div>\n",
       "<style scoped>\n",
       "    .dataframe tbody tr th:only-of-type {\n",
       "        vertical-align: middle;\n",
       "    }\n",
       "\n",
       "    .dataframe tbody tr th {\n",
       "        vertical-align: top;\n",
       "    }\n",
       "\n",
       "    .dataframe thead th {\n",
       "        text-align: right;\n",
       "    }\n",
       "</style>\n",
       "<table border=\"1\" class=\"dataframe\">\n",
       "  <thead>\n",
       "    <tr style=\"text-align: right;\">\n",
       "      <th></th>\n",
       "      <th>src_user</th>\n",
       "      <th>dst_comp</th>\n",
       "    </tr>\n",
       "  </thead>\n",
       "  <tbody>\n",
       "    <tr>\n",
       "      <th>121959</th>\n",
       "      <td>C417$@DOM1</td>\n",
       "      <td>C625</td>\n",
       "    </tr>\n",
       "    <tr>\n",
       "      <th>671156</th>\n",
       "      <td>C87$@DOM1</td>\n",
       "      <td>C1065</td>\n",
       "    </tr>\n",
       "    <tr>\n",
       "      <th>131933</th>\n",
       "      <td>C2370$@DOM1</td>\n",
       "      <td>C1065</td>\n",
       "    </tr>\n",
       "    <tr>\n",
       "      <th>365839</th>\n",
       "      <td>C480$@DOM1</td>\n",
       "      <td>C625</td>\n",
       "    </tr>\n",
       "    <tr>\n",
       "      <th>259179</th>\n",
       "      <td>U924@DOM1</td>\n",
       "      <td>C529</td>\n",
       "    </tr>\n",
       "  </tbody>\n",
       "</table>\n",
       "</div>"
      ],
      "text/plain": [
       "           src_user dst_comp\n",
       "121959   C417$@DOM1     C625\n",
       "671156    C87$@DOM1    C1065\n",
       "131933  C2370$@DOM1    C1065\n",
       "365839   C480$@DOM1     C625\n",
       "259179    U924@DOM1     C529"
      ]
     },
     "execution_count": 5,
     "metadata": {},
     "output_type": "execute_result"
    }
   ],
   "source": [
    "Y1, labelsY1 = preparaTabela(\"lanl-comprehensive_700k.csv\", \"src_comp\", percentagem = 0.4)\n",
    "print(Y1.shape)\n",
    "Y1.head()"
   ]
  },
  {
   "cell_type": "markdown",
   "id": "ae70525b",
   "metadata": {},
   "source": [
    "*Experiment 4*"
   ]
  },
  {
   "cell_type": "code",
   "execution_count": 6,
   "id": "a7348edc",
   "metadata": {},
   "outputs": [
    {
     "name": "stdout",
     "output_type": "stream",
     "text": [
      "(145030, 2)\n"
     ]
    },
    {
     "name": "stderr",
     "output_type": "stream",
     "text": [
      "C:\\Users\\caio_\\AppData\\Local\\Temp\\ipykernel_12136\\4108410020.py:17: DtypeWarning: Columns (0,4) have mixed types. Specify dtype option on import or set low_memory=False.\n",
      "  Y = pd.read_csv(\"lanl-comprehensive_700k.csv\",header=None, dtype={\"time\": int, \"src_user\": \"string\", \"src_comp\": \"string\",\"dst_comp\": \"string\", \"is_malicious\": int}) #an m-by-n dataset with m observations\n"
     ]
    },
    {
     "data": {
      "text/html": [
       "<div>\n",
       "<style scoped>\n",
       "    .dataframe tbody tr th:only-of-type {\n",
       "        vertical-align: middle;\n",
       "    }\n",
       "\n",
       "    .dataframe tbody tr th {\n",
       "        vertical-align: top;\n",
       "    }\n",
       "\n",
       "    .dataframe thead th {\n",
       "        text-align: right;\n",
       "    }\n",
       "</style>\n",
       "<table border=\"1\" class=\"dataframe\">\n",
       "  <thead>\n",
       "    <tr style=\"text-align: right;\">\n",
       "      <th></th>\n",
       "      <th>src_comp</th>\n",
       "      <th>dst_comp</th>\n",
       "    </tr>\n",
       "  </thead>\n",
       "  <tbody>\n",
       "    <tr>\n",
       "      <th>121959</th>\n",
       "      <td>C417</td>\n",
       "      <td>C625</td>\n",
       "    </tr>\n",
       "    <tr>\n",
       "      <th>671156</th>\n",
       "      <td>C87</td>\n",
       "      <td>C1065</td>\n",
       "    </tr>\n",
       "    <tr>\n",
       "      <th>131933</th>\n",
       "      <td>C2370</td>\n",
       "      <td>C1065</td>\n",
       "    </tr>\n",
       "    <tr>\n",
       "      <th>365839</th>\n",
       "      <td>C480</td>\n",
       "      <td>C625</td>\n",
       "    </tr>\n",
       "    <tr>\n",
       "      <th>259179</th>\n",
       "      <td>C529</td>\n",
       "      <td>C529</td>\n",
       "    </tr>\n",
       "  </tbody>\n",
       "</table>\n",
       "</div>"
      ],
      "text/plain": [
       "       src_comp dst_comp\n",
       "121959     C417     C625\n",
       "671156      C87    C1065\n",
       "131933    C2370    C1065\n",
       "365839     C480     C625\n",
       "259179     C529     C529"
      ]
     },
     "execution_count": 6,
     "metadata": {},
     "output_type": "execute_result"
    }
   ],
   "source": [
    "Y2, labelsY2 = preparaTabela(\"lanl-comprehensive_700k.csv\", \"src_user\")\n",
    "print(Y2.shape)\n",
    "Y2.head()"
   ]
  },
  {
   "cell_type": "code",
   "execution_count": 7,
   "id": "71a15c77",
   "metadata": {},
   "outputs": [
    {
     "name": "stdout",
     "output_type": "stream",
     "text": [
      "total of maligne samples in the dataset '700k': 305\n"
     ]
    }
   ],
   "source": [
    "count = 0\n",
    "for i in labelsY1:\n",
    "    if i == 1:\n",
    "        count += 1\n",
    "print(\"total of maligne samples in the dataset '700k': \" + str(count))"
   ]
  },
  {
   "cell_type": "markdown",
   "id": "b227608b",
   "metadata": {},
   "source": [
    "*Experiment 5*"
   ]
  },
  {
   "cell_type": "code",
   "execution_count": 8,
   "id": "46ccb78d",
   "metadata": {},
   "outputs": [
    {
     "name": "stdout",
     "output_type": "stream",
     "text": [
      "(290061, 3)\n"
     ]
    },
    {
     "name": "stderr",
     "output_type": "stream",
     "text": [
      "C:\\Users\\caio_\\AppData\\Local\\Temp\\ipykernel_12136\\4108410020.py:17: DtypeWarning: Columns (0,4) have mixed types. Specify dtype option on import or set low_memory=False.\n",
      "  Y = pd.read_csv(\"lanl-comprehensive_700k.csv\",header=None, dtype={\"time\": int, \"src_user\": \"string\", \"src_comp\": \"string\",\"dst_comp\": \"string\", \"is_malicious\": int}) #an m-by-n dataset with m observations\n"
     ]
    },
    {
     "data": {
      "text/html": [
       "<div>\n",
       "<style scoped>\n",
       "    .dataframe tbody tr th:only-of-type {\n",
       "        vertical-align: middle;\n",
       "    }\n",
       "\n",
       "    .dataframe tbody tr th {\n",
       "        vertical-align: top;\n",
       "    }\n",
       "\n",
       "    .dataframe thead th {\n",
       "        text-align: right;\n",
       "    }\n",
       "</style>\n",
       "<table border=\"1\" class=\"dataframe\">\n",
       "  <thead>\n",
       "    <tr style=\"text-align: right;\">\n",
       "      <th></th>\n",
       "      <th>src_user</th>\n",
       "      <th>src_comp</th>\n",
       "      <th>dst_comp</th>\n",
       "    </tr>\n",
       "  </thead>\n",
       "  <tbody>\n",
       "    <tr>\n",
       "      <th>121959</th>\n",
       "      <td>C417$@DOM1</td>\n",
       "      <td>C417</td>\n",
       "      <td>C625</td>\n",
       "    </tr>\n",
       "    <tr>\n",
       "      <th>671156</th>\n",
       "      <td>C87$@DOM1</td>\n",
       "      <td>C87</td>\n",
       "      <td>C1065</td>\n",
       "    </tr>\n",
       "    <tr>\n",
       "      <th>131933</th>\n",
       "      <td>C2370$@DOM1</td>\n",
       "      <td>C2370</td>\n",
       "      <td>C1065</td>\n",
       "    </tr>\n",
       "    <tr>\n",
       "      <th>365839</th>\n",
       "      <td>C480$@DOM1</td>\n",
       "      <td>C480</td>\n",
       "      <td>C625</td>\n",
       "    </tr>\n",
       "    <tr>\n",
       "      <th>259179</th>\n",
       "      <td>U924@DOM1</td>\n",
       "      <td>C529</td>\n",
       "      <td>C529</td>\n",
       "    </tr>\n",
       "  </tbody>\n",
       "</table>\n",
       "</div>"
      ],
      "text/plain": [
       "           src_user src_comp dst_comp\n",
       "121959   C417$@DOM1     C417     C625\n",
       "671156    C87$@DOM1      C87    C1065\n",
       "131933  C2370$@DOM1    C2370    C1065\n",
       "365839   C480$@DOM1     C480     C625\n",
       "259179    U924@DOM1     C529     C529"
      ]
     },
     "execution_count": 8,
     "metadata": {},
     "output_type": "execute_result"
    }
   ],
   "source": [
    "Y3, labelsY3 = preparaTabela(\"lanl-comprehensive_700k.csv\", percentagem=0.4)\n",
    "print(Y3.shape)\n",
    "Y3.head()"
   ]
  },
  {
   "cell_type": "code",
   "execution_count": 9,
   "id": "fcb3bd43",
   "metadata": {},
   "outputs": [
    {
     "name": "stdout",
     "output_type": "stream",
     "text": [
      "(28953, 3)\n"
     ]
    },
    {
     "data": {
      "text/html": [
       "<div>\n",
       "<style scoped>\n",
       "    .dataframe tbody tr th:only-of-type {\n",
       "        vertical-align: middle;\n",
       "    }\n",
       "\n",
       "    .dataframe tbody tr th {\n",
       "        vertical-align: top;\n",
       "    }\n",
       "\n",
       "    .dataframe thead th {\n",
       "        text-align: right;\n",
       "    }\n",
       "</style>\n",
       "<table border=\"1\" class=\"dataframe\">\n",
       "  <thead>\n",
       "    <tr style=\"text-align: right;\">\n",
       "      <th></th>\n",
       "      <th>computer_source</th>\n",
       "      <th>user</th>\n",
       "      <th>computer_dest</th>\n",
       "    </tr>\n",
       "  </thead>\n",
       "  <tbody>\n",
       "    <tr>\n",
       "      <th>1</th>\n",
       "      <td>C288750</td>\n",
       "      <td>U451666</td>\n",
       "      <td>C313779</td>\n",
       "    </tr>\n",
       "    <tr>\n",
       "      <th>2</th>\n",
       "      <td>C288750</td>\n",
       "      <td>U451666</td>\n",
       "      <td>C313779</td>\n",
       "    </tr>\n",
       "    <tr>\n",
       "      <th>3</th>\n",
       "      <td>C206546</td>\n",
       "      <td>U457678</td>\n",
       "      <td>C639081</td>\n",
       "    </tr>\n",
       "    <tr>\n",
       "      <th>4</th>\n",
       "      <td>C206546</td>\n",
       "      <td>U457678</td>\n",
       "      <td>C639081</td>\n",
       "    </tr>\n",
       "    <tr>\n",
       "      <th>5</th>\n",
       "      <td>C206546</td>\n",
       "      <td>U416717</td>\n",
       "      <td>C825721</td>\n",
       "    </tr>\n",
       "  </tbody>\n",
       "</table>\n",
       "</div>"
      ],
      "text/plain": [
       "  computer_source     user computer_dest\n",
       "1         C288750  U451666       C313779\n",
       "2         C288750  U451666       C313779\n",
       "3         C206546  U457678       C639081\n",
       "4         C206546  U457678       C639081\n",
       "5         C206546  U416717       C825721"
      ]
     },
     "execution_count": 9,
     "metadata": {},
     "output_type": "execute_result"
    }
   ],
   "source": [
    "X3, labelsX3 = preparaTabela(\"lanl-comprehensive-unified-auth.csv\")\n",
    "print(X3.shape)\n",
    "X3.head()"
   ]
  },
  {
   "cell_type": "markdown",
   "id": "dbb9e827",
   "metadata": {},
   "source": [
    "One Hot Encoding"
   ]
  },
  {
   "cell_type": "code",
   "execution_count": 10,
   "id": "ff044072",
   "metadata": {},
   "outputs": [],
   "source": [
    "## fazer depois do label encoder\n",
    "#from sklearn.preprocessing import OneHotEncoder\n",
    "#encoder = OneHotEncoder()"
   ]
  },
  {
   "cell_type": "code",
   "execution_count": 11,
   "id": "c8c0a222",
   "metadata": {},
   "outputs": [],
   "source": [
    "#X = encoder.fit_transform(X2[['user', 'computer_dest']]).toarray()"
   ]
  },
  {
   "cell_type": "code",
   "execution_count": 12,
   "id": "b474a630",
   "metadata": {},
   "outputs": [],
   "source": [
    "#Y = encoder.fit_transform(Y2[['src_comp', 'dst_comp']]).toarray()"
   ]
  },
  {
   "cell_type": "code",
   "execution_count": 13,
   "id": "4a390114",
   "metadata": {},
   "outputs": [],
   "source": [
    "#print(Y2)"
   ]
  },
  {
   "cell_type": "code",
   "execution_count": 14,
   "id": "8218c10f",
   "metadata": {},
   "outputs": [],
   "source": [
    "#print(X2)"
   ]
  },
  {
   "cell_type": "markdown",
   "id": "4f9b5c5b",
   "metadata": {},
   "source": [
    "*Labels Encoding*"
   ]
  },
  {
   "cell_type": "code",
   "execution_count": 15,
   "id": "814a68e1",
   "metadata": {},
   "outputs": [],
   "source": [
    "from sklearn.preprocessing import LabelEncoder"
   ]
  },
  {
   "cell_type": "code",
   "execution_count": 16,
   "id": "5231e10f",
   "metadata": {},
   "outputs": [],
   "source": [
    "def utilizaLabelEnc(dataFrame, col1, col2, col3 = None):\n",
    "    df = dataFrame\n",
    "    enc_1 = LabelEncoder()\n",
    "    enc_2 = LabelEncoder()\n",
    "    enc_1.fit(dataFrame[col1])\n",
    "    enc_2.fit(dataFrame[col2])\n",
    "    if(col3 != None):\n",
    "        enc_3 = LabelEncoder()#mais um encoder\n",
    "        enc_3.fit(dataFrame[col3])\n",
    "        df[col3] = enc_3.transform(df[col3])\n",
    "    df[col1] = enc_1.transform(df[col1])\n",
    "    df[col2] = enc_2.transform(df[col2])\n",
    "    return df"
   ]
  },
  {
   "cell_type": "markdown",
   "id": "dd693566",
   "metadata": {},
   "source": [
    "*Exp 1*"
   ]
  },
  {
   "cell_type": "code",
   "execution_count": 17,
   "id": "bc7e79da",
   "metadata": {},
   "outputs": [
    {
     "data": {
      "text/html": [
       "<div>\n",
       "<style scoped>\n",
       "    .dataframe tbody tr th:only-of-type {\n",
       "        vertical-align: middle;\n",
       "    }\n",
       "\n",
       "    .dataframe tbody tr th {\n",
       "        vertical-align: top;\n",
       "    }\n",
       "\n",
       "    .dataframe thead th {\n",
       "        text-align: right;\n",
       "    }\n",
       "</style>\n",
       "<table border=\"1\" class=\"dataframe\">\n",
       "  <thead>\n",
       "    <tr style=\"text-align: right;\">\n",
       "      <th></th>\n",
       "      <th>user</th>\n",
       "      <th>computer_dest</th>\n",
       "    </tr>\n",
       "  </thead>\n",
       "  <tbody>\n",
       "    <tr>\n",
       "      <th>1</th>\n",
       "      <td>825</td>\n",
       "      <td>612</td>\n",
       "    </tr>\n",
       "    <tr>\n",
       "      <th>2</th>\n",
       "      <td>825</td>\n",
       "      <td>612</td>\n",
       "    </tr>\n",
       "    <tr>\n",
       "      <th>3</th>\n",
       "      <td>835</td>\n",
       "      <td>1282</td>\n",
       "    </tr>\n",
       "    <tr>\n",
       "      <th>4</th>\n",
       "      <td>835</td>\n",
       "      <td>1282</td>\n",
       "    </tr>\n",
       "    <tr>\n",
       "      <th>5</th>\n",
       "      <td>761</td>\n",
       "      <td>1673</td>\n",
       "    </tr>\n",
       "  </tbody>\n",
       "</table>\n",
       "</div>"
      ],
      "text/plain": [
       "   user  computer_dest\n",
       "1   825            612\n",
       "2   825            612\n",
       "3   835           1282\n",
       "4   835           1282\n",
       "5   761           1673"
      ]
     },
     "execution_count": 17,
     "metadata": {},
     "output_type": "execute_result"
    }
   ],
   "source": [
    "X1_labelEnc = utilizaLabelEnc(X1, \"user\", \"computer_dest\")\n",
    "X1_labelEnc.head()"
   ]
  },
  {
   "cell_type": "markdown",
   "id": "776e1640",
   "metadata": {},
   "source": [
    "*Exp 2*"
   ]
  },
  {
   "cell_type": "code",
   "execution_count": 18,
   "id": "59399ab2",
   "metadata": {},
   "outputs": [
    {
     "data": {
      "text/html": [
       "<div>\n",
       "<style scoped>\n",
       "    .dataframe tbody tr th:only-of-type {\n",
       "        vertical-align: middle;\n",
       "    }\n",
       "\n",
       "    .dataframe tbody tr th {\n",
       "        vertical-align: top;\n",
       "    }\n",
       "\n",
       "    .dataframe thead th {\n",
       "        text-align: right;\n",
       "    }\n",
       "</style>\n",
       "<table border=\"1\" class=\"dataframe\">\n",
       "  <thead>\n",
       "    <tr style=\"text-align: right;\">\n",
       "      <th></th>\n",
       "      <th>computer_source</th>\n",
       "      <th>computer_dest</th>\n",
       "    </tr>\n",
       "  </thead>\n",
       "  <tbody>\n",
       "    <tr>\n",
       "      <th>1</th>\n",
       "      <td>394</td>\n",
       "      <td>612</td>\n",
       "    </tr>\n",
       "    <tr>\n",
       "      <th>2</th>\n",
       "      <td>394</td>\n",
       "      <td>612</td>\n",
       "    </tr>\n",
       "    <tr>\n",
       "      <th>3</th>\n",
       "      <td>252</td>\n",
       "      <td>1282</td>\n",
       "    </tr>\n",
       "    <tr>\n",
       "      <th>4</th>\n",
       "      <td>252</td>\n",
       "      <td>1282</td>\n",
       "    </tr>\n",
       "    <tr>\n",
       "      <th>5</th>\n",
       "      <td>252</td>\n",
       "      <td>1673</td>\n",
       "    </tr>\n",
       "  </tbody>\n",
       "</table>\n",
       "</div>"
      ],
      "text/plain": [
       "   computer_source  computer_dest\n",
       "1              394            612\n",
       "2              394            612\n",
       "3              252           1282\n",
       "4              252           1282\n",
       "5              252           1673"
      ]
     },
     "execution_count": 18,
     "metadata": {},
     "output_type": "execute_result"
    }
   ],
   "source": [
    "X2_labelEnc = utilizaLabelEnc(X2, \"computer_source\", \"computer_dest\")\n",
    "X2_labelEnc.head()"
   ]
  },
  {
   "cell_type": "markdown",
   "id": "88538cee",
   "metadata": {},
   "source": [
    "*Exp 3*"
   ]
  },
  {
   "cell_type": "code",
   "execution_count": 19,
   "id": "56ef690f",
   "metadata": {},
   "outputs": [
    {
     "data": {
      "text/html": [
       "<div>\n",
       "<style scoped>\n",
       "    .dataframe tbody tr th:only-of-type {\n",
       "        vertical-align: middle;\n",
       "    }\n",
       "\n",
       "    .dataframe tbody tr th {\n",
       "        vertical-align: top;\n",
       "    }\n",
       "\n",
       "    .dataframe thead th {\n",
       "        text-align: right;\n",
       "    }\n",
       "</style>\n",
       "<table border=\"1\" class=\"dataframe\">\n",
       "  <thead>\n",
       "    <tr style=\"text-align: right;\">\n",
       "      <th></th>\n",
       "      <th>src_user</th>\n",
       "      <th>dst_comp</th>\n",
       "    </tr>\n",
       "  </thead>\n",
       "  <tbody>\n",
       "    <tr>\n",
       "      <th>121959</th>\n",
       "      <td>2584</td>\n",
       "      <td>323</td>\n",
       "    </tr>\n",
       "    <tr>\n",
       "      <th>671156</th>\n",
       "      <td>3876</td>\n",
       "      <td>15</td>\n",
       "    </tr>\n",
       "    <tr>\n",
       "      <th>131933</th>\n",
       "      <td>1279</td>\n",
       "      <td>15</td>\n",
       "    </tr>\n",
       "    <tr>\n",
       "      <th>365839</th>\n",
       "      <td>2981</td>\n",
       "      <td>323</td>\n",
       "    </tr>\n",
       "    <tr>\n",
       "      <th>259179</th>\n",
       "      <td>5391</td>\n",
       "      <td>303</td>\n",
       "    </tr>\n",
       "  </tbody>\n",
       "</table>\n",
       "</div>"
      ],
      "text/plain": [
       "        src_user  dst_comp\n",
       "121959      2584       323\n",
       "671156      3876        15\n",
       "131933      1279        15\n",
       "365839      2981       323\n",
       "259179      5391       303"
      ]
     },
     "execution_count": 19,
     "metadata": {},
     "output_type": "execute_result"
    }
   ],
   "source": [
    "Y1_labelEnc = utilizaLabelEnc(Y1, \"src_user\", \"dst_comp\")\n",
    "Y1_labelEnc.head()"
   ]
  },
  {
   "cell_type": "markdown",
   "id": "ecb1bfa9",
   "metadata": {},
   "source": [
    "*Exp 4*"
   ]
  },
  {
   "cell_type": "code",
   "execution_count": 20,
   "id": "5e79b3d5",
   "metadata": {},
   "outputs": [
    {
     "data": {
      "text/html": [
       "<div>\n",
       "<style scoped>\n",
       "    .dataframe tbody tr th:only-of-type {\n",
       "        vertical-align: middle;\n",
       "    }\n",
       "\n",
       "    .dataframe tbody tr th {\n",
       "        vertical-align: top;\n",
       "    }\n",
       "\n",
       "    .dataframe thead th {\n",
       "        text-align: right;\n",
       "    }\n",
       "</style>\n",
       "<table border=\"1\" class=\"dataframe\">\n",
       "  <thead>\n",
       "    <tr style=\"text-align: right;\">\n",
       "      <th></th>\n",
       "      <th>src_comp</th>\n",
       "      <th>dst_comp</th>\n",
       "    </tr>\n",
       "  </thead>\n",
       "  <tbody>\n",
       "    <tr>\n",
       "      <th>121959</th>\n",
       "      <td>2565</td>\n",
       "      <td>286</td>\n",
       "    </tr>\n",
       "    <tr>\n",
       "      <th>671156</th>\n",
       "      <td>3834</td>\n",
       "      <td>14</td>\n",
       "    </tr>\n",
       "    <tr>\n",
       "      <th>131933</th>\n",
       "      <td>1255</td>\n",
       "      <td>14</td>\n",
       "    </tr>\n",
       "    <tr>\n",
       "      <th>365839</th>\n",
       "      <td>2956</td>\n",
       "      <td>286</td>\n",
       "    </tr>\n",
       "    <tr>\n",
       "      <th>259179</th>\n",
       "      <td>3251</td>\n",
       "      <td>270</td>\n",
       "    </tr>\n",
       "  </tbody>\n",
       "</table>\n",
       "</div>"
      ],
      "text/plain": [
       "        src_comp  dst_comp\n",
       "121959      2565       286\n",
       "671156      3834        14\n",
       "131933      1255        14\n",
       "365839      2956       286\n",
       "259179      3251       270"
      ]
     },
     "execution_count": 20,
     "metadata": {},
     "output_type": "execute_result"
    }
   ],
   "source": [
    "Y2_labelEnc = utilizaLabelEnc(Y2, \"src_comp\", \"dst_comp\")\n",
    "Y2_labelEnc.head()"
   ]
  },
  {
   "cell_type": "markdown",
   "id": "ac0ce4ae",
   "metadata": {},
   "source": [
    "*Exp 5*"
   ]
  },
  {
   "cell_type": "markdown",
   "id": "04942e6d",
   "metadata": {},
   "source": [
    "On the 700k dataset:"
   ]
  },
  {
   "cell_type": "code",
   "execution_count": 21,
   "id": "48bc2d59",
   "metadata": {},
   "outputs": [
    {
     "data": {
      "text/html": [
       "<div>\n",
       "<style scoped>\n",
       "    .dataframe tbody tr th:only-of-type {\n",
       "        vertical-align: middle;\n",
       "    }\n",
       "\n",
       "    .dataframe tbody tr th {\n",
       "        vertical-align: top;\n",
       "    }\n",
       "\n",
       "    .dataframe thead th {\n",
       "        text-align: right;\n",
       "    }\n",
       "</style>\n",
       "<table border=\"1\" class=\"dataframe\">\n",
       "  <thead>\n",
       "    <tr style=\"text-align: right;\">\n",
       "      <th></th>\n",
       "      <th>src_user</th>\n",
       "      <th>src_comp</th>\n",
       "      <th>dst_comp</th>\n",
       "    </tr>\n",
       "  </thead>\n",
       "  <tbody>\n",
       "    <tr>\n",
       "      <th>121959</th>\n",
       "      <td>2584</td>\n",
       "      <td>2583</td>\n",
       "      <td>323</td>\n",
       "    </tr>\n",
       "    <tr>\n",
       "      <th>671156</th>\n",
       "      <td>3876</td>\n",
       "      <td>3867</td>\n",
       "      <td>15</td>\n",
       "    </tr>\n",
       "    <tr>\n",
       "      <th>131933</th>\n",
       "      <td>1279</td>\n",
       "      <td>1265</td>\n",
       "      <td>15</td>\n",
       "    </tr>\n",
       "    <tr>\n",
       "      <th>365839</th>\n",
       "      <td>2981</td>\n",
       "      <td>2978</td>\n",
       "      <td>323</td>\n",
       "    </tr>\n",
       "    <tr>\n",
       "      <th>259179</th>\n",
       "      <td>5391</td>\n",
       "      <td>3275</td>\n",
       "      <td>303</td>\n",
       "    </tr>\n",
       "    <tr>\n",
       "      <th>...</th>\n",
       "      <td>...</td>\n",
       "      <td>...</td>\n",
       "      <td>...</td>\n",
       "    </tr>\n",
       "    <tr>\n",
       "      <th>184467</th>\n",
       "      <td>2156</td>\n",
       "      <td>70</td>\n",
       "      <td>15</td>\n",
       "    </tr>\n",
       "    <tr>\n",
       "      <th>651720</th>\n",
       "      <td>4878</td>\n",
       "      <td>3368</td>\n",
       "      <td>306</td>\n",
       "    </tr>\n",
       "    <tr>\n",
       "      <th>304210</th>\n",
       "      <td>2410</td>\n",
       "      <td>3587</td>\n",
       "      <td>322</td>\n",
       "    </tr>\n",
       "    <tr>\n",
       "      <th>145583</th>\n",
       "      <td>5213</td>\n",
       "      <td>754</td>\n",
       "      <td>85</td>\n",
       "    </tr>\n",
       "    <tr>\n",
       "      <th>216712</th>\n",
       "      <td>3977</td>\n",
       "      <td>2899</td>\n",
       "      <td>284</td>\n",
       "    </tr>\n",
       "  </tbody>\n",
       "</table>\n",
       "<p>290061 rows × 3 columns</p>\n",
       "</div>"
      ],
      "text/plain": [
       "        src_user  src_comp  dst_comp\n",
       "121959      2584      2583       323\n",
       "671156      3876      3867        15\n",
       "131933      1279      1265        15\n",
       "365839      2981      2978       323\n",
       "259179      5391      3275       303\n",
       "...          ...       ...       ...\n",
       "184467      2156        70        15\n",
       "651720      4878      3368       306\n",
       "304210      2410      3587       322\n",
       "145583      5213       754        85\n",
       "216712      3977      2899       284\n",
       "\n",
       "[290061 rows x 3 columns]"
      ]
     },
     "execution_count": 21,
     "metadata": {},
     "output_type": "execute_result"
    }
   ],
   "source": [
    "Y3_labelEnc = utilizaLabelEnc(Y3, \"src_comp\", \"dst_comp\", \"src_user\")\n",
    "Y3_labelEnc"
   ]
  },
  {
   "cell_type": "markdown",
   "id": "0ad384c1",
   "metadata": {},
   "source": [
    "**Divisão Experimento de Treino/Teste:**"
   ]
  },
  {
   "cell_type": "code",
   "execution_count": 22,
   "id": "0b7e7888",
   "metadata": {},
   "outputs": [],
   "source": [
    "def printLabels(array, division, inverted = False):\n",
    "    total1 = 0\n",
    "    if(not inverted):\n",
    "        for i in array:\n",
    "            if i == 1 and i <= division: \n",
    "                total1 += 1\n",
    "    else:\n",
    "        for i in array:\n",
    "            if i == 1 and i >= division: \n",
    "                total1 += 1\n",
    "    \n",
    "    print(\"total of labels 1 in the training set: \" + str(total1))"
   ]
  },
  {
   "cell_type": "code",
   "execution_count": 23,
   "id": "dfb2b78f",
   "metadata": {},
   "outputs": [],
   "source": [
    "import math\n",
    "\n",
    "def divideDatabase(arrayInput, percentagem = 0.4, labels = None, invertido = False):\n",
    "    tamanhoCorte = math.floor(np.shape(arrayInput)[0] * percentagem)\n",
    "    print(tamanhoCorte)\n",
    "    X_train = arrayInput[:tamanhoCorte]\n",
    "    X_test = arrayInput[tamanhoCorte:]\n",
    "    \n",
    "    if(invertido):\n",
    "        placeholder = X_train\n",
    "        X_train = X_test\n",
    "        X_test = placeholder\n",
    "    \n",
    "    ## só pra garantir que não há nenhuma anomialia no treino\n",
    "    if labels is not None:\n",
    "        if(not invertido):\n",
    "            printLabels(X_train, tamanhoCorte)\n",
    "            return X_train, X_test, labels[tamanhoCorte:]     # returning labels for metrics after testing\n",
    "        else:\n",
    "            printLabels(X_train, tamanhoCorte, inverted = True)\n",
    "            return X_train, X_test, labels[:tamanhoCorte]\n",
    "        \n",
    "    return X_train, X_test"
   ]
  },
  {
   "cell_type": "markdown",
   "id": "e67dd142",
   "metadata": {},
   "source": [
    "Exp 1"
   ]
  },
  {
   "cell_type": "code",
   "execution_count": 24,
   "id": "41b060ef",
   "metadata": {},
   "outputs": [
    {
     "name": "stdout",
     "output_type": "stream",
     "text": [
      "20267\n",
      "total of labels 1 in the training set: 0\n"
     ]
    }
   ],
   "source": [
    "X_train1, X_test1, labelsX1_new = divideDatabase(X1_labelEnc, labels = labelsX1, percentagem = 0.7) #divide the base and getting labels for test-set"
   ]
  },
  {
   "cell_type": "markdown",
   "id": "ea41c6c0",
   "metadata": {},
   "source": [
    "Exp 2"
   ]
  },
  {
   "cell_type": "code",
   "execution_count": 25,
   "id": "f007b02a",
   "metadata": {},
   "outputs": [
    {
     "name": "stdout",
     "output_type": "stream",
     "text": [
      "11581\n",
      "total of labels 1 in the training set: 0\n"
     ]
    }
   ],
   "source": [
    "X_train2, X_test2, labelsX2_new = divideDatabase(X2_labelEnc, labels = labelsX2)"
   ]
  },
  {
   "cell_type": "markdown",
   "id": "f91bcf33",
   "metadata": {},
   "source": [
    "Exp 3"
   ]
  },
  {
   "cell_type": "code",
   "execution_count": 26,
   "id": "dca5896a",
   "metadata": {},
   "outputs": [
    {
     "name": "stdout",
     "output_type": "stream",
     "text": [
      "174036\n",
      "total of labels 1 in the training set: 0\n"
     ]
    }
   ],
   "source": [
    "Y_train1, Y_test1, labelsY1_new = divideDatabase(Y1_labelEnc, labels = labelsY1, percentagem = 0.6, invertido = True) #taking final 40% portion for training "
   ]
  },
  {
   "cell_type": "markdown",
   "id": "56ce30d2",
   "metadata": {},
   "source": [
    "Exp 4"
   ]
  },
  {
   "cell_type": "code",
   "execution_count": 27,
   "id": "ab854a78",
   "metadata": {},
   "outputs": [
    {
     "name": "stdout",
     "output_type": "stream",
     "text": [
      "87018\n",
      "total of labels 1 in the training set: 0\n"
     ]
    }
   ],
   "source": [
    "Y_train2, Y_test2, labelsY2_new = divideDatabase(Y2_labelEnc, labels = labelsY2, percentagem = 0.6, invertido = True)"
   ]
  },
  {
   "cell_type": "markdown",
   "id": "b3b36e8f",
   "metadata": {},
   "source": [
    "Exp 5"
   ]
  },
  {
   "cell_type": "code",
   "execution_count": 28,
   "id": "be91dd13",
   "metadata": {},
   "outputs": [
    {
     "name": "stdout",
     "output_type": "stream",
     "text": [
      "174036\n",
      "total of labels 1 in the training set: 0\n"
     ]
    }
   ],
   "source": [
    "Y_train3, Y_test3, labelsY3_new = divideDatabase(Y3_labelEnc, labels = labelsY3, percentagem = 0.6, invertido = True)"
   ]
  },
  {
   "cell_type": "markdown",
   "id": "b192f72b",
   "metadata": {},
   "source": [
    "**Resultados**"
   ]
  },
  {
   "cell_type": "code",
   "execution_count": 29,
   "id": "69fdf504",
   "metadata": {},
   "outputs": [],
   "source": [
    "from matplotlib import pyplot as plt\n",
    "\n",
    "def plotaGrafico(arrayInput, numeroExp, tipoEnc):\n",
    "    fig = plt.figure(figsize = (10, 5))\n",
    "    # creating the bar plot\n",
    "    possiveis = [1,-1] # because it's an isolation forest\n",
    "    plt.bar(possiveis, arrayInput)\n",
    "    plt.xlabel(\"labels\")\n",
    "    plt.ylabel(\"número de instâncias\")\n",
    "    plt.title(\"Isolation Forest com \"+ tipoEnc + \" Encoding Exp \" + str(numeroExp))\n",
    "    plt.show()\n",
    "    \n",
    "def pegaLabels(arrayInput):\n",
    "    tamanho = len(arrayInput)\n",
    "    menosUm = 0\n",
    "    ums = 0\n",
    "    for i in range(0, tamanho):\n",
    "        if arrayInput[i] == -1:\n",
    "            menosUm += 1\n",
    "        if arrayInput[i] == 1:\n",
    "            ums += 1\n",
    "    return [ums, menosUm]"
   ]
  },
  {
   "cell_type": "markdown",
   "id": "dfab37f2",
   "metadata": {},
   "source": [
    "**Isolation Forest with label encoding**"
   ]
  },
  {
   "cell_type": "code",
   "execution_count": 30,
   "id": "5b356ceb",
   "metadata": {},
   "outputs": [],
   "source": [
    "from sklearn.ensemble import IsolationForest"
   ]
  },
  {
   "cell_type": "markdown",
   "id": "a12321a9",
   "metadata": {},
   "source": [
    "Exp 1"
   ]
  },
  {
   "cell_type": "code",
   "execution_count": 31,
   "id": "40986445",
   "metadata": {},
   "outputs": [
    {
     "data": {
      "text/plain": [
       "IsolationForest(random_state=0)"
      ]
     },
     "execution_count": 31,
     "metadata": {},
     "output_type": "execute_result"
    }
   ],
   "source": [
    "modelo1 = IsolationForest(random_state=0)\n",
    "modelo1.fit(X_train1)"
   ]
  },
  {
   "cell_type": "code",
   "execution_count": 32,
   "id": "331debee",
   "metadata": {},
   "outputs": [],
   "source": [
    "predicts1 = modelo1.predict(X_test1)"
   ]
  },
  {
   "cell_type": "markdown",
   "id": "0bb5dc68",
   "metadata": {},
   "source": [
    "Exp 2"
   ]
  },
  {
   "cell_type": "code",
   "execution_count": 33,
   "id": "d4f54772",
   "metadata": {},
   "outputs": [
    {
     "data": {
      "text/plain": [
       "IsolationForest(random_state=0)"
      ]
     },
     "execution_count": 33,
     "metadata": {},
     "output_type": "execute_result"
    }
   ],
   "source": [
    "modelo2 = IsolationForest(random_state=0)\n",
    "modelo2.fit(X_train2)"
   ]
  },
  {
   "cell_type": "code",
   "execution_count": 34,
   "id": "fd4818cc",
   "metadata": {},
   "outputs": [],
   "source": [
    "predicts2 = modelo2.predict(X_test2)"
   ]
  },
  {
   "cell_type": "markdown",
   "id": "7fe37acf",
   "metadata": {},
   "source": [
    "Exp 3"
   ]
  },
  {
   "cell_type": "code",
   "execution_count": 35,
   "id": "fbe6f930",
   "metadata": {},
   "outputs": [
    {
     "data": {
      "text/plain": [
       "IsolationForest(random_state=0)"
      ]
     },
     "execution_count": 35,
     "metadata": {},
     "output_type": "execute_result"
    }
   ],
   "source": [
    "modelo3 = IsolationForest(random_state=0)\n",
    "modelo3.fit(Y_train1)"
   ]
  },
  {
   "cell_type": "code",
   "execution_count": 36,
   "id": "597a8c1d",
   "metadata": {},
   "outputs": [],
   "source": [
    "predicts3 = modelo3.predict(Y_test1)"
   ]
  },
  {
   "cell_type": "markdown",
   "id": "7448730c",
   "metadata": {},
   "source": [
    "Exp 4"
   ]
  },
  {
   "cell_type": "code",
   "execution_count": 37,
   "id": "d65fd0ef",
   "metadata": {},
   "outputs": [
    {
     "data": {
      "text/plain": [
       "IsolationForest(random_state=0)"
      ]
     },
     "execution_count": 37,
     "metadata": {},
     "output_type": "execute_result"
    }
   ],
   "source": [
    "modelo4 = IsolationForest(random_state=0)\n",
    "modelo4.fit(Y_train2)"
   ]
  },
  {
   "cell_type": "code",
   "execution_count": 38,
   "id": "21fc8160",
   "metadata": {},
   "outputs": [],
   "source": [
    "predicts4 = modelo4.predict(Y_test2)"
   ]
  },
  {
   "cell_type": "markdown",
   "id": "8bbdb456",
   "metadata": {},
   "source": [
    "Exp 5"
   ]
  },
  {
   "cell_type": "code",
   "execution_count": 39,
   "id": "4b34532c",
   "metadata": {},
   "outputs": [
    {
     "data": {
      "text/plain": [
       "IsolationForest(random_state=0)"
      ]
     },
     "execution_count": 39,
     "metadata": {},
     "output_type": "execute_result"
    }
   ],
   "source": [
    "modelo5 = IsolationForest(random_state=0)\n",
    "modelo5.fit(Y_train3)"
   ]
  },
  {
   "cell_type": "code",
   "execution_count": 40,
   "id": "1c36222c",
   "metadata": {},
   "outputs": [],
   "source": [
    "predicts5 = modelo5.predict(Y_test3)"
   ]
  },
  {
   "cell_type": "markdown",
   "id": "d3e01e7e",
   "metadata": {},
   "source": [
    "*Isolation Forest with one hot encoding*"
   ]
  },
  {
   "cell_type": "code",
   "execution_count": 41,
   "id": "dd5fd386",
   "metadata": {},
   "outputs": [],
   "source": [
    "from sklearn.ensemble import IsolationForest"
   ]
  },
  {
   "cell_type": "code",
   "execution_count": 42,
   "id": "055e1b60",
   "metadata": {},
   "outputs": [],
   "source": [
    "##fazer depois"
   ]
  },
  {
   "cell_type": "markdown",
   "id": "61b6ee10",
   "metadata": {},
   "source": [
    "*Plotting results*"
   ]
  },
  {
   "cell_type": "code",
   "execution_count": 43,
   "id": "4b9f9660",
   "metadata": {},
   "outputs": [],
   "source": [
    "## to install dependencies\n",
    "#import sys\n",
    "#!{sys.executable} -m pip install matplotlib"
   ]
  },
  {
   "cell_type": "markdown",
   "id": "15c7fff9",
   "metadata": {},
   "source": [
    "*Plotting results from experiment 1*"
   ]
  },
  {
   "cell_type": "code",
   "execution_count": 44,
   "id": "4d0e14cf",
   "metadata": {},
   "outputs": [
    {
     "name": "stdout",
     "output_type": "stream",
     "text": [
      "1 in predictions: 2952 \\ -1 in predictions: 5734\n"
     ]
    }
   ],
   "source": [
    "labelsPrint = pegaLabels(predicts1)\n",
    "print(\"1 in predictions: \" + str(labelsPrint[0]) + \" \\ -1 in predictions: \" + str(labelsPrint[1])) "
   ]
  },
  {
   "cell_type": "code",
   "execution_count": 45,
   "id": "2bc99ddf",
   "metadata": {},
   "outputs": [
    {
     "data": {
      "image/png": "[encoded data removed]",
      "text/plain": [
       "<Figure size 720x360 with 1 Axes>"
      ]
     },
     "metadata": {
      "needs_background": "light"
     },
     "output_type": "display_data"
    }
   ],
   "source": [
    "plotaGrafico(labelsPrint, \"1\", \"label encoding\")"
   ]
  },
  {
   "cell_type": "markdown",
   "id": "a7784d38",
   "metadata": {},
   "source": [
    "*Plotting results from experiment 2*"
   ]
  },
  {
   "cell_type": "code",
   "execution_count": 46,
   "id": "86cca396",
   "metadata": {},
   "outputs": [
    {
     "name": "stdout",
     "output_type": "stream",
     "text": [
      "1 in predictions: 6958 \\ -1 in predictions: 10414\n"
     ]
    }
   ],
   "source": [
    "labelsPrint = pegaLabels(predicts2)\n",
    "print(\"1 in predictions: \" + str(labelsPrint[0]) + \" \\ -1 in predictions: \" + str(labelsPrint[1])) "
   ]
  },
  {
   "cell_type": "code",
   "execution_count": 47,
   "id": "b8bf54d2",
   "metadata": {},
   "outputs": [
    {
     "data": {
      "image/png": "[encoded data removed]",
      "text/plain": [
       "<Figure size 720x360 with 1 Axes>"
      ]
     },
     "metadata": {
      "needs_background": "light"
     },
     "output_type": "display_data"
    }
   ],
   "source": [
    "plotaGrafico(labelsPrint, \"2\", \"label encoding\")"
   ]
  },
  {
   "cell_type": "markdown",
   "id": "3a1e1df6",
   "metadata": {},
   "source": [
    "*Plotting results from experiment 3*"
   ]
  },
  {
   "cell_type": "code",
   "execution_count": 48,
   "id": "d5962e71",
   "metadata": {},
   "outputs": [
    {
     "name": "stdout",
     "output_type": "stream",
     "text": [
      "1 in predictions: 122142 \\ -1 in predictions: 51894\n"
     ]
    }
   ],
   "source": [
    "labelsPrint = pegaLabels(predicts3)\n",
    "print(\"1 in predictions: \" + str(labelsPrint[0]) + \" \\ -1 in predictions: \" + str(labelsPrint[1])) "
   ]
  },
  {
   "cell_type": "code",
   "execution_count": 49,
   "id": "587769e9",
   "metadata": {},
   "outputs": [
    {
     "data": {
      "image/png": "[encoded data removed]",
      "text/plain": [
       "<Figure size 720x360 with 1 Axes>"
      ]
     },
     "metadata": {
      "needs_background": "light"
     },
     "output_type": "display_data"
    }
   ],
   "source": [
    "plotaGrafico(labelsPrint, \"3\", \"label encoding\")"
   ]
  },
  {
   "cell_type": "markdown",
   "id": "ac413013",
   "metadata": {},
   "source": [
    "*Plotting results from experiment 4*"
   ]
  },
  {
   "cell_type": "code",
   "execution_count": 50,
   "id": "a76fddd6",
   "metadata": {},
   "outputs": [
    {
     "name": "stdout",
     "output_type": "stream",
     "text": [
      "1 in predictions: 56424 \\ -1 in predictions: 30594\n"
     ]
    }
   ],
   "source": [
    "labelsPrint = pegaLabels(predicts4)\n",
    "print(\"1 in predictions: \" + str(labelsPrint[0]) + \" \\ -1 in predictions: \" + str(labelsPrint[1])) "
   ]
  },
  {
   "cell_type": "code",
   "execution_count": 51,
   "id": "92c81f73",
   "metadata": {},
   "outputs": [
    {
     "data": {
      "image/png": "[encoded data removed]",
      "text/plain": [
       "<Figure size 720x360 with 1 Axes>"
      ]
     },
     "metadata": {
      "needs_background": "light"
     },
     "output_type": "display_data"
    }
   ],
   "source": [
    "plotaGrafico(labelsPrint, \"4\", \"label encoding\")"
   ]
  },
  {
   "cell_type": "markdown",
   "id": "012e4a4b",
   "metadata": {},
   "source": [
    "*Plotting results from experiment 5*"
   ]
  },
  {
   "cell_type": "code",
   "execution_count": 52,
   "id": "afabc996",
   "metadata": {},
   "outputs": [
    {
     "name": "stdout",
     "output_type": "stream",
     "text": [
      "1 in predictions: 118943 \\ -1 in predictions: 55093\n"
     ]
    }
   ],
   "source": [
    "labelsPrint = pegaLabels(predicts5)\n",
    "print(\"1 in predictions: \" + str(labelsPrint[0]) + \" \\ -1 in predictions: \" + str(labelsPrint[1]))"
   ]
  },
  {
   "cell_type": "code",
   "execution_count": 53,
   "id": "2356168b",
   "metadata": {},
   "outputs": [
    {
     "data": {
      "image/png": "[encoded data removed]",
      "text/plain": [
       "<Figure size 720x360 with 1 Axes>"
      ]
     },
     "metadata": {
      "needs_background": "light"
     },
     "output_type": "display_data"
    }
   ],
   "source": [
    "plotaGrafico(labelsPrint, \"5\", \"label encoding\")"
   ]
  },
  {
   "cell_type": "markdown",
   "id": "2b143fdc",
   "metadata": {},
   "source": [
    "**Métricas**"
   ]
  },
  {
   "cell_type": "code",
   "execution_count": 54,
   "id": "955cd298",
   "metadata": {},
   "outputs": [],
   "source": [
    "from sklearn.metrics import f1_score"
   ]
  },
  {
   "cell_type": "markdown",
   "id": "893dbcf0",
   "metadata": {},
   "source": [
    "Exp 1"
   ]
  },
  {
   "cell_type": "code",
   "execution_count": 55,
   "id": "509b0d47",
   "metadata": {},
   "outputs": [
    {
     "data": {
      "text/plain": [
       "0.04666666666666667"
      ]
     },
     "execution_count": 55,
     "metadata": {},
     "output_type": "execute_result"
    }
   ],
   "source": [
    "labelsX1_new = labelsX1_new.astype(int)\n",
    "f1_score(labelsX1_new, predicts1, average='macro')"
   ]
  },
  {
   "cell_type": "markdown",
   "id": "aa9f006c",
   "metadata": {},
   "source": [
    "Exp 2"
   ]
  },
  {
   "cell_type": "code",
   "execution_count": 56,
   "id": "91d86799",
   "metadata": {},
   "outputs": [
    {
     "data": {
      "text/plain": [
       "0.0"
      ]
     },
     "execution_count": 56,
     "metadata": {},
     "output_type": "execute_result"
    }
   ],
   "source": [
    "labelsX2_new = labelsX2_new.astype(int)\n",
    "f1_score(labelsX2_new, predicts2, average='macro')"
   ]
  },
  {
   "cell_type": "markdown",
   "id": "ba31176a",
   "metadata": {},
   "source": [
    "Exp 3"
   ]
  },
  {
   "cell_type": "code",
   "execution_count": 57,
   "id": "2d063eed",
   "metadata": {},
   "outputs": [
    {
     "data": {
      "text/plain": [
       "5.4504526600934205e-06"
      ]
     },
     "execution_count": 57,
     "metadata": {},
     "output_type": "execute_result"
    }
   ],
   "source": [
    "labelsY1_new = labelsY1_new.astype(int)\n",
    "f1_score(labelsY1_new, predicts3, average='macro')"
   ]
  },
  {
   "cell_type": "markdown",
   "id": "b6adb92f",
   "metadata": {},
   "source": [
    "Exp 4"
   ]
  },
  {
   "cell_type": "code",
   "execution_count": 58,
   "id": "629a7613",
   "metadata": {},
   "outputs": [
    {
     "data": {
      "text/plain": [
       "0.0"
      ]
     },
     "execution_count": 58,
     "metadata": {},
     "output_type": "execute_result"
    }
   ],
   "source": [
    "labelsY2_new = labelsY2_new.astype(int)\n",
    "f1_score(labelsY2_new, predicts4, average='macro')"
   ]
  },
  {
   "cell_type": "markdown",
   "id": "879cdfa8",
   "metadata": {},
   "source": [
    "Exp 5"
   ]
  },
  {
   "cell_type": "code",
   "execution_count": 59,
   "id": "c836a3bf",
   "metadata": {},
   "outputs": [
    {
     "data": {
      "text/plain": [
       "0.0"
      ]
     },
     "execution_count": 59,
     "metadata": {},
     "output_type": "execute_result"
    }
   ],
   "source": [
    "labelsY3_new = labelsY3_new.astype(int)\n",
    "f1_score(labelsY3_new, predicts5, average='macro')"
   ]
  },
  {
   "cell_type": "code",
   "execution_count": null,
   "id": "79062181",
   "metadata": {},
   "outputs": [],
   "source": []
  }
 ],
 "metadata": {
  "kernelspec": {
   "display_name": "Python 3 (ipykernel)",
   "language": "python",
   "name": "python3"
  },
  "language_info": {
   "codemirror_mode": {
    "name": "ipython",
    "version": 3
   },
   "file_extension": ".py",
   "mimetype": "text/x-python",
   "name": "python",
   "nbconvert_exporter": "python",
   "pygments_lexer": "ipython3",
   "version": "3.10.4"
  }
 },
 "nbformat": 4,
 "nbformat_minor": 5
}
