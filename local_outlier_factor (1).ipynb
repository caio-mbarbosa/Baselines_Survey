{
 "cells": [
  {
   "cell_type": "code",
   "execution_count": 2,
   "metadata": {
    "id": "MFpV2EvNu6qA"
   },
   "outputs": [],
   "source": [
    "import pandas as pd\n",
    "import numpy as np\n",
    "import sklearn\n",
    "from sklearn.neighbors import LocalOutlierFactor\n",
    "from sklearn.preprocessing import StandardScaler, MinMaxScaler\n",
    "from sklearn.preprocessing import OneHotEncoder\n",
    "from scipy.special import erf\n",
    "from sklearn.metrics import f1_score, recall_score, roc_auc_score, average_precision_score\n",
    "from sklearn.metrics import precision_recall_fscore_support\n",
    "from sklearn.metrics import roc_curve, auc, confusion_matrix\n",
    "import matplotlib.pyplot as plt"
   ]
  },
  {
   "cell_type": "code",
   "execution_count": 3,
   "metadata": {
    "colab": {
     "base_uri": "https://localhost:8080/"
    },
    "id": "g5yYa1dCsu1N",
    "outputId": "41b92b3b-3ed4-4955-fe53-2c79da5f5619"
   },
   "outputs": [
    {
     "name": "stdout",
     "output_type": "stream",
     "text": [
      "The scikit-learn version is 0.24.2.\n"
     ]
    }
   ],
   "source": [
    "print('The scikit-learn version is {}.'.format(sklearn.__version__))"
   ]
  },
  {
   "cell_type": "markdown",
   "metadata": {
    "id": "wysGh-L15AB_"
   },
   "source": [
    "# Defining funtions"
   ]
  },
  {
   "cell_type": "code",
   "execution_count": 4,
   "metadata": {
    "id": "7VgU5MWRtqBZ"
   },
   "outputs": [],
   "source": [
    "def oh_encoder_data700k(df, experimento=1, n=400000):\n",
    "    df = df.rename(columns={'is_malicious': 'label'})\n",
    "    df = df.drop(['time'], axis=1)\n",
    "    features = ['src_user', 'src_comp', 'dst_comp', 'label']\n",
    "    \n",
    "    df_train = df[features][df.label == 0][0:n]\n",
    "    #df_test = df[features][df.label == 1]\n",
    "    df_test = df[features][~df[features].dst_comp.isin(df_train.dst_comp.values) & \\\n",
    "                           ~df[features].src_user.isin(df_train.src_user.values)]\n",
    "    \n",
    "    y_test = df_test.label.values\n",
    "    \n",
    "    df_train = df_train.drop(['label'], axis=1)\n",
    "    df_test = df_test.drop(['label'], axis=1)\n",
    "    \n",
    "    if(experimento == 1):\n",
    "      df_train = df_train.drop(['src_comp'], axis=1)\n",
    "      df_test = df_test.drop(['src_comp'], axis=1)\n",
    "      features.remove('src_comp')\n",
    "      fit = OneHotEncoder().fit(df[features[:-1]])\n",
    "    else:\n",
    "      df_train = df_train.drop(['src_user'], axis=1)\n",
    "      df_test = df_test.drop(['src_user'], axis=1)\n",
    "      features.remove('src_user')\n",
    "      fit = OneHotEncoder().fit(df[features[:-1]])\n",
    "    \n",
    "    \n",
    "    X_train = fit.transform(df_train.to_numpy()).toarray()\n",
    "    X_test = fit.transform(df_test.to_numpy()).toarray()\n",
    "    \n",
    "    return X_train, X_test, y_test\n",
    "\n",
    "def oh_encoder_data_unified_auth(df, experimento=1, percentage=0.6):\n",
    "    df = df.drop(['time'], axis=1)\n",
    "    features = ['computer_source', 'user', 'computer_dest', 'label']\n",
    "    \n",
    "    separator = int(percentage*len(df))\n",
    "\n",
    "    df_train = df[features][df.label == 0][0:separator]\n",
    "    #df_test = df[features][df.label == 1]\n",
    "    df_test = df[features][~df[features].computer_dest.isin(df_train.computer_dest.values) & \\\n",
    "                           ~df[features].user.isin(df_train.user.values)]\n",
    "    \n",
    "    y_test = df_test.label.values\n",
    "    \n",
    "    df_train = df_train.drop(['label'], axis=1)\n",
    "    df_test = df_test.drop(['label'], axis=1)\n",
    "    \n",
    "    if(experimento == 1):\n",
    "      df_train = df_train.drop(['computer_source'], axis=1)\n",
    "      df_test = df_test.drop(['computer_source'], axis=1)\n",
    "      features.remove('computer_source')\n",
    "      fit = OneHotEncoder().fit(df[features[:-1]])\n",
    "    else:\n",
    "      df_train = df_train.drop(['user'], axis=1)\n",
    "      df_test = df_test.drop(['user'], axis=1)\n",
    "      features.remove('user')\n",
    "      fit = OneHotEncoder().fit(df[features[:-1]])\n",
    "    \n",
    "    \n",
    "    X_train = fit.transform(df_train.to_numpy()).toarray()\n",
    "    X_test = fit.transform(df_test.to_numpy()).toarray()\n",
    "    \n",
    "    return X_train, X_test, y_test\n",
    "\n",
    "def get_percentile(scores, y_true):\n",
    "    out_perc = np.size(np.where(y_true==1)) / len(y_true)\n",
    "    per = np.percentile(scores, 100 * (1 - out_perc))\n",
    "    return per\n",
    "\n",
    "def standardizer(X_train, X_test, type='standard'):\n",
    "    if type == 'standard':\n",
    "        scaler = StandardScaler().fit(X_train)\n",
    "    elif type == 'minmax' or type == 'min_max':\n",
    "        scaler = MinMaxScaler().fit(X_train)\n",
    "        \n",
    "    return scaler.transform(X_train), scaler.transform(X_test)\n",
    "\n",
    "class Lof(LocalOutlierFactor):\n",
    "    def fit(self, X_train, y=None):\n",
    "        self.X_train = X_train\n",
    "        super().fit(X=X_train, y=y)\n",
    "        return self\n",
    "\n",
    "    def decision_function(self, X_test):\n",
    "        return super().decision_function(X_test)\n",
    "\n",
    "    def predict_proba(self, X_test):\n",
    "        nof = self.negative_outlier_factor_ * -1\n",
    "        test_scores = self.decision_function(X_test) * -1\n",
    "        scaler = MinMaxScaler().fit(nof.reshape(-1, 1))\n",
    "        proba = scaler.transform(test_scores.reshape(-1, 1))\n",
    "        return proba.clip(0, 1)"
   ]
  },
  {
   "cell_type": "markdown",
   "metadata": {
    "id": "ulFOI-FO4eZJ"
   },
   "source": [
    "# Handling datasets"
   ]
  },
  {
   "cell_type": "code",
   "execution_count": 7,
   "metadata": {
    "colab": {
     "base_uri": "https://localhost:8080/",
     "height": 323
    },
    "id": "mny1pNjdu4rh",
    "outputId": "d6e9d03e-9a8e-467a-cef6-f2ef7c3aaed0"
   },
   "outputs": [],
   "source": [
    "df_700k = pd.read_csv(\"lanl-comprehensive_700k.csv\")"
   ]
  },
  {
   "cell_type": "code",
   "execution_count": 8,
   "metadata": {
    "colab": {
     "base_uri": "https://localhost:8080/",
     "height": 206
    },
    "id": "MfUUl3ipvjQn",
    "outputId": "ca59cd8b-ab9c-4536-931d-51da09a535d1"
   },
   "outputs": [
    {
     "data": {
      "text/html": [
       "<div>\n",
       "<style scoped>\n",
       "    .dataframe tbody tr th:only-of-type {\n",
       "        vertical-align: middle;\n",
       "    }\n",
       "\n",
       "    .dataframe tbody tr th {\n",
       "        vertical-align: top;\n",
       "    }\n",
       "\n",
       "    .dataframe thead th {\n",
       "        text-align: right;\n",
       "    }\n",
       "</style>\n",
       "<table border=\"1\" class=\"dataframe\">\n",
       "  <thead>\n",
       "    <tr style=\"text-align: right;\">\n",
       "      <th></th>\n",
       "      <th>time</th>\n",
       "      <th>src_user</th>\n",
       "      <th>src_comp</th>\n",
       "      <th>dst_comp</th>\n",
       "      <th>is_malicious</th>\n",
       "    </tr>\n",
       "  </thead>\n",
       "  <tbody>\n",
       "    <tr>\n",
       "      <th>0</th>\n",
       "      <td>1.0</td>\n",
       "      <td>ANONYMOUS LOGON@C586</td>\n",
       "      <td>C1250</td>\n",
       "      <td>C586</td>\n",
       "      <td>0</td>\n",
       "    </tr>\n",
       "    <tr>\n",
       "      <th>1</th>\n",
       "      <td>1.0</td>\n",
       "      <td>ANONYMOUS LOGON@C586</td>\n",
       "      <td>C586</td>\n",
       "      <td>C586</td>\n",
       "      <td>0</td>\n",
       "    </tr>\n",
       "    <tr>\n",
       "      <th>2</th>\n",
       "      <td>1.0</td>\n",
       "      <td>C1021$@DOM1</td>\n",
       "      <td>C1021</td>\n",
       "      <td>C625</td>\n",
       "      <td>0</td>\n",
       "    </tr>\n",
       "    <tr>\n",
       "      <th>3</th>\n",
       "      <td>1.0</td>\n",
       "      <td>C1035$@DOM1</td>\n",
       "      <td>C1035</td>\n",
       "      <td>C586</td>\n",
       "      <td>0</td>\n",
       "    </tr>\n",
       "    <tr>\n",
       "      <th>4</th>\n",
       "      <td>1.0</td>\n",
       "      <td>C1035$@DOM1</td>\n",
       "      <td>C586</td>\n",
       "      <td>C586</td>\n",
       "      <td>0</td>\n",
       "    </tr>\n",
       "  </tbody>\n",
       "</table>\n",
       "</div>"
      ],
      "text/plain": [
       "   time              src_user src_comp dst_comp  is_malicious\n",
       "0   1.0  ANONYMOUS LOGON@C586    C1250     C586             0\n",
       "1   1.0  ANONYMOUS LOGON@C586     C586     C586             0\n",
       "2   1.0           C1021$@DOM1    C1021     C625             0\n",
       "3   1.0           C1035$@DOM1    C1035     C586             0\n",
       "4   1.0           C1035$@DOM1     C586     C586             0"
      ]
     },
     "execution_count": 8,
     "metadata": {},
     "output_type": "execute_result"
    }
   ],
   "source": [
    "df_700k.head()"
   ]
  },
  {
   "cell_type": "code",
   "execution_count": 9,
   "metadata": {
    "id": "6E0egNQD-Ads"
   },
   "outputs": [],
   "source": [
    "df_unified_auth = pd.read_csv(\"lanl-comprehensive-unified-auth.csv\")"
   ]
  },
  {
   "cell_type": "code",
   "execution_count": 10,
   "metadata": {
    "colab": {
     "base_uri": "https://localhost:8080/",
     "height": 206
    },
    "id": "FHRKMyb0-BIv",
    "outputId": "a8a31be4-0cbd-4ac0-9f54-3a87046cbeef"
   },
   "outputs": [
    {
     "data": {
      "text/html": [
       "<div>\n",
       "<style scoped>\n",
       "    .dataframe tbody tr th:only-of-type {\n",
       "        vertical-align: middle;\n",
       "    }\n",
       "\n",
       "    .dataframe tbody tr th {\n",
       "        vertical-align: top;\n",
       "    }\n",
       "\n",
       "    .dataframe thead th {\n",
       "        text-align: right;\n",
       "    }\n",
       "</style>\n",
       "<table border=\"1\" class=\"dataframe\">\n",
       "  <thead>\n",
       "    <tr style=\"text-align: right;\">\n",
       "      <th></th>\n",
       "      <th>time</th>\n",
       "      <th>computer_source</th>\n",
       "      <th>user</th>\n",
       "      <th>computer_dest</th>\n",
       "      <th>label</th>\n",
       "    </tr>\n",
       "  </thead>\n",
       "  <tbody>\n",
       "    <tr>\n",
       "      <th>0</th>\n",
       "      <td>87151</td>\n",
       "      <td>C288750</td>\n",
       "      <td>U451666</td>\n",
       "      <td>C313779</td>\n",
       "      <td>0</td>\n",
       "    </tr>\n",
       "    <tr>\n",
       "      <th>1</th>\n",
       "      <td>87451</td>\n",
       "      <td>C288750</td>\n",
       "      <td>U451666</td>\n",
       "      <td>C313779</td>\n",
       "      <td>0</td>\n",
       "    </tr>\n",
       "    <tr>\n",
       "      <th>2</th>\n",
       "      <td>100695</td>\n",
       "      <td>C206546</td>\n",
       "      <td>U457678</td>\n",
       "      <td>C639081</td>\n",
       "      <td>0</td>\n",
       "    </tr>\n",
       "    <tr>\n",
       "      <th>3</th>\n",
       "      <td>100695</td>\n",
       "      <td>C206546</td>\n",
       "      <td>U457678</td>\n",
       "      <td>C639081</td>\n",
       "      <td>0</td>\n",
       "    </tr>\n",
       "    <tr>\n",
       "      <th>4</th>\n",
       "      <td>101274</td>\n",
       "      <td>C206546</td>\n",
       "      <td>U416717</td>\n",
       "      <td>C825721</td>\n",
       "      <td>0</td>\n",
       "    </tr>\n",
       "  </tbody>\n",
       "</table>\n",
       "</div>"
      ],
      "text/plain": [
       "     time computer_source     user computer_dest  label\n",
       "0   87151         C288750  U451666       C313779      0\n",
       "1   87451         C288750  U451666       C313779      0\n",
       "2  100695         C206546  U457678       C639081      0\n",
       "3  100695         C206546  U457678       C639081      0\n",
       "4  101274         C206546  U416717       C825721      0"
      ]
     },
     "execution_count": 10,
     "metadata": {},
     "output_type": "execute_result"
    }
   ],
   "source": [
    "df_unified_auth.head()"
   ]
  },
  {
   "cell_type": "markdown",
   "metadata": {
    "id": "5K1i2FqVwYzw"
   },
   "source": [
    "## Experimento 1 (lanl-comprehensive_700k)"
   ]
  },
  {
   "cell_type": "code",
   "execution_count": 47,
   "metadata": {
    "colab": {
     "base_uri": "https://localhost:8080/"
    },
    "id": "vb08XsHntGSt",
    "outputId": "c7b58a45-ead9-41f9-91d9-58c26c46ea56"
   },
   "outputs": [],
   "source": [
    "X_train_Ex1, X_test_Ex1, y_test_Ex1 = oh_encoder_data700k(df_700k, experimento=1, n=70000)"
   ]
  },
  {
   "cell_type": "code",
   "execution_count": 48,
   "metadata": {
    "id": "KCzZ-6q1v9QK"
   },
   "outputs": [],
   "source": [
    "X_train_norm_Ex1, X_test_norm_Ex1 = standardizer(X_train_Ex1, X_test_Ex1)"
   ]
  },
  {
   "cell_type": "markdown",
   "metadata": {
    "id": "KXwxbqiDz9KF"
   },
   "source": [
    "## Experimento 2 (lanl-comprehensive_700k)"
   ]
  },
  {
   "cell_type": "code",
   "execution_count": 49,
   "metadata": {
    "colab": {
     "base_uri": "https://localhost:8080/"
    },
    "id": "3uszQnTr0FF8",
    "outputId": "59702ca8-dc4f-4386-99b8-9adb551b067e"
   },
   "outputs": [],
   "source": [
    "X_train_Ex2, X_test_Ex2, y_test_Ex2 = oh_encoder_data700k(df_700k, experimento=2, n=70000)"
   ]
  },
  {
   "cell_type": "code",
   "execution_count": 50,
   "metadata": {
    "id": "RTfrEWXl0FGB"
   },
   "outputs": [],
   "source": [
    "X_train_norm_Ex2, X_test_norm_Ex2 = standardizer(X_train_Ex2, X_test_Ex2)"
   ]
  },
  {
   "cell_type": "markdown",
   "metadata": {
    "id": "0r-0zLkv6B1H"
   },
   "source": [
    "## Experimento 3 (lanl-comprehensive_unified-auth)"
   ]
  },
  {
   "cell_type": "code",
   "execution_count": 15,
   "metadata": {
    "colab": {
     "base_uri": "https://localhost:8080/"
    },
    "id": "dyfSxgPd6B1J",
    "outputId": "c3788a6d-a0fc-458c-fec2-b34f412414fb"
   },
   "outputs": [],
   "source": [
    "X_train_Ex3, X_test_Ex3, y_test_Ex3 = oh_encoder_data_unified_auth(df_unified_auth, experimento=1)"
   ]
  },
  {
   "cell_type": "code",
   "execution_count": 16,
   "metadata": {
    "id": "evyqG9aO6B1M"
   },
   "outputs": [],
   "source": [
    "X_train_norm_Ex3, X_test_norm_Ex3 = standardizer(X_train_Ex3, X_test_Ex3)"
   ]
  },
  {
   "cell_type": "markdown",
   "metadata": {
    "id": "ESNEFJ-L6B1N"
   },
   "source": [
    "## Experimento 4 (lanl-comprehensive_unified-auth)"
   ]
  },
  {
   "cell_type": "code",
   "execution_count": 17,
   "metadata": {
    "colab": {
     "base_uri": "https://localhost:8080/"
    },
    "id": "dxql0tUZ6B1P",
    "outputId": "931aac35-1c36-4cb8-8558-b22079afa18a"
   },
   "outputs": [],
   "source": [
    "X_train_Ex4, X_test_Ex4, y_test_Ex4 = oh_encoder_data_unified_auth(df_unified_auth, experimento=2)"
   ]
  },
  {
   "cell_type": "code",
   "execution_count": 18,
   "metadata": {
    "id": "NmE-08t26B1Q"
   },
   "outputs": [],
   "source": [
    "X_train_norm_Ex4, X_test_norm_Ex4 = standardizer(X_train_Ex4, X_test_Ex4)"
   ]
  },
  {
   "cell_type": "markdown",
   "metadata": {},
   "source": [
    "# Best K"
   ]
  },
  {
   "cell_type": "code",
   "execution_count": 45,
   "metadata": {},
   "outputs": [
    {
     "data": {
      "text/plain": [
       "\"n_range = tuple(range(10,80))\\nn_roc = []\\nn_av_precision = []\\nn_recall = []\\nn_f1 = []\\n    \\nfor n in n_range:\\n    model = Lof(n_neighbors=n, novelty=True)    \\n    model.fit(X_train_norm_Ex1)\\n    test_scores_Ex1 = model_Ex1.predict_proba(X_test_norm_Ex1)\\n    \\n    roc = roc_auc_score(y_test_Ex1, test_scores_Ex1)\\n    n_roc.append(roc)\\n    ap_Ex1 = average_precision_score(y_test_Ex1, test_scores_Ex1)\\n    n_av_precision.append(ap_Ex1)\\n    per = get_percentile(test_scores_Ex1, y_test_Ex1.astype(int))    \\n    y_pred_Ex1 = (test_scores_Ex1>=per)\\n\\n    roc_score_auc_Ex1 = roc_auc_score(y_test_Ex1.astype(int), y_pred_Ex1.astype(int)) \\n    average_precision_Ex1 = average_precision_score(y_test_Ex1.astype(int), y_pred_Ex1.astype(int))\\n    precision_Ex1, recall_Ex1, f1_Ex1, _ = precision_recall_fscore_support(y_test_Ex1.astype(int),\\n                                                                           y_pred_Ex1.astype(int), average='binary')\\n    n_recall.append(recall_Ex1)\\n    n_f1.append(f1_Ex1)\""
      ]
     },
     "execution_count": 45,
     "metadata": {},
     "output_type": "execute_result"
    }
   ],
   "source": [
    "'''n_range = tuple(range(10,80))\n",
    "n_roc = []\n",
    "n_av_precision = []\n",
    "n_recall = []\n",
    "n_f1 = []\n",
    "    \n",
    "for n in n_range:\n",
    "    model = Lof(n_neighbors=n, novelty=True)    \n",
    "    model.fit(X_train_norm_Ex1)\n",
    "    test_scores_Ex1 = model_Ex1.predict_proba(X_test_norm_Ex1)\n",
    "    \n",
    "    roc = roc_auc_score(y_test_Ex1, test_scores_Ex1)\n",
    "    n_roc.append(roc)\n",
    "    ap_Ex1 = average_precision_score(y_test_Ex1, test_scores_Ex1)\n",
    "    n_av_precision.append(ap_Ex1)\n",
    "    per = get_percentile(test_scores_Ex1, y_test_Ex1.astype(int))    \n",
    "    y_pred_Ex1 = (test_scores_Ex1>=per)\n",
    "\n",
    "    roc_score_auc_Ex1 = roc_auc_score(y_test_Ex1.astype(int), y_pred_Ex1.astype(int)) \n",
    "    average_precision_Ex1 = average_precision_score(y_test_Ex1.astype(int), y_pred_Ex1.astype(int))\n",
    "    precision_Ex1, recall_Ex1, f1_Ex1, _ = precision_recall_fscore_support(y_test_Ex1.astype(int),\n",
    "                                                                           y_pred_Ex1.astype(int), average='binary')\n",
    "    n_recall.append(recall_Ex1)\n",
    "    n_f1.append(f1_Ex1)'''\n",
    "\n"
   ]
  },
  {
   "cell_type": "code",
   "execution_count": null,
   "metadata": {},
   "outputs": [],
   "source": [
    "'''plt.rcParams[\"figure.autolayout\"] = True\n",
    "\n",
    "fig, ax = plt.subplots(figsize=(10,8))\n",
    "ax.set_xlabel(\"N\")\n",
    "ax.set_ylabel(\"Accuracy\")\n",
    "ax.set_title(\"Accuracy score vs N\")\n",
    "ax.plot(n_range, n_roc, marker='o', label=\"ROC\")\n",
    "ax.plot(n_range, n_av_precision, marker='o', label=\"Precision\")\n",
    "ax.plot(n_range, n_recall, marker='o', label=\"Recall\")\n",
    "ax.plot(n_range, n_f1, marker='o', label=\"F1\")\n",
    "\n",
    "\n",
    "\n",
    "for k, t, v, q, z in zip(n_range, n_roc, n_av_precision, n_recall, n_f1):\n",
    "    if n % 4 == 0:\n",
    "      plt.text(k, t, k)\n",
    "      plt.text(k, v, k)\n",
    "      plt.text(k, v, k)\n",
    "      plt.text(k, v, k)\n",
    "      plt.text(k, v, k)\n",
    "\n",
    "ax.legend()\n",
    "plt.show()'''"
   ]
  },
  {
   "cell_type": "code",
   "execution_count": null,
   "metadata": {},
   "outputs": [],
   "source": [
    "'''best_values = max(zip(k_range, k_scores_train, k_scores_valid), key=lambda v:v[-1])\n",
    "best_k, best_acc_train, best_acc_valid = best_values'''"
   ]
  },
  {
   "cell_type": "markdown",
   "metadata": {
    "id": "UDAr-tiDwfh5"
   },
   "source": [
    "# Train"
   ]
  },
  {
   "cell_type": "markdown",
   "metadata": {
    "id": "jiM_77aMs38g"
   },
   "source": [
    "## Experimento 1 (lanl-comprehensive_700k)"
   ]
  },
  {
   "cell_type": "code",
   "execution_count": 51,
   "metadata": {
    "id": "05fF0D2KsLWt"
   },
   "outputs": [
    {
     "name": "stdout",
     "output_type": "stream",
     "text": [
      "Wall time: 13min 1s\n"
     ]
    }
   ],
   "source": [
    "%%time\n",
    "model_Ex1 = Lof(n_neighbors=10, novelty= True)\n",
    "model_Ex1.fit(X_train_norm_Ex1)\n",
    "\n",
    "#train_scores = model.negative_outlier_factor_ * -1\n",
    "#test_scores = model.decision_function(X_test_norm) * -1\n",
    "\n",
    "test_scores_Ex1 = model_Ex1.predict_proba(X_test_norm_Ex1)"
   ]
  },
  {
   "cell_type": "markdown",
   "metadata": {
    "id": "laRFu9-Vzlc8"
   },
   "source": [
    "## Experimento 2 (lanl-comprehensive_700k)"
   ]
  },
  {
   "cell_type": "code",
   "execution_count": 56,
   "metadata": {
    "colab": {
     "base_uri": "https://localhost:8080/"
    },
    "id": "M7rw6Eghwg-R",
    "outputId": "2780b72e-db60-401b-ba0b-10e366b656ea"
   },
   "outputs": [
    {
     "name": "stdout",
     "output_type": "stream",
     "text": [
      "Wall time: 8min 16s\n"
     ]
    }
   ],
   "source": [
    "%%time\n",
    "model_Ex2 = Lof(n_neighbors=10, novelty= True)\n",
    "model_Ex2.fit(X_train_norm_Ex2)\n",
    "\n",
    "#train_scores = model.negative_outlier_factor_ * -1\n",
    "#test_scores = model.decision_function(X_test_norm) * -1\n",
    "\n",
    "test_scores_Ex2 = model_Ex2.predict_proba(X_test_norm_Ex2)"
   ]
  },
  {
   "cell_type": "markdown",
   "metadata": {
    "id": "yU2PQaLwostn"
   },
   "source": [
    "## Experimento 3 (lanl-comprehensive_unified-auth)"
   ]
  },
  {
   "cell_type": "code",
   "execution_count": 21,
   "metadata": {
    "colab": {
     "base_uri": "https://localhost:8080/"
    },
    "id": "SqghfA4nov-R",
    "outputId": "e10f949e-9bbf-4f42-c8cc-be811ad42835"
   },
   "outputs": [
    {
     "name": "stdout",
     "output_type": "stream",
     "text": [
      "Wall time: 24.9 s\n"
     ]
    }
   ],
   "source": [
    "%%time\n",
    "model_Ex3 = Lof(n_neighbors=10, novelty= True)\n",
    "model_Ex3.fit(X_train_norm_Ex3)\n",
    "\n",
    "#train_scores = model.negative_outlier_factor_ * -1\n",
    "#test_scores = model.decision_function(X_test_norm) * -1\n",
    "\n",
    "test_scores_Ex3 = model_Ex3.predict_proba(X_test_norm_Ex3)"
   ]
  },
  {
   "cell_type": "markdown",
   "metadata": {
    "id": "y3RAZbUgo0r7"
   },
   "source": [
    "## Experimento 4 (lanl-comprehensive_unified-auth)"
   ]
  },
  {
   "cell_type": "code",
   "execution_count": 22,
   "metadata": {
    "id": "r3sRThVyo4Q5"
   },
   "outputs": [
    {
     "name": "stdout",
     "output_type": "stream",
     "text": [
      "Wall time: 21.4 s\n"
     ]
    }
   ],
   "source": [
    "%%time\n",
    "model_Ex4 = Lof(n_neighbors=10, novelty= True)\n",
    "model_Ex4.fit(X_train_norm_Ex4)\n",
    "\n",
    "#train_scores = model.negative_outlier_factor_ * -1\n",
    "#test_scores = model.decision_function(X_test_norm) * -1\n",
    "\n",
    "test_scores_Ex4 = model_Ex4.predict_proba(X_test_norm_Ex4)"
   ]
  },
  {
   "cell_type": "markdown",
   "metadata": {
    "id": "6aERW_WVwWr4"
   },
   "source": [
    "# Metrics"
   ]
  },
  {
   "cell_type": "markdown",
   "metadata": {
    "id": "J16TRq2O0Wyr"
   },
   "source": [
    "## Experimento 1 (lanl-comprehensive_700k)"
   ]
  },
  {
   "cell_type": "code",
   "execution_count": 52,
   "metadata": {
    "colab": {
     "base_uri": "https://localhost:8080/"
    },
    "id": "v6_lGobGucdl",
    "outputId": "fdb5e8e3-5e79-4978-eb71-c4c7f7afc170"
   },
   "outputs": [
    {
     "name": "stdout",
     "output_type": "stream",
     "text": [
      "ROC score: 0.35250000000000004\n",
      "Average precision score: 0.5771670190274841\n"
     ]
    }
   ],
   "source": [
    "roc_Ex1 = roc_auc_score(y_test_Ex1, test_scores_Ex1)\n",
    "ap_Ex1 = average_precision_score(y_test_Ex1, test_scores_Ex1)\n",
    "\n",
    "print(f\"ROC score: {roc_Ex1}\")\n",
    "print(f\"Average precision score: {ap_Ex1}\")"
   ]
  },
  {
   "cell_type": "code",
   "execution_count": 53,
   "metadata": {
    "colab": {
     "base_uri": "https://localhost:8080/"
    },
    "id": "0j_miY5oyV8y",
    "outputId": "e8baa52c-1c97-4e0e-f990-7632972959b3"
   },
   "outputs": [
    {
     "name": "stdout",
     "output_type": "stream",
     "text": [
      "F1: 0.7319034852546916\n",
      "Recall: 1.0\n"
     ]
    }
   ],
   "source": [
    "per = get_percentile(test_scores_Ex1, y_test_Ex1.astype(int))    \n",
    "y_pred_Ex1 = (test_scores_Ex1>=per)\n",
    "\n",
    "roc_score_auc_Ex1 = roc_auc_score(y_test_Ex1.astype(int), y_pred_Ex1.astype(int)) \n",
    "average_precision_Ex1 = average_precision_score(y_test_Ex1.astype(int), y_pred_Ex1.astype(int))\n",
    "\n",
    "precision_Ex1, recall_Ex1, f1_Ex1, _ = precision_recall_fscore_support(y_test_Ex1.astype(int),\n",
    "                                                            y_pred_Ex1.astype(int),\n",
    "                                                            average='binary')\n",
    "print(f\"F1: {f1_Ex1}\")\n",
    "print(f\"Recall: {recall_Ex1}\")"
   ]
  },
  {
   "cell_type": "code",
   "execution_count": 54,
   "metadata": {
    "colab": {
     "base_uri": "https://localhost:8080/"
    },
    "id": "H5WTkS9Usu1U",
    "outputId": "5af68559-d63c-4d7f-c54f-62173b2020d1"
   },
   "outputs": [
    {
     "name": "stdout",
     "output_type": "stream",
     "text": [
      "True positives: 273\n",
      "False positives: 200\n"
     ]
    }
   ],
   "source": [
    "tn_Ex1, fp_Ex1, fn_Ex1, tp_Ex1 = confusion_matrix(y_test_Ex1, y_pred_Ex1).ravel()\n",
    "\n",
    "print(f\"True positives: {tp_Ex1}\")\n",
    "print(f\"False positives: {fp_Ex1}\")"
   ]
  },
  {
   "cell_type": "markdown",
   "metadata": {
    "id": "XsS0j9nw0aLF"
   },
   "source": [
    "## Experimento 2 (lanl-comprehensive_700k)"
   ]
  },
  {
   "cell_type": "code",
   "execution_count": 57,
   "metadata": {
    "colab": {
     "base_uri": "https://localhost:8080/"
    },
    "id": "hvvMPsqK0hJx",
    "outputId": "497fd40d-76f2-49f1-9c0e-33d97ff08bde"
   },
   "outputs": [
    {
     "name": "stdout",
     "output_type": "stream",
     "text": [
      "ROC score: 0.19999999999999996\n",
      "Average precision score: 0.6290322580645161\n"
     ]
    }
   ],
   "source": [
    "roc_Ex2 = roc_auc_score(y_test_Ex2, test_scores_Ex2)\n",
    "ap_Ex2 = average_precision_score(y_test_Ex2, test_scores_Ex2)\n",
    "\n",
    "print(f\"ROC score: {roc_Ex2}\")\n",
    "print(f\"Average precision score: {ap_Ex2}\")"
   ]
  },
  {
   "cell_type": "code",
   "execution_count": 58,
   "metadata": {
    "colab": {
     "base_uri": "https://localhost:8080/"
    },
    "id": "o0bFIrl00hJz",
    "outputId": "0fdc07e0-63b4-4f59-dc14-689145dc51f7"
   },
   "outputs": [
    {
     "name": "stdout",
     "output_type": "stream",
     "text": [
      "F1: 0.7722772277227723\n",
      "Recall: 1.0\n"
     ]
    }
   ],
   "source": [
    "per = get_percentile(test_scores_Ex2, y_test_Ex2.astype(int))    \n",
    "y_pred_Ex2 = (test_scores_Ex2>=per)\n",
    "\n",
    "roc_score_auc_Ex2 = roc_auc_score(y_test_Ex2.astype(int), y_pred_Ex2.astype(int)) \n",
    "average_precision_Ex2 = average_precision_score(y_test_Ex2.astype(int), y_pred_Ex2.astype(int))\n",
    "\n",
    "precision_Ex2, recall_Ex2, f1_Ex2, _ = precision_recall_fscore_support(y_test_Ex2.astype(int),\n",
    "                                                            y_pred_Ex2.astype(int),\n",
    "                                                            average='binary')\n",
    "print(f\"F1: {f1_Ex2}\")\n",
    "print(f\"Recall: {recall_Ex2}\")"
   ]
  },
  {
   "cell_type": "code",
   "execution_count": 59,
   "metadata": {
    "colab": {
     "base_uri": "https://localhost:8080/"
    },
    "id": "Sypf6aMF0hJ2",
    "outputId": "c681db0b-579e-4e4b-9dae-9bf01d7ebbb8"
   },
   "outputs": [
    {
     "name": "stdout",
     "output_type": "stream",
     "text": [
      "True positives: 273\n",
      "False positives: 161\n"
     ]
    }
   ],
   "source": [
    "tn_Ex2, fp_Ex2, fn_Ex2, tp_Ex2 = confusion_matrix(y_test_Ex2, y_pred_Ex2).ravel()\n",
    "\n",
    "print(f\"True positives: {tp_Ex2}\")\n",
    "print(f\"False positives: {fp_Ex2}\")"
   ]
  },
  {
   "cell_type": "markdown",
   "metadata": {
    "id": "Y-knHAXtpGTD"
   },
   "source": [
    "## Experimento 3 (lanl-comprehensive_unified-auth)"
   ]
  },
  {
   "cell_type": "code",
   "execution_count": 31,
   "metadata": {
    "id": "_jKTjTM4pYyR"
   },
   "outputs": [
    {
     "name": "stdout",
     "output_type": "stream",
     "text": [
      "ROC score: 0.5\n",
      "Average precision score: 0.031746031746031744\n"
     ]
    }
   ],
   "source": [
    "roc_Ex3 = roc_auc_score(y_test_Ex3, test_scores_Ex3)\n",
    "ap_Ex3 = average_precision_score(y_test_Ex3, test_scores_Ex3)\n",
    "\n",
    "print(f\"ROC score: {roc_Ex3}\")\n",
    "print(f\"Average precision score: {ap_Ex3}\")"
   ]
  },
  {
   "cell_type": "code",
   "execution_count": 32,
   "metadata": {
    "id": "FToj-Kc0pdNx"
   },
   "outputs": [
    {
     "name": "stdout",
     "output_type": "stream",
     "text": [
      "F1: 0.06153846153846154\n",
      "Recall: 1.0\n"
     ]
    }
   ],
   "source": [
    "per = get_percentile(test_scores_Ex3, y_test_Ex3.astype(int))    \n",
    "y_pred_Ex3 = (test_scores_Ex3>=per)\n",
    "\n",
    "roc_score_auc_Ex3 = roc_auc_score(y_test_Ex3.astype(int), y_pred_Ex3.astype(int)) \n",
    "average_precision_Ex3 = average_precision_score(y_test_Ex3.astype(int), y_pred_Ex3.astype(int))\n",
    "\n",
    "precision_Ex3, recall_Ex3, f1_Ex3, _ = precision_recall_fscore_support(y_test_Ex3.astype(int),\n",
    "                                                            y_pred_Ex3.astype(int),\n",
    "                                                            average='binary')\n",
    "print(f\"F1: {f1_Ex3}\")\n",
    "print(f\"Recall: {recall_Ex3}\")"
   ]
  },
  {
   "cell_type": "code",
   "execution_count": 33,
   "metadata": {
    "id": "SwdhU9gcpipp"
   },
   "outputs": [
    {
     "name": "stdout",
     "output_type": "stream",
     "text": [
      "True positives: 14\n",
      "False positives: 427\n"
     ]
    }
   ],
   "source": [
    "tn_Ex3, fp_Ex3, fn_Ex3, tp_Ex3 = confusion_matrix(y_test_Ex3, y_pred_Ex3).ravel()\n",
    "\n",
    "print(f\"True positives: {tp_Ex3}\")\n",
    "print(f\"False positives: {fp_Ex3}\")"
   ]
  },
  {
   "cell_type": "markdown",
   "metadata": {
    "id": "eif4qduvpI9n"
   },
   "source": [
    "## Experimento 4 (lanl-comprehensive_unified-auth)"
   ]
  },
  {
   "cell_type": "code",
   "execution_count": 34,
   "metadata": {
    "id": "kV3d5jBMpgeQ"
   },
   "outputs": [
    {
     "name": "stdout",
     "output_type": "stream",
     "text": [
      "ROC score: 0.9016393442622951\n",
      "Average precision score: 0.25\n"
     ]
    }
   ],
   "source": [
    "ap_Ex4 = average_precision_score(y_test_Ex4, test_scores_Ex4)\n",
    "roc_Ex4 = roc_auc_score(y_test_Ex4, test_scores_Ex4)\n",
    "\n",
    "print(f\"ROC score: {roc_Ex4}\")\n",
    "print(f\"Average precision score: {ap_Ex4}\")"
   ]
  },
  {
   "cell_type": "code",
   "execution_count": 35,
   "metadata": {
    "id": "nQgTTr4zpp-2"
   },
   "outputs": [
    {
     "name": "stdout",
     "output_type": "stream",
     "text": [
      "F1: 0.0\n",
      "Recall: 0.0\n"
     ]
    }
   ],
   "source": [
    "per = get_percentile(test_scores_Ex4, y_test_Ex4.astype(int))    \n",
    "y_pred_Ex4 = (test_scores_Ex4>=per)\n",
    "\n",
    "roc_score_auc_Ex4 = roc_auc_score(y_test_Ex4.astype(int), y_pred_Ex4.astype(int)) \n",
    "average_precision_Ex4 = average_precision_score(y_test_Ex4.astype(int), y_pred_Ex4.astype(int))\n",
    "\n",
    "precision_Ex4, recall_Ex4, f1_Ex4, _ = precision_recall_fscore_support(y_test_Ex4.astype(int),\n",
    "                                                            y_pred_Ex4.astype(int),\n",
    "                                                            average='binary')\n",
    "print(f\"F1: {f1_Ex4}\")\n",
    "print(f\"Recall: {recall_Ex4}\")"
   ]
  },
  {
   "cell_type": "code",
   "execution_count": 36,
   "metadata": {
    "id": "0pbMTEBNpvim"
   },
   "outputs": [
    {
     "name": "stdout",
     "output_type": "stream",
     "text": [
      "True positives: 0\n",
      "False positives: 15\n"
     ]
    }
   ],
   "source": [
    "tn_Ex4, fp_Ex4, fn_Ex4, tp_Ex4 = confusion_matrix(y_test_Ex4, y_pred_Ex4).ravel()\n",
    "\n",
    "print(f\"True positives: {tp_Ex4}\")\n",
    "print(f\"False positives: {fp_Ex4}\")"
   ]
  },
  {
   "cell_type": "code",
   "execution_count": 42,
   "metadata": {},
   "outputs": [
    {
     "data": {
      "text/plain": [
       "array([412,  15,  14,   0], dtype=int64)"
      ]
     },
     "execution_count": 42,
     "metadata": {},
     "output_type": "execute_result"
    }
   ],
   "source": [
    "confusion_matrix(y_test_Ex4, y_pred_Ex4).ravel()"
   ]
  },
  {
   "cell_type": "markdown",
   "metadata": {
    "id": "td76EMuop0RK"
   },
   "source": [
    "# Graphic representation"
   ]
  },
  {
   "cell_type": "code",
   "execution_count": 60,
   "metadata": {
    "id": "1fK98yMgp7mP"
   },
   "outputs": [
    {
     "data": {
      "text/plain": [
       "<matplotlib.legend.Legend at 0x1982bc79a00>"
      ]
     },
     "execution_count": 60,
     "metadata": {},
     "output_type": "execute_result"
    },
    {
     "data": {
      "image/png": "[encoded data removed]",
      "text/plain": [
       "<Figure size 1296x504 with 3 Axes>"
      ]
     },
     "metadata": {
      "needs_background": "light"
     },
     "output_type": "display_data"
    }
   ],
   "source": [
    "experimentos = ['Exprmnt 1','Exprmnt 2','Exprmnt 3','Exprmnt 4' ]\n",
    "tps = [tp_Ex1,tp_Ex2,tp_Ex3,tp_Ex4]\n",
    "fps = [fp_Ex1,fp_Ex2,fp_Ex3,fp_Ex4]\n",
    "f1s = [f1_Ex1,f1_Ex2,f1_Ex3,f1_Ex4]\n",
    "recalls = [recall_Ex1,recall_Ex2,recall_Ex3,recall_Ex4]\n",
    "aps = [ap_Ex1,ap_Ex2,ap_Ex3,ap_Ex4]\n",
    "rocs = [roc_Ex1,roc_Ex2,roc_Ex3,roc_Ex4]\n",
    "\n",
    "\n",
    "fig, axs = plt.subplots(1,3,sharex=True,figsize =(18, 7))\n",
    "\n",
    "barWidth = 0.25\n",
    "br1 = np.arange(len(experimentos))\n",
    "br2 = [x + barWidth for x in br1]\n",
    "\n",
    "axs.flat[0].bar(br1,tps,color='red',width = barWidth,label=\"tp\",align='edge')\n",
    "axs.flat[0].bar(br2,fps,color='cyan',width = barWidth,label=\"fp\")\n",
    "#axs.flat[0].set_xticks([r + barWidth for r in range(len(experimentos))],\n",
    " #       experimentos)\n",
    "axs.flat[0].legend()\n",
    "\n",
    "axs.flat[1].bar(br1,f1s,color='green',width = barWidth,label=\"F1\")\n",
    "axs.flat[1].bar(br2,recalls,color='magenta',width = barWidth,label=\"Recall\")\n",
    "#axs.flat[1].set_xticks([r + barWidth for r in range(len(experimentos))],\n",
    " #       experimentos)\n",
    "axs.flat[1].legend()\n",
    "\n",
    "axs.flat[2].bar(br1,aps,color='yellow',width = barWidth,label=\"Average Precision\")\n",
    "axs.flat[2].bar(br2,rocs,color='blue',width = barWidth,label=\"ROC score\")\n",
    "#axs.flat[2].set_xticks([r + barWidth for r in range(len(experimentos))],\n",
    " #       experimentos)\n",
    "axs.flat[2].legend()"
   ]
  }
 ],
 "metadata": {
  "colab": {
   "collapsed_sections": [],
   "name": "local_outlier_factor.ipynb",
   "provenance": []
  },
  "kernelspec": {
   "display_name": "Python 3 (ipykernel)",
   "language": "python",
   "name": "python3"
  },
  "language_info": {
   "codemirror_mode": {
    "name": "ipython",
    "version": 3
   },
   "file_extension": ".py",
   "mimetype": "text/x-python",
   "name": "python",
   "nbconvert_exporter": "python",
   "pygments_lexer": "ipython3",
   "version": "3.9.7"
  }
 },
 "nbformat": 4,
 "nbformat_minor": 1
}
