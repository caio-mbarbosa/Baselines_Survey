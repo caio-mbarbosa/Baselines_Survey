{
  "cells": [
    {
      "cell_type": "code",
      "execution_count": 1,
      "metadata": {
        "id": "MFpV2EvNu6qA"
      },
      "outputs": [],
      "source": [
        "import pandas as pd\n",
        "import numpy as np\n",
        "import sklearn\n",
        "from sklearn.neighbors import LocalOutlierFactor\n",
        "from sklearn.preprocessing import StandardScaler, MinMaxScaler\n",
        "from sklearn.preprocessing import OneHotEncoder\n",
        "from scipy.special import erf\n",
        "from sklearn.metrics import f1_score, recall_score, roc_auc_score, average_precision_score\n",
        "from sklearn.metrics import precision_recall_fscore_support\n",
        "from sklearn.metrics import roc_curve, auc, confusion_matrix\n",
        "import matplotlib.pyplot as plt"
      ]
    },
    {
      "cell_type": "code",
      "execution_count": 2,
      "metadata": {
        "colab": {
          "base_uri": "https://localhost:8080/"
        },
        "id": "g5yYa1dCsu1N",
        "outputId": "41b92b3b-3ed4-4955-fe53-2c79da5f5619"
      },
      "outputs": [
        {
          "output_type": "stream",
          "name": "stdout",
          "text": [
            "The scikit-learn version is 1.0.2.\n"
          ]
        }
      ],
      "source": [
        "print('The scikit-learn version is {}.'.format(sklearn.__version__))"
      ]
    },
    {
      "cell_type": "markdown",
      "source": [
        "# Defining funtions"
      ],
      "metadata": {
        "id": "wysGh-L15AB_"
      }
    },
    {
      "cell_type": "code",
      "execution_count": 3,
      "metadata": {
        "id": "7VgU5MWRtqBZ"
      },
      "outputs": [],
      "source": [
        "def oh_encoder_data700k(df, experimento=1, n=400000):\n",
        "    df = df.rename(columns={'is_malicious': 'label'})\n",
        "    df = df.drop(['time'], axis=1)\n",
        "    features = ['src_user', 'src_comp', 'dst_comp', 'label']\n",
        "    \n",
        "    df_train = df[features][df.label == 0][0:n]\n",
        "    #df_test = df[features][df.label == 1]\n",
        "    df_test = df[features][~df[features].dst_comp.isin(df_train.dst_comp.values) & \\\n",
        "                           ~df[features].src_user.isin(df_train.src_user.values)]\n",
        "    \n",
        "    y_test = df_test.label.values\n",
        "    \n",
        "    df_train = df_train.drop(['label'], axis=1)\n",
        "    df_test = df_test.drop(['label'], axis=1)\n",
        "    \n",
        "    if(experimento == 1):\n",
        "      df_train = df_train.drop(['src_comp'], axis=1)\n",
        "      df_test = df_test.drop(['src_comp'], axis=1)\n",
        "      features.remove('src_comp')\n",
        "      fit = OneHotEncoder().fit(df[features[:-1]])\n",
        "    else:\n",
        "      df_train = df_train.drop(['src_user'], axis=1)\n",
        "      df_test = df_test.drop(['src_user'], axis=1)\n",
        "      features.remove('src_user')\n",
        "      fit = OneHotEncoder().fit(df[features[:-1]])\n",
        "    \n",
        "    \n",
        "    X_train = fit.transform(df_train.to_numpy()).toarray()\n",
        "    X_test = fit.transform(df_test.to_numpy()).toarray()\n",
        "    \n",
        "    return X_train, X_test, y_test\n",
        "\n",
        "def oh_encoder_data_unified_auth(df, experimento=1, percentage=0.6):\n",
        "    df = df.drop(['time'], axis=1)\n",
        "    features = ['computer_source', 'user', 'computer_dest', 'label']\n",
        "    \n",
        "    separator = int(percentage*len(df))\n",
        "\n",
        "    df_train = df[features][df.label == 0][0:separator]\n",
        "    #df_test = df[features][df.label == 1]\n",
        "    df_test = df[features][~df[features].computer_dest.isin(df_train.computer_dest.values) & \\\n",
        "                           ~df[features].user.isin(df_train.user.values)]\n",
        "    \n",
        "    y_test = df_test.label.values\n",
        "    \n",
        "    df_train = df_train.drop(['label'], axis=1)\n",
        "    df_test = df_test.drop(['label'], axis=1)\n",
        "    \n",
        "    if(experimento == 1):\n",
        "      df_train = df_train.drop(['computer_source'], axis=1)\n",
        "      df_test = df_test.drop(['computer_source'], axis=1)\n",
        "      features.remove('computer_source')\n",
        "      fit = OneHotEncoder().fit(df[features[:-1]])\n",
        "    else:\n",
        "      df_train = df_train.drop(['user'], axis=1)\n",
        "      df_test = df_test.drop(['user'], axis=1)\n",
        "      features.remove('user')\n",
        "      fit = OneHotEncoder().fit(df[features[:-1]])\n",
        "    \n",
        "    \n",
        "    X_train = fit.transform(df_train.to_numpy()).toarray()\n",
        "    X_test = fit.transform(df_test.to_numpy()).toarray()\n",
        "    \n",
        "    return X_train, X_test, y_test\n",
        "\n",
        "def get_percentile(scores, y_true):\n",
        "    out_perc = np.size(np.where(y_true==1)) / len(y_true)\n",
        "    per = np.percentile(scores, 100 * (1 - out_perc))\n",
        "    return per\n",
        "\n",
        "def standardizer(X_train, X_test, type='standard'):\n",
        "    if type == 'standard':\n",
        "        scaler = StandardScaler().fit(X_train)\n",
        "    elif type == 'minmax' or type == 'min_max':\n",
        "        scaler = MinMaxScaler().fit(X_train)\n",
        "        \n",
        "    return scaler.transform(X_train), scaler.transform(X_test)\n",
        "\n",
        "class Lof(LocalOutlierFactor):\n",
        "    def fit(self, X_train, y=None):\n",
        "        self.X_train = X_train\n",
        "        super().fit(X=X_train, y=y)\n",
        "        return self\n",
        "\n",
        "    def decision_function(self, X_test):\n",
        "        return super().decision_function(X_test)\n",
        "\n",
        "    def predict_proba(self, X_test):\n",
        "        nof = self.negative_outlier_factor_ * -1\n",
        "        test_scores = self.decision_function(X_test) * -1\n",
        "        scaler = MinMaxScaler().fit(nof.reshape(-1, 1))\n",
        "        proba = scaler.transform(test_scores.reshape(-1, 1))\n",
        "        return proba.clip(0, 1)"
      ]
    },
    {
      "cell_type": "markdown",
      "source": [
        "# Handling datasets"
      ],
      "metadata": {
        "id": "ulFOI-FO4eZJ"
      }
    },
    {
      "cell_type": "code",
      "execution_count": 4,
      "metadata": {
        "id": "mny1pNjdu4rh",
        "colab": {
          "base_uri": "https://localhost:8080/",
          "height": 323
        },
        "outputId": "d6e9d03e-9a8e-467a-cef6-f2ef7c3aaed0"
      },
      "outputs": [
        {
          "output_type": "error",
          "ename": "FileNotFoundError",
          "evalue": "ignored",
          "traceback": [
            "\u001b[0;31m---------------------------------------------------------------------------\u001b[0m",
            "\u001b[0;31mFileNotFoundError\u001b[0m                         Traceback (most recent call last)",
            "\u001b[0;32m<ipython-input-4-ca6b30b81452>\u001b[0m in \u001b[0;36m<module>\u001b[0;34m()\u001b[0m\n\u001b[0;32m----> 1\u001b[0;31m \u001b[0mdf_700k\u001b[0m \u001b[0;34m=\u001b[0m \u001b[0mpd\u001b[0m\u001b[0;34m.\u001b[0m\u001b[0mread_csv\u001b[0m\u001b[0;34m(\u001b[0m\u001b[0;34m\"lanl-comprehensive_700k.csv\"\u001b[0m\u001b[0;34m)\u001b[0m\u001b[0;34m\u001b[0m\u001b[0;34m\u001b[0m\u001b[0m\n\u001b[0m",
            "\u001b[0;32m/usr/local/lib/python3.7/dist-packages/pandas/util/_decorators.py\u001b[0m in \u001b[0;36mwrapper\u001b[0;34m(*args, **kwargs)\u001b[0m\n\u001b[1;32m    309\u001b[0m                     \u001b[0mstacklevel\u001b[0m\u001b[0;34m=\u001b[0m\u001b[0mstacklevel\u001b[0m\u001b[0;34m,\u001b[0m\u001b[0;34m\u001b[0m\u001b[0;34m\u001b[0m\u001b[0m\n\u001b[1;32m    310\u001b[0m                 )\n\u001b[0;32m--> 311\u001b[0;31m             \u001b[0;32mreturn\u001b[0m \u001b[0mfunc\u001b[0m\u001b[0;34m(\u001b[0m\u001b[0;34m*\u001b[0m\u001b[0margs\u001b[0m\u001b[0;34m,\u001b[0m \u001b[0;34m**\u001b[0m\u001b[0mkwargs\u001b[0m\u001b[0;34m)\u001b[0m\u001b[0;34m\u001b[0m\u001b[0;34m\u001b[0m\u001b[0m\n\u001b[0m\u001b[1;32m    312\u001b[0m \u001b[0;34m\u001b[0m\u001b[0m\n\u001b[1;32m    313\u001b[0m         \u001b[0;32mreturn\u001b[0m \u001b[0mwrapper\u001b[0m\u001b[0;34m\u001b[0m\u001b[0;34m\u001b[0m\u001b[0m\n",
            "\u001b[0;32m/usr/local/lib/python3.7/dist-packages/pandas/io/parsers/readers.py\u001b[0m in \u001b[0;36mread_csv\u001b[0;34m(filepath_or_buffer, sep, delimiter, header, names, index_col, usecols, squeeze, prefix, mangle_dupe_cols, dtype, engine, converters, true_values, false_values, skipinitialspace, skiprows, skipfooter, nrows, na_values, keep_default_na, na_filter, verbose, skip_blank_lines, parse_dates, infer_datetime_format, keep_date_col, date_parser, dayfirst, cache_dates, iterator, chunksize, compression, thousands, decimal, lineterminator, quotechar, quoting, doublequote, escapechar, comment, encoding, encoding_errors, dialect, error_bad_lines, warn_bad_lines, on_bad_lines, delim_whitespace, low_memory, memory_map, float_precision, storage_options)\u001b[0m\n\u001b[1;32m    584\u001b[0m     \u001b[0mkwds\u001b[0m\u001b[0;34m.\u001b[0m\u001b[0mupdate\u001b[0m\u001b[0;34m(\u001b[0m\u001b[0mkwds_defaults\u001b[0m\u001b[0;34m)\u001b[0m\u001b[0;34m\u001b[0m\u001b[0;34m\u001b[0m\u001b[0m\n\u001b[1;32m    585\u001b[0m \u001b[0;34m\u001b[0m\u001b[0m\n\u001b[0;32m--> 586\u001b[0;31m     \u001b[0;32mreturn\u001b[0m \u001b[0m_read\u001b[0m\u001b[0;34m(\u001b[0m\u001b[0mfilepath_or_buffer\u001b[0m\u001b[0;34m,\u001b[0m \u001b[0mkwds\u001b[0m\u001b[0;34m)\u001b[0m\u001b[0;34m\u001b[0m\u001b[0;34m\u001b[0m\u001b[0m\n\u001b[0m\u001b[1;32m    587\u001b[0m \u001b[0;34m\u001b[0m\u001b[0m\n\u001b[1;32m    588\u001b[0m \u001b[0;34m\u001b[0m\u001b[0m\n",
            "\u001b[0;32m/usr/local/lib/python3.7/dist-packages/pandas/io/parsers/readers.py\u001b[0m in \u001b[0;36m_read\u001b[0;34m(filepath_or_buffer, kwds)\u001b[0m\n\u001b[1;32m    480\u001b[0m \u001b[0;34m\u001b[0m\u001b[0m\n\u001b[1;32m    481\u001b[0m     \u001b[0;31m# Create the parser.\u001b[0m\u001b[0;34m\u001b[0m\u001b[0;34m\u001b[0m\u001b[0;34m\u001b[0m\u001b[0m\n\u001b[0;32m--> 482\u001b[0;31m     \u001b[0mparser\u001b[0m \u001b[0;34m=\u001b[0m \u001b[0mTextFileReader\u001b[0m\u001b[0;34m(\u001b[0m\u001b[0mfilepath_or_buffer\u001b[0m\u001b[0;34m,\u001b[0m \u001b[0;34m**\u001b[0m\u001b[0mkwds\u001b[0m\u001b[0;34m)\u001b[0m\u001b[0;34m\u001b[0m\u001b[0;34m\u001b[0m\u001b[0m\n\u001b[0m\u001b[1;32m    483\u001b[0m \u001b[0;34m\u001b[0m\u001b[0m\n\u001b[1;32m    484\u001b[0m     \u001b[0;32mif\u001b[0m \u001b[0mchunksize\u001b[0m \u001b[0;32mor\u001b[0m \u001b[0miterator\u001b[0m\u001b[0;34m:\u001b[0m\u001b[0;34m\u001b[0m\u001b[0;34m\u001b[0m\u001b[0m\n",
            "\u001b[0;32m/usr/local/lib/python3.7/dist-packages/pandas/io/parsers/readers.py\u001b[0m in \u001b[0;36m__init__\u001b[0;34m(self, f, engine, **kwds)\u001b[0m\n\u001b[1;32m    809\u001b[0m             \u001b[0mself\u001b[0m\u001b[0;34m.\u001b[0m\u001b[0moptions\u001b[0m\u001b[0;34m[\u001b[0m\u001b[0;34m\"has_index_names\"\u001b[0m\u001b[0;34m]\u001b[0m \u001b[0;34m=\u001b[0m \u001b[0mkwds\u001b[0m\u001b[0;34m[\u001b[0m\u001b[0;34m\"has_index_names\"\u001b[0m\u001b[0;34m]\u001b[0m\u001b[0;34m\u001b[0m\u001b[0;34m\u001b[0m\u001b[0m\n\u001b[1;32m    810\u001b[0m \u001b[0;34m\u001b[0m\u001b[0m\n\u001b[0;32m--> 811\u001b[0;31m         \u001b[0mself\u001b[0m\u001b[0;34m.\u001b[0m\u001b[0m_engine\u001b[0m \u001b[0;34m=\u001b[0m \u001b[0mself\u001b[0m\u001b[0;34m.\u001b[0m\u001b[0m_make_engine\u001b[0m\u001b[0;34m(\u001b[0m\u001b[0mself\u001b[0m\u001b[0;34m.\u001b[0m\u001b[0mengine\u001b[0m\u001b[0;34m)\u001b[0m\u001b[0;34m\u001b[0m\u001b[0;34m\u001b[0m\u001b[0m\n\u001b[0m\u001b[1;32m    812\u001b[0m \u001b[0;34m\u001b[0m\u001b[0m\n\u001b[1;32m    813\u001b[0m     \u001b[0;32mdef\u001b[0m \u001b[0mclose\u001b[0m\u001b[0;34m(\u001b[0m\u001b[0mself\u001b[0m\u001b[0;34m)\u001b[0m\u001b[0;34m:\u001b[0m\u001b[0;34m\u001b[0m\u001b[0;34m\u001b[0m\u001b[0m\n",
            "\u001b[0;32m/usr/local/lib/python3.7/dist-packages/pandas/io/parsers/readers.py\u001b[0m in \u001b[0;36m_make_engine\u001b[0;34m(self, engine)\u001b[0m\n\u001b[1;32m   1038\u001b[0m             )\n\u001b[1;32m   1039\u001b[0m         \u001b[0;31m# error: Too many arguments for \"ParserBase\"\u001b[0m\u001b[0;34m\u001b[0m\u001b[0;34m\u001b[0m\u001b[0;34m\u001b[0m\u001b[0m\n\u001b[0;32m-> 1040\u001b[0;31m         \u001b[0;32mreturn\u001b[0m \u001b[0mmapping\u001b[0m\u001b[0;34m[\u001b[0m\u001b[0mengine\u001b[0m\u001b[0;34m]\u001b[0m\u001b[0;34m(\u001b[0m\u001b[0mself\u001b[0m\u001b[0;34m.\u001b[0m\u001b[0mf\u001b[0m\u001b[0;34m,\u001b[0m \u001b[0;34m**\u001b[0m\u001b[0mself\u001b[0m\u001b[0;34m.\u001b[0m\u001b[0moptions\u001b[0m\u001b[0;34m)\u001b[0m  \u001b[0;31m# type: ignore[call-arg]\u001b[0m\u001b[0;34m\u001b[0m\u001b[0;34m\u001b[0m\u001b[0m\n\u001b[0m\u001b[1;32m   1041\u001b[0m \u001b[0;34m\u001b[0m\u001b[0m\n\u001b[1;32m   1042\u001b[0m     \u001b[0;32mdef\u001b[0m \u001b[0m_failover_to_python\u001b[0m\u001b[0;34m(\u001b[0m\u001b[0mself\u001b[0m\u001b[0;34m)\u001b[0m\u001b[0;34m:\u001b[0m\u001b[0;34m\u001b[0m\u001b[0;34m\u001b[0m\u001b[0m\n",
            "\u001b[0;32m/usr/local/lib/python3.7/dist-packages/pandas/io/parsers/c_parser_wrapper.py\u001b[0m in \u001b[0;36m__init__\u001b[0;34m(self, src, **kwds)\u001b[0m\n\u001b[1;32m     49\u001b[0m \u001b[0;34m\u001b[0m\u001b[0m\n\u001b[1;32m     50\u001b[0m         \u001b[0;31m# open handles\u001b[0m\u001b[0;34m\u001b[0m\u001b[0;34m\u001b[0m\u001b[0;34m\u001b[0m\u001b[0m\n\u001b[0;32m---> 51\u001b[0;31m         \u001b[0mself\u001b[0m\u001b[0;34m.\u001b[0m\u001b[0m_open_handles\u001b[0m\u001b[0;34m(\u001b[0m\u001b[0msrc\u001b[0m\u001b[0;34m,\u001b[0m \u001b[0mkwds\u001b[0m\u001b[0;34m)\u001b[0m\u001b[0;34m\u001b[0m\u001b[0;34m\u001b[0m\u001b[0m\n\u001b[0m\u001b[1;32m     52\u001b[0m         \u001b[0;32massert\u001b[0m \u001b[0mself\u001b[0m\u001b[0;34m.\u001b[0m\u001b[0mhandles\u001b[0m \u001b[0;32mis\u001b[0m \u001b[0;32mnot\u001b[0m \u001b[0;32mNone\u001b[0m\u001b[0;34m\u001b[0m\u001b[0;34m\u001b[0m\u001b[0m\n\u001b[1;32m     53\u001b[0m \u001b[0;34m\u001b[0m\u001b[0m\n",
            "\u001b[0;32m/usr/local/lib/python3.7/dist-packages/pandas/io/parsers/base_parser.py\u001b[0m in \u001b[0;36m_open_handles\u001b[0;34m(self, src, kwds)\u001b[0m\n\u001b[1;32m    227\u001b[0m             \u001b[0mmemory_map\u001b[0m\u001b[0;34m=\u001b[0m\u001b[0mkwds\u001b[0m\u001b[0;34m.\u001b[0m\u001b[0mget\u001b[0m\u001b[0;34m(\u001b[0m\u001b[0;34m\"memory_map\"\u001b[0m\u001b[0;34m,\u001b[0m \u001b[0;32mFalse\u001b[0m\u001b[0;34m)\u001b[0m\u001b[0;34m,\u001b[0m\u001b[0;34m\u001b[0m\u001b[0;34m\u001b[0m\u001b[0m\n\u001b[1;32m    228\u001b[0m             \u001b[0mstorage_options\u001b[0m\u001b[0;34m=\u001b[0m\u001b[0mkwds\u001b[0m\u001b[0;34m.\u001b[0m\u001b[0mget\u001b[0m\u001b[0;34m(\u001b[0m\u001b[0;34m\"storage_options\"\u001b[0m\u001b[0;34m,\u001b[0m \u001b[0;32mNone\u001b[0m\u001b[0;34m)\u001b[0m\u001b[0;34m,\u001b[0m\u001b[0;34m\u001b[0m\u001b[0;34m\u001b[0m\u001b[0m\n\u001b[0;32m--> 229\u001b[0;31m             \u001b[0merrors\u001b[0m\u001b[0;34m=\u001b[0m\u001b[0mkwds\u001b[0m\u001b[0;34m.\u001b[0m\u001b[0mget\u001b[0m\u001b[0;34m(\u001b[0m\u001b[0;34m\"encoding_errors\"\u001b[0m\u001b[0;34m,\u001b[0m \u001b[0;34m\"strict\"\u001b[0m\u001b[0;34m)\u001b[0m\u001b[0;34m,\u001b[0m\u001b[0;34m\u001b[0m\u001b[0;34m\u001b[0m\u001b[0m\n\u001b[0m\u001b[1;32m    230\u001b[0m         )\n\u001b[1;32m    231\u001b[0m \u001b[0;34m\u001b[0m\u001b[0m\n",
            "\u001b[0;32m/usr/local/lib/python3.7/dist-packages/pandas/io/common.py\u001b[0m in \u001b[0;36mget_handle\u001b[0;34m(path_or_buf, mode, encoding, compression, memory_map, is_text, errors, storage_options)\u001b[0m\n\u001b[1;32m    705\u001b[0m                 \u001b[0mencoding\u001b[0m\u001b[0;34m=\u001b[0m\u001b[0mioargs\u001b[0m\u001b[0;34m.\u001b[0m\u001b[0mencoding\u001b[0m\u001b[0;34m,\u001b[0m\u001b[0;34m\u001b[0m\u001b[0;34m\u001b[0m\u001b[0m\n\u001b[1;32m    706\u001b[0m                 \u001b[0merrors\u001b[0m\u001b[0;34m=\u001b[0m\u001b[0merrors\u001b[0m\u001b[0;34m,\u001b[0m\u001b[0;34m\u001b[0m\u001b[0;34m\u001b[0m\u001b[0m\n\u001b[0;32m--> 707\u001b[0;31m                 \u001b[0mnewline\u001b[0m\u001b[0;34m=\u001b[0m\u001b[0;34m\"\"\u001b[0m\u001b[0;34m,\u001b[0m\u001b[0;34m\u001b[0m\u001b[0;34m\u001b[0m\u001b[0m\n\u001b[0m\u001b[1;32m    708\u001b[0m             )\n\u001b[1;32m    709\u001b[0m         \u001b[0;32melse\u001b[0m\u001b[0;34m:\u001b[0m\u001b[0;34m\u001b[0m\u001b[0;34m\u001b[0m\u001b[0m\n",
            "\u001b[0;31mFileNotFoundError\u001b[0m: [Errno 2] No such file or directory: 'lanl-comprehensive_700k.csv'"
          ]
        }
      ],
      "source": [
        "df_700k = pd.read_csv(\"lanl-comprehensive_700k.csv\")"
      ]
    },
    {
      "cell_type": "code",
      "execution_count": 13,
      "metadata": {
        "colab": {
          "base_uri": "https://localhost:8080/",
          "height": 206
        },
        "id": "MfUUl3ipvjQn",
        "outputId": "ca59cd8b-ab9c-4536-931d-51da09a535d1"
      },
      "outputs": [
        {
          "output_type": "execute_result",
          "data": {
            "text/plain": [
              "   time              src_user src_comp dst_comp  is_malicious\n",
              "0   1.0  ANONYMOUS LOGON@C586    C1250     C586             0\n",
              "1   1.0  ANONYMOUS LOGON@C586     C586     C586             0\n",
              "2   1.0           C1021$@DOM1    C1021     C625             0\n",
              "3   1.0           C1035$@DOM1    C1035     C586             0\n",
              "4   1.0           C1035$@DOM1     C586     C586             0"
            ],
            "text/html": [
              "\n",
              "  <div id=\"df-bfaa25ff-f220-450e-8828-2aa0ec09ca70\">\n",
              "    <div class=\"colab-df-container\">\n",
              "      <div>\n",
              "<style scoped>\n",
              "    .dataframe tbody tr th:only-of-type {\n",
              "        vertical-align: middle;\n",
              "    }\n",
              "\n",
              "    .dataframe tbody tr th {\n",
              "        vertical-align: top;\n",
              "    }\n",
              "\n",
              "    .dataframe thead th {\n",
              "        text-align: right;\n",
              "    }\n",
              "</style>\n",
              "<table border=\"1\" class=\"dataframe\">\n",
              "  <thead>\n",
              "    <tr style=\"text-align: right;\">\n",
              "      <th></th>\n",
              "      <th>time</th>\n",
              "      <th>src_user</th>\n",
              "      <th>src_comp</th>\n",
              "      <th>dst_comp</th>\n",
              "      <th>is_malicious</th>\n",
              "    </tr>\n",
              "  </thead>\n",
              "  <tbody>\n",
              "    <tr>\n",
              "      <th>0</th>\n",
              "      <td>1.0</td>\n",
              "      <td>ANONYMOUS LOGON@C586</td>\n",
              "      <td>C1250</td>\n",
              "      <td>C586</td>\n",
              "      <td>0</td>\n",
              "    </tr>\n",
              "    <tr>\n",
              "      <th>1</th>\n",
              "      <td>1.0</td>\n",
              "      <td>ANONYMOUS LOGON@C586</td>\n",
              "      <td>C586</td>\n",
              "      <td>C586</td>\n",
              "      <td>0</td>\n",
              "    </tr>\n",
              "    <tr>\n",
              "      <th>2</th>\n",
              "      <td>1.0</td>\n",
              "      <td>C1021$@DOM1</td>\n",
              "      <td>C1021</td>\n",
              "      <td>C625</td>\n",
              "      <td>0</td>\n",
              "    </tr>\n",
              "    <tr>\n",
              "      <th>3</th>\n",
              "      <td>1.0</td>\n",
              "      <td>C1035$@DOM1</td>\n",
              "      <td>C1035</td>\n",
              "      <td>C586</td>\n",
              "      <td>0</td>\n",
              "    </tr>\n",
              "    <tr>\n",
              "      <th>4</th>\n",
              "      <td>1.0</td>\n",
              "      <td>C1035$@DOM1</td>\n",
              "      <td>C586</td>\n",
              "      <td>C586</td>\n",
              "      <td>0</td>\n",
              "    </tr>\n",
              "  </tbody>\n",
              "</table>\n",
              "</div>\n",
              "      <button class=\"colab-df-convert\" onclick=\"convertToInteractive('df-bfaa25ff-f220-450e-8828-2aa0ec09ca70')\"\n",
              "              title=\"Convert this dataframe to an interactive table.\"\n",
              "              style=\"display:none;\">\n",
              "        \n",
              "  <svg xmlns=\"http://www.w3.org/2000/svg\" height=\"24px\"viewBox=\"0 0 24 24\"\n",
              "       width=\"24px\">\n",
              "    <path d=\"M0 0h24v24H0V0z\" fill=\"none\"/>\n",
              "    <path d=\"M18.56 5.44l.94 2.06.94-2.06 2.06-.94-2.06-.94-.94-2.06-.94 2.06-2.06.94zm-11 1L8.5 8.5l.94-2.06 2.06-.94-2.06-.94L8.5 2.5l-.94 2.06-2.06.94zm10 10l.94 2.06.94-2.06 2.06-.94-2.06-.94-.94-2.06-.94 2.06-2.06.94z\"/><path d=\"M17.41 7.96l-1.37-1.37c-.4-.4-.92-.59-1.43-.59-.52 0-1.04.2-1.43.59L10.3 9.45l-7.72 7.72c-.78.78-.78 2.05 0 2.83L4 21.41c.39.39.9.59 1.41.59.51 0 1.02-.2 1.41-.59l7.78-7.78 2.81-2.81c.8-.78.8-2.07 0-2.86zM5.41 20L4 18.59l7.72-7.72 1.47 1.35L5.41 20z\"/>\n",
              "  </svg>\n",
              "      </button>\n",
              "      \n",
              "  <style>\n",
              "    .colab-df-container {\n",
              "      display:flex;\n",
              "      flex-wrap:wrap;\n",
              "      gap: 12px;\n",
              "    }\n",
              "\n",
              "    .colab-df-convert {\n",
              "      background-color: #E8F0FE;\n",
              "      border: none;\n",
              "      border-radius: 50%;\n",
              "      cursor: pointer;\n",
              "      display: none;\n",
              "      fill: #1967D2;\n",
              "      height: 32px;\n",
              "      padding: 0 0 0 0;\n",
              "      width: 32px;\n",
              "    }\n",
              "\n",
              "    .colab-df-convert:hover {\n",
              "      background-color: #E2EBFA;\n",
              "      box-shadow: 0px 1px 2px rgba(60, 64, 67, 0.3), 0px 1px 3px 1px rgba(60, 64, 67, 0.15);\n",
              "      fill: #174EA6;\n",
              "    }\n",
              "\n",
              "    [theme=dark] .colab-df-convert {\n",
              "      background-color: #3B4455;\n",
              "      fill: #D2E3FC;\n",
              "    }\n",
              "\n",
              "    [theme=dark] .colab-df-convert:hover {\n",
              "      background-color: #434B5C;\n",
              "      box-shadow: 0px 1px 3px 1px rgba(0, 0, 0, 0.15);\n",
              "      filter: drop-shadow(0px 1px 2px rgba(0, 0, 0, 0.3));\n",
              "      fill: #FFFFFF;\n",
              "    }\n",
              "  </style>\n",
              "\n",
              "      <script>\n",
              "        const buttonEl =\n",
              "          document.querySelector('#df-bfaa25ff-f220-450e-8828-2aa0ec09ca70 button.colab-df-convert');\n",
              "        buttonEl.style.display =\n",
              "          google.colab.kernel.accessAllowed ? 'block' : 'none';\n",
              "\n",
              "        async function convertToInteractive(key) {\n",
              "          const element = document.querySelector('#df-bfaa25ff-f220-450e-8828-2aa0ec09ca70');\n",
              "          const dataTable =\n",
              "            await google.colab.kernel.invokeFunction('convertToInteractive',\n",
              "                                                     [key], {});\n",
              "          if (!dataTable) return;\n",
              "\n",
              "          const docLinkHtml = 'Like what you see? Visit the ' +\n",
              "            '<a target=\"_blank\" href=https://colab.research.google.com/notebooks/data_table.ipynb>data table notebook</a>'\n",
              "            + ' to learn more about interactive tables.';\n",
              "          element.innerHTML = '';\n",
              "          dataTable['output_type'] = 'display_data';\n",
              "          await google.colab.output.renderOutput(dataTable, element);\n",
              "          const docLink = document.createElement('div');\n",
              "          docLink.innerHTML = docLinkHtml;\n",
              "          element.appendChild(docLink);\n",
              "        }\n",
              "      </script>\n",
              "    </div>\n",
              "  </div>\n",
              "  "
            ]
          },
          "metadata": {},
          "execution_count": 13
        }
      ],
      "source": [
        "df_700k.head()"
      ]
    },
    {
      "cell_type": "code",
      "source": [
        "df_unified_auth = pd.read_csv(\"lanl-comprehensive-unified-auth.csv\")"
      ],
      "metadata": {
        "id": "6E0egNQD-Ads"
      },
      "execution_count": 5,
      "outputs": []
    },
    {
      "cell_type": "code",
      "source": [
        "df_unified_auth.head()"
      ],
      "metadata": {
        "colab": {
          "base_uri": "https://localhost:8080/",
          "height": 206
        },
        "id": "FHRKMyb0-BIv",
        "outputId": "a8a31be4-0cbd-4ac0-9f54-3a87046cbeef"
      },
      "execution_count": 6,
      "outputs": [
        {
          "output_type": "execute_result",
          "data": {
            "text/plain": [
              "     time computer_source     user computer_dest  label\n",
              "0   87151         C288750  U451666       C313779      0\n",
              "1   87451         C288750  U451666       C313779      0\n",
              "2  100695         C206546  U457678       C639081      0\n",
              "3  100695         C206546  U457678       C639081      0\n",
              "4  101274         C206546  U416717       C825721      0"
            ],
            "text/html": [
              "\n",
              "  <div id=\"df-c5387080-3358-4d28-8ec1-295161191dd1\">\n",
              "    <div class=\"colab-df-container\">\n",
              "      <div>\n",
              "<style scoped>\n",
              "    .dataframe tbody tr th:only-of-type {\n",
              "        vertical-align: middle;\n",
              "    }\n",
              "\n",
              "    .dataframe tbody tr th {\n",
              "        vertical-align: top;\n",
              "    }\n",
              "\n",
              "    .dataframe thead th {\n",
              "        text-align: right;\n",
              "    }\n",
              "</style>\n",
              "<table border=\"1\" class=\"dataframe\">\n",
              "  <thead>\n",
              "    <tr style=\"text-align: right;\">\n",
              "      <th></th>\n",
              "      <th>time</th>\n",
              "      <th>computer_source</th>\n",
              "      <th>user</th>\n",
              "      <th>computer_dest</th>\n",
              "      <th>label</th>\n",
              "    </tr>\n",
              "  </thead>\n",
              "  <tbody>\n",
              "    <tr>\n",
              "      <th>0</th>\n",
              "      <td>87151</td>\n",
              "      <td>C288750</td>\n",
              "      <td>U451666</td>\n",
              "      <td>C313779</td>\n",
              "      <td>0</td>\n",
              "    </tr>\n",
              "    <tr>\n",
              "      <th>1</th>\n",
              "      <td>87451</td>\n",
              "      <td>C288750</td>\n",
              "      <td>U451666</td>\n",
              "      <td>C313779</td>\n",
              "      <td>0</td>\n",
              "    </tr>\n",
              "    <tr>\n",
              "      <th>2</th>\n",
              "      <td>100695</td>\n",
              "      <td>C206546</td>\n",
              "      <td>U457678</td>\n",
              "      <td>C639081</td>\n",
              "      <td>0</td>\n",
              "    </tr>\n",
              "    <tr>\n",
              "      <th>3</th>\n",
              "      <td>100695</td>\n",
              "      <td>C206546</td>\n",
              "      <td>U457678</td>\n",
              "      <td>C639081</td>\n",
              "      <td>0</td>\n",
              "    </tr>\n",
              "    <tr>\n",
              "      <th>4</th>\n",
              "      <td>101274</td>\n",
              "      <td>C206546</td>\n",
              "      <td>U416717</td>\n",
              "      <td>C825721</td>\n",
              "      <td>0</td>\n",
              "    </tr>\n",
              "  </tbody>\n",
              "</table>\n",
              "</div>\n",
              "      <button class=\"colab-df-convert\" onclick=\"convertToInteractive('df-c5387080-3358-4d28-8ec1-295161191dd1')\"\n",
              "              title=\"Convert this dataframe to an interactive table.\"\n",
              "              style=\"display:none;\">\n",
              "        \n",
              "  <svg xmlns=\"http://www.w3.org/2000/svg\" height=\"24px\"viewBox=\"0 0 24 24\"\n",
              "       width=\"24px\">\n",
              "    <path d=\"M0 0h24v24H0V0z\" fill=\"none\"/>\n",
              "    <path d=\"M18.56 5.44l.94 2.06.94-2.06 2.06-.94-2.06-.94-.94-2.06-.94 2.06-2.06.94zm-11 1L8.5 8.5l.94-2.06 2.06-.94-2.06-.94L8.5 2.5l-.94 2.06-2.06.94zm10 10l.94 2.06.94-2.06 2.06-.94-2.06-.94-.94-2.06-.94 2.06-2.06.94z\"/><path d=\"M17.41 7.96l-1.37-1.37c-.4-.4-.92-.59-1.43-.59-.52 0-1.04.2-1.43.59L10.3 9.45l-7.72 7.72c-.78.78-.78 2.05 0 2.83L4 21.41c.39.39.9.59 1.41.59.51 0 1.02-.2 1.41-.59l7.78-7.78 2.81-2.81c.8-.78.8-2.07 0-2.86zM5.41 20L4 18.59l7.72-7.72 1.47 1.35L5.41 20z\"/>\n",
              "  </svg>\n",
              "      </button>\n",
              "      \n",
              "  <style>\n",
              "    .colab-df-container {\n",
              "      display:flex;\n",
              "      flex-wrap:wrap;\n",
              "      gap: 12px;\n",
              "    }\n",
              "\n",
              "    .colab-df-convert {\n",
              "      background-color: #E8F0FE;\n",
              "      border: none;\n",
              "      border-radius: 50%;\n",
              "      cursor: pointer;\n",
              "      display: none;\n",
              "      fill: #1967D2;\n",
              "      height: 32px;\n",
              "      padding: 0 0 0 0;\n",
              "      width: 32px;\n",
              "    }\n",
              "\n",
              "    .colab-df-convert:hover {\n",
              "      background-color: #E2EBFA;\n",
              "      box-shadow: 0px 1px 2px rgba(60, 64, 67, 0.3), 0px 1px 3px 1px rgba(60, 64, 67, 0.15);\n",
              "      fill: #174EA6;\n",
              "    }\n",
              "\n",
              "    [theme=dark] .colab-df-convert {\n",
              "      background-color: #3B4455;\n",
              "      fill: #D2E3FC;\n",
              "    }\n",
              "\n",
              "    [theme=dark] .colab-df-convert:hover {\n",
              "      background-color: #434B5C;\n",
              "      box-shadow: 0px 1px 3px 1px rgba(0, 0, 0, 0.15);\n",
              "      filter: drop-shadow(0px 1px 2px rgba(0, 0, 0, 0.3));\n",
              "      fill: #FFFFFF;\n",
              "    }\n",
              "  </style>\n",
              "\n",
              "      <script>\n",
              "        const buttonEl =\n",
              "          document.querySelector('#df-c5387080-3358-4d28-8ec1-295161191dd1 button.colab-df-convert');\n",
              "        buttonEl.style.display =\n",
              "          google.colab.kernel.accessAllowed ? 'block' : 'none';\n",
              "\n",
              "        async function convertToInteractive(key) {\n",
              "          const element = document.querySelector('#df-c5387080-3358-4d28-8ec1-295161191dd1');\n",
              "          const dataTable =\n",
              "            await google.colab.kernel.invokeFunction('convertToInteractive',\n",
              "                                                     [key], {});\n",
              "          if (!dataTable) return;\n",
              "\n",
              "          const docLinkHtml = 'Like what you see? Visit the ' +\n",
              "            '<a target=\"_blank\" href=https://colab.research.google.com/notebooks/data_table.ipynb>data table notebook</a>'\n",
              "            + ' to learn more about interactive tables.';\n",
              "          element.innerHTML = '';\n",
              "          dataTable['output_type'] = 'display_data';\n",
              "          await google.colab.output.renderOutput(dataTable, element);\n",
              "          const docLink = document.createElement('div');\n",
              "          docLink.innerHTML = docLinkHtml;\n",
              "          element.appendChild(docLink);\n",
              "        }\n",
              "      </script>\n",
              "    </div>\n",
              "  </div>\n",
              "  "
            ]
          },
          "metadata": {},
          "execution_count": 6
        }
      ]
    },
    {
      "cell_type": "markdown",
      "source": [
        "## Experimento 1 (lanl-comprehensive_700k)"
      ],
      "metadata": {
        "id": "5K1i2FqVwYzw"
      }
    },
    {
      "cell_type": "code",
      "source": [
        "X_train_Ex1, X_test_Ex1, y_test_Ex1 = oh_encoder_data700k(df_700k, experimento=1, n=50000)"
      ],
      "metadata": {
        "colab": {
          "base_uri": "https://localhost:8080/"
        },
        "id": "vb08XsHntGSt",
        "outputId": "c7b58a45-ead9-41f9-91d9-58c26c46ea56"
      },
      "execution_count": 14,
      "outputs": [
        {
          "output_type": "stream",
          "name": "stderr",
          "text": [
            "/usr/local/lib/python3.7/dist-packages/sklearn/base.py:451: UserWarning: X does not have valid feature names, but OneHotEncoder was fitted with feature names\n",
            "  \"X does not have valid feature names, but\"\n",
            "/usr/local/lib/python3.7/dist-packages/sklearn/base.py:451: UserWarning: X does not have valid feature names, but OneHotEncoder was fitted with feature names\n",
            "  \"X does not have valid feature names, but\"\n"
          ]
        }
      ]
    },
    {
      "cell_type": "code",
      "source": [
        "X_train_norm_Ex1, X_test_norm_Ex1 = standardizer(X_train_Ex1, X_test_Ex1)"
      ],
      "metadata": {
        "id": "KCzZ-6q1v9QK"
      },
      "execution_count": 15,
      "outputs": []
    },
    {
      "cell_type": "markdown",
      "source": [
        "## Experimento 2 (lanl-comprehensive_700k)"
      ],
      "metadata": {
        "id": "KXwxbqiDz9KF"
      }
    },
    {
      "cell_type": "code",
      "source": [
        "X_train_Ex2, X_test_Ex2, y_test_Ex2 = oh_encoder_data700k(df_700k, experimento=2, n=50000)"
      ],
      "metadata": {
        "colab": {
          "base_uri": "https://localhost:8080/"
        },
        "outputId": "59702ca8-dc4f-4386-99b8-9adb551b067e",
        "id": "3uszQnTr0FF8"
      },
      "execution_count": 16,
      "outputs": [
        {
          "output_type": "stream",
          "name": "stderr",
          "text": [
            "/usr/local/lib/python3.7/dist-packages/sklearn/base.py:451: UserWarning: X does not have valid feature names, but OneHotEncoder was fitted with feature names\n",
            "  \"X does not have valid feature names, but\"\n",
            "/usr/local/lib/python3.7/dist-packages/sklearn/base.py:451: UserWarning: X does not have valid feature names, but OneHotEncoder was fitted with feature names\n",
            "  \"X does not have valid feature names, but\"\n"
          ]
        }
      ]
    },
    {
      "cell_type": "code",
      "source": [
        "X_train_norm_Ex2, X_test_norm_Ex2 = standardizer(X_train_Ex2, X_test_Ex2)"
      ],
      "metadata": {
        "id": "RTfrEWXl0FGB"
      },
      "execution_count": 17,
      "outputs": []
    },
    {
      "cell_type": "markdown",
      "source": [
        "## Experimento 3 (lanl-comprehensive_unified-auth)"
      ],
      "metadata": {
        "id": "0r-0zLkv6B1H"
      }
    },
    {
      "cell_type": "code",
      "source": [
        "X_train_Ex3, X_test_Ex3, y_test_Ex3 = oh_encoder_data_unified_auth(df_unified_auth, experimento=1)"
      ],
      "metadata": {
        "colab": {
          "base_uri": "https://localhost:8080/"
        },
        "outputId": "c3788a6d-a0fc-458c-fec2-b34f412414fb",
        "id": "dyfSxgPd6B1J"
      },
      "execution_count": 7,
      "outputs": [
        {
          "output_type": "stream",
          "name": "stderr",
          "text": [
            "/usr/local/lib/python3.7/dist-packages/sklearn/base.py:451: UserWarning: X does not have valid feature names, but OneHotEncoder was fitted with feature names\n",
            "  \"X does not have valid feature names, but\"\n",
            "/usr/local/lib/python3.7/dist-packages/sklearn/base.py:451: UserWarning: X does not have valid feature names, but OneHotEncoder was fitted with feature names\n",
            "  \"X does not have valid feature names, but\"\n"
          ]
        }
      ]
    },
    {
      "cell_type": "code",
      "source": [
        "X_train_norm_Ex3, X_test_norm_Ex3 = standardizer(X_train_Ex3, X_test_Ex3)"
      ],
      "metadata": {
        "id": "evyqG9aO6B1M"
      },
      "execution_count": 8,
      "outputs": []
    },
    {
      "cell_type": "markdown",
      "source": [
        "## Experimento 4 (lanl-comprehensive_unified-auth)"
      ],
      "metadata": {
        "id": "ESNEFJ-L6B1N"
      }
    },
    {
      "cell_type": "code",
      "source": [
        "X_train_Ex4, X_test_Ex4, y_test_Ex4 = oh_encoder_data_unified_auth(df_unified_auth, experimento=2)"
      ],
      "metadata": {
        "colab": {
          "base_uri": "https://localhost:8080/"
        },
        "outputId": "931aac35-1c36-4cb8-8558-b22079afa18a",
        "id": "dxql0tUZ6B1P"
      },
      "execution_count": 9,
      "outputs": [
        {
          "output_type": "stream",
          "name": "stderr",
          "text": [
            "/usr/local/lib/python3.7/dist-packages/sklearn/base.py:451: UserWarning: X does not have valid feature names, but OneHotEncoder was fitted with feature names\n",
            "  \"X does not have valid feature names, but\"\n",
            "/usr/local/lib/python3.7/dist-packages/sklearn/base.py:451: UserWarning: X does not have valid feature names, but OneHotEncoder was fitted with feature names\n",
            "  \"X does not have valid feature names, but\"\n"
          ]
        }
      ]
    },
    {
      "cell_type": "code",
      "source": [
        "X_train_norm_Ex4, X_test_norm_Ex4 = standardizer(X_train_Ex4, X_test_Ex4)"
      ],
      "metadata": {
        "id": "NmE-08t26B1Q"
      },
      "execution_count": 10,
      "outputs": []
    },
    {
      "cell_type": "markdown",
      "metadata": {
        "id": "UDAr-tiDwfh5"
      },
      "source": [
        "# Train"
      ]
    },
    {
      "cell_type": "markdown",
      "source": [
        "## Experimento 1 (lanl-comprehensive_700k)"
      ],
      "metadata": {
        "id": "jiM_77aMs38g"
      }
    },
    {
      "cell_type": "code",
      "source": [
        "%%time\n",
        "model_Ex1 = Lof(n_neighbors=10, novelty= True)\n",
        "model_Ex1.fit(X_train_norm_Ex1)\n",
        "\n",
        "#train_scores = model.negative_outlier_factor_ * -1\n",
        "#test_scores = model.decision_function(X_test_norm) * -1\n",
        "\n",
        "test_scores_Ex1 = model_Ex1.predict_proba(X_test_norm_Ex1)"
      ],
      "metadata": {
        "id": "05fF0D2KsLWt"
      },
      "execution_count": null,
      "outputs": []
    },
    {
      "cell_type": "markdown",
      "source": [
        "## Experimento 2 (lanl-comprehensive_700k)"
      ],
      "metadata": {
        "id": "laRFu9-Vzlc8"
      }
    },
    {
      "cell_type": "code",
      "execution_count": null,
      "metadata": {
        "colab": {
          "base_uri": "https://localhost:8080/"
        },
        "id": "M7rw6Eghwg-R",
        "outputId": "2780b72e-db60-401b-ba0b-10e366b656ea"
      },
      "outputs": [
        {
          "output_type": "stream",
          "name": "stdout",
          "text": [
            "CPU times: user 19min 19s, sys: 9.27 s, total: 19min 28s\n",
            "Wall time: 10min 28s\n"
          ]
        }
      ],
      "source": [
        "%%time\n",
        "model_Ex2 = Lof(n_neighbors=10, novelty= True)\n",
        "model_Ex2.fit(X_train_norm_Ex2)\n",
        "\n",
        "#train_scores = model.negative_outlier_factor_ * -1\n",
        "#test_scores = model.decision_function(X_test_norm) * -1\n",
        "\n",
        "test_scores_Ex2 = model_Ex2.predict_proba(X_test_norm_Ex2)"
      ]
    },
    {
      "cell_type": "markdown",
      "source": [
        "## Experimento 3 (lanl-comprehensive_unified-auth)"
      ],
      "metadata": {
        "id": "yU2PQaLwostn"
      }
    },
    {
      "cell_type": "code",
      "source": [
        "%%time\n",
        "model_Ex3 = Lof(n_neighbors=10, novelty= True)\n",
        "model_Ex3.fit(X_train_norm_Ex3)\n",
        "\n",
        "#train_scores = model.negative_outlier_factor_ * -1\n",
        "#test_scores = model.decision_function(X_test_norm) * -1\n",
        "\n",
        "test_scores_Ex3 = model_Ex3.predict_proba(X_test_norm_Ex3)"
      ],
      "metadata": {
        "colab": {
          "base_uri": "https://localhost:8080/"
        },
        "id": "SqghfA4nov-R",
        "outputId": "e10f949e-9bbf-4f42-c8cc-be811ad42835"
      },
      "execution_count": 11,
      "outputs": [
        {
          "output_type": "stream",
          "name": "stdout",
          "text": [
            "CPU times: user 2min 10s, sys: 4.67 s, total: 2min 14s\n",
            "Wall time: 1min 42s\n"
          ]
        }
      ]
    },
    {
      "cell_type": "markdown",
      "source": [
        "## Experimento 4 (lanl-comprehensive_unified-auth)"
      ],
      "metadata": {
        "id": "y3RAZbUgo0r7"
      }
    },
    {
      "cell_type": "code",
      "source": [
        "%%time\n",
        "model_Ex4 = Lof(n_neighbors=10, novelty= True)\n",
        "model_Ex4.fit(X_train_norm_Ex4)\n",
        "\n",
        "#train_scores = model.negative_outlier_factor_ * -1\n",
        "#test_scores = model.decision_function(X_test_norm) * -1\n",
        "\n",
        "test_scores_Ex4 = model_Ex4.predict_proba(X_test_norm_Ex4)"
      ],
      "metadata": {
        "id": "r3sRThVyo4Q5"
      },
      "execution_count": null,
      "outputs": []
    },
    {
      "cell_type": "markdown",
      "metadata": {
        "id": "6aERW_WVwWr4"
      },
      "source": [
        "# Metrics"
      ]
    },
    {
      "cell_type": "markdown",
      "source": [
        "## Experimento 1 (lanl-comprehensive_700k)"
      ],
      "metadata": {
        "id": "J16TRq2O0Wyr"
      }
    },
    {
      "cell_type": "code",
      "execution_count": null,
      "metadata": {
        "id": "v6_lGobGucdl",
        "outputId": "fdb5e8e3-5e79-4978-eb71-c4c7f7afc170",
        "colab": {
          "base_uri": "https://localhost:8080/"
        }
      },
      "outputs": [
        {
          "output_type": "stream",
          "name": "stdout",
          "text": [
            "ROC score: 0.7538884524744698\n",
            "Average precision score: 0.644274413855101\n"
          ]
        }
      ],
      "source": [
        "roc = roc_auc_score(y_test_Ex1, test_scores_Ex1)\n",
        "ap = average_precision_score(y_test_Ex1, test_scores_Ex1)\n",
        "\n",
        "print(f\"ROC score: {roc}\")\n",
        "print(f\"Average precision score: {ap}\")"
      ]
    },
    {
      "cell_type": "code",
      "execution_count": null,
      "metadata": {
        "id": "0j_miY5oyV8y",
        "outputId": "e8baa52c-1c97-4e0e-f990-7632972959b3",
        "colab": {
          "base_uri": "https://localhost:8080/"
        }
      },
      "outputs": [
        {
          "output_type": "stream",
          "name": "stdout",
          "text": [
            "F1 0.5864197530864198\n",
            "Recall: 1.0\n"
          ]
        }
      ],
      "source": [
        "per = get_percentile(test_scores_Ex1, y_test_Ex1.astype(int))    \n",
        "y_pred = (test_scores_Ex1>=per)\n",
        "\n",
        "roc_score_auc = roc_auc_score(y_test_Ex1.astype(int), y_pred.astype(int)) \n",
        "average_precision = average_precision_score(y_test_Ex1.astype(int), y_pred.astype(int))\n",
        "\n",
        "precision, recall, f1, _ = precision_recall_fscore_support(y_test_Ex1.astype(int),\n",
        "                                                            y_pred.astype(int),\n",
        "                                                            average='binary')\n",
        "print(f\"F1 {f1}\")\n",
        "print(f\"Recall: {recall}\")"
      ]
    },
    {
      "cell_type": "code",
      "execution_count": null,
      "metadata": {
        "id": "3K0aoPRnsu1U"
      },
      "outputs": [],
      "source": [
        "tn, fp, fn, tp = confusion_matrix(y_test_Ex1, y_pred).ravel()"
      ]
    },
    {
      "cell_type": "code",
      "execution_count": null,
      "metadata": {
        "id": "H5WTkS9Usu1U",
        "outputId": "5af68559-d63c-4d7f-c54f-62173b2020d1",
        "colab": {
          "base_uri": "https://localhost:8080/"
        }
      },
      "outputs": [
        {
          "output_type": "stream",
          "name": "stdout",
          "text": [
            "True positives: 285\n",
            "False positives: 402\n"
          ]
        }
      ],
      "source": [
        "print(f\"True positives: {tp}\")\n",
        "print(f\"False positives: {fp}\")"
      ]
    },
    {
      "cell_type": "markdown",
      "source": [
        "## Experimento 2 (lanl-comprehensive_700k)"
      ],
      "metadata": {
        "id": "XsS0j9nw0aLF"
      }
    },
    {
      "cell_type": "code",
      "execution_count": null,
      "metadata": {
        "outputId": "497fd40d-76f2-49f1-9c0e-33d97ff08bde",
        "colab": {
          "base_uri": "https://localhost:8080/"
        },
        "id": "hvvMPsqK0hJx"
      },
      "outputs": [
        {
          "output_type": "stream",
          "name": "stdout",
          "text": [
            "ROC score: 0.4159334904425242\n",
            "Average precision score: 0.44427468057272906\n"
          ]
        }
      ],
      "source": [
        "roc = roc_auc_score(y_test_Ex2, test_scores_Ex2)\n",
        "ap = average_precision_score(y_test_Ex2, test_scores_Ex2)\n",
        "\n",
        "print(f\"ROC score: {roc}\")\n",
        "print(f\"Average precision score: {ap}\")"
      ]
    },
    {
      "cell_type": "code",
      "execution_count": null,
      "metadata": {
        "outputId": "0fdc07e0-63b4-4f59-dc14-689145dc51f7",
        "colab": {
          "base_uri": "https://localhost:8080/"
        },
        "id": "o0bFIrl00hJz"
      },
      "outputs": [
        {
          "output_type": "stream",
          "name": "stdout",
          "text": [
            "F1 0.3868954758190328\n",
            "Recall: 0.43508771929824563\n"
          ]
        }
      ],
      "source": [
        "per = get_percentile(test_scores_Ex2, y_test_Ex2.astype(int))    \n",
        "y_pred = (test_scores_Ex2>=per)\n",
        "\n",
        "roc_score_auc = roc_auc_score(y_test_Ex2.astype(int), y_pred.astype(int)) \n",
        "average_precision = average_precision_score(y_test_Ex2.astype(int), y_pred.astype(int))\n",
        "\n",
        "precision, recall, f1, _ = precision_recall_fscore_support(y_test_Ex2.astype(int),\n",
        "                                                            y_pred.astype(int),\n",
        "                                                            average='binary')\n",
        "print(f\"F1 {f1}\")\n",
        "print(f\"Recall: {recall}\")"
      ]
    },
    {
      "cell_type": "code",
      "execution_count": null,
      "metadata": {
        "id": "ol8hTsdb0hJ1"
      },
      "outputs": [],
      "source": [
        "tn, fp, fn, tp = confusion_matrix(y_test_Ex2, y_pred).ravel()"
      ]
    },
    {
      "cell_type": "code",
      "execution_count": null,
      "metadata": {
        "outputId": "c681db0b-579e-4e4b-9dae-9bf01d7ebbb8",
        "colab": {
          "base_uri": "https://localhost:8080/"
        },
        "id": "Sypf6aMF0hJ2"
      },
      "outputs": [
        {
          "output_type": "stream",
          "name": "stdout",
          "text": [
            "True positives: 124\n",
            "False positives: 232\n"
          ]
        }
      ],
      "source": [
        "print(f\"True positives: {tp}\")\n",
        "print(f\"False positives: {fp}\")"
      ]
    },
    {
      "cell_type": "markdown",
      "source": [
        "## Experimento 3 (lanl-comprehensive_unified-auth)"
      ],
      "metadata": {
        "id": "Y-knHAXtpGTD"
      }
    },
    {
      "cell_type": "code",
      "source": [
        "roc_Ex3 = roc_auc_score(y_test_Ex3, test_scores_Ex3)\n",
        "ap_Ex3 = average_precision_score(y_test_Ex3, test_scores_Ex3)\n",
        "\n",
        "print(f\"ROC score: {roc_Ex3}\")\n",
        "print(f\"Average precision score: {ap_Ex3}\")"
      ],
      "metadata": {
        "id": "_jKTjTM4pYyR"
      },
      "execution_count": null,
      "outputs": []
    },
    {
      "cell_type": "code",
      "source": [
        "per = get_percentile(test_scores_Ex3, y_test_Ex3.astype(int))    \n",
        "y_pred_Ex3 = (test_scores_Ex3>=per)\n",
        "\n",
        "roc_score_auc_Ex3 = roc_auc_score(y_test_Ex3.astype(int), y_pred_Ex3.astype(int)) \n",
        "average_precision_Ex3 = average_precision_score(y_test_Ex3.astype(int), y_pred_Ex3.astype(int))\n",
        "\n",
        "precision_Ex3, recall_Ex3, f1_Ex3, _ = precision_recall_fscore_support(y_test_Ex3.astype(int),\n",
        "                                                            y_pred_Ex3.astype(int),\n",
        "                                                            average='binary')\n",
        "print(f\"F1 {f1_Ex3}\")\n",
        "print(f\"Recall: {recall_Ex3}\")"
      ],
      "metadata": {
        "id": "FToj-Kc0pdNx"
      },
      "execution_count": null,
      "outputs": []
    },
    {
      "cell_type": "code",
      "source": [
        "tn_Ex3, fp_Ex3, fn_Ex3, tp_Ex3 = confusion_matrix(y_test_Ex3, y_pred_Ex3).ravel()"
      ],
      "metadata": {
        "id": "zUCsne-ApiPj"
      },
      "execution_count": null,
      "outputs": []
    },
    {
      "cell_type": "code",
      "source": [
        "print(f\"True positives: {tp_Ex3}\")\n",
        "print(f\"False positives: {fp_Ex3}\")"
      ],
      "metadata": {
        "id": "SwdhU9gcpipp"
      },
      "execution_count": null,
      "outputs": []
    },
    {
      "cell_type": "markdown",
      "source": [
        "## Experimento 4 (lanl-comprehensive_unified-auth)"
      ],
      "metadata": {
        "id": "eif4qduvpI9n"
      }
    },
    {
      "cell_type": "code",
      "source": [
        "ap_Ex4 = average_precision_score(y_test_Ex4, test_scores_Ex4)\n",
        "roc_Ex4 = roc_auc_score(y_test_Ex4, test_scores_Ex4)\n",
        "\n",
        "print(f\"ROC score: {roc_Ex4}\")\n",
        "print(f\"Average precision score: {ap_Ex4}\")"
      ],
      "metadata": {
        "id": "kV3d5jBMpgeQ"
      },
      "execution_count": null,
      "outputs": []
    },
    {
      "cell_type": "code",
      "source": [
        "per = get_percentile(test_scores_Ex4, y_test_Ex4.astype(int))    \n",
        "y_pred_Ex4 = (test_scores_Ex4>=per)\n",
        "\n",
        "roc_score_auc_Ex4 = roc_auc_score(y_test_Ex4.astype(int), y_pred_Ex4.astype(int)) \n",
        "average_precision_Ex4 = average_precision_score(y_test_Ex4.astype(int), y_pred_Ex4.astype(int))\n",
        "\n",
        "precision_Ex4, recall_Ex4, f1_Ex4, _ = precision_recall_fscore_support(y_test_Ex4.astype(int),\n",
        "                                                            y_pred_Ex4.astype(int),\n",
        "                                                            average='binary')\n",
        "print(f\"F1 {f1_Ex4}\")\n",
        "print(f\"Recall: {recall_Ex4}\")"
      ],
      "metadata": {
        "id": "nQgTTr4zpp-2"
      },
      "execution_count": null,
      "outputs": []
    },
    {
      "cell_type": "code",
      "source": [
        "tn_Ex4, fp_Ex4, fn_Ex4, tp_Ex4 = confusion_matrix(y_test_Ex4, y_pred_Ex4).ravel()"
      ],
      "metadata": {
        "id": "wklJqm6Dps5b"
      },
      "execution_count": null,
      "outputs": []
    },
    {
      "cell_type": "code",
      "source": [
        "print(f\"True positives: {tp_Ex4}\")\n",
        "print(f\"False positives: {fp_Ex4}\")"
      ],
      "metadata": {
        "id": "0pbMTEBNpvim"
      },
      "execution_count": null,
      "outputs": []
    },
    {
      "cell_type": "markdown",
      "source": [
        "# Graphic representation"
      ],
      "metadata": {
        "id": "td76EMuop0RK"
      }
    },
    {
      "cell_type": "code",
      "source": [
        "experimentos = ['Experimento 1','Experimento 2','Experimento 3','Experimento 4' ]\n",
        "tps = [tp_Ex1,tp_Ex2,tp_Ex3,tp_Ex4]\n",
        "fps = [fp_Ex1,fp_Ex2,fp_Ex3,fp_Ex4]\n",
        "\n",
        "fig, axs = plt.subplots(1,3,sharex=True,figsize =(18, 8))\n",
        "\n",
        "barWidth = 0.25\n",
        "br1 = np.arange(len(experimentos))\n",
        "br2 = [x + barWidth for x in br1]\n",
        "\n",
        "axs.flat[0].bar(br1,tps,color='r',width = barWidth,label=\"tp\")\n",
        "axs.flat[0].bar(br2,fps,color='b',width = barWidth,label=\"fp\")\n",
        "axs.flat[0].set_xticks([r + barWidth for r in range(len(experimentos))],\n",
        "        experimentos)\n",
        "axs.flat[0].legend()"
      ],
      "metadata": {
        "id": "1fK98yMgp7mP"
      },
      "execution_count": null,
      "outputs": []
    }
  ],
  "metadata": {
    "colab": {
      "collapsed_sections": [],
      "name": "local_outlier_factor.ipynb",
      "provenance": []
    },
    "kernelspec": {
      "display_name": "Python 3 (ipykernel)",
      "language": "python",
      "name": "python3"
    },
    "language_info": {
      "codemirror_mode": {
        "name": "ipython",
        "version": 3
      },
      "file_extension": ".py",
      "mimetype": "text/x-python",
      "name": "python",
      "nbconvert_exporter": "python",
      "pygments_lexer": "ipython3",
      "version": "3.8.12"
    }
  },
  "nbformat": 4,
  "nbformat_minor": 0
}